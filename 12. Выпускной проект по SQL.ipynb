{
  "metadata": {
    "ExecuteTimeLog": [
      {
        "duration": 84,
        "start_time": "2023-09-13T23:16:24.216Z"
      },
      {
        "duration": 10010,
        "start_time": "2023-09-13T23:16:50.063Z"
      },
      {
        "duration": 55,
        "start_time": "2023-09-13T23:17:12.226Z"
      },
      {
        "duration": 59,
        "start_time": "2023-09-13T23:17:22.682Z"
      },
      {
        "duration": 59,
        "start_time": "2023-09-13T23:17:32.466Z"
      },
      {
        "duration": 59,
        "start_time": "2023-09-13T23:17:41.299Z"
      },
      {
        "duration": 52,
        "start_time": "2023-09-13T23:18:14.291Z"
      },
      {
        "duration": 72,
        "start_time": "2023-09-13T23:18:41.420Z"
      },
      {
        "duration": 52,
        "start_time": "2023-09-13T23:19:19.828Z"
      },
      {
        "duration": 67,
        "start_time": "2023-09-13T23:19:46.563Z"
      },
      {
        "duration": 60,
        "start_time": "2023-09-13T23:20:05.276Z"
      },
      {
        "duration": 10673,
        "start_time": "2023-09-13T23:22:25.631Z"
      },
      {
        "duration": 51,
        "start_time": "2023-09-13T23:22:36.312Z"
      },
      {
        "duration": 50,
        "start_time": "2023-09-13T23:22:36.364Z"
      },
      {
        "duration": 52,
        "start_time": "2023-09-13T23:22:36.416Z"
      },
      {
        "duration": 64,
        "start_time": "2023-09-13T23:22:36.470Z"
      },
      {
        "duration": 50,
        "start_time": "2023-09-13T23:22:36.536Z"
      },
      {
        "duration": 71,
        "start_time": "2023-09-13T23:22:36.588Z"
      },
      {
        "duration": 53,
        "start_time": "2023-09-13T23:22:36.661Z"
      },
      {
        "duration": 66,
        "start_time": "2023-09-13T23:22:36.716Z"
      },
      {
        "duration": 157,
        "start_time": "2023-09-13T23:22:36.785Z"
      },
      {
        "duration": 10169,
        "start_time": "2023-09-15T05:22:46.996Z"
      },
      {
        "duration": 51,
        "start_time": "2023-09-15T05:22:57.167Z"
      },
      {
        "duration": 53,
        "start_time": "2023-09-15T05:22:57.220Z"
      },
      {
        "duration": 53,
        "start_time": "2023-09-15T05:22:57.275Z"
      },
      {
        "duration": 57,
        "start_time": "2023-09-15T05:22:57.330Z"
      },
      {
        "duration": 52,
        "start_time": "2023-09-15T05:22:57.390Z"
      },
      {
        "duration": 87,
        "start_time": "2023-09-15T05:22:57.443Z"
      },
      {
        "duration": 59,
        "start_time": "2023-09-15T05:22:57.532Z"
      },
      {
        "duration": 56,
        "start_time": "2023-09-15T05:22:57.592Z"
      },
      {
        "duration": 59,
        "start_time": "2023-09-15T05:22:57.650Z"
      },
      {
        "duration": 72,
        "start_time": "2023-09-15T05:31:40.768Z"
      },
      {
        "duration": 132,
        "start_time": "2023-09-15T05:37:59.871Z"
      },
      {
        "duration": 63,
        "start_time": "2023-09-15T05:38:19.961Z"
      },
      {
        "duration": 57,
        "start_time": "2023-09-15T05:39:40.145Z"
      },
      {
        "duration": 57,
        "start_time": "2023-09-15T05:40:25.843Z"
      },
      {
        "duration": 57,
        "start_time": "2023-09-15T05:40:52.824Z"
      },
      {
        "duration": 66,
        "start_time": "2023-09-15T05:41:00.573Z"
      },
      {
        "duration": 74,
        "start_time": "2023-09-15T05:45:23.828Z"
      },
      {
        "duration": 66,
        "start_time": "2023-09-15T05:46:07.749Z"
      },
      {
        "duration": 64,
        "start_time": "2023-09-15T05:47:45.523Z"
      },
      {
        "duration": 80,
        "start_time": "2023-09-15T05:48:15.044Z"
      },
      {
        "duration": 60,
        "start_time": "2023-09-15T05:49:18.612Z"
      },
      {
        "duration": 58,
        "start_time": "2023-09-15T05:49:34.348Z"
      },
      {
        "duration": 57,
        "start_time": "2023-09-15T05:51:44.431Z"
      },
      {
        "duration": 10952,
        "start_time": "2023-09-15T05:51:50.825Z"
      },
      {
        "duration": 51,
        "start_time": "2023-09-15T05:52:01.779Z"
      },
      {
        "duration": 75,
        "start_time": "2023-09-15T05:52:01.832Z"
      },
      {
        "duration": 87,
        "start_time": "2023-09-15T05:52:01.909Z"
      },
      {
        "duration": 53,
        "start_time": "2023-09-15T05:52:01.998Z"
      },
      {
        "duration": 51,
        "start_time": "2023-09-15T05:52:02.053Z"
      },
      {
        "duration": 86,
        "start_time": "2023-09-15T05:52:02.106Z"
      },
      {
        "duration": 57,
        "start_time": "2023-09-15T05:52:02.194Z"
      },
      {
        "duration": 55,
        "start_time": "2023-09-15T05:52:02.253Z"
      },
      {
        "duration": 63,
        "start_time": "2023-09-15T05:52:02.309Z"
      },
      {
        "duration": 56,
        "start_time": "2023-09-15T05:52:02.373Z"
      },
      {
        "duration": 101,
        "start_time": "2023-09-15T05:52:02.431Z"
      },
      {
        "duration": 10190,
        "start_time": "2023-09-15T05:53:04.274Z"
      },
      {
        "duration": 55,
        "start_time": "2023-09-15T05:53:14.467Z"
      },
      {
        "duration": 51,
        "start_time": "2023-09-15T05:53:14.524Z"
      },
      {
        "duration": 52,
        "start_time": "2023-09-15T05:53:14.577Z"
      },
      {
        "duration": 53,
        "start_time": "2023-09-15T05:53:14.631Z"
      },
      {
        "duration": 51,
        "start_time": "2023-09-15T05:53:14.686Z"
      },
      {
        "duration": 84,
        "start_time": "2023-09-15T05:53:14.738Z"
      },
      {
        "duration": 51,
        "start_time": "2023-09-15T05:53:14.824Z"
      },
      {
        "duration": 58,
        "start_time": "2023-09-15T05:53:14.876Z"
      },
      {
        "duration": 58,
        "start_time": "2023-09-15T05:53:14.936Z"
      },
      {
        "duration": 64,
        "start_time": "2023-09-15T22:50:00.407Z"
      },
      {
        "duration": 11644,
        "start_time": "2023-09-15T22:50:22.172Z"
      },
      {
        "duration": 11,
        "start_time": "2023-09-15T22:50:33.818Z"
      },
      {
        "duration": 13,
        "start_time": "2023-09-15T22:50:33.831Z"
      },
      {
        "duration": 17,
        "start_time": "2023-09-15T22:50:33.846Z"
      },
      {
        "duration": 15,
        "start_time": "2023-09-15T22:50:33.865Z"
      },
      {
        "duration": 18,
        "start_time": "2023-09-15T22:50:33.882Z"
      },
      {
        "duration": 26,
        "start_time": "2023-09-15T22:50:33.902Z"
      },
      {
        "duration": 12,
        "start_time": "2023-09-15T22:50:33.929Z"
      },
      {
        "duration": 97,
        "start_time": "2023-09-15T22:50:33.942Z"
      },
      {
        "duration": 0,
        "start_time": "2023-09-15T22:50:34.041Z"
      },
      {
        "duration": 0,
        "start_time": "2023-09-15T22:50:34.043Z"
      },
      {
        "duration": 32,
        "start_time": "2023-09-15T22:50:51.052Z"
      },
      {
        "duration": 15,
        "start_time": "2023-09-15T22:52:31.415Z"
      },
      {
        "duration": 113,
        "start_time": "2023-09-16T07:13:07.516Z"
      },
      {
        "duration": 47,
        "start_time": "2023-09-16T07:16:37.942Z"
      },
      {
        "duration": 13401,
        "start_time": "2023-09-16T07:16:45.388Z"
      },
      {
        "duration": 52,
        "start_time": "2023-09-16T07:16:58.792Z"
      },
      {
        "duration": 51,
        "start_time": "2023-09-16T07:16:58.846Z"
      },
      {
        "duration": 53,
        "start_time": "2023-09-16T07:16:58.899Z"
      },
      {
        "duration": 55,
        "start_time": "2023-09-16T07:16:58.954Z"
      },
      {
        "duration": 51,
        "start_time": "2023-09-16T07:16:59.011Z"
      },
      {
        "duration": 91,
        "start_time": "2023-09-16T07:16:59.064Z"
      },
      {
        "duration": 54,
        "start_time": "2023-09-16T07:16:59.157Z"
      },
      {
        "duration": 58,
        "start_time": "2023-09-16T07:16:59.213Z"
      },
      {
        "duration": 164,
        "start_time": "2023-09-16T07:16:59.274Z"
      },
      {
        "duration": 0,
        "start_time": "2023-09-16T07:16:59.440Z"
      },
      {
        "duration": 61,
        "start_time": "2023-09-16T07:17:07.172Z"
      },
      {
        "duration": 63,
        "start_time": "2023-09-16T07:21:54.761Z"
      },
      {
        "duration": 60,
        "start_time": "2023-09-16T07:23:27.577Z"
      },
      {
        "duration": 57,
        "start_time": "2023-09-16T07:23:32.728Z"
      },
      {
        "duration": 69,
        "start_time": "2023-09-16T07:30:02.383Z"
      },
      {
        "duration": 57,
        "start_time": "2023-09-16T07:30:23.967Z"
      },
      {
        "duration": 58,
        "start_time": "2023-09-16T07:30:37.759Z"
      },
      {
        "duration": 58,
        "start_time": "2023-09-16T07:31:01.575Z"
      },
      {
        "duration": 10490,
        "start_time": "2023-09-16T07:33:24.177Z"
      },
      {
        "duration": 51,
        "start_time": "2023-09-16T07:33:34.670Z"
      },
      {
        "duration": 51,
        "start_time": "2023-09-16T07:33:34.723Z"
      },
      {
        "duration": 53,
        "start_time": "2023-09-16T07:33:34.776Z"
      },
      {
        "duration": 53,
        "start_time": "2023-09-16T07:33:34.832Z"
      },
      {
        "duration": 52,
        "start_time": "2023-09-16T07:33:34.887Z"
      },
      {
        "duration": 85,
        "start_time": "2023-09-16T07:33:34.942Z"
      },
      {
        "duration": 54,
        "start_time": "2023-09-16T07:33:35.030Z"
      },
      {
        "duration": 58,
        "start_time": "2023-09-16T07:33:35.086Z"
      },
      {
        "duration": 69,
        "start_time": "2023-09-16T07:33:35.146Z"
      },
      {
        "duration": 10412,
        "start_time": "2023-09-16T07:34:16.984Z"
      },
      {
        "duration": 54,
        "start_time": "2023-09-16T07:34:27.399Z"
      },
      {
        "duration": 51,
        "start_time": "2023-09-16T07:34:27.455Z"
      },
      {
        "duration": 53,
        "start_time": "2023-09-16T07:34:27.508Z"
      },
      {
        "duration": 54,
        "start_time": "2023-09-16T07:34:27.563Z"
      },
      {
        "duration": 52,
        "start_time": "2023-09-16T07:34:27.618Z"
      },
      {
        "duration": 86,
        "start_time": "2023-09-16T07:34:27.671Z"
      },
      {
        "duration": 53,
        "start_time": "2023-09-16T07:34:27.758Z"
      },
      {
        "duration": 57,
        "start_time": "2023-09-16T07:34:27.813Z"
      },
      {
        "duration": 58,
        "start_time": "2023-09-16T07:34:27.872Z"
      }
    ],
    "toc": {
      "base_numbering": 1,
      "nav_menu": {},
      "number_sections": true,
      "sideBar": true,
      "skip_h1_title": true,
      "title_cell": "Table of Contents",
      "title_sidebar": "Contents",
      "toc_cell": false,
      "toc_position": {},
      "toc_section_display": true,
      "toc_window_display": false
    },
    "kernelspec": {
      "name": "python",
      "display_name": "Python (Pyodide)",
      "language": "python"
    },
    "language_info": {
      "codemirror_mode": {
        "name": "ipython",
        "version": 3
      },
      "file_extension": ".py",
      "mimetype": "text/x-python",
      "name": "python",
      "nbconvert_exporter": "python",
      "pygments_lexer": "ipython3",
      "version": "3.9.5"
    }
  },
  "nbformat_minor": 4,
  "nbformat": 4,
  "cells": [
    {
      "cell_type": "markdown",
      "source": "# Проект по SQL\n## Введение\nКомпания купила крупный сервис для чтения книг по подписке. Целью проекта является анализ базы данных. Для достижения поставленной цели необходимы выполнить следующие задачи:\n- Посчитайте, сколько книг вышло после 1 января 2000 года;\n- Для каждой книги посчитайте количество обзоров и среднюю оценку;\n- Определите издательство, которое выпустило наибольшее число книг толще\n50 страниц — так вы исключите из анализа брошюры;\n- Определите автора с самой высокой средней оценкой книг — учитывайте\nтолько книги с 50 и более оценками;\n- Посчитайте среднее количество обзоров от пользователей, которые поставили\nбольше 48 оценок.\n\nВ распоряжении имеются следующие таблицы:\n- Таблица books - содержит данные о книгах:\n  - book_id — идентификатор книги;\n  - author_id — идентификатор автора;\n  - title — название книги;\n  - num_pages — количество страниц;\n  - publication_date — дата публикации книги;\n  - publisher_id — идентификатор издателя.\n- Таблица authors - содержит данные об авторах:\n  - author_id — идентификатор автора;\n  - author — имя автора.\n- Таблица publishers - содержит данные об издательствах:\n  - publisher_id — идентификатор издательства;\n  - publisher — название издательства;\n- Таблица ratings - содержит данные о пользовательских оценках книг:\n  - rating_id — идентификатор оценки;\n  - book_id — идентификатор книги;\n  - username — имя пользователя, оставившего оценку;\n  - rating — оценка книги.\n- Таблица reviews - содержит данные о пользовательских обзорах на книги:\n  - review_id — идентификатор обзора;\n  - book_id — идентификатор книги;\n  - username — имя пользователя, написавшего обзор;\n  - text — текст обзора.\n\n## Подключение к базе данных\nИмпортируем необходимые библиотеки и подключимся к базе данных. Тажке, выведем по 5 строк каждой таблицы",
      "metadata": {}
    },
    {
      "cell_type": "code",
      "source": "# импортируем библиотеки\nimport pandas as pd\nimport sqlalchemy as sa\n# устанавливаем параметры\ndb_config = {\n'user': 'praktikum_student', # имя пользователя\n'pwd': 'Sdf4$2;d-d30pp', # пароль\n'host': 'rc1b-wcoijxj3yxfsf3fs.mdb.yandexcloud.net',\n'port': 6432, # порт подключения\n'db': 'data-analyst-final-project-db' # название базы данных\n}\nconnection_string = 'postgresql://{user}:{pwd}@{host}:{port}/{db}'.format(**db_config)\n# сохраняем коннектор\nengine = sa.create_engine(connection_string, connect_args={'sslmode':'require'})\n# чтобы выполнить SQL-запрос, пишем функцию с использованием Pandas\ndef get_sql_data(query:str, engine:sa.engine.base.Engine=engine) -> pd.DataFrame:\n  '''Открываем соединение, получаем данные из sql, закрываем соединение'''\n  with engine.connect() as con:\n    return pd.read_sql(sql=sa.text(query), con = con)\n\n# формируем запрос и выводим данные\nquery = '''SELECT * FROM books LIMIT 5'''\nget_sql_data(query)",
      "metadata": {},
      "execution_count": 1,
      "outputs": [
        {
          "execution_count": 1,
          "output_type": "execute_result",
          "data": {
            "text/html": [
              "<div>\n",
              "<style scoped>\n",
              "    .dataframe tbody tr th:only-of-type {\n",
              "        vertical-align: middle;\n",
              "    }\n",
              "\n",
              "    .dataframe tbody tr th {\n",
              "        vertical-align: top;\n",
              "    }\n",
              "\n",
              "    .dataframe thead th {\n",
              "        text-align: right;\n",
              "    }\n",
              "</style>\n",
              "<table border=\"1\" class=\"dataframe\">\n",
              "  <thead>\n",
              "    <tr style=\"text-align: right;\">\n",
              "      <th></th>\n",
              "      <th>book_id</th>\n",
              "      <th>author_id</th>\n",
              "      <th>title</th>\n",
              "      <th>num_pages</th>\n",
              "      <th>publication_date</th>\n",
              "      <th>publisher_id</th>\n",
              "    </tr>\n",
              "  </thead>\n",
              "  <tbody>\n",
              "    <tr>\n",
              "      <th>0</th>\n",
              "      <td>1</td>\n",
              "      <td>546</td>\n",
              "      <td>'Salem's Lot</td>\n",
              "      <td>594</td>\n",
              "      <td>2005-11-01</td>\n",
              "      <td>93</td>\n",
              "    </tr>\n",
              "    <tr>\n",
              "      <th>1</th>\n",
              "      <td>2</td>\n",
              "      <td>465</td>\n",
              "      <td>1 000 Places to See Before You Die</td>\n",
              "      <td>992</td>\n",
              "      <td>2003-05-22</td>\n",
              "      <td>336</td>\n",
              "    </tr>\n",
              "    <tr>\n",
              "      <th>2</th>\n",
              "      <td>3</td>\n",
              "      <td>407</td>\n",
              "      <td>13 Little Blue Envelopes (Little Blue Envelope...</td>\n",
              "      <td>322</td>\n",
              "      <td>2010-12-21</td>\n",
              "      <td>135</td>\n",
              "    </tr>\n",
              "    <tr>\n",
              "      <th>3</th>\n",
              "      <td>4</td>\n",
              "      <td>82</td>\n",
              "      <td>1491: New Revelations of the Americas Before C...</td>\n",
              "      <td>541</td>\n",
              "      <td>2006-10-10</td>\n",
              "      <td>309</td>\n",
              "    </tr>\n",
              "    <tr>\n",
              "      <th>4</th>\n",
              "      <td>5</td>\n",
              "      <td>125</td>\n",
              "      <td>1776</td>\n",
              "      <td>386</td>\n",
              "      <td>2006-07-04</td>\n",
              "      <td>268</td>\n",
              "    </tr>\n",
              "  </tbody>\n",
              "</table>\n",
              "</div>"
            ],
            "text/plain": [
              "   book_id  author_id                                              title  \\\n",
              "0        1        546                                       'Salem's Lot   \n",
              "1        2        465                 1 000 Places to See Before You Die   \n",
              "2        3        407  13 Little Blue Envelopes (Little Blue Envelope...   \n",
              "3        4         82  1491: New Revelations of the Americas Before C...   \n",
              "4        5        125                                               1776   \n",
              "\n",
              "   num_pages publication_date  publisher_id  \n",
              "0        594       2005-11-01            93  \n",
              "1        992       2003-05-22           336  \n",
              "2        322       2010-12-21           135  \n",
              "3        541       2006-10-10           309  \n",
              "4        386       2006-07-04           268  "
            ]
          },
          "metadata": {}
        }
      ]
    },
    {
      "cell_type": "code",
      "source": "query = '''SELECT * FROM authors LIMIT 5'''\nget_sql_data(query)",
      "metadata": {},
      "execution_count": 2,
      "outputs": [
        {
          "execution_count": 2,
          "output_type": "execute_result",
          "data": {
            "text/html": [
              "<div>\n",
              "<style scoped>\n",
              "    .dataframe tbody tr th:only-of-type {\n",
              "        vertical-align: middle;\n",
              "    }\n",
              "\n",
              "    .dataframe tbody tr th {\n",
              "        vertical-align: top;\n",
              "    }\n",
              "\n",
              "    .dataframe thead th {\n",
              "        text-align: right;\n",
              "    }\n",
              "</style>\n",
              "<table border=\"1\" class=\"dataframe\">\n",
              "  <thead>\n",
              "    <tr style=\"text-align: right;\">\n",
              "      <th></th>\n",
              "      <th>author_id</th>\n",
              "      <th>author</th>\n",
              "    </tr>\n",
              "  </thead>\n",
              "  <tbody>\n",
              "    <tr>\n",
              "      <th>0</th>\n",
              "      <td>1</td>\n",
              "      <td>A.S. Byatt</td>\n",
              "    </tr>\n",
              "    <tr>\n",
              "      <th>1</th>\n",
              "      <td>2</td>\n",
              "      <td>Aesop/Laura Harris/Laura Gibbs</td>\n",
              "    </tr>\n",
              "    <tr>\n",
              "      <th>2</th>\n",
              "      <td>3</td>\n",
              "      <td>Agatha Christie</td>\n",
              "    </tr>\n",
              "    <tr>\n",
              "      <th>3</th>\n",
              "      <td>4</td>\n",
              "      <td>Alan Brennert</td>\n",
              "    </tr>\n",
              "    <tr>\n",
              "      <th>4</th>\n",
              "      <td>5</td>\n",
              "      <td>Alan Moore/David   Lloyd</td>\n",
              "    </tr>\n",
              "  </tbody>\n",
              "</table>\n",
              "</div>"
            ],
            "text/plain": [
              "   author_id                          author\n",
              "0          1                      A.S. Byatt\n",
              "1          2  Aesop/Laura Harris/Laura Gibbs\n",
              "2          3                 Agatha Christie\n",
              "3          4                   Alan Brennert\n",
              "4          5        Alan Moore/David   Lloyd"
            ]
          },
          "metadata": {}
        }
      ]
    },
    {
      "cell_type": "code",
      "source": "query = '''SELECT * FROM publishers LIMIT 5'''\nget_sql_data(query)",
      "metadata": {},
      "execution_count": 3,
      "outputs": [
        {
          "execution_count": 3,
          "output_type": "execute_result",
          "data": {
            "text/html": [
              "<div>\n",
              "<style scoped>\n",
              "    .dataframe tbody tr th:only-of-type {\n",
              "        vertical-align: middle;\n",
              "    }\n",
              "\n",
              "    .dataframe tbody tr th {\n",
              "        vertical-align: top;\n",
              "    }\n",
              "\n",
              "    .dataframe thead th {\n",
              "        text-align: right;\n",
              "    }\n",
              "</style>\n",
              "<table border=\"1\" class=\"dataframe\">\n",
              "  <thead>\n",
              "    <tr style=\"text-align: right;\">\n",
              "      <th></th>\n",
              "      <th>publisher_id</th>\n",
              "      <th>publisher</th>\n",
              "    </tr>\n",
              "  </thead>\n",
              "  <tbody>\n",
              "    <tr>\n",
              "      <th>0</th>\n",
              "      <td>1</td>\n",
              "      <td>Ace</td>\n",
              "    </tr>\n",
              "    <tr>\n",
              "      <th>1</th>\n",
              "      <td>2</td>\n",
              "      <td>Ace Book</td>\n",
              "    </tr>\n",
              "    <tr>\n",
              "      <th>2</th>\n",
              "      <td>3</td>\n",
              "      <td>Ace Books</td>\n",
              "    </tr>\n",
              "    <tr>\n",
              "      <th>3</th>\n",
              "      <td>4</td>\n",
              "      <td>Ace Hardcover</td>\n",
              "    </tr>\n",
              "    <tr>\n",
              "      <th>4</th>\n",
              "      <td>5</td>\n",
              "      <td>Addison Wesley Publishing Company</td>\n",
              "    </tr>\n",
              "  </tbody>\n",
              "</table>\n",
              "</div>"
            ],
            "text/plain": [
              "   publisher_id                          publisher\n",
              "0             1                                Ace\n",
              "1             2                           Ace Book\n",
              "2             3                          Ace Books\n",
              "3             4                      Ace Hardcover\n",
              "4             5  Addison Wesley Publishing Company"
            ]
          },
          "metadata": {}
        }
      ]
    },
    {
      "cell_type": "code",
      "source": "query = '''SELECT * FROM ratings LIMIT 5'''\nget_sql_data(query)",
      "metadata": {},
      "execution_count": 4,
      "outputs": [
        {
          "execution_count": 4,
          "output_type": "execute_result",
          "data": {
            "text/html": [
              "<div>\n",
              "<style scoped>\n",
              "    .dataframe tbody tr th:only-of-type {\n",
              "        vertical-align: middle;\n",
              "    }\n",
              "\n",
              "    .dataframe tbody tr th {\n",
              "        vertical-align: top;\n",
              "    }\n",
              "\n",
              "    .dataframe thead th {\n",
              "        text-align: right;\n",
              "    }\n",
              "</style>\n",
              "<table border=\"1\" class=\"dataframe\">\n",
              "  <thead>\n",
              "    <tr style=\"text-align: right;\">\n",
              "      <th></th>\n",
              "      <th>rating_id</th>\n",
              "      <th>book_id</th>\n",
              "      <th>username</th>\n",
              "      <th>rating</th>\n",
              "    </tr>\n",
              "  </thead>\n",
              "  <tbody>\n",
              "    <tr>\n",
              "      <th>0</th>\n",
              "      <td>1</td>\n",
              "      <td>1</td>\n",
              "      <td>ryanfranco</td>\n",
              "      <td>4</td>\n",
              "    </tr>\n",
              "    <tr>\n",
              "      <th>1</th>\n",
              "      <td>2</td>\n",
              "      <td>1</td>\n",
              "      <td>grantpatricia</td>\n",
              "      <td>2</td>\n",
              "    </tr>\n",
              "    <tr>\n",
              "      <th>2</th>\n",
              "      <td>3</td>\n",
              "      <td>1</td>\n",
              "      <td>brandtandrea</td>\n",
              "      <td>5</td>\n",
              "    </tr>\n",
              "    <tr>\n",
              "      <th>3</th>\n",
              "      <td>4</td>\n",
              "      <td>2</td>\n",
              "      <td>lorichen</td>\n",
              "      <td>3</td>\n",
              "    </tr>\n",
              "    <tr>\n",
              "      <th>4</th>\n",
              "      <td>5</td>\n",
              "      <td>2</td>\n",
              "      <td>mariokeller</td>\n",
              "      <td>2</td>\n",
              "    </tr>\n",
              "  </tbody>\n",
              "</table>\n",
              "</div>"
            ],
            "text/plain": [
              "   rating_id  book_id       username  rating\n",
              "0          1        1     ryanfranco       4\n",
              "1          2        1  grantpatricia       2\n",
              "2          3        1   brandtandrea       5\n",
              "3          4        2       lorichen       3\n",
              "4          5        2    mariokeller       2"
            ]
          },
          "metadata": {}
        }
      ]
    },
    {
      "cell_type": "code",
      "source": "query = '''SELECT * FROM reviews LIMIT 5'''\nget_sql_data(query)",
      "metadata": {},
      "execution_count": 5,
      "outputs": [
        {
          "execution_count": 5,
          "output_type": "execute_result",
          "data": {
            "text/html": [
              "<div>\n",
              "<style scoped>\n",
              "    .dataframe tbody tr th:only-of-type {\n",
              "        vertical-align: middle;\n",
              "    }\n",
              "\n",
              "    .dataframe tbody tr th {\n",
              "        vertical-align: top;\n",
              "    }\n",
              "\n",
              "    .dataframe thead th {\n",
              "        text-align: right;\n",
              "    }\n",
              "</style>\n",
              "<table border=\"1\" class=\"dataframe\">\n",
              "  <thead>\n",
              "    <tr style=\"text-align: right;\">\n",
              "      <th></th>\n",
              "      <th>review_id</th>\n",
              "      <th>book_id</th>\n",
              "      <th>username</th>\n",
              "      <th>text</th>\n",
              "    </tr>\n",
              "  </thead>\n",
              "  <tbody>\n",
              "    <tr>\n",
              "      <th>0</th>\n",
              "      <td>1</td>\n",
              "      <td>1</td>\n",
              "      <td>brandtandrea</td>\n",
              "      <td>Mention society tell send professor analysis. ...</td>\n",
              "    </tr>\n",
              "    <tr>\n",
              "      <th>1</th>\n",
              "      <td>2</td>\n",
              "      <td>1</td>\n",
              "      <td>ryanfranco</td>\n",
              "      <td>Foot glass pretty audience hit themselves. Amo...</td>\n",
              "    </tr>\n",
              "    <tr>\n",
              "      <th>2</th>\n",
              "      <td>3</td>\n",
              "      <td>2</td>\n",
              "      <td>lorichen</td>\n",
              "      <td>Listen treat keep worry. Miss husband tax but ...</td>\n",
              "    </tr>\n",
              "    <tr>\n",
              "      <th>3</th>\n",
              "      <td>4</td>\n",
              "      <td>3</td>\n",
              "      <td>johnsonamanda</td>\n",
              "      <td>Finally month interesting blue could nature cu...</td>\n",
              "    </tr>\n",
              "    <tr>\n",
              "      <th>4</th>\n",
              "      <td>5</td>\n",
              "      <td>3</td>\n",
              "      <td>scotttamara</td>\n",
              "      <td>Nation purpose heavy give wait song will. List...</td>\n",
              "    </tr>\n",
              "  </tbody>\n",
              "</table>\n",
              "</div>"
            ],
            "text/plain": [
              "   review_id  book_id       username  \\\n",
              "0          1        1   brandtandrea   \n",
              "1          2        1     ryanfranco   \n",
              "2          3        2       lorichen   \n",
              "3          4        3  johnsonamanda   \n",
              "4          5        3    scotttamara   \n",
              "\n",
              "                                                text  \n",
              "0  Mention society tell send professor analysis. ...  \n",
              "1  Foot glass pretty audience hit themselves. Amo...  \n",
              "2  Listen treat keep worry. Miss husband tax but ...  \n",
              "3  Finally month interesting blue could nature cu...  \n",
              "4  Nation purpose heavy give wait song will. List...  "
            ]
          },
          "metadata": {}
        }
      ]
    },
    {
      "cell_type": "markdown",
      "source": "## Выполнение заданий\n### Количество книг после 1 января 2000 года",
      "metadata": {}
    },
    {
      "cell_type": "code",
      "source": "query = '''\nSELECT COUNT(DISTINCT(book_id))\nFROM books\nWHERE publication_date::date >= '2000-01-01'\n'''\n\nget_sql_data(query)",
      "metadata": {},
      "execution_count": 6,
      "outputs": [
        {
          "execution_count": 6,
          "output_type": "execute_result",
          "data": {
            "text/html": [
              "<div>\n",
              "<style scoped>\n",
              "    .dataframe tbody tr th:only-of-type {\n",
              "        vertical-align: middle;\n",
              "    }\n",
              "\n",
              "    .dataframe tbody tr th {\n",
              "        vertical-align: top;\n",
              "    }\n",
              "\n",
              "    .dataframe thead th {\n",
              "        text-align: right;\n",
              "    }\n",
              "</style>\n",
              "<table border=\"1\" class=\"dataframe\">\n",
              "  <thead>\n",
              "    <tr style=\"text-align: right;\">\n",
              "      <th></th>\n",
              "      <th>count</th>\n",
              "    </tr>\n",
              "  </thead>\n",
              "  <tbody>\n",
              "    <tr>\n",
              "      <th>0</th>\n",
              "      <td>821</td>\n",
              "    </tr>\n",
              "  </tbody>\n",
              "</table>\n",
              "</div>"
            ],
            "text/plain": [
              "   count\n",
              "0    821"
            ]
          },
          "metadata": {}
        }
      ]
    },
    {
      "cell_type": "markdown",
      "source": "### Количество обзоров и средняя оценка для каждой книги",
      "metadata": {}
    },
    {
      "cell_type": "code",
      "source": "query = '''\nWITH reviews_count AS\n    (SELECT book_id,\n            COUNT(DISTINCT(review_id)) AS reviews_count\n    FROM reviews\n    GROUP BY book_id),\n\navg_ratings AS\n    (SELECT book_id,\n            ROUND(AVG(rating), 1) AS avg_rating\n    FROM ratings\n    GROUP BY book_id)\n\nSELECT b.book_id,\n       b.title,\n       rc.reviews_count,\n       ar.avg_rating\nFROM books AS b\nLEFT OUTER JOIN reviews_count AS rc ON b.book_id = rc.book_id\nLEFT OUTER JOIN avg_ratings AS ar ON b.book_id = ar.book_id\n\n'''\n\nget_sql_data(query)",
      "metadata": {},
      "execution_count": 7,
      "outputs": [
        {
          "execution_count": 7,
          "output_type": "execute_result",
          "data": {
            "text/html": [
              "<div>\n",
              "<style scoped>\n",
              "    .dataframe tbody tr th:only-of-type {\n",
              "        vertical-align: middle;\n",
              "    }\n",
              "\n",
              "    .dataframe tbody tr th {\n",
              "        vertical-align: top;\n",
              "    }\n",
              "\n",
              "    .dataframe thead th {\n",
              "        text-align: right;\n",
              "    }\n",
              "</style>\n",
              "<table border=\"1\" class=\"dataframe\">\n",
              "  <thead>\n",
              "    <tr style=\"text-align: right;\">\n",
              "      <th></th>\n",
              "      <th>book_id</th>\n",
              "      <th>title</th>\n",
              "      <th>reviews_count</th>\n",
              "      <th>avg_rating</th>\n",
              "    </tr>\n",
              "  </thead>\n",
              "  <tbody>\n",
              "    <tr>\n",
              "      <th>0</th>\n",
              "      <td>1</td>\n",
              "      <td>'Salem's Lot</td>\n",
              "      <td>2.0</td>\n",
              "      <td>3.7</td>\n",
              "    </tr>\n",
              "    <tr>\n",
              "      <th>1</th>\n",
              "      <td>2</td>\n",
              "      <td>1 000 Places to See Before You Die</td>\n",
              "      <td>1.0</td>\n",
              "      <td>2.5</td>\n",
              "    </tr>\n",
              "    <tr>\n",
              "      <th>2</th>\n",
              "      <td>3</td>\n",
              "      <td>13 Little Blue Envelopes (Little Blue Envelope...</td>\n",
              "      <td>3.0</td>\n",
              "      <td>4.7</td>\n",
              "    </tr>\n",
              "    <tr>\n",
              "      <th>3</th>\n",
              "      <td>4</td>\n",
              "      <td>1491: New Revelations of the Americas Before C...</td>\n",
              "      <td>2.0</td>\n",
              "      <td>4.5</td>\n",
              "    </tr>\n",
              "    <tr>\n",
              "      <th>4</th>\n",
              "      <td>5</td>\n",
              "      <td>1776</td>\n",
              "      <td>4.0</td>\n",
              "      <td>4.0</td>\n",
              "    </tr>\n",
              "    <tr>\n",
              "      <th>...</th>\n",
              "      <td>...</td>\n",
              "      <td>...</td>\n",
              "      <td>...</td>\n",
              "      <td>...</td>\n",
              "    </tr>\n",
              "    <tr>\n",
              "      <th>995</th>\n",
              "      <td>672</td>\n",
              "      <td>The Cat in the Hat and Other Dr. Seuss Favorites</td>\n",
              "      <td>NaN</td>\n",
              "      <td>5.0</td>\n",
              "    </tr>\n",
              "    <tr>\n",
              "      <th>996</th>\n",
              "      <td>83</td>\n",
              "      <td>Anne Rice's The Vampire Lestat: A Graphic Novel</td>\n",
              "      <td>NaN</td>\n",
              "      <td>3.7</td>\n",
              "    </tr>\n",
              "    <tr>\n",
              "      <th>997</th>\n",
              "      <td>221</td>\n",
              "      <td>Essential Tales and Poems</td>\n",
              "      <td>NaN</td>\n",
              "      <td>4.0</td>\n",
              "    </tr>\n",
              "    <tr>\n",
              "      <th>998</th>\n",
              "      <td>387</td>\n",
              "      <td>Leonardo's Notebooks</td>\n",
              "      <td>NaN</td>\n",
              "      <td>4.0</td>\n",
              "    </tr>\n",
              "    <tr>\n",
              "      <th>999</th>\n",
              "      <td>808</td>\n",
              "      <td>The Natural Way to Draw</td>\n",
              "      <td>NaN</td>\n",
              "      <td>3.0</td>\n",
              "    </tr>\n",
              "  </tbody>\n",
              "</table>\n",
              "<p>1000 rows × 4 columns</p>\n",
              "</div>"
            ],
            "text/plain": [
              "     book_id                                              title  \\\n",
              "0          1                                       'Salem's Lot   \n",
              "1          2                 1 000 Places to See Before You Die   \n",
              "2          3  13 Little Blue Envelopes (Little Blue Envelope...   \n",
              "3          4  1491: New Revelations of the Americas Before C...   \n",
              "4          5                                               1776   \n",
              "..       ...                                                ...   \n",
              "995      672   The Cat in the Hat and Other Dr. Seuss Favorites   \n",
              "996       83    Anne Rice's The Vampire Lestat: A Graphic Novel   \n",
              "997      221                          Essential Tales and Poems   \n",
              "998      387                               Leonardo's Notebooks   \n",
              "999      808                            The Natural Way to Draw   \n",
              "\n",
              "     reviews_count  avg_rating  \n",
              "0              2.0         3.7  \n",
              "1              1.0         2.5  \n",
              "2              3.0         4.7  \n",
              "3              2.0         4.5  \n",
              "4              4.0         4.0  \n",
              "..             ...         ...  \n",
              "995            NaN         5.0  \n",
              "996            NaN         3.7  \n",
              "997            NaN         4.0  \n",
              "998            NaN         4.0  \n",
              "999            NaN         3.0  \n",
              "\n",
              "[1000 rows x 4 columns]"
            ]
          },
          "metadata": {}
        }
      ]
    },
    {
      "cell_type": "markdown",
      "source": "### Издательство, выпустившее наибольшее число книг толщиной более 50 страниц",
      "metadata": {}
    },
    {
      "cell_type": "code",
      "source": "query = '''\nWITH top_publisher_id AS\n    (SELECT publisher_id,\n            COUNT(DISTINCT(book_id))\n     FROM books\n     WHERE num_pages > 50\n     GROUP BY publisher_id\n     ORDER BY COUNT(DISTINCT(book_id)) DESC\n     LIMIT 1)\n\nSELECT publisher\nFROM publishers AS p\nRIGHT OUTER JOIN top_publisher_id AS t ON t.publisher_id = p.publisher_id\n\n'''\n\n\nget_sql_data(query)",
      "metadata": {},
      "execution_count": 8,
      "outputs": [
        {
          "execution_count": 8,
          "output_type": "execute_result",
          "data": {
            "text/html": [
              "<div>\n",
              "<style scoped>\n",
              "    .dataframe tbody tr th:only-of-type {\n",
              "        vertical-align: middle;\n",
              "    }\n",
              "\n",
              "    .dataframe tbody tr th {\n",
              "        vertical-align: top;\n",
              "    }\n",
              "\n",
              "    .dataframe thead th {\n",
              "        text-align: right;\n",
              "    }\n",
              "</style>\n",
              "<table border=\"1\" class=\"dataframe\">\n",
              "  <thead>\n",
              "    <tr style=\"text-align: right;\">\n",
              "      <th></th>\n",
              "      <th>publisher</th>\n",
              "    </tr>\n",
              "  </thead>\n",
              "  <tbody>\n",
              "    <tr>\n",
              "      <th>0</th>\n",
              "      <td>Penguin Books</td>\n",
              "    </tr>\n",
              "  </tbody>\n",
              "</table>\n",
              "</div>"
            ],
            "text/plain": [
              "       publisher\n",
              "0  Penguin Books"
            ]
          },
          "metadata": {}
        }
      ]
    },
    {
      "cell_type": "markdown",
      "source": "### Автор книги с самой высокой средней оценкой, где количество оценок 50 и более",
      "metadata": {}
    },
    {
      "cell_type": "code",
      "source": "query = '''\nWITH top_author_id AS\n   (WITH table_1 AS \n        (SELECT b.author_id,\n                b.book_id,\n                AVG(rating) AS avg_rating\n         FROM books AS b\n         LEFT OUTER JOIN ratings AS r ON b.book_id = r.book_id\n         GROUP BY b.author_id,\n                  b.book_id\n         HAVING COUNT(DISTINCT(rating_id)) >= 50)\n\n    SELECT author_id,\n           AVG(avg_rating)\n    FROM table_1\n    GROUP BY author_id\n    ORDER BY AVG(avg_rating) DESC\n    LIMIT 1)\n\nSELECT a.author\nFROM top_author_id AS tai\nLEFT OUTER JOIN authors AS a ON a.author_id = tai.author_id\n'''\nget_sql_data(query)",
      "metadata": {},
      "execution_count": 9,
      "outputs": [
        {
          "execution_count": 9,
          "output_type": "execute_result",
          "data": {
            "text/html": [
              "<div>\n",
              "<style scoped>\n",
              "    .dataframe tbody tr th:only-of-type {\n",
              "        vertical-align: middle;\n",
              "    }\n",
              "\n",
              "    .dataframe tbody tr th {\n",
              "        vertical-align: top;\n",
              "    }\n",
              "\n",
              "    .dataframe thead th {\n",
              "        text-align: right;\n",
              "    }\n",
              "</style>\n",
              "<table border=\"1\" class=\"dataframe\">\n",
              "  <thead>\n",
              "    <tr style=\"text-align: right;\">\n",
              "      <th></th>\n",
              "      <th>author</th>\n",
              "    </tr>\n",
              "  </thead>\n",
              "  <tbody>\n",
              "    <tr>\n",
              "      <th>0</th>\n",
              "      <td>J.K. Rowling/Mary GrandPré</td>\n",
              "    </tr>\n",
              "  </tbody>\n",
              "</table>\n",
              "</div>"
            ],
            "text/plain": [
              "                       author\n",
              "0  J.K. Rowling/Mary GrandPré"
            ]
          },
          "metadata": {}
        }
      ]
    },
    {
      "cell_type": "markdown",
      "source": "### Среднее количество обзоров от пользователей, которые поставили больше 48 оценок",
      "metadata": {}
    },
    {
      "cell_type": "code",
      "source": "query = '''\nWITH table_2 AS\n    (WITH table_1 AS\n        (SELECT username,\n                COUNT(DISTINCT(rating_id)) AS ratings_count\n         FROM ratings\n         GROUP BY username)\n\n    SELECT t1.username,\n           COUNT(DISTINCT(review_id)) AS reviews_count\n    FROM table_1 AS t1\n    LEFT OUTER JOIN reviews AS r ON r.username = t1.username\n    WHERE t1.ratings_count > 48\n    GROUP BY t1.username)\n\nSELECT ROUND(AVG(reviews_count), 1)\nFROM table_2\n\n'''\nget_sql_data(query)",
      "metadata": {},
      "execution_count": 10,
      "outputs": [
        {
          "execution_count": 10,
          "output_type": "execute_result",
          "data": {
            "text/html": [
              "<div>\n",
              "<style scoped>\n",
              "    .dataframe tbody tr th:only-of-type {\n",
              "        vertical-align: middle;\n",
              "    }\n",
              "\n",
              "    .dataframe tbody tr th {\n",
              "        vertical-align: top;\n",
              "    }\n",
              "\n",
              "    .dataframe thead th {\n",
              "        text-align: right;\n",
              "    }\n",
              "</style>\n",
              "<table border=\"1\" class=\"dataframe\">\n",
              "  <thead>\n",
              "    <tr style=\"text-align: right;\">\n",
              "      <th></th>\n",
              "      <th>round</th>\n",
              "    </tr>\n",
              "  </thead>\n",
              "  <tbody>\n",
              "    <tr>\n",
              "      <th>0</th>\n",
              "      <td>24.0</td>\n",
              "    </tr>\n",
              "  </tbody>\n",
              "</table>\n",
              "</div>"
            ],
            "text/plain": [
              "   round\n",
              "0   24.0"
            ]
          },
          "metadata": {}
        }
      ]
    },
    {
      "cell_type": "markdown",
      "source": "## Общие выводы\n- Всего 821 книга, которые вышли после 1 января 2000 года;\n- Для каждой книги посчитаны количество обзоров и средняя оценка;\n- Издательство, которое выпустило наибольшее число книг толще\n50 страниц — это Penguin Books;\n- Автор с самой высокой средней оценкой книг, где количество оценок 50 и более - это J.K. Rowling/Mary GrandPré;\n- Среднее количество обзоров от пользователей, которые поставили\nбольше 48 оценок, составляет 24.0 обзора.",
      "metadata": {}
    }
  ]
}