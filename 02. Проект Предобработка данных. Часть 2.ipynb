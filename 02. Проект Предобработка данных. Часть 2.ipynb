{
  "metadata": {
    "ExecuteTimeLog": [
      {
        "duration": 49,
        "start_time": "2023-03-27T21:56:06.646Z"
      },
      {
        "duration": 471,
        "start_time": "2023-03-27T21:56:20.831Z"
      },
      {
        "duration": 20,
        "start_time": "2023-03-27T21:56:21.304Z"
      },
      {
        "duration": 14,
        "start_time": "2023-03-27T21:56:21.326Z"
      },
      {
        "duration": 9,
        "start_time": "2023-03-27T21:56:21.342Z"
      },
      {
        "duration": 43,
        "start_time": "2023-03-27T21:56:21.353Z"
      },
      {
        "duration": 3,
        "start_time": "2023-03-27T21:56:21.398Z"
      },
      {
        "duration": 9,
        "start_time": "2023-03-27T21:56:21.402Z"
      },
      {
        "duration": 4,
        "start_time": "2023-03-27T21:56:21.412Z"
      },
      {
        "duration": 8,
        "start_time": "2023-03-27T21:56:21.417Z"
      },
      {
        "duration": 4,
        "start_time": "2023-03-27T21:56:21.426Z"
      },
      {
        "duration": 63,
        "start_time": "2023-03-27T21:56:21.431Z"
      },
      {
        "duration": 9,
        "start_time": "2023-03-27T21:56:21.496Z"
      },
      {
        "duration": 4,
        "start_time": "2023-03-27T21:56:21.506Z"
      },
      {
        "duration": 12,
        "start_time": "2023-03-27T21:56:21.512Z"
      },
      {
        "duration": 18,
        "start_time": "2023-03-27T21:56:21.526Z"
      },
      {
        "duration": 16,
        "start_time": "2023-03-27T21:56:21.545Z"
      },
      {
        "duration": 3,
        "start_time": "2023-03-27T21:56:21.588Z"
      },
      {
        "duration": 15,
        "start_time": "2023-03-27T21:56:21.593Z"
      },
      {
        "duration": 6,
        "start_time": "2023-03-27T21:56:21.610Z"
      },
      {
        "duration": 4,
        "start_time": "2023-03-27T21:56:21.617Z"
      },
      {
        "duration": 14,
        "start_time": "2023-03-27T21:56:21.622Z"
      },
      {
        "duration": 4,
        "start_time": "2023-03-27T21:56:24.045Z"
      },
      {
        "duration": 6,
        "start_time": "2023-03-27T22:01:47.113Z"
      },
      {
        "duration": 18,
        "start_time": "2023-03-27T22:09:35.659Z"
      },
      {
        "duration": 5,
        "start_time": "2023-03-27T22:09:51.305Z"
      },
      {
        "duration": 17,
        "start_time": "2023-03-27T22:17:27.097Z"
      },
      {
        "duration": 5,
        "start_time": "2023-03-27T22:20:55.297Z"
      },
      {
        "duration": 6,
        "start_time": "2023-03-27T22:43:13.352Z"
      },
      {
        "duration": 6,
        "start_time": "2023-03-27T22:46:39.299Z"
      },
      {
        "duration": 56,
        "start_time": "2023-03-28T16:42:46.402Z"
      },
      {
        "duration": 688,
        "start_time": "2023-03-28T16:43:06.081Z"
      },
      {
        "duration": 27,
        "start_time": "2023-03-28T16:43:06.771Z"
      },
      {
        "duration": 16,
        "start_time": "2023-03-28T16:43:06.800Z"
      },
      {
        "duration": 10,
        "start_time": "2023-03-28T16:43:06.819Z"
      },
      {
        "duration": 36,
        "start_time": "2023-03-28T16:43:06.831Z"
      },
      {
        "duration": 4,
        "start_time": "2023-03-28T16:43:06.869Z"
      },
      {
        "duration": 11,
        "start_time": "2023-03-28T16:43:06.875Z"
      },
      {
        "duration": 36,
        "start_time": "2023-03-28T16:43:06.888Z"
      },
      {
        "duration": 8,
        "start_time": "2023-03-28T16:43:06.926Z"
      },
      {
        "duration": 5,
        "start_time": "2023-03-28T16:43:06.940Z"
      },
      {
        "duration": 78,
        "start_time": "2023-03-28T16:43:06.948Z"
      },
      {
        "duration": 16,
        "start_time": "2023-03-28T16:43:07.028Z"
      },
      {
        "duration": 4,
        "start_time": "2023-03-28T16:43:07.046Z"
      },
      {
        "duration": 23,
        "start_time": "2023-03-28T16:43:07.052Z"
      },
      {
        "duration": 46,
        "start_time": "2023-03-28T16:43:07.077Z"
      },
      {
        "duration": 23,
        "start_time": "2023-03-28T16:43:07.125Z"
      },
      {
        "duration": 4,
        "start_time": "2023-03-28T16:43:07.151Z"
      },
      {
        "duration": 15,
        "start_time": "2023-03-28T16:43:07.157Z"
      },
      {
        "duration": 24,
        "start_time": "2023-03-28T16:43:07.175Z"
      },
      {
        "duration": 38,
        "start_time": "2023-03-28T16:43:07.201Z"
      },
      {
        "duration": 29,
        "start_time": "2023-03-28T16:43:07.242Z"
      },
      {
        "duration": 12,
        "start_time": "2023-03-28T16:43:07.273Z"
      },
      {
        "duration": 10,
        "start_time": "2023-03-28T16:43:07.287Z"
      },
      {
        "duration": 9,
        "start_time": "2023-03-28T16:43:07.298Z"
      },
      {
        "duration": 8,
        "start_time": "2023-03-28T16:43:10.794Z"
      },
      {
        "duration": 17,
        "start_time": "2023-03-28T16:49:00.842Z"
      },
      {
        "duration": 10,
        "start_time": "2023-03-28T17:07:13.103Z"
      },
      {
        "duration": 6,
        "start_time": "2023-03-28T17:07:34.761Z"
      },
      {
        "duration": 6,
        "start_time": "2023-03-28T17:07:43.538Z"
      },
      {
        "duration": 9,
        "start_time": "2023-03-28T17:07:56.586Z"
      },
      {
        "duration": 8,
        "start_time": "2023-03-28T17:08:25.498Z"
      },
      {
        "duration": 7,
        "start_time": "2023-03-28T17:35:19.487Z"
      },
      {
        "duration": 11,
        "start_time": "2023-03-28T17:38:40.290Z"
      },
      {
        "duration": 9,
        "start_time": "2023-03-28T18:26:03.100Z"
      },
      {
        "duration": 13,
        "start_time": "2023-03-28T18:35:06.133Z"
      },
      {
        "duration": 11,
        "start_time": "2023-03-28T18:35:15.203Z"
      },
      {
        "duration": 624,
        "start_time": "2023-03-28T22:38:16.472Z"
      },
      {
        "duration": 27,
        "start_time": "2023-03-28T22:38:17.098Z"
      },
      {
        "duration": 22,
        "start_time": "2023-03-28T22:38:17.126Z"
      },
      {
        "duration": 118,
        "start_time": "2023-03-28T22:38:17.152Z"
      },
      {
        "duration": 56,
        "start_time": "2023-03-28T22:38:17.273Z"
      },
      {
        "duration": 27,
        "start_time": "2023-03-28T22:38:17.331Z"
      },
      {
        "duration": 74,
        "start_time": "2023-03-28T22:38:17.360Z"
      },
      {
        "duration": 23,
        "start_time": "2023-03-28T22:38:17.436Z"
      },
      {
        "duration": 27,
        "start_time": "2023-03-28T22:38:17.461Z"
      },
      {
        "duration": 26,
        "start_time": "2023-03-28T22:38:17.492Z"
      },
      {
        "duration": 49,
        "start_time": "2023-03-28T22:38:17.520Z"
      },
      {
        "duration": 13,
        "start_time": "2023-03-28T22:38:17.571Z"
      },
      {
        "duration": 6,
        "start_time": "2023-03-28T22:38:17.586Z"
      },
      {
        "duration": 30,
        "start_time": "2023-03-28T22:38:17.593Z"
      },
      {
        "duration": 33,
        "start_time": "2023-03-28T22:38:17.625Z"
      },
      {
        "duration": 18,
        "start_time": "2023-03-28T22:38:17.660Z"
      },
      {
        "duration": 4,
        "start_time": "2023-03-28T22:38:17.680Z"
      },
      {
        "duration": 19,
        "start_time": "2023-03-28T22:38:17.685Z"
      },
      {
        "duration": 21,
        "start_time": "2023-03-28T22:38:17.706Z"
      },
      {
        "duration": 7,
        "start_time": "2023-03-28T22:38:17.728Z"
      },
      {
        "duration": 21,
        "start_time": "2023-03-28T22:38:17.737Z"
      },
      {
        "duration": 128,
        "start_time": "2023-03-28T22:38:17.760Z"
      },
      {
        "duration": 32,
        "start_time": "2023-03-28T22:38:17.890Z"
      },
      {
        "duration": 18,
        "start_time": "2023-03-28T22:38:17.924Z"
      },
      {
        "duration": 31,
        "start_time": "2023-03-28T22:38:17.943Z"
      },
      {
        "duration": 24,
        "start_time": "2023-03-28T22:38:17.976Z"
      },
      {
        "duration": 13,
        "start_time": "2023-03-28T22:38:18.002Z"
      },
      {
        "duration": 16,
        "start_time": "2023-03-28T22:38:18.020Z"
      },
      {
        "duration": 10,
        "start_time": "2023-03-28T22:38:18.039Z"
      },
      {
        "duration": 17,
        "start_time": "2023-03-28T22:38:18.051Z"
      },
      {
        "duration": 505,
        "start_time": "2023-03-29T06:46:48.182Z"
      },
      {
        "duration": 32,
        "start_time": "2023-03-29T06:46:48.690Z"
      },
      {
        "duration": 18,
        "start_time": "2023-03-29T06:46:48.724Z"
      },
      {
        "duration": 12,
        "start_time": "2023-03-29T06:46:48.743Z"
      },
      {
        "duration": 57,
        "start_time": "2023-03-29T06:46:48.757Z"
      },
      {
        "duration": 4,
        "start_time": "2023-03-29T06:46:48.816Z"
      },
      {
        "duration": 14,
        "start_time": "2023-03-29T06:46:48.821Z"
      },
      {
        "duration": 4,
        "start_time": "2023-03-29T06:46:48.837Z"
      },
      {
        "duration": 8,
        "start_time": "2023-03-29T06:46:48.843Z"
      },
      {
        "duration": 5,
        "start_time": "2023-03-29T06:46:48.853Z"
      },
      {
        "duration": 70,
        "start_time": "2023-03-29T06:46:48.859Z"
      },
      {
        "duration": 15,
        "start_time": "2023-03-29T06:46:48.931Z"
      },
      {
        "duration": 3,
        "start_time": "2023-03-29T06:46:48.948Z"
      },
      {
        "duration": 21,
        "start_time": "2023-03-29T06:46:48.954Z"
      },
      {
        "duration": 30,
        "start_time": "2023-03-29T06:46:49.002Z"
      },
      {
        "duration": 18,
        "start_time": "2023-03-29T06:46:49.034Z"
      },
      {
        "duration": 3,
        "start_time": "2023-03-29T06:46:49.054Z"
      },
      {
        "duration": 22,
        "start_time": "2023-03-29T06:46:49.059Z"
      },
      {
        "duration": 21,
        "start_time": "2023-03-29T06:46:49.083Z"
      },
      {
        "duration": 9,
        "start_time": "2023-03-29T06:46:49.106Z"
      },
      {
        "duration": 15,
        "start_time": "2023-03-29T06:46:49.117Z"
      },
      {
        "duration": 5,
        "start_time": "2023-03-29T06:46:49.133Z"
      },
      {
        "duration": 8,
        "start_time": "2023-03-29T06:46:49.140Z"
      },
      {
        "duration": 19,
        "start_time": "2023-03-29T06:46:49.150Z"
      },
      {
        "duration": 29,
        "start_time": "2023-03-29T06:46:49.174Z"
      },
      {
        "duration": 17,
        "start_time": "2023-03-29T06:46:49.205Z"
      },
      {
        "duration": 8,
        "start_time": "2023-03-29T06:46:49.225Z"
      },
      {
        "duration": 11,
        "start_time": "2023-03-29T06:46:49.235Z"
      },
      {
        "duration": 7,
        "start_time": "2023-03-29T06:46:49.248Z"
      },
      {
        "duration": 52,
        "start_time": "2023-03-29T06:46:49.257Z"
      },
      {
        "duration": 57,
        "start_time": "2023-03-29T19:15:46.376Z"
      },
      {
        "duration": 778,
        "start_time": "2023-03-29T19:16:20.619Z"
      },
      {
        "duration": 26,
        "start_time": "2023-03-29T19:16:21.399Z"
      },
      {
        "duration": 16,
        "start_time": "2023-03-29T19:16:21.427Z"
      },
      {
        "duration": 11,
        "start_time": "2023-03-29T19:16:21.445Z"
      },
      {
        "duration": 56,
        "start_time": "2023-03-29T19:16:21.457Z"
      },
      {
        "duration": 4,
        "start_time": "2023-03-29T19:16:21.514Z"
      },
      {
        "duration": 12,
        "start_time": "2023-03-29T19:16:21.519Z"
      },
      {
        "duration": 13,
        "start_time": "2023-03-29T19:16:21.533Z"
      },
      {
        "duration": 25,
        "start_time": "2023-03-29T19:16:21.548Z"
      },
      {
        "duration": 5,
        "start_time": "2023-03-29T19:16:21.576Z"
      },
      {
        "duration": 49,
        "start_time": "2023-03-29T19:16:21.582Z"
      },
      {
        "duration": 9,
        "start_time": "2023-03-29T19:16:21.633Z"
      },
      {
        "duration": 5,
        "start_time": "2023-03-29T19:16:21.644Z"
      },
      {
        "duration": 20,
        "start_time": "2023-03-29T19:16:21.650Z"
      },
      {
        "duration": 30,
        "start_time": "2023-03-29T19:16:21.672Z"
      },
      {
        "duration": 17,
        "start_time": "2023-03-29T19:16:21.704Z"
      },
      {
        "duration": 4,
        "start_time": "2023-03-29T19:16:21.723Z"
      },
      {
        "duration": 22,
        "start_time": "2023-03-29T19:16:21.728Z"
      },
      {
        "duration": 9,
        "start_time": "2023-03-29T19:16:21.752Z"
      },
      {
        "duration": 3,
        "start_time": "2023-03-29T19:16:21.763Z"
      },
      {
        "duration": 27,
        "start_time": "2023-03-29T19:16:21.768Z"
      },
      {
        "duration": 5,
        "start_time": "2023-03-29T19:16:21.798Z"
      },
      {
        "duration": 19,
        "start_time": "2023-03-29T19:16:21.805Z"
      },
      {
        "duration": 8,
        "start_time": "2023-03-29T19:16:21.826Z"
      },
      {
        "duration": 6,
        "start_time": "2023-03-29T19:16:21.836Z"
      },
      {
        "duration": 9,
        "start_time": "2023-03-29T19:16:21.844Z"
      },
      {
        "duration": 15,
        "start_time": "2023-03-29T19:16:21.855Z"
      },
      {
        "duration": 10,
        "start_time": "2023-03-29T19:16:21.890Z"
      },
      {
        "duration": 13,
        "start_time": "2023-03-29T19:16:21.902Z"
      },
      {
        "duration": 9,
        "start_time": "2023-03-29T19:16:21.916Z"
      },
      {
        "duration": 13,
        "start_time": "2023-03-29T19:16:21.927Z"
      },
      {
        "duration": 69,
        "start_time": "2023-03-29T19:17:41.569Z"
      },
      {
        "duration": 20,
        "start_time": "2023-03-29T19:17:47.797Z"
      },
      {
        "duration": 15,
        "start_time": "2023-03-29T19:38:42.827Z"
      },
      {
        "duration": 33,
        "start_time": "2023-03-29T19:39:23.815Z"
      },
      {
        "duration": 17,
        "start_time": "2023-03-29T19:42:44.549Z"
      },
      {
        "duration": 23,
        "start_time": "2023-03-29T19:45:39.876Z"
      },
      {
        "duration": 20,
        "start_time": "2023-03-29T19:46:32.005Z"
      },
      {
        "duration": 16,
        "start_time": "2023-03-29T19:46:52.053Z"
      },
      {
        "duration": 247,
        "start_time": "2023-03-29T20:01:07.879Z"
      },
      {
        "duration": 16,
        "start_time": "2023-03-29T20:01:31.755Z"
      },
      {
        "duration": 29,
        "start_time": "2023-03-29T20:02:09.880Z"
      },
      {
        "duration": 25,
        "start_time": "2023-03-29T20:05:05.369Z"
      },
      {
        "duration": 21,
        "start_time": "2023-03-29T20:10:45.583Z"
      },
      {
        "duration": 41,
        "start_time": "2023-03-29T20:13:09.423Z"
      },
      {
        "duration": 34,
        "start_time": "2023-03-29T20:13:34.104Z"
      },
      {
        "duration": 15,
        "start_time": "2023-03-29T20:13:59.264Z"
      },
      {
        "duration": 54,
        "start_time": "2023-03-29T20:14:21.335Z"
      },
      {
        "duration": 76,
        "start_time": "2023-03-29T20:34:14.666Z"
      },
      {
        "duration": 14,
        "start_time": "2023-03-29T20:34:21.017Z"
      },
      {
        "duration": 13,
        "start_time": "2023-03-29T20:34:57.194Z"
      },
      {
        "duration": 14,
        "start_time": "2023-03-29T20:35:17.193Z"
      },
      {
        "duration": 32,
        "start_time": "2023-03-29T20:35:30.746Z"
      },
      {
        "duration": 18,
        "start_time": "2023-03-29T20:36:29.304Z"
      },
      {
        "duration": 13,
        "start_time": "2023-03-29T20:37:47.961Z"
      },
      {
        "duration": 11,
        "start_time": "2023-03-29T20:38:01.392Z"
      },
      {
        "duration": 11,
        "start_time": "2023-03-29T20:38:32.959Z"
      },
      {
        "duration": 15,
        "start_time": "2023-03-29T20:38:53.591Z"
      },
      {
        "duration": 13,
        "start_time": "2023-03-29T20:43:03.255Z"
      },
      {
        "duration": 14,
        "start_time": "2023-03-29T20:43:11.982Z"
      },
      {
        "duration": 14,
        "start_time": "2023-03-29T20:43:28.295Z"
      },
      {
        "duration": 14,
        "start_time": "2023-03-29T20:43:46.654Z"
      },
      {
        "duration": 43,
        "start_time": "2023-03-29T20:44:16.901Z"
      },
      {
        "duration": 45,
        "start_time": "2023-03-29T20:44:31.285Z"
      },
      {
        "duration": 12,
        "start_time": "2023-03-29T20:44:46.550Z"
      },
      {
        "duration": 14,
        "start_time": "2023-03-29T20:46:13.549Z"
      },
      {
        "duration": 20,
        "start_time": "2023-03-29T20:47:31.198Z"
      },
      {
        "duration": 18,
        "start_time": "2023-03-29T20:48:06.803Z"
      },
      {
        "duration": 19,
        "start_time": "2023-03-29T20:48:51.720Z"
      },
      {
        "duration": 16,
        "start_time": "2023-03-29T20:49:05.999Z"
      },
      {
        "duration": 19,
        "start_time": "2023-03-29T20:51:38.299Z"
      },
      {
        "duration": 17,
        "start_time": "2023-03-29T20:57:28.664Z"
      },
      {
        "duration": 19,
        "start_time": "2023-03-29T21:00:03.612Z"
      },
      {
        "duration": 20,
        "start_time": "2023-03-29T21:00:50.631Z"
      },
      {
        "duration": 25,
        "start_time": "2023-03-29T21:05:59.726Z"
      },
      {
        "duration": 20,
        "start_time": "2023-03-29T21:10:27.615Z"
      },
      {
        "duration": 23,
        "start_time": "2023-03-29T21:12:57.662Z"
      },
      {
        "duration": 22,
        "start_time": "2023-03-29T21:13:56.198Z"
      },
      {
        "duration": 22,
        "start_time": "2023-03-29T21:16:29.188Z"
      },
      {
        "duration": 22,
        "start_time": "2023-03-29T21:17:33.300Z"
      },
      {
        "duration": 458,
        "start_time": "2023-03-29T21:39:27.346Z"
      },
      {
        "duration": 23,
        "start_time": "2023-03-29T21:39:27.807Z"
      },
      {
        "duration": 49,
        "start_time": "2023-03-29T21:39:27.831Z"
      },
      {
        "duration": 22,
        "start_time": "2023-03-29T21:39:27.882Z"
      },
      {
        "duration": 34,
        "start_time": "2023-03-29T21:39:27.905Z"
      },
      {
        "duration": 3,
        "start_time": "2023-03-29T21:39:27.940Z"
      },
      {
        "duration": 21,
        "start_time": "2023-03-29T21:39:27.945Z"
      },
      {
        "duration": 7,
        "start_time": "2023-03-29T21:39:27.968Z"
      },
      {
        "duration": 8,
        "start_time": "2023-03-29T21:39:27.976Z"
      },
      {
        "duration": 4,
        "start_time": "2023-03-29T21:39:27.988Z"
      },
      {
        "duration": 40,
        "start_time": "2023-03-29T21:39:27.993Z"
      },
      {
        "duration": 12,
        "start_time": "2023-03-29T21:39:28.035Z"
      },
      {
        "duration": 15,
        "start_time": "2023-03-29T21:39:28.048Z"
      },
      {
        "duration": 20,
        "start_time": "2023-03-29T21:39:28.065Z"
      },
      {
        "duration": 30,
        "start_time": "2023-03-29T21:39:28.086Z"
      },
      {
        "duration": 15,
        "start_time": "2023-03-29T21:39:28.118Z"
      },
      {
        "duration": 3,
        "start_time": "2023-03-29T21:39:28.134Z"
      },
      {
        "duration": 14,
        "start_time": "2023-03-29T21:39:28.138Z"
      },
      {
        "duration": 5,
        "start_time": "2023-03-29T21:39:28.153Z"
      },
      {
        "duration": 6,
        "start_time": "2023-03-29T21:39:28.159Z"
      },
      {
        "duration": 24,
        "start_time": "2023-03-29T21:39:28.167Z"
      },
      {
        "duration": 3,
        "start_time": "2023-03-29T21:39:28.193Z"
      },
      {
        "duration": 7,
        "start_time": "2023-03-29T21:39:28.198Z"
      },
      {
        "duration": 3,
        "start_time": "2023-03-29T21:39:28.207Z"
      },
      {
        "duration": 26,
        "start_time": "2023-03-29T21:39:28.212Z"
      },
      {
        "duration": 7,
        "start_time": "2023-03-29T21:39:28.239Z"
      },
      {
        "duration": 3,
        "start_time": "2023-03-29T21:39:28.248Z"
      },
      {
        "duration": 23,
        "start_time": "2023-03-29T21:39:28.283Z"
      },
      {
        "duration": 5,
        "start_time": "2023-03-29T21:39:28.308Z"
      },
      {
        "duration": 12,
        "start_time": "2023-03-29T21:39:28.315Z"
      },
      {
        "duration": 36,
        "start_time": "2023-03-29T21:39:28.328Z"
      },
      {
        "duration": 6,
        "start_time": "2023-03-29T21:39:28.366Z"
      },
      {
        "duration": 2,
        "start_time": "2023-03-29T21:39:28.383Z"
      },
      {
        "duration": 44,
        "start_time": "2023-03-29T21:39:28.387Z"
      },
      {
        "duration": 529,
        "start_time": "2023-03-30T07:10:33.777Z"
      },
      {
        "duration": 25,
        "start_time": "2023-03-30T07:10:34.308Z"
      },
      {
        "duration": 21,
        "start_time": "2023-03-30T07:10:34.336Z"
      },
      {
        "duration": 14,
        "start_time": "2023-03-30T07:10:34.359Z"
      },
      {
        "duration": 70,
        "start_time": "2023-03-30T07:10:34.375Z"
      },
      {
        "duration": 5,
        "start_time": "2023-03-30T07:10:34.447Z"
      },
      {
        "duration": 11,
        "start_time": "2023-03-30T07:10:34.454Z"
      },
      {
        "duration": 5,
        "start_time": "2023-03-30T07:10:34.467Z"
      },
      {
        "duration": 9,
        "start_time": "2023-03-30T07:10:34.474Z"
      },
      {
        "duration": 5,
        "start_time": "2023-03-30T07:10:34.486Z"
      },
      {
        "duration": 76,
        "start_time": "2023-03-30T07:10:34.493Z"
      },
      {
        "duration": 13,
        "start_time": "2023-03-30T07:10:34.572Z"
      },
      {
        "duration": 4,
        "start_time": "2023-03-30T07:10:34.588Z"
      },
      {
        "duration": 43,
        "start_time": "2023-03-30T07:10:34.594Z"
      },
      {
        "duration": 26,
        "start_time": "2023-03-30T07:10:34.639Z"
      },
      {
        "duration": 16,
        "start_time": "2023-03-30T07:10:34.667Z"
      },
      {
        "duration": 4,
        "start_time": "2023-03-30T07:10:34.685Z"
      },
      {
        "duration": 13,
        "start_time": "2023-03-30T07:10:34.691Z"
      },
      {
        "duration": 8,
        "start_time": "2023-03-30T07:10:34.723Z"
      },
      {
        "duration": 5,
        "start_time": "2023-03-30T07:10:34.732Z"
      },
      {
        "duration": 23,
        "start_time": "2023-03-30T07:10:34.739Z"
      },
      {
        "duration": 7,
        "start_time": "2023-03-30T07:10:34.764Z"
      },
      {
        "duration": 12,
        "start_time": "2023-03-30T07:10:34.772Z"
      },
      {
        "duration": 3,
        "start_time": "2023-03-30T07:10:34.786Z"
      },
      {
        "duration": 53,
        "start_time": "2023-03-30T07:10:34.791Z"
      },
      {
        "duration": 8,
        "start_time": "2023-03-30T07:10:34.846Z"
      },
      {
        "duration": 3,
        "start_time": "2023-03-30T07:10:34.856Z"
      },
      {
        "duration": 26,
        "start_time": "2023-03-30T07:10:34.863Z"
      },
      {
        "duration": 32,
        "start_time": "2023-03-30T07:10:34.891Z"
      },
      {
        "duration": 4,
        "start_time": "2023-03-30T07:10:34.926Z"
      },
      {
        "duration": 45,
        "start_time": "2023-03-30T07:10:34.933Z"
      },
      {
        "duration": 10,
        "start_time": "2023-03-30T07:10:34.980Z"
      },
      {
        "duration": 3,
        "start_time": "2023-03-30T07:10:34.992Z"
      },
      {
        "duration": 58,
        "start_time": "2023-03-30T07:10:34.998Z"
      }
    ],
    "colab": {
      "provenance": []
    },
    "toc": {
      "base_numbering": 1,
      "nav_menu": {
        "height": "336px",
        "width": "608px"
      },
      "number_sections": true,
      "sideBar": true,
      "skip_h1_title": true,
      "title_cell": "Table of Contents",
      "title_sidebar": "Contents",
      "toc_cell": false,
      "toc_position": {},
      "toc_section_display": true,
      "toc_window_display": false
    },
    "kernelspec": {
      "name": "python",
      "display_name": "Python (Pyodide)",
      "language": "python"
    },
    "language_info": {
      "codemirror_mode": {
        "name": "ipython",
        "version": 3
      },
      "file_extension": ".py",
      "mimetype": "text/x-python",
      "name": "python",
      "nbconvert_exporter": "python",
      "pygments_lexer": "ipython3",
      "version": "3.9.5"
    }
  },
  "nbformat_minor": 5,
  "nbformat": 4,
  "cells": [
    {
      "cell_type": "markdown",
      "source": "# Исследование надежности заемщиков\n",
      "metadata": {
        "deletable": false,
        "editable": false,
        "id": "386f2ae7"
      },
      "id": "386f2ae7"
    },
    {
      "cell_type": "markdown",
      "source": "Во второй части проекта вы выполните шаги 3 и 4. Их вручную проверит ревьюер.\nЧтобы вам не пришлось писать код заново для шагов 1 и 2, мы добавили авторские решения в ячейки с кодом. \n\n",
      "metadata": {
        "deletable": false,
        "editable": false,
        "id": "ffe86f65"
      },
      "id": "ffe86f65"
    },
    {
      "cell_type": "markdown",
      "source": "## Откройте таблицу и изучите общую информацию о данных",
      "metadata": {
        "deletable": false,
        "editable": false,
        "id": "26613308"
      },
      "id": "26613308"
    },
    {
      "cell_type": "markdown",
      "source": "**Задание 1. Импортируйте библиотеку pandas. Считайте данные из csv-файла в датафрейм и сохраните в переменную `data`. Путь к файлу:**\n\n`/datasets/data.csv`",
      "metadata": {
        "deletable": false,
        "editable": false,
        "id": "3c9f838e"
      },
      "id": "3c9f838e"
    },
    {
      "cell_type": "code",
      "source": "import pandas as pd\n\ntry:\n    data = pd.read_csv('/datasets/data.csv')\nexcept:\n    data = pd.read_csv('https://code.s3.yandex.net/datasets/data.csv')",
      "metadata": {
        "deletable": false,
        "id": "77a68a90"
      },
      "execution_count": 1,
      "outputs": [],
      "id": "77a68a90"
    },
    {
      "cell_type": "markdown",
      "source": "**Задание 2. Выведите первые 20 строчек датафрейма `data` на экран.**",
      "metadata": {
        "deletable": false,
        "editable": false,
        "id": "45365635"
      },
      "id": "45365635"
    },
    {
      "cell_type": "code",
      "source": "data.head(20)",
      "metadata": {
        "deletable": false,
        "id": "b0451a9a",
        "outputId": "1a8f3ef2-d323-4ec2-ddf7-89670b5944c4"
      },
      "execution_count": 2,
      "outputs": [
        {
          "execution_count": 2,
          "output_type": "execute_result",
          "data": {
            "text/html": [
              "<div>\n",
              "<style scoped>\n",
              "    .dataframe tbody tr th:only-of-type {\n",
              "        vertical-align: middle;\n",
              "    }\n",
              "\n",
              "    .dataframe tbody tr th {\n",
              "        vertical-align: top;\n",
              "    }\n",
              "\n",
              "    .dataframe thead th {\n",
              "        text-align: right;\n",
              "    }\n",
              "</style>\n",
              "<table border=\"1\" class=\"dataframe\">\n",
              "  <thead>\n",
              "    <tr style=\"text-align: right;\">\n",
              "      <th></th>\n",
              "      <th>children</th>\n",
              "      <th>days_employed</th>\n",
              "      <th>dob_years</th>\n",
              "      <th>education</th>\n",
              "      <th>education_id</th>\n",
              "      <th>family_status</th>\n",
              "      <th>family_status_id</th>\n",
              "      <th>gender</th>\n",
              "      <th>income_type</th>\n",
              "      <th>debt</th>\n",
              "      <th>total_income</th>\n",
              "      <th>purpose</th>\n",
              "    </tr>\n",
              "  </thead>\n",
              "  <tbody>\n",
              "    <tr>\n",
              "      <th>0</th>\n",
              "      <td>1</td>\n",
              "      <td>-8437.673028</td>\n",
              "      <td>42</td>\n",
              "      <td>высшее</td>\n",
              "      <td>0</td>\n",
              "      <td>женат / замужем</td>\n",
              "      <td>0</td>\n",
              "      <td>F</td>\n",
              "      <td>сотрудник</td>\n",
              "      <td>0</td>\n",
              "      <td>253875.639453</td>\n",
              "      <td>покупка жилья</td>\n",
              "    </tr>\n",
              "    <tr>\n",
              "      <th>1</th>\n",
              "      <td>1</td>\n",
              "      <td>-4024.803754</td>\n",
              "      <td>36</td>\n",
              "      <td>среднее</td>\n",
              "      <td>1</td>\n",
              "      <td>женат / замужем</td>\n",
              "      <td>0</td>\n",
              "      <td>F</td>\n",
              "      <td>сотрудник</td>\n",
              "      <td>0</td>\n",
              "      <td>112080.014102</td>\n",
              "      <td>приобретение автомобиля</td>\n",
              "    </tr>\n",
              "    <tr>\n",
              "      <th>2</th>\n",
              "      <td>0</td>\n",
              "      <td>-5623.422610</td>\n",
              "      <td>33</td>\n",
              "      <td>Среднее</td>\n",
              "      <td>1</td>\n",
              "      <td>женат / замужем</td>\n",
              "      <td>0</td>\n",
              "      <td>M</td>\n",
              "      <td>сотрудник</td>\n",
              "      <td>0</td>\n",
              "      <td>145885.952297</td>\n",
              "      <td>покупка жилья</td>\n",
              "    </tr>\n",
              "    <tr>\n",
              "      <th>3</th>\n",
              "      <td>3</td>\n",
              "      <td>-4124.747207</td>\n",
              "      <td>32</td>\n",
              "      <td>среднее</td>\n",
              "      <td>1</td>\n",
              "      <td>женат / замужем</td>\n",
              "      <td>0</td>\n",
              "      <td>M</td>\n",
              "      <td>сотрудник</td>\n",
              "      <td>0</td>\n",
              "      <td>267628.550329</td>\n",
              "      <td>дополнительное образование</td>\n",
              "    </tr>\n",
              "    <tr>\n",
              "      <th>4</th>\n",
              "      <td>0</td>\n",
              "      <td>340266.072047</td>\n",
              "      <td>53</td>\n",
              "      <td>среднее</td>\n",
              "      <td>1</td>\n",
              "      <td>гражданский брак</td>\n",
              "      <td>1</td>\n",
              "      <td>F</td>\n",
              "      <td>пенсионер</td>\n",
              "      <td>0</td>\n",
              "      <td>158616.077870</td>\n",
              "      <td>сыграть свадьбу</td>\n",
              "    </tr>\n",
              "    <tr>\n",
              "      <th>5</th>\n",
              "      <td>0</td>\n",
              "      <td>-926.185831</td>\n",
              "      <td>27</td>\n",
              "      <td>высшее</td>\n",
              "      <td>0</td>\n",
              "      <td>гражданский брак</td>\n",
              "      <td>1</td>\n",
              "      <td>M</td>\n",
              "      <td>компаньон</td>\n",
              "      <td>0</td>\n",
              "      <td>255763.565419</td>\n",
              "      <td>покупка жилья</td>\n",
              "    </tr>\n",
              "    <tr>\n",
              "      <th>6</th>\n",
              "      <td>0</td>\n",
              "      <td>-2879.202052</td>\n",
              "      <td>43</td>\n",
              "      <td>высшее</td>\n",
              "      <td>0</td>\n",
              "      <td>женат / замужем</td>\n",
              "      <td>0</td>\n",
              "      <td>F</td>\n",
              "      <td>компаньон</td>\n",
              "      <td>0</td>\n",
              "      <td>240525.971920</td>\n",
              "      <td>операции с жильем</td>\n",
              "    </tr>\n",
              "    <tr>\n",
              "      <th>7</th>\n",
              "      <td>0</td>\n",
              "      <td>-152.779569</td>\n",
              "      <td>50</td>\n",
              "      <td>СРЕДНЕЕ</td>\n",
              "      <td>1</td>\n",
              "      <td>женат / замужем</td>\n",
              "      <td>0</td>\n",
              "      <td>M</td>\n",
              "      <td>сотрудник</td>\n",
              "      <td>0</td>\n",
              "      <td>135823.934197</td>\n",
              "      <td>образование</td>\n",
              "    </tr>\n",
              "    <tr>\n",
              "      <th>8</th>\n",
              "      <td>2</td>\n",
              "      <td>-6929.865299</td>\n",
              "      <td>35</td>\n",
              "      <td>ВЫСШЕЕ</td>\n",
              "      <td>0</td>\n",
              "      <td>гражданский брак</td>\n",
              "      <td>1</td>\n",
              "      <td>F</td>\n",
              "      <td>сотрудник</td>\n",
              "      <td>0</td>\n",
              "      <td>95856.832424</td>\n",
              "      <td>на проведение свадьбы</td>\n",
              "    </tr>\n",
              "    <tr>\n",
              "      <th>9</th>\n",
              "      <td>0</td>\n",
              "      <td>-2188.756445</td>\n",
              "      <td>41</td>\n",
              "      <td>среднее</td>\n",
              "      <td>1</td>\n",
              "      <td>женат / замужем</td>\n",
              "      <td>0</td>\n",
              "      <td>M</td>\n",
              "      <td>сотрудник</td>\n",
              "      <td>0</td>\n",
              "      <td>144425.938277</td>\n",
              "      <td>покупка жилья для семьи</td>\n",
              "    </tr>\n",
              "    <tr>\n",
              "      <th>10</th>\n",
              "      <td>2</td>\n",
              "      <td>-4171.483647</td>\n",
              "      <td>36</td>\n",
              "      <td>высшее</td>\n",
              "      <td>0</td>\n",
              "      <td>женат / замужем</td>\n",
              "      <td>0</td>\n",
              "      <td>M</td>\n",
              "      <td>компаньон</td>\n",
              "      <td>0</td>\n",
              "      <td>113943.491460</td>\n",
              "      <td>покупка недвижимости</td>\n",
              "    </tr>\n",
              "    <tr>\n",
              "      <th>11</th>\n",
              "      <td>0</td>\n",
              "      <td>-792.701887</td>\n",
              "      <td>40</td>\n",
              "      <td>среднее</td>\n",
              "      <td>1</td>\n",
              "      <td>женат / замужем</td>\n",
              "      <td>0</td>\n",
              "      <td>F</td>\n",
              "      <td>сотрудник</td>\n",
              "      <td>0</td>\n",
              "      <td>77069.234271</td>\n",
              "      <td>покупка коммерческой недвижимости</td>\n",
              "    </tr>\n",
              "    <tr>\n",
              "      <th>12</th>\n",
              "      <td>0</td>\n",
              "      <td>NaN</td>\n",
              "      <td>65</td>\n",
              "      <td>среднее</td>\n",
              "      <td>1</td>\n",
              "      <td>гражданский брак</td>\n",
              "      <td>1</td>\n",
              "      <td>M</td>\n",
              "      <td>пенсионер</td>\n",
              "      <td>0</td>\n",
              "      <td>NaN</td>\n",
              "      <td>сыграть свадьбу</td>\n",
              "    </tr>\n",
              "    <tr>\n",
              "      <th>13</th>\n",
              "      <td>0</td>\n",
              "      <td>-1846.641941</td>\n",
              "      <td>54</td>\n",
              "      <td>неоконченное высшее</td>\n",
              "      <td>2</td>\n",
              "      <td>женат / замужем</td>\n",
              "      <td>0</td>\n",
              "      <td>F</td>\n",
              "      <td>сотрудник</td>\n",
              "      <td>0</td>\n",
              "      <td>130458.228857</td>\n",
              "      <td>приобретение автомобиля</td>\n",
              "    </tr>\n",
              "    <tr>\n",
              "      <th>14</th>\n",
              "      <td>0</td>\n",
              "      <td>-1844.956182</td>\n",
              "      <td>56</td>\n",
              "      <td>высшее</td>\n",
              "      <td>0</td>\n",
              "      <td>гражданский брак</td>\n",
              "      <td>1</td>\n",
              "      <td>F</td>\n",
              "      <td>компаньон</td>\n",
              "      <td>1</td>\n",
              "      <td>165127.911772</td>\n",
              "      <td>покупка жилой недвижимости</td>\n",
              "    </tr>\n",
              "    <tr>\n",
              "      <th>15</th>\n",
              "      <td>1</td>\n",
              "      <td>-972.364419</td>\n",
              "      <td>26</td>\n",
              "      <td>среднее</td>\n",
              "      <td>1</td>\n",
              "      <td>женат / замужем</td>\n",
              "      <td>0</td>\n",
              "      <td>F</td>\n",
              "      <td>сотрудник</td>\n",
              "      <td>0</td>\n",
              "      <td>116820.904450</td>\n",
              "      <td>строительство собственной недвижимости</td>\n",
              "    </tr>\n",
              "    <tr>\n",
              "      <th>16</th>\n",
              "      <td>0</td>\n",
              "      <td>-1719.934226</td>\n",
              "      <td>35</td>\n",
              "      <td>среднее</td>\n",
              "      <td>1</td>\n",
              "      <td>женат / замужем</td>\n",
              "      <td>0</td>\n",
              "      <td>F</td>\n",
              "      <td>сотрудник</td>\n",
              "      <td>0</td>\n",
              "      <td>289202.704229</td>\n",
              "      <td>недвижимость</td>\n",
              "    </tr>\n",
              "    <tr>\n",
              "      <th>17</th>\n",
              "      <td>0</td>\n",
              "      <td>-2369.999720</td>\n",
              "      <td>33</td>\n",
              "      <td>высшее</td>\n",
              "      <td>0</td>\n",
              "      <td>гражданский брак</td>\n",
              "      <td>1</td>\n",
              "      <td>M</td>\n",
              "      <td>сотрудник</td>\n",
              "      <td>0</td>\n",
              "      <td>90410.586745</td>\n",
              "      <td>строительство недвижимости</td>\n",
              "    </tr>\n",
              "    <tr>\n",
              "      <th>18</th>\n",
              "      <td>0</td>\n",
              "      <td>400281.136913</td>\n",
              "      <td>53</td>\n",
              "      <td>среднее</td>\n",
              "      <td>1</td>\n",
              "      <td>вдовец / вдова</td>\n",
              "      <td>2</td>\n",
              "      <td>F</td>\n",
              "      <td>пенсионер</td>\n",
              "      <td>0</td>\n",
              "      <td>56823.777243</td>\n",
              "      <td>на покупку подержанного автомобиля</td>\n",
              "    </tr>\n",
              "    <tr>\n",
              "      <th>19</th>\n",
              "      <td>0</td>\n",
              "      <td>-10038.818549</td>\n",
              "      <td>48</td>\n",
              "      <td>СРЕДНЕЕ</td>\n",
              "      <td>1</td>\n",
              "      <td>в разводе</td>\n",
              "      <td>3</td>\n",
              "      <td>F</td>\n",
              "      <td>сотрудник</td>\n",
              "      <td>0</td>\n",
              "      <td>242831.107982</td>\n",
              "      <td>на покупку своего автомобиля</td>\n",
              "    </tr>\n",
              "  </tbody>\n",
              "</table>\n",
              "</div>"
            ],
            "text/plain": [
              "    children  days_employed  dob_years            education  education_id  \\\n",
              "0          1   -8437.673028         42               высшее             0   \n",
              "1          1   -4024.803754         36              среднее             1   \n",
              "2          0   -5623.422610         33              Среднее             1   \n",
              "3          3   -4124.747207         32              среднее             1   \n",
              "4          0  340266.072047         53              среднее             1   \n",
              "5          0    -926.185831         27               высшее             0   \n",
              "6          0   -2879.202052         43               высшее             0   \n",
              "7          0    -152.779569         50              СРЕДНЕЕ             1   \n",
              "8          2   -6929.865299         35               ВЫСШЕЕ             0   \n",
              "9          0   -2188.756445         41              среднее             1   \n",
              "10         2   -4171.483647         36               высшее             0   \n",
              "11         0    -792.701887         40              среднее             1   \n",
              "12         0            NaN         65              среднее             1   \n",
              "13         0   -1846.641941         54  неоконченное высшее             2   \n",
              "14         0   -1844.956182         56               высшее             0   \n",
              "15         1    -972.364419         26              среднее             1   \n",
              "16         0   -1719.934226         35              среднее             1   \n",
              "17         0   -2369.999720         33               высшее             0   \n",
              "18         0  400281.136913         53              среднее             1   \n",
              "19         0  -10038.818549         48              СРЕДНЕЕ             1   \n",
              "\n",
              "       family_status  family_status_id gender income_type  debt  \\\n",
              "0    женат / замужем                 0      F   сотрудник     0   \n",
              "1    женат / замужем                 0      F   сотрудник     0   \n",
              "2    женат / замужем                 0      M   сотрудник     0   \n",
              "3    женат / замужем                 0      M   сотрудник     0   \n",
              "4   гражданский брак                 1      F   пенсионер     0   \n",
              "5   гражданский брак                 1      M   компаньон     0   \n",
              "6    женат / замужем                 0      F   компаньон     0   \n",
              "7    женат / замужем                 0      M   сотрудник     0   \n",
              "8   гражданский брак                 1      F   сотрудник     0   \n",
              "9    женат / замужем                 0      M   сотрудник     0   \n",
              "10   женат / замужем                 0      M   компаньон     0   \n",
              "11   женат / замужем                 0      F   сотрудник     0   \n",
              "12  гражданский брак                 1      M   пенсионер     0   \n",
              "13   женат / замужем                 0      F   сотрудник     0   \n",
              "14  гражданский брак                 1      F   компаньон     1   \n",
              "15   женат / замужем                 0      F   сотрудник     0   \n",
              "16   женат / замужем                 0      F   сотрудник     0   \n",
              "17  гражданский брак                 1      M   сотрудник     0   \n",
              "18    вдовец / вдова                 2      F   пенсионер     0   \n",
              "19         в разводе                 3      F   сотрудник     0   \n",
              "\n",
              "     total_income                                 purpose  \n",
              "0   253875.639453                           покупка жилья  \n",
              "1   112080.014102                 приобретение автомобиля  \n",
              "2   145885.952297                           покупка жилья  \n",
              "3   267628.550329              дополнительное образование  \n",
              "4   158616.077870                         сыграть свадьбу  \n",
              "5   255763.565419                           покупка жилья  \n",
              "6   240525.971920                       операции с жильем  \n",
              "7   135823.934197                             образование  \n",
              "8    95856.832424                   на проведение свадьбы  \n",
              "9   144425.938277                 покупка жилья для семьи  \n",
              "10  113943.491460                    покупка недвижимости  \n",
              "11   77069.234271       покупка коммерческой недвижимости  \n",
              "12            NaN                         сыграть свадьбу  \n",
              "13  130458.228857                 приобретение автомобиля  \n",
              "14  165127.911772              покупка жилой недвижимости  \n",
              "15  116820.904450  строительство собственной недвижимости  \n",
              "16  289202.704229                            недвижимость  \n",
              "17   90410.586745              строительство недвижимости  \n",
              "18   56823.777243      на покупку подержанного автомобиля  \n",
              "19  242831.107982            на покупку своего автомобиля  "
            ]
          },
          "metadata": {}
        }
      ],
      "id": "b0451a9a"
    },
    {
      "cell_type": "markdown",
      "source": "**Задание 3. Выведите основную информацию о датафрейме с помощью метода `info()`.**",
      "metadata": {
        "deletable": false,
        "editable": false,
        "id": "0ed8f27f"
      },
      "id": "0ed8f27f"
    },
    {
      "cell_type": "code",
      "source": "data.info()",
      "metadata": {
        "deletable": false,
        "id": "ab3f863b",
        "outputId": "15376089-8dad-46c9-b520-c05248d43158"
      },
      "execution_count": 3,
      "outputs": [
        {
          "name": "stdout",
          "output_type": "stream",
          "text": "<class 'pandas.core.frame.DataFrame'>\n\nRangeIndex: 21525 entries, 0 to 21524\n\nData columns (total 12 columns):\n\n #   Column            Non-Null Count  Dtype  \n\n---  ------            --------------  -----  \n\n 0   children          21525 non-null  int64  \n\n 1   days_employed     19351 non-null  float64\n\n 2   dob_years         21525 non-null  int64  \n\n 3   education         21525 non-null  object \n\n 4   education_id      21525 non-null  int64  \n\n 5   family_status     21525 non-null  object \n\n 6   family_status_id  21525 non-null  int64  \n\n 7   gender            21525 non-null  object \n\n 8   income_type       21525 non-null  object \n\n 9   debt              21525 non-null  int64  \n\n 10  total_income      19351 non-null  float64\n\n 11  purpose           21525 non-null  object \n\ndtypes: float64(2), int64(5), object(5)\n\nmemory usage: 2.0+ MB\n"
        }
      ],
      "id": "ab3f863b"
    },
    {
      "cell_type": "markdown",
      "source": "## Предобработка данных",
      "metadata": {
        "deletable": false,
        "editable": false,
        "id": "60e3e22d"
      },
      "id": "60e3e22d"
    },
    {
      "cell_type": "markdown",
      "source": "### Удаление пропусков",
      "metadata": {
        "deletable": false,
        "editable": false,
        "id": "03dc170c"
      },
      "id": "03dc170c"
    },
    {
      "cell_type": "markdown",
      "source": "**Задание 4. Выведите количество пропущенных значений для каждого столбца. Используйте комбинацию двух методов.**",
      "metadata": {
        "deletable": false,
        "editable": false,
        "id": "a4f54eef"
      },
      "id": "a4f54eef"
    },
    {
      "cell_type": "code",
      "source": "data.isna().sum()",
      "metadata": {
        "deletable": false,
        "id": "2dc372b2",
        "outputId": "81f4d817-781c-465c-ed15-91ce4446810d"
      },
      "execution_count": 4,
      "outputs": [
        {
          "execution_count": 4,
          "output_type": "execute_result",
          "data": {
            "text/plain": [
              "children               0\n",
              "days_employed       2174\n",
              "dob_years              0\n",
              "education              0\n",
              "education_id           0\n",
              "family_status          0\n",
              "family_status_id       0\n",
              "gender                 0\n",
              "income_type            0\n",
              "debt                   0\n",
              "total_income        2174\n",
              "purpose                0\n",
              "dtype: int64"
            ]
          },
          "metadata": {}
        }
      ],
      "id": "2dc372b2"
    },
    {
      "cell_type": "markdown",
      "source": "**Задание 5. В двух столбцах есть пропущенные значения. Один из них — `days_employed`. Пропуски в этом столбце вы обработаете на следующем этапе. Другой столбец с пропущенными значениями — `total_income` — хранит данные о доходах. На сумму дохода сильнее всего влияет тип занятости, поэтому заполнить пропуски в этом столбце нужно медианным значением по каждому типу из столбца `income_type`. Например, у человека с типом занятости `сотрудник` пропуск в столбце `total_income` должен быть заполнен медианным доходом среди всех записей с тем же типом.**",
      "metadata": {
        "deletable": false,
        "editable": false,
        "id": "14f011b1"
      },
      "id": "14f011b1"
    },
    {
      "cell_type": "code",
      "source": "for t in data['income_type'].unique():\n    data.loc[(data['income_type'] == t) & (data['total_income'].isna()), 'total_income'] = \\\n    data.loc[(data['income_type'] == t), 'total_income'].median()",
      "metadata": {
        "deletable": false,
        "id": "bdabfb6e"
      },
      "execution_count": 5,
      "outputs": [],
      "id": "bdabfb6e"
    },
    {
      "cell_type": "markdown",
      "source": "### Обработка аномальных значений",
      "metadata": {
        "deletable": false,
        "editable": false,
        "id": "5be34059"
      },
      "id": "5be34059"
    },
    {
      "cell_type": "markdown",
      "source": "**Задание 6. В данных могут встречаться артефакты (аномалии) — значения, которые не отражают действительность и появились по какой-то ошибке. таким артефактом будет отрицательное количество дней трудового стажа в столбце `days_employed`. Для реальных данных это нормально. Обработайте значения в этом столбце: замените все отрицательные значения положительными с помощью метода `abs()`.**",
      "metadata": {
        "deletable": false,
        "editable": false,
        "id": "a87606cb"
      },
      "id": "a87606cb"
    },
    {
      "cell_type": "code",
      "source": "data['days_employed'] = data['days_employed'].abs()",
      "metadata": {
        "deletable": false,
        "id": "020c46cc"
      },
      "execution_count": 6,
      "outputs": [],
      "id": "020c46cc"
    },
    {
      "cell_type": "markdown",
      "source": "**Задание 7. Для каждого типа занятости выведите медианное значение трудового стажа `days_employed` в днях.**",
      "metadata": {
        "deletable": false,
        "editable": false,
        "id": "45538a3a"
      },
      "id": "45538a3a"
    },
    {
      "cell_type": "code",
      "source": "data.groupby('income_type')['days_employed'].agg('median')",
      "metadata": {
        "deletable": false,
        "id": "cd3e6328",
        "outputId": "801ef80e-522b-4668-f34e-565af7432bcf"
      },
      "execution_count": 7,
      "outputs": [
        {
          "execution_count": 7,
          "output_type": "execute_result",
          "data": {
            "text/plain": [
              "income_type\n",
              "безработный        366413.652744\n",
              "в декрете            3296.759962\n",
              "госслужащий          2689.368353\n",
              "компаньон            1547.382223\n",
              "пенсионер          365213.306266\n",
              "предприниматель       520.848083\n",
              "сотрудник            1574.202821\n",
              "студент               578.751554\n",
              "Name: days_employed, dtype: float64"
            ]
          },
          "metadata": {}
        }
      ],
      "id": "cd3e6328"
    },
    {
      "cell_type": "markdown",
      "source": "У двух типов (безработные и пенсионеры) получатся аномально большие значения. Исправить такие значения сложно, поэтому оставьте их как есть.",
      "metadata": {
        "deletable": false,
        "editable": false,
        "id": "90c5f058"
      },
      "id": "90c5f058"
    },
    {
      "cell_type": "markdown",
      "source": "**Задание 8. Выведите перечень уникальных значений столбца `children`.**",
      "metadata": {
        "deletable": false,
        "editable": false,
        "id": "9652e50d"
      },
      "id": "9652e50d"
    },
    {
      "cell_type": "code",
      "source": "data['children'].unique()",
      "metadata": {
        "deletable": false,
        "id": "dbb37b8e",
        "outputId": "6975b15c-7f95-4697-d16d-a0c79b657b03"
      },
      "execution_count": 8,
      "outputs": [
        {
          "execution_count": 8,
          "output_type": "execute_result",
          "data": {
            "text/plain": [
              "array([ 1,  0,  3,  2, -1,  4, 20,  5])"
            ]
          },
          "metadata": {}
        }
      ],
      "id": "dbb37b8e"
    },
    {
      "cell_type": "markdown",
      "source": "**Задание 9. В столбце `children` есть два аномальных значения. Удалите строки, в которых встречаются такие аномальные значения из датафрейма `data`.**",
      "metadata": {
        "deletable": false,
        "editable": false,
        "id": "2b8b0715"
      },
      "id": "2b8b0715"
    },
    {
      "cell_type": "code",
      "source": "data = data[(data['children'] != -1) & (data['children'] != 20)]",
      "metadata": {
        "deletable": false,
        "id": "20009df8"
      },
      "execution_count": 9,
      "outputs": [],
      "id": "20009df8"
    },
    {
      "cell_type": "markdown",
      "source": "**Задание 10. Ещё раз выведите перечень уникальных значений столбца `children`, чтобы убедиться, что артефакты удалены.**",
      "metadata": {
        "deletable": false,
        "editable": false,
        "id": "8c6ac9f1"
      },
      "id": "8c6ac9f1"
    },
    {
      "cell_type": "code",
      "source": "data['children'].unique()",
      "metadata": {
        "deletable": false,
        "id": "07337b81",
        "outputId": "b2097101-d49d-44d9-901b-32a65c9463d1"
      },
      "execution_count": 10,
      "outputs": [
        {
          "execution_count": 10,
          "output_type": "execute_result",
          "data": {
            "text/plain": [
              "array([1, 0, 3, 2, 4, 5])"
            ]
          },
          "metadata": {}
        }
      ],
      "id": "07337b81"
    },
    {
      "cell_type": "markdown",
      "source": "### Удаление пропусков (продолжение)",
      "metadata": {
        "deletable": false,
        "editable": false,
        "id": "ee3f52d4"
      },
      "id": "ee3f52d4"
    },
    {
      "cell_type": "markdown",
      "source": "**Задание 11. Заполните пропуски в столбце `days_employed` медианными значениями по каждого типа занятости `income_type`.**",
      "metadata": {
        "deletable": false,
        "editable": false,
        "id": "a700b0e4"
      },
      "id": "a700b0e4"
    },
    {
      "cell_type": "code",
      "source": "for t in data['income_type'].unique():\n    data.loc[(data['income_type'] == t) & (data['days_employed'].isna()), 'days_employed'] = \\\n    data.loc[(data['income_type'] == t), 'days_employed'].median()",
      "metadata": {
        "deletable": false,
        "id": "61946b83"
      },
      "execution_count": 11,
      "outputs": [],
      "id": "61946b83"
    },
    {
      "cell_type": "markdown",
      "source": "**Задание 12. Убедитесь, что все пропуски заполнены. Проверьте себя и ещё раз выведите количество пропущенных значений для каждого столбца с помощью двух методов.**",
      "metadata": {
        "deletable": false,
        "editable": false,
        "id": "550dcd9b"
      },
      "id": "550dcd9b"
    },
    {
      "cell_type": "code",
      "source": "data.isna().sum()",
      "metadata": {
        "deletable": false,
        "id": "937c7014",
        "outputId": "8da1e4e1-358e-4e87-98c9-f261bce0a7b2"
      },
      "execution_count": 12,
      "outputs": [
        {
          "execution_count": 12,
          "output_type": "execute_result",
          "data": {
            "text/plain": [
              "children            0\n",
              "days_employed       0\n",
              "dob_years           0\n",
              "education           0\n",
              "education_id        0\n",
              "family_status       0\n",
              "family_status_id    0\n",
              "gender              0\n",
              "income_type         0\n",
              "debt                0\n",
              "total_income        0\n",
              "purpose             0\n",
              "dtype: int64"
            ]
          },
          "metadata": {}
        }
      ],
      "id": "937c7014"
    },
    {
      "cell_type": "markdown",
      "source": "### Изменение типов данных",
      "metadata": {
        "deletable": false,
        "editable": false,
        "id": "d522e295"
      },
      "id": "d522e295"
    },
    {
      "cell_type": "markdown",
      "source": "**Задание 13. Замените вещественный тип данных в столбце `total_income` на целочисленный с помощью метода `astype()`.**",
      "metadata": {
        "deletable": false,
        "editable": false,
        "id": "c229c581"
      },
      "id": "c229c581"
    },
    {
      "cell_type": "code",
      "source": "data['total_income'] = data['total_income'].astype(int)",
      "metadata": {
        "deletable": false,
        "id": "31036462"
      },
      "execution_count": 13,
      "outputs": [],
      "id": "31036462"
    },
    {
      "cell_type": "markdown",
      "source": "### Обработка дубликатов",
      "metadata": {
        "deletable": false,
        "editable": false,
        "id": "b8e3d1d9"
      },
      "id": "b8e3d1d9"
    },
    {
      "cell_type": "markdown",
      "source": "**Задание 14. Обработайте неявные дубликаты в столбце `education`. В этом столбце есть одни и те же значения, но записанные по-разному: с использованием заглавных и строчных букв. Приведите их к нижнему регистру.**",
      "metadata": {
        "deletable": false,
        "editable": false,
        "id": "9be53c49"
      },
      "id": "9be53c49"
    },
    {
      "cell_type": "code",
      "source": "data['education'] = data['education'].str.lower()",
      "metadata": {
        "deletable": false,
        "id": "d89e73e1"
      },
      "execution_count": 14,
      "outputs": [],
      "id": "d89e73e1"
    },
    {
      "cell_type": "markdown",
      "source": "**Задание 15. Выведите на экран количество строк-дубликатов в данных. Если такие строки присутствуют, удалите их.**",
      "metadata": {
        "deletable": false,
        "editable": false,
        "id": "01d4500e"
      },
      "id": "01d4500e"
    },
    {
      "cell_type": "code",
      "source": "data.duplicated().sum()",
      "metadata": {
        "deletable": false,
        "id": "e10efb23",
        "outputId": "9684deba-1934-42d1-99e1-cda61740f822"
      },
      "execution_count": 15,
      "outputs": [
        {
          "execution_count": 15,
          "output_type": "execute_result",
          "data": {
            "text/plain": [
              "71"
            ]
          },
          "metadata": {}
        }
      ],
      "id": "e10efb23"
    },
    {
      "cell_type": "code",
      "source": "data = data.drop_duplicates()",
      "metadata": {
        "deletable": false,
        "id": "df853f20"
      },
      "execution_count": 16,
      "outputs": [],
      "id": "df853f20"
    },
    {
      "cell_type": "markdown",
      "source": "### Категоризация данных",
      "metadata": {
        "deletable": false,
        "editable": false,
        "id": "627be38f"
      },
      "id": "627be38f"
    },
    {
      "cell_type": "markdown",
      "source": "**Задание 16. На основании диапазонов, указанных ниже, создайте в датафрейме `data` столбец `total_income_category` с категориями:**\n\n- 0–30000 — `'E'`;\n- 30001–50000 — `'D'`;\n- 50001–200000 — `'C'`;\n- 200001–1000000 — `'B'`;\n- 1000001 и выше — `'A'`.\n\n\n**Например, кредитополучателю с доходом 25000 нужно назначить категорию `'E'`, а клиенту, получающему 235000, — `'B'`. Используйте собственную функцию с именем `categorize_income()` и метод `apply()`.**",
      "metadata": {
        "deletable": false,
        "editable": false,
        "id": "4684c3e0"
      },
      "id": "4684c3e0"
    },
    {
      "cell_type": "code",
      "source": "def categorize_income(income):\n    try:\n        if 0 <= income <= 30000:\n            return 'E'\n        elif 30001 <= income <= 50000:\n            return 'D'\n        elif 50001 <= income <= 200000:\n            return 'C'\n        elif 200001 <= income <= 1000000:\n            return 'B'\n        elif income >= 1000001:\n            return 'A'\n    except:\n        pass",
      "metadata": {
        "deletable": false,
        "id": "78965238"
      },
      "execution_count": 17,
      "outputs": [],
      "id": "78965238"
    },
    {
      "cell_type": "code",
      "source": "data['total_income_category'] = data['total_income'].apply(categorize_income)",
      "metadata": {
        "deletable": false,
        "id": "0980ada1"
      },
      "execution_count": 18,
      "outputs": [],
      "id": "0980ada1"
    },
    {
      "cell_type": "markdown",
      "source": "**Задание 17. Выведите на экран перечень уникальных целей взятия кредита из столбца `purpose`.**",
      "metadata": {
        "deletable": false,
        "editable": false,
        "id": "9917bba0"
      },
      "id": "9917bba0"
    },
    {
      "cell_type": "code",
      "source": "data['purpose'].unique()",
      "metadata": {
        "deletable": false,
        "id": "ee07b65e",
        "outputId": "673c12d9-7d7e-4ae0-9812-c622c89dd244"
      },
      "execution_count": 19,
      "outputs": [
        {
          "execution_count": 19,
          "output_type": "execute_result",
          "data": {
            "text/plain": [
              "array(['покупка жилья', 'приобретение автомобиля',\n",
              "       'дополнительное образование', 'сыграть свадьбу',\n",
              "       'операции с жильем', 'образование', 'на проведение свадьбы',\n",
              "       'покупка жилья для семьи', 'покупка недвижимости',\n",
              "       'покупка коммерческой недвижимости', 'покупка жилой недвижимости',\n",
              "       'строительство собственной недвижимости', 'недвижимость',\n",
              "       'строительство недвижимости', 'на покупку подержанного автомобиля',\n",
              "       'на покупку своего автомобиля',\n",
              "       'операции с коммерческой недвижимостью',\n",
              "       'строительство жилой недвижимости', 'жилье',\n",
              "       'операции со своей недвижимостью', 'автомобили',\n",
              "       'заняться образованием', 'сделка с подержанным автомобилем',\n",
              "       'получение образования', 'автомобиль', 'свадьба',\n",
              "       'получение дополнительного образования', 'покупка своего жилья',\n",
              "       'операции с недвижимостью', 'получение высшего образования',\n",
              "       'свой автомобиль', 'сделка с автомобилем',\n",
              "       'профильное образование', 'высшее образование',\n",
              "       'покупка жилья для сдачи', 'на покупку автомобиля', 'ремонт жилью',\n",
              "       'заняться высшим образованием'], dtype=object)"
            ]
          },
          "metadata": {}
        }
      ],
      "id": "ee07b65e"
    },
    {
      "cell_type": "markdown",
      "source": "**Задание 18. Создайте функцию, которая на основании данных из столбца `purpose` сформирует новый столбец `purpose_category`, в который войдут следующие категории:**\n\n- `'операции с автомобилем'`,\n- `'операции с недвижимостью'`,\n- `'проведение свадьбы'`,\n- `'получение образования'`.\n\n**Например, если в столбце `purpose` находится подстрока `'на покупку автомобиля'`, то в столбце `purpose_category` должна появиться строка `'операции с автомобилем'`.**\n\n**Используйте собственную функцию с именем `categorize_purpose()` и метод `apply()`. Изучите данные в столбце `purpose` и определите, какие подстроки помогут вам правильно определить категорию.**",
      "metadata": {
        "deletable": false,
        "editable": false,
        "id": "52b79d56"
      },
      "id": "52b79d56"
    },
    {
      "cell_type": "code",
      "source": "def categorize_purpose(row):\n    try:\n        if 'автом' in row:\n            return 'операции с автомобилем'\n        elif 'жил' in row or 'недвиж' in row:\n            return 'операции с недвижимостью'\n        elif 'свад' in row:\n            return 'проведение свадьбы'\n        elif 'образов' in row:\n            return 'получение образования'\n    except:\n        return 'нет категории'",
      "metadata": {
        "deletable": false,
        "id": "be41da5d"
      },
      "execution_count": 20,
      "outputs": [],
      "id": "be41da5d"
    },
    {
      "cell_type": "code",
      "source": "data['purpose_category'] = data['purpose'].apply(categorize_purpose)",
      "metadata": {
        "deletable": false,
        "id": "94c4a19a"
      },
      "execution_count": 21,
      "outputs": [],
      "id": "94c4a19a"
    },
    {
      "cell_type": "markdown",
      "source": "### Шаг 3. Исследуйте данные и ответьте на вопросы",
      "metadata": {
        "deletable": false,
        "editable": false,
        "id": "3d596c34"
      },
      "id": "3d596c34"
    },
    {
      "cell_type": "markdown",
      "source": "#### 3.1 Есть ли зависимость между количеством детей и возвратом кредита в срок?",
      "metadata": {
        "deletable": false,
        "editable": false,
        "id": "648db036"
      },
      "id": "648db036"
    },
    {
      "cell_type": "markdown",
      "source": "Для этого сгруппируем клиентов по количеству детей (столбец 'children') и найдем среднее значение показателя задолженности (столбец 'debt'). Значение показателя задолженности для каждого клиента должно быть 0 если задолженности не было, и 1 если задолженность была. Проверим значения столбца 'debt':",
      "metadata": {},
      "id": "77eecb0e"
    },
    {
      "cell_type": "code",
      "source": "print(data['debt'].unique())",
      "metadata": {},
      "execution_count": 22,
      "outputs": [
        {
          "name": "stdout",
          "output_type": "stream",
          "text": "[0 1]\n"
        }
      ],
      "id": "7b29eddd"
    },
    {
      "cell_type": "markdown",
      "source": "Получаем уникальные значения 0 и 1. Значит данные столбца 'debt' можно использовать.\nСгруппируем клиентов по количеству детей и найдем среднее значение показателя задолженности:",
      "metadata": {},
      "id": "15db252d"
    },
    {
      "cell_type": "code",
      "source": "print(data.groupby('children')['debt'].mean())",
      "metadata": {
        "deletable": false,
        "id": "7fcff25e"
      },
      "execution_count": 23,
      "outputs": [
        {
          "name": "stdout",
          "output_type": "stream",
          "text": "children\n\n0    0.075438\n\n1    0.092346\n\n2    0.094542\n\n3    0.081818\n\n4    0.097561\n\n5    0.000000\n\nName: debt, dtype: float64\n"
        }
      ],
      "id": "7fcff25e"
    },
    {
      "cell_type": "markdown",
      "source": "В полученных результатах видим, что клиенты, у которых 5 детей никогда не имели задолженности. Однако, стоит сравнить количество клиентов между собой в количественном и процентном соотношении:",
      "metadata": {},
      "id": "8b33bfed"
    },
    {
      "cell_type": "code",
      "source": "#Предыдущий вариант без сводных таблиц.\n\n#вывод количества клиентов по числу детей\n#print(data.groupby('children')['children'].count())\n#вывод долей клиентов по числу детей\n#print(data.groupby('children')['children'].count()/data.shape[0])",
      "metadata": {
        "scrolled": true
      },
      "execution_count": 24,
      "outputs": [],
      "id": "e7ad6ce2"
    },
    {
      "cell_type": "code",
      "source": "#создадим сводную таблицу\ndata_children_pivot = data.pivot_table(index='children', values='debt', aggfunc=['count', 'mean'])\n#\"переименуем\" столбцы 'count debt' и 'mean debt'\ndata_children_pivot.columns = ['clients', 'debt_mean']\n#добавим столбец с долями распределения клиентов по группам\ndata_children_pivot['clients_part'] = data_children_pivot['clients']/data_children_pivot['clients'].sum()\ndata_children_pivot",
      "metadata": {},
      "execution_count": 25,
      "outputs": [
        {
          "execution_count": 25,
          "output_type": "execute_result",
          "data": {
            "text/html": [
              "<div>\n",
              "<style scoped>\n",
              "    .dataframe tbody tr th:only-of-type {\n",
              "        vertical-align: middle;\n",
              "    }\n",
              "\n",
              "    .dataframe tbody tr th {\n",
              "        vertical-align: top;\n",
              "    }\n",
              "\n",
              "    .dataframe thead th {\n",
              "        text-align: right;\n",
              "    }\n",
              "</style>\n",
              "<table border=\"1\" class=\"dataframe\">\n",
              "  <thead>\n",
              "    <tr style=\"text-align: right;\">\n",
              "      <th></th>\n",
              "      <th>clients</th>\n",
              "      <th>debt_mean</th>\n",
              "      <th>clients_part</th>\n",
              "    </tr>\n",
              "    <tr>\n",
              "      <th>children</th>\n",
              "      <th></th>\n",
              "      <th></th>\n",
              "      <th></th>\n",
              "    </tr>\n",
              "  </thead>\n",
              "  <tbody>\n",
              "    <tr>\n",
              "      <th>0</th>\n",
              "      <td>14091</td>\n",
              "      <td>0.075438</td>\n",
              "      <td>0.660588</td>\n",
              "    </tr>\n",
              "    <tr>\n",
              "      <th>1</th>\n",
              "      <td>4808</td>\n",
              "      <td>0.092346</td>\n",
              "      <td>0.225400</td>\n",
              "    </tr>\n",
              "    <tr>\n",
              "      <th>2</th>\n",
              "      <td>2052</td>\n",
              "      <td>0.094542</td>\n",
              "      <td>0.096198</td>\n",
              "    </tr>\n",
              "    <tr>\n",
              "      <th>3</th>\n",
              "      <td>330</td>\n",
              "      <td>0.081818</td>\n",
              "      <td>0.015470</td>\n",
              "    </tr>\n",
              "    <tr>\n",
              "      <th>4</th>\n",
              "      <td>41</td>\n",
              "      <td>0.097561</td>\n",
              "      <td>0.001922</td>\n",
              "    </tr>\n",
              "    <tr>\n",
              "      <th>5</th>\n",
              "      <td>9</td>\n",
              "      <td>0.000000</td>\n",
              "      <td>0.000422</td>\n",
              "    </tr>\n",
              "  </tbody>\n",
              "</table>\n",
              "</div>"
            ],
            "text/plain": [
              "          clients  debt_mean  clients_part\n",
              "children                                  \n",
              "0           14091   0.075438      0.660588\n",
              "1            4808   0.092346      0.225400\n",
              "2            2052   0.094542      0.096198\n",
              "3             330   0.081818      0.015470\n",
              "4              41   0.097561      0.001922\n",
              "5               9   0.000000      0.000422"
            ]
          },
          "metadata": {}
        }
      ],
      "id": "a1243d01"
    },
    {
      "cell_type": "markdown",
      "source": "**Вывод:**\n**Результаты исследования показывают, что зависимость между количеством детей и возвратом кредита в срок существует.**\n\nКлиенты, у которых 5 детей имеют нулевую задолженность. Однако, таких клиентов около 0,04% от общего числа клиентов, что позволяет не учитывать этот факт в статистике.\n\nТак же можно не учитывать клиентов, у которых 4 детей. Несмотря на то, что у данных клиентов самое большое число задолженностей (9,76%), количество этих клиентов около 0,19% от общего числа клиентов.\n\nРавно как и клиенты с 3 детьми, у которых средний проент задолженности (8,18%), но количество таких клиентов - 1,55%.\n\nИз оставшихся, клиенты, которые имеют меньше всех задолженностей (7,54%) - не имеют детей (их 66,06%), а клиенты, имеющие 1 ребенка (их 22,54%) или 2 детей (их 9,62%) - имеют примерно одинаковое количество задолженностей (9,23% и 9,45% соответственно).\n\n**Из чего можно сделать вывод, самое меньше число задолженностей у клиентов, не имеющих детей, а самое большое количество задолженностей у клиентов с 1 и 2 детьми.**",
      "metadata": {
        "deletable": false,
        "id": "2eb9088e"
      },
      "id": "2eb9088e"
    },
    {
      "cell_type": "markdown",
      "source": "#### 3.2 Есть ли зависимость между семейным положением и возвратом кредита в срок?",
      "metadata": {
        "deletable": false,
        "editable": false,
        "id": "74c9b3a7"
      },
      "id": "74c9b3a7"
    },
    {
      "cell_type": "markdown",
      "source": "Для этого сгруппируем клиентов по семейному положению (столбец 'family_status') и найдем среднее значение показателя задолженности (столбец 'debt'):",
      "metadata": {},
      "id": "14d3297e"
    },
    {
      "cell_type": "code",
      "source": "print(data.groupby('family_status')['debt'].mean())",
      "metadata": {
        "deletable": false,
        "id": "8098ab3b"
      },
      "execution_count": 26,
      "outputs": [
        {
          "name": "stdout",
          "output_type": "stream",
          "text": "family_status\n\nНе женат / не замужем    0.097639\n\nв разводе                0.070648\n\nвдовец / вдова           0.066246\n\nгражданский брак         0.093130\n\nженат / замужем          0.075606\n\nName: debt, dtype: float64\n"
        }
      ],
      "id": "8098ab3b"
    },
    {
      "cell_type": "markdown",
      "source": "На данный момент видна закономерность, что овдовевшие клиенты имеют меньше всех задолженносте, а клиенты, не состоявшие в браке - больше всех задолженностей.\n\nДля полноты картины сравним количество клиентов между собой в количественном и процентном соотношении:",
      "metadata": {},
      "id": "cbb6fbcd"
    },
    {
      "cell_type": "code",
      "source": "#Предыдущий вариант без сводных таблиц.\n#вывод количества клиентов по семейному положению\n#print(data.groupby('family_status')['family_status'].count())\n#вывод долей клиентов по семейному положению\n#print(data.groupby('family_status')['family_status'].count()/data.shape[0])",
      "metadata": {},
      "execution_count": 27,
      "outputs": [],
      "id": "52680fdc"
    },
    {
      "cell_type": "code",
      "source": "#создадим сводную таблицу\ndata_family_status_pivot = data.pivot_table(index='family_status', values='debt', aggfunc=['count', 'mean'])\n#\"переименуем\" столбцы 'count debt' и 'mean debt'\ndata_family_status_pivot.columns = ['clients', 'debt_mean']\n#добавим столбец с долями распределения клиентов по группам\ndata_family_status_pivot['clients_part'] = data_family_status_pivot['clients']/data_family_status_pivot['clients'].sum()\ndata_family_status_pivot",
      "metadata": {},
      "execution_count": 28,
      "outputs": [
        {
          "execution_count": 28,
          "output_type": "execute_result",
          "data": {
            "text/html": [
              "<div>\n",
              "<style scoped>\n",
              "    .dataframe tbody tr th:only-of-type {\n",
              "        vertical-align: middle;\n",
              "    }\n",
              "\n",
              "    .dataframe tbody tr th {\n",
              "        vertical-align: top;\n",
              "    }\n",
              "\n",
              "    .dataframe thead th {\n",
              "        text-align: right;\n",
              "    }\n",
              "</style>\n",
              "<table border=\"1\" class=\"dataframe\">\n",
              "  <thead>\n",
              "    <tr style=\"text-align: right;\">\n",
              "      <th></th>\n",
              "      <th>clients</th>\n",
              "      <th>debt_mean</th>\n",
              "      <th>clients_part</th>\n",
              "    </tr>\n",
              "    <tr>\n",
              "      <th>family_status</th>\n",
              "      <th></th>\n",
              "      <th></th>\n",
              "      <th></th>\n",
              "    </tr>\n",
              "  </thead>\n",
              "  <tbody>\n",
              "    <tr>\n",
              "      <th>Не женат / не замужем</th>\n",
              "      <td>2796</td>\n",
              "      <td>0.097639</td>\n",
              "      <td>0.131077</td>\n",
              "    </tr>\n",
              "    <tr>\n",
              "      <th>в разводе</th>\n",
              "      <td>1189</td>\n",
              "      <td>0.070648</td>\n",
              "      <td>0.055740</td>\n",
              "    </tr>\n",
              "    <tr>\n",
              "      <th>вдовец / вдова</th>\n",
              "      <td>951</td>\n",
              "      <td>0.066246</td>\n",
              "      <td>0.044583</td>\n",
              "    </tr>\n",
              "    <tr>\n",
              "      <th>гражданский брак</th>\n",
              "      <td>4134</td>\n",
              "      <td>0.093130</td>\n",
              "      <td>0.193802</td>\n",
              "    </tr>\n",
              "    <tr>\n",
              "      <th>женат / замужем</th>\n",
              "      <td>12261</td>\n",
              "      <td>0.075606</td>\n",
              "      <td>0.574797</td>\n",
              "    </tr>\n",
              "  </tbody>\n",
              "</table>\n",
              "</div>"
            ],
            "text/plain": [
              "                       clients  debt_mean  clients_part\n",
              "family_status                                          \n",
              "Не женат / не замужем     2796   0.097639      0.131077\n",
              "в разводе                 1189   0.070648      0.055740\n",
              "вдовец / вдова             951   0.066246      0.044583\n",
              "гражданский брак          4134   0.093130      0.193802\n",
              "женат / замужем          12261   0.075606      0.574797"
            ]
          },
          "metadata": {}
        }
      ],
      "id": "ce00f6d6"
    },
    {
      "cell_type": "markdown",
      "source": "Самая малочисленная группа составляют 4,46% от общего числа клиентов. Данная величина не позволяет пренебречь какой либо группой при составлении вывода.",
      "metadata": {},
      "id": "8bf04a28"
    },
    {
      "cell_type": "markdown",
      "source": "**Вывод:** \n**Результаты исследования показывают, что зависимость между семейным положением и возвратом кредита в срок есть.**\n\n**Клиенты с наименьшим процентом случаев задолженностей (6,62%) - овдовевшие.**\n\n**Клиенты со средним процентом случаев задолженностей (7,06% и 7,56%) - это клиенты в разводе и клиенты, находящиеся в браке, соответственно.**\n\n**Клиенты с наибольшим процентом случаев задолженностей (9,31% и 9,76%) - это клиенты, находящиеся в гражданском браке, и клиенты, не состоявшие в браке, соответственно.**\n",
      "metadata": {
        "deletable": false,
        "id": "c389ca63"
      },
      "id": "c389ca63"
    },
    {
      "cell_type": "markdown",
      "source": "#### 3.3 Есть ли зависимость между уровнем дохода и возвратом кредита в срок?",
      "metadata": {
        "deletable": false,
        "editable": false,
        "id": "9529de68"
      },
      "id": "9529de68"
    },
    {
      "cell_type": "markdown",
      "source": "Для этого сгруппируем клиентов по категории доходов клиента (столбец 'total_income_category'), составленного в **задании 16** и найдем среднее значение показателя задолженности (столбец 'debt'):",
      "metadata": {},
      "id": "f986218e"
    },
    {
      "cell_type": "code",
      "source": "print(data.groupby('total_income_category')['debt'].mean())",
      "metadata": {
        "deletable": false,
        "id": "8787f44a"
      },
      "execution_count": 29,
      "outputs": [
        {
          "name": "stdout",
          "output_type": "stream",
          "text": "total_income_category\n\nA    0.080000\n\nB    0.070602\n\nC    0.084982\n\nD    0.060172\n\nE    0.090909\n\nName: debt, dtype: float64\n"
        }
      ],
      "id": "8787f44a"
    },
    {
      "cell_type": "markdown",
      "source": "На данный момент видна закономерность, что клиенты категории E имеют меньше всех задолженносте, а клиенты категории D - больше всех задолженностей.\n\nДля полноты картины сравним количество клиентов между собой в количественном и процентном соотношении:",
      "metadata": {},
      "id": "14241de4"
    },
    {
      "cell_type": "code",
      "source": "#Предыдущий вариант без сводных таблиц.\n#вывод количества клиентов по категории доходов\n#print(data.groupby('total_income_category')['total_income_category'].count())\n#вывод долей клиентов по категории доходов\n#print(data.groupby('total_income_category')['total_income_category'].count()/data.shape[0])",
      "metadata": {},
      "execution_count": 30,
      "outputs": [],
      "id": "8a420e4c"
    },
    {
      "cell_type": "code",
      "source": "#создадим сводную таблицу\ndata_total_income_category_pivot = data.pivot_table(index='total_income_category', values='debt', aggfunc=['count', 'mean'])\n#\"переименуем\" столбцы 'count debt' и 'mean debt'\ndata_total_income_category_pivot.columns = ['clients', 'debt_mean']\n#добавим столбец с долями распределения клиентов по группам\ndata_total_income_category_pivot['clients_part'] = data_total_income_category_pivot['clients']/data_total_income_category_pivot['clients'].sum()\ndata_total_income_category_pivot",
      "metadata": {},
      "execution_count": 31,
      "outputs": [
        {
          "execution_count": 31,
          "output_type": "execute_result",
          "data": {
            "text/html": [
              "<div>\n",
              "<style scoped>\n",
              "    .dataframe tbody tr th:only-of-type {\n",
              "        vertical-align: middle;\n",
              "    }\n",
              "\n",
              "    .dataframe tbody tr th {\n",
              "        vertical-align: top;\n",
              "    }\n",
              "\n",
              "    .dataframe thead th {\n",
              "        text-align: right;\n",
              "    }\n",
              "</style>\n",
              "<table border=\"1\" class=\"dataframe\">\n",
              "  <thead>\n",
              "    <tr style=\"text-align: right;\">\n",
              "      <th></th>\n",
              "      <th>clients</th>\n",
              "      <th>debt_mean</th>\n",
              "      <th>clients_part</th>\n",
              "    </tr>\n",
              "    <tr>\n",
              "      <th>total_income_category</th>\n",
              "      <th></th>\n",
              "      <th></th>\n",
              "      <th></th>\n",
              "    </tr>\n",
              "  </thead>\n",
              "  <tbody>\n",
              "    <tr>\n",
              "      <th>A</th>\n",
              "      <td>25</td>\n",
              "      <td>0.080000</td>\n",
              "      <td>0.001172</td>\n",
              "    </tr>\n",
              "    <tr>\n",
              "      <th>B</th>\n",
              "      <td>5014</td>\n",
              "      <td>0.070602</td>\n",
              "      <td>0.235057</td>\n",
              "    </tr>\n",
              "    <tr>\n",
              "      <th>C</th>\n",
              "      <td>15921</td>\n",
              "      <td>0.084982</td>\n",
              "      <td>0.746379</td>\n",
              "    </tr>\n",
              "    <tr>\n",
              "      <th>D</th>\n",
              "      <td>349</td>\n",
              "      <td>0.060172</td>\n",
              "      <td>0.016361</td>\n",
              "    </tr>\n",
              "    <tr>\n",
              "      <th>E</th>\n",
              "      <td>22</td>\n",
              "      <td>0.090909</td>\n",
              "      <td>0.001031</td>\n",
              "    </tr>\n",
              "  </tbody>\n",
              "</table>\n",
              "</div>"
            ],
            "text/plain": [
              "                       clients  debt_mean  clients_part\n",
              "total_income_category                                  \n",
              "A                           25   0.080000      0.001172\n",
              "B                         5014   0.070602      0.235057\n",
              "C                        15921   0.084982      0.746379\n",
              "D                          349   0.060172      0.016361\n",
              "E                           22   0.090909      0.001031"
            ]
          },
          "metadata": {}
        }
      ],
      "id": "668aa09a"
    },
    {
      "cell_type": "markdown",
      "source": "Клиенты категорий A, D, E совокупно составляют менее 2% от общего числа всех клиентов и, соответственно, могут не учитываться в  выводе.",
      "metadata": {},
      "id": "52a4187e"
    },
    {
      "cell_type": "markdown",
      "source": "**Вывод:** \n**Зависимость между уровнем дохода и возвратом кредита в срок существует.**\n\n**Среди клиентов категории B (с ежемесячный доходом от 200001 до 1000000) - самое меньшее количество задолженных кредитов (7,06%).**\n\n**Среди клиенты категории С (с ежемесячный доходом от 50001 до 200000) - самое большее количество задолженных кредитов (8,50%).**\n\n**Клиентов остальных категорий слишком мало для составления достоверной статистики.**",
      "metadata": {
        "deletable": false,
        "id": "6dd14b57"
      },
      "id": "6dd14b57"
    },
    {
      "cell_type": "markdown",
      "source": "#### 3.4 Как разные цели кредита влияют на его возврат в срок?",
      "metadata": {
        "deletable": false,
        "editable": false,
        "id": "1dcc9b12"
      },
      "id": "1dcc9b12"
    },
    {
      "cell_type": "markdown",
      "source": "Для этого сгруппируем клиентов по категории целей (столбец 'purpose_category'), составленного в задании 18 и найдем среднее значение показателя задолженности (столбец 'debt'):",
      "metadata": {},
      "id": "82c0192d"
    },
    {
      "cell_type": "code",
      "source": "print(data.groupby('purpose_category')['debt'].mean())",
      "metadata": {
        "deletable": false,
        "id": "c602bc8b"
      },
      "execution_count": 32,
      "outputs": [
        {
          "name": "stdout",
          "output_type": "stream",
          "text": "purpose_category\n\nоперации с автомобилем      0.093480\n\nоперации с недвижимостью    0.072551\n\nполучение образования       0.092528\n\nпроведение свадьбы          0.079118\n\nName: debt, dtype: float64\n"
        }
      ],
      "id": "c602bc8b"
    },
    {
      "cell_type": "markdown",
      "source": "Можно заметить, что клиенты, берущие кредиты на операции с едвижимостью и проведение свадьбы, имеют меньше случаев задолженности, чем клиенты, берущие кредиты на получение образования и операции с автомобилем.\n\nДля полноты картины сравним количество клиентов между собой в количественном и процентном соотношении:",
      "metadata": {},
      "id": "dece6f98"
    },
    {
      "cell_type": "code",
      "source": "#Предыдущий вариант без сводных таблиц.\n#вывод количества клиентов по категории целей\n#print(data.groupby('purpose_category')['purpose_category'].count())\n#вывод долей клиентов по категории целей\n#print(data.groupby('purpose_category')['purpose_category'].count()/data.shape[0])",
      "metadata": {
        "scrolled": true
      },
      "execution_count": 33,
      "outputs": [],
      "id": "56e87334"
    },
    {
      "cell_type": "code",
      "source": "#создадим сводную таблицу\ndata_purpose_category_pivot = data.pivot_table(index='purpose_category', values='debt', aggfunc=['count', 'mean'])\n#\"переименуем\" столбцы 'count debt' и 'mean debt'\ndata_purpose_category_pivot.columns = ['clients', 'debt_mean']\n#добавим столбец с долями распределения клиентов по группам\ndata_purpose_category_pivot['clients_part'] = data_purpose_category_pivot['clients']/data_purpose_category_pivot['clients'].sum()\ndata_purpose_category_pivot",
      "metadata": {},
      "execution_count": 34,
      "outputs": [
        {
          "execution_count": 34,
          "output_type": "execute_result",
          "data": {
            "text/html": [
              "<div>\n",
              "<style scoped>\n",
              "    .dataframe tbody tr th:only-of-type {\n",
              "        vertical-align: middle;\n",
              "    }\n",
              "\n",
              "    .dataframe tbody tr th {\n",
              "        vertical-align: top;\n",
              "    }\n",
              "\n",
              "    .dataframe thead th {\n",
              "        text-align: right;\n",
              "    }\n",
              "</style>\n",
              "<table border=\"1\" class=\"dataframe\">\n",
              "  <thead>\n",
              "    <tr style=\"text-align: right;\">\n",
              "      <th></th>\n",
              "      <th>clients</th>\n",
              "      <th>debt_mean</th>\n",
              "      <th>clients_part</th>\n",
              "    </tr>\n",
              "    <tr>\n",
              "      <th>purpose_category</th>\n",
              "      <th></th>\n",
              "      <th></th>\n",
              "      <th></th>\n",
              "    </tr>\n",
              "  </thead>\n",
              "  <tbody>\n",
              "    <tr>\n",
              "      <th>операции с автомобилем</th>\n",
              "      <td>4279</td>\n",
              "      <td>0.093480</td>\n",
              "      <td>0.200600</td>\n",
              "    </tr>\n",
              "    <tr>\n",
              "      <th>операции с недвижимостью</th>\n",
              "      <td>10751</td>\n",
              "      <td>0.072551</td>\n",
              "      <td>0.504008</td>\n",
              "    </tr>\n",
              "    <tr>\n",
              "      <th>получение образования</th>\n",
              "      <td>3988</td>\n",
              "      <td>0.092528</td>\n",
              "      <td>0.186958</td>\n",
              "    </tr>\n",
              "    <tr>\n",
              "      <th>проведение свадьбы</th>\n",
              "      <td>2313</td>\n",
              "      <td>0.079118</td>\n",
              "      <td>0.108434</td>\n",
              "    </tr>\n",
              "  </tbody>\n",
              "</table>\n",
              "</div>"
            ],
            "text/plain": [
              "                          clients  debt_mean  clients_part\n",
              "purpose_category                                          \n",
              "операции с автомобилем       4279   0.093480      0.200600\n",
              "операции с недвижимостью    10751   0.072551      0.504008\n",
              "получение образования        3988   0.092528      0.186958\n",
              "проведение свадьбы           2313   0.079118      0.108434"
            ]
          },
          "metadata": {}
        }
      ],
      "id": "5437e792"
    },
    {
      "cell_type": "markdown",
      "source": "Самая малочисленная группа составляют 10,84% от общего числа клиентов. Данная величина не позволяет пренебречь какой либо группой при составлении вывода.",
      "metadata": {},
      "id": "89bdb7c5"
    },
    {
      "cell_type": "markdown",
      "source": "**Вывод:** \n\n**Разные цели кредита влияют на его возврат в срок следующим образом.**\n\n**Клиенты, берущие кредиты на операции с недвижимостью и проведение свадьбы, имеют меньше случаев задолженности (7,26% и 7,91% соответственно), чем клиенты, берущие кредиты на получение образования и операции с автомобилем (9,25% и 9,35%) соответственно.**",
      "metadata": {
        "deletable": false,
        "id": "cf05ed63"
      },
      "id": "cf05ed63"
    },
    {
      "cell_type": "markdown",
      "source": "#### 3.5 Приведите возможные причины появления пропусков в исходных данных.",
      "metadata": {
        "deletable": false,
        "editable": false,
        "id": "46c1f10b"
      },
      "id": "46c1f10b"
    },
    {
      "cell_type": "markdown",
      "source": "Основными причинами появления пропусков в исходных данных являются:\nТехнические причины - вызванные, например, ошибками в чтении файла, ограничением прав на чтение файлов, сбое в базе данных, ошибками при сохранении данных в базу данных и при последующем чтении, и т.д.\nЧеловеческий фактор - вызванный несовершенством людей, например, сокрытие информации, перепутанные между собой ячейки, куда заполнялись данные.",
      "metadata": {
        "deletable": false,
        "id": "3697d2a9"
      },
      "id": "3697d2a9"
    },
    {
      "cell_type": "markdown",
      "source": "#### 3.6 Объясните, почему заполнить пропуски медианным значением — лучшее решение для количественных переменных.",
      "metadata": {
        "deletable": false,
        "editable": false,
        "id": "3137d257"
      },
      "id": "3137d257"
    },
    {
      "cell_type": "markdown",
      "source": "*Ответ:*\n\nДля количественных переменных пропуски лучше заполнять медианными значениями, так как медианные значения по сравнению со средними устойчивы к аномальным значениям, которые при сортировке остаются \"скраю выборки\".",
      "metadata": {
        "deletable": false,
        "id": "cf40012a"
      },
      "id": "cf40012a"
    },
    {
      "cell_type": "markdown",
      "source": "### Шаг 4: общий вывод.",
      "metadata": {
        "deletable": false,
        "editable": false,
        "id": "57bc304e"
      },
      "id": "57bc304e"
    },
    {
      "cell_type": "markdown",
      "source": "Для проведения исследования и ответа на поставленные вопросы был получен файл с данными. \nФайл содержал следующие данные:\n- children — количество детей в семье\n- days_employed — общий трудовой стаж в днях\n- dob_years — возраст клиента в годах\n- education — уровень образования клиента\n- education_id — идентификатор уровня образования\n- family_status — семейное положение\n- family_status_id — идентификатор семейного положения\n- gender — пол клиента\n- income_type — тип занятости\n- debt — имел ли задолженность по возврату кредитов\n- total_income — ежемесячный доход\n- purpose — цель получения кредита\n\nПри исследовании файла были обнаружены и обработаны пропущенные, аномальные и дублирующиеся данные. Для удобства исследования были добавлены следующие категории:\n- total_income_category – категория ежемесячного дохода\n- purpose_category – категория цели кредита\n\nПосле чего данные были исследованы, составлены сводные таблицы и получены ответы на поставленные вопросы.<br>\n\n**Основные выводы выполненной работы:**\n1. Самое меньше число задолженностей у клиентов, не имеющих детей, а самое большое количество задолженностей у клиентов с 1 и 2 детьми.<br>\n2. Клиенты с наименьшим процентом случаев задолженностей - овдовевшие. Клиенты с наибольшим процентом случаев задолженностей - это клиенты, находящиеся в гражданском браке, и клиенты, не состоявшие в браке.<br>\n3. Среди клиентов категории B (с ежемесячный доходом от 200001 до 1000000) - самое меньшее количество задолженных кредитов. Среди клиенты категории С (с ежемесячный доходом от 50001 до 200000) - самое большее количество задолженных кредитов.<br>\n4. Клиенты, берущие кредиты на операции с недвижимостью и проведение свадьбы, имеют меньше случаев задолженности, чем клиенты, берущие кредиты на получение образования и операции с автомобилем.<br>\n5. Возможными причинами появления пропусков в исходных данных являются: сокрытие информации, ограничение прав доступа, ошибки при записи, сохранении, хранении и чтении данных.\n6. Пропуски количественных переменных лучше заполнять медианными значениями, так как медианные значения устойчивы к аномальным значениям",
      "metadata": {
        "deletable": false,
        "id": "1ab75d1c"
      },
      "id": "1ab75d1c"
    }
  ]
}