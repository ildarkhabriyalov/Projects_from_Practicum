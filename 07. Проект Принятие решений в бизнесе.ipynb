{
  "metadata": {
    "ExecuteTimeLog": [
      {
        "duration": 530,
        "start_time": "2023-07-03T06:19:06.212Z"
      },
      {
        "duration": 96,
        "start_time": "2023-07-03T06:19:51.899Z"
      },
      {
        "duration": 120,
        "start_time": "2023-07-03T11:44:02.775Z"
      },
      {
        "duration": 21,
        "start_time": "2023-07-03T11:44:09.212Z"
      },
      {
        "duration": 2303,
        "start_time": "2023-07-03T11:50:54.522Z"
      },
      {
        "duration": 45,
        "start_time": "2023-07-03T11:51:16.921Z"
      },
      {
        "duration": 642,
        "start_time": "2023-07-03T11:52:58.285Z"
      },
      {
        "duration": 266,
        "start_time": "2023-07-03T11:52:58.930Z"
      },
      {
        "duration": 0,
        "start_time": "2023-07-03T11:52:59.199Z"
      },
      {
        "duration": 54,
        "start_time": "2023-07-03T11:57:26.623Z"
      },
      {
        "duration": 24,
        "start_time": "2023-07-03T11:59:25.992Z"
      },
      {
        "duration": 3,
        "start_time": "2023-07-03T12:38:34.043Z"
      },
      {
        "duration": 454,
        "start_time": "2023-07-03T12:38:41.538Z"
      },
      {
        "duration": 87,
        "start_time": "2023-07-03T12:38:42.003Z"
      },
      {
        "duration": 21,
        "start_time": "2023-07-03T12:38:42.093Z"
      },
      {
        "duration": 1489,
        "start_time": "2023-07-03T12:38:42.116Z"
      },
      {
        "duration": 1495,
        "start_time": "2023-07-03T12:43:04.149Z"
      },
      {
        "duration": 7,
        "start_time": "2023-07-03T12:43:18.887Z"
      },
      {
        "duration": 14,
        "start_time": "2023-07-03T12:43:41.001Z"
      },
      {
        "duration": 9,
        "start_time": "2023-07-03T12:46:30.637Z"
      },
      {
        "duration": 4,
        "start_time": "2023-07-03T13:24:22.054Z"
      },
      {
        "duration": 154,
        "start_time": "2023-07-03T13:34:26.148Z"
      },
      {
        "duration": 9,
        "start_time": "2023-07-03T13:45:56.716Z"
      },
      {
        "duration": 8,
        "start_time": "2023-07-03T13:47:19.811Z"
      },
      {
        "duration": 13,
        "start_time": "2023-07-03T13:47:28.998Z"
      },
      {
        "duration": 546,
        "start_time": "2023-07-03T13:48:05.992Z"
      },
      {
        "duration": 3,
        "start_time": "2023-07-03T13:48:31.003Z"
      },
      {
        "duration": 29,
        "start_time": "2023-07-03T13:48:34.923Z"
      },
      {
        "duration": 7,
        "start_time": "2023-07-03T13:56:33.290Z"
      },
      {
        "duration": 488,
        "start_time": "2023-07-04T05:39:03.968Z"
      },
      {
        "duration": 71,
        "start_time": "2023-07-04T05:39:04.458Z"
      },
      {
        "duration": 14,
        "start_time": "2023-07-04T05:39:04.531Z"
      },
      {
        "duration": 22,
        "start_time": "2023-07-04T05:39:04.547Z"
      },
      {
        "duration": 11,
        "start_time": "2023-07-04T05:39:04.571Z"
      },
      {
        "duration": 21,
        "start_time": "2023-07-04T05:39:04.584Z"
      },
      {
        "duration": 159,
        "start_time": "2023-07-04T05:39:04.607Z"
      },
      {
        "duration": 13,
        "start_time": "2023-07-04T05:39:04.768Z"
      },
      {
        "duration": 31,
        "start_time": "2023-07-04T05:39:04.783Z"
      },
      {
        "duration": 11,
        "start_time": "2023-07-04T05:39:04.816Z"
      },
      {
        "duration": 89,
        "start_time": "2023-07-04T05:39:04.854Z"
      },
      {
        "duration": 2,
        "start_time": "2023-07-04T05:39:36.697Z"
      },
      {
        "duration": 29,
        "start_time": "2023-07-04T05:39:41.471Z"
      },
      {
        "duration": 297,
        "start_time": "2023-07-04T05:41:42.829Z"
      },
      {
        "duration": 457,
        "start_time": "2023-07-04T05:42:54.416Z"
      },
      {
        "duration": 292,
        "start_time": "2023-07-04T05:44:10.524Z"
      },
      {
        "duration": 261,
        "start_time": "2023-07-04T05:45:49.436Z"
      },
      {
        "duration": 338,
        "start_time": "2023-07-04T05:47:02.741Z"
      },
      {
        "duration": 313,
        "start_time": "2023-07-04T05:48:15.636Z"
      },
      {
        "duration": 292,
        "start_time": "2023-07-04T05:49:12.563Z"
      },
      {
        "duration": 322,
        "start_time": "2023-07-04T05:49:58.811Z"
      },
      {
        "duration": 225,
        "start_time": "2023-07-04T05:50:19.655Z"
      },
      {
        "duration": 227,
        "start_time": "2023-07-04T05:50:31.231Z"
      },
      {
        "duration": 372,
        "start_time": "2023-07-04T05:50:56.627Z"
      },
      {
        "duration": 300,
        "start_time": "2023-07-04T05:51:10.920Z"
      },
      {
        "duration": 263,
        "start_time": "2023-07-04T05:51:23.376Z"
      },
      {
        "duration": 264,
        "start_time": "2023-07-04T05:51:49.854Z"
      },
      {
        "duration": 247,
        "start_time": "2023-07-04T12:08:59.304Z"
      },
      {
        "duration": 383,
        "start_time": "2023-07-04T12:09:35.350Z"
      },
      {
        "duration": 355,
        "start_time": "2023-07-04T12:10:02.490Z"
      },
      {
        "duration": 324,
        "start_time": "2023-07-04T12:10:25.144Z"
      },
      {
        "duration": 414,
        "start_time": "2023-07-04T12:22:20.514Z"
      },
      {
        "duration": 340,
        "start_time": "2023-07-04T12:23:25.804Z"
      },
      {
        "duration": 405,
        "start_time": "2023-07-04T12:26:53.509Z"
      },
      {
        "duration": 417,
        "start_time": "2023-07-04T12:27:21.611Z"
      },
      {
        "duration": 19,
        "start_time": "2023-07-04T12:49:07.853Z"
      },
      {
        "duration": 4,
        "start_time": "2023-07-04T12:49:24.710Z"
      },
      {
        "duration": 288,
        "start_time": "2023-07-04T12:49:59.320Z"
      },
      {
        "duration": 244,
        "start_time": "2023-07-04T12:50:44.308Z"
      },
      {
        "duration": 215,
        "start_time": "2023-07-04T12:50:50.823Z"
      },
      {
        "duration": 306,
        "start_time": "2023-07-04T12:55:58.112Z"
      },
      {
        "duration": 8,
        "start_time": "2023-07-04T12:58:44.418Z"
      },
      {
        "duration": 299,
        "start_time": "2023-07-04T12:59:08.084Z"
      },
      {
        "duration": 340,
        "start_time": "2023-07-04T13:03:10.607Z"
      },
      {
        "duration": 225,
        "start_time": "2023-07-04T13:03:25.496Z"
      },
      {
        "duration": 229,
        "start_time": "2023-07-04T13:03:34.981Z"
      },
      {
        "duration": 273,
        "start_time": "2023-07-04T13:03:51.819Z"
      },
      {
        "duration": 271,
        "start_time": "2023-07-04T13:05:17.234Z"
      },
      {
        "duration": 306,
        "start_time": "2023-07-04T13:05:32.726Z"
      },
      {
        "duration": 315,
        "start_time": "2023-07-04T13:05:56.357Z"
      },
      {
        "duration": 384,
        "start_time": "2023-07-04T13:17:27.617Z"
      },
      {
        "duration": 369,
        "start_time": "2023-07-04T13:17:47.221Z"
      },
      {
        "duration": 358,
        "start_time": "2023-07-04T13:18:56.473Z"
      },
      {
        "duration": 324,
        "start_time": "2023-07-04T13:19:40.214Z"
      },
      {
        "duration": 426,
        "start_time": "2023-07-04T13:24:12.228Z"
      },
      {
        "duration": 585,
        "start_time": "2023-07-04T13:24:35.731Z"
      },
      {
        "duration": 574,
        "start_time": "2023-07-04T13:28:12.215Z"
      },
      {
        "duration": 16,
        "start_time": "2023-07-04T13:38:05.795Z"
      },
      {
        "duration": 147,
        "start_time": "2023-07-04T13:40:05.484Z"
      },
      {
        "duration": 154,
        "start_time": "2023-07-04T13:45:56.340Z"
      },
      {
        "duration": 217,
        "start_time": "2023-07-04T13:46:33.104Z"
      },
      {
        "duration": 176,
        "start_time": "2023-07-04T13:47:15.223Z"
      },
      {
        "duration": 172,
        "start_time": "2023-07-04T13:49:13.225Z"
      },
      {
        "duration": 15,
        "start_time": "2023-07-04T13:49:30.378Z"
      },
      {
        "duration": 22,
        "start_time": "2023-07-04T13:51:20.746Z"
      },
      {
        "duration": 19,
        "start_time": "2023-07-04T13:52:37.070Z"
      },
      {
        "duration": 14,
        "start_time": "2023-07-04T13:53:02.909Z"
      },
      {
        "duration": 15,
        "start_time": "2023-07-04T13:53:16.326Z"
      },
      {
        "duration": 177,
        "start_time": "2023-07-04T13:53:33.032Z"
      },
      {
        "duration": 385,
        "start_time": "2023-07-05T05:35:09.219Z"
      },
      {
        "duration": 80,
        "start_time": "2023-07-05T05:35:09.606Z"
      },
      {
        "duration": 15,
        "start_time": "2023-07-05T05:35:09.687Z"
      },
      {
        "duration": 12,
        "start_time": "2023-07-05T05:35:09.705Z"
      },
      {
        "duration": 10,
        "start_time": "2023-07-05T05:35:09.719Z"
      },
      {
        "duration": 463,
        "start_time": "2023-07-05T05:35:09.731Z"
      },
      {
        "duration": 143,
        "start_time": "2023-07-05T05:35:10.196Z"
      },
      {
        "duration": 13,
        "start_time": "2023-07-05T05:35:10.340Z"
      },
      {
        "duration": 32,
        "start_time": "2023-07-05T05:35:10.355Z"
      },
      {
        "duration": 7,
        "start_time": "2023-07-05T05:35:10.390Z"
      },
      {
        "duration": 325,
        "start_time": "2023-07-05T05:35:10.399Z"
      },
      {
        "duration": 371,
        "start_time": "2023-07-05T05:35:10.726Z"
      },
      {
        "duration": 246,
        "start_time": "2023-07-05T05:35:11.099Z"
      },
      {
        "duration": 438,
        "start_time": "2023-07-05T05:35:11.347Z"
      },
      {
        "duration": 252,
        "start_time": "2023-07-05T05:35:11.787Z"
      },
      {
        "duration": 375,
        "start_time": "2023-07-05T05:35:12.041Z"
      },
      {
        "duration": 185,
        "start_time": "2023-07-05T05:35:12.418Z"
      },
      {
        "duration": 5,
        "start_time": "2023-07-05T05:35:12.606Z"
      },
      {
        "duration": 153,
        "start_time": "2023-07-05T05:50:45.766Z"
      },
      {
        "duration": 179,
        "start_time": "2023-07-05T05:52:28.298Z"
      },
      {
        "duration": 193,
        "start_time": "2023-07-05T05:52:35.509Z"
      },
      {
        "duration": 6,
        "start_time": "2023-07-05T06:41:09.059Z"
      },
      {
        "duration": 92,
        "start_time": "2023-07-05T06:57:56.312Z"
      },
      {
        "duration": 12,
        "start_time": "2023-07-05T06:58:19.259Z"
      },
      {
        "duration": 175,
        "start_time": "2023-07-05T06:59:12.516Z"
      },
      {
        "duration": 1507,
        "start_time": "2023-07-05T07:53:06.067Z"
      },
      {
        "duration": 127,
        "start_time": "2023-07-05T08:06:37.882Z"
      },
      {
        "duration": 10,
        "start_time": "2023-07-05T08:06:52.202Z"
      },
      {
        "duration": 12,
        "start_time": "2023-07-05T08:06:52.328Z"
      },
      {
        "duration": 11,
        "start_time": "2023-07-05T08:06:59.673Z"
      },
      {
        "duration": 11,
        "start_time": "2023-07-05T08:08:32.052Z"
      },
      {
        "duration": 19,
        "start_time": "2023-07-05T08:08:42.446Z"
      },
      {
        "duration": 9,
        "start_time": "2023-07-05T08:09:04.619Z"
      },
      {
        "duration": 9,
        "start_time": "2023-07-05T08:15:26.397Z"
      },
      {
        "duration": 530,
        "start_time": "2023-07-05T08:16:07.754Z"
      },
      {
        "duration": 24,
        "start_time": "2023-07-05T08:16:12.122Z"
      },
      {
        "duration": 23,
        "start_time": "2023-07-05T08:16:38.003Z"
      },
      {
        "duration": 23,
        "start_time": "2023-07-05T08:17:33.074Z"
      },
      {
        "duration": 139,
        "start_time": "2023-07-05T08:35:50.496Z"
      },
      {
        "duration": 21,
        "start_time": "2023-07-05T08:39:31.384Z"
      },
      {
        "duration": 112,
        "start_time": "2023-07-05T08:40:55.293Z"
      },
      {
        "duration": 238,
        "start_time": "2023-07-05T08:41:47.346Z"
      },
      {
        "duration": 17,
        "start_time": "2023-07-05T08:43:37.083Z"
      },
      {
        "duration": 156,
        "start_time": "2023-07-05T08:44:30.863Z"
      },
      {
        "duration": 8,
        "start_time": "2023-07-05T08:44:49.240Z"
      },
      {
        "duration": 7,
        "start_time": "2023-07-05T08:45:25.497Z"
      },
      {
        "duration": 24,
        "start_time": "2023-07-05T08:45:29.914Z"
      },
      {
        "duration": 458,
        "start_time": "2023-07-05T08:52:00.745Z"
      },
      {
        "duration": 37,
        "start_time": "2023-07-05T08:52:01.205Z"
      },
      {
        "duration": 17,
        "start_time": "2023-07-05T08:52:01.244Z"
      },
      {
        "duration": 36,
        "start_time": "2023-07-05T08:52:01.263Z"
      },
      {
        "duration": 23,
        "start_time": "2023-07-05T08:52:01.302Z"
      },
      {
        "duration": 1076,
        "start_time": "2023-07-05T08:52:01.327Z"
      },
      {
        "duration": 78,
        "start_time": "2023-07-05T08:52:02.406Z"
      },
      {
        "duration": 22,
        "start_time": "2023-07-05T08:52:02.487Z"
      },
      {
        "duration": 70,
        "start_time": "2023-07-05T08:52:02.511Z"
      },
      {
        "duration": 48,
        "start_time": "2023-07-05T08:52:02.583Z"
      },
      {
        "duration": 381,
        "start_time": "2023-07-05T08:52:02.633Z"
      },
      {
        "duration": 401,
        "start_time": "2023-07-05T08:52:03.016Z"
      },
      {
        "duration": 252,
        "start_time": "2023-07-05T08:52:03.420Z"
      },
      {
        "duration": 389,
        "start_time": "2023-07-05T08:52:03.675Z"
      },
      {
        "duration": 284,
        "start_time": "2023-07-05T08:52:04.067Z"
      },
      {
        "duration": 359,
        "start_time": "2023-07-05T08:52:04.353Z"
      },
      {
        "duration": 205,
        "start_time": "2023-07-05T08:52:04.714Z"
      },
      {
        "duration": 4,
        "start_time": "2023-07-05T08:52:04.922Z"
      },
      {
        "duration": 229,
        "start_time": "2023-07-05T08:52:04.928Z"
      },
      {
        "duration": 9,
        "start_time": "2023-07-05T08:52:05.160Z"
      },
      {
        "duration": 252,
        "start_time": "2023-07-05T08:52:05.172Z"
      },
      {
        "duration": 214,
        "start_time": "2023-07-05T08:52:05.426Z"
      },
      {
        "duration": 25,
        "start_time": "2023-07-05T08:52:05.642Z"
      },
      {
        "duration": 37,
        "start_time": "2023-07-05T08:52:05.670Z"
      },
      {
        "duration": 412,
        "start_time": "2023-07-05T08:52:48.714Z"
      },
      {
        "duration": 36,
        "start_time": "2023-07-05T08:52:49.129Z"
      },
      {
        "duration": 15,
        "start_time": "2023-07-05T08:52:49.167Z"
      },
      {
        "duration": 13,
        "start_time": "2023-07-05T08:52:49.184Z"
      },
      {
        "duration": 9,
        "start_time": "2023-07-05T08:52:49.198Z"
      },
      {
        "duration": 849,
        "start_time": "2023-07-05T08:52:49.209Z"
      },
      {
        "duration": 65,
        "start_time": "2023-07-05T08:52:50.061Z"
      },
      {
        "duration": 24,
        "start_time": "2023-07-05T08:52:50.128Z"
      },
      {
        "duration": 40,
        "start_time": "2023-07-05T08:52:50.154Z"
      },
      {
        "duration": 13,
        "start_time": "2023-07-05T08:52:50.197Z"
      },
      {
        "duration": 326,
        "start_time": "2023-07-05T08:52:50.211Z"
      },
      {
        "duration": 346,
        "start_time": "2023-07-05T08:52:50.539Z"
      },
      {
        "duration": 254,
        "start_time": "2023-07-05T08:52:50.887Z"
      },
      {
        "duration": 371,
        "start_time": "2023-07-05T08:52:51.143Z"
      },
      {
        "duration": 239,
        "start_time": "2023-07-05T08:52:51.516Z"
      },
      {
        "duration": 354,
        "start_time": "2023-07-05T08:52:51.757Z"
      },
      {
        "duration": 200,
        "start_time": "2023-07-05T08:52:52.113Z"
      },
      {
        "duration": 5,
        "start_time": "2023-07-05T08:52:52.316Z"
      },
      {
        "duration": 202,
        "start_time": "2023-07-05T08:52:52.323Z"
      },
      {
        "duration": 5,
        "start_time": "2023-07-05T08:52:52.527Z"
      },
      {
        "duration": 261,
        "start_time": "2023-07-05T08:52:52.534Z"
      },
      {
        "duration": 178,
        "start_time": "2023-07-05T08:52:52.796Z"
      },
      {
        "duration": 7,
        "start_time": "2023-07-05T08:52:52.976Z"
      },
      {
        "duration": 31,
        "start_time": "2023-07-05T08:52:52.985Z"
      },
      {
        "duration": 12,
        "start_time": "2023-07-05T13:10:26.405Z"
      },
      {
        "duration": 10,
        "start_time": "2023-07-05T13:53:06.567Z"
      },
      {
        "duration": 10,
        "start_time": "2023-07-05T13:53:16.204Z"
      },
      {
        "duration": 10,
        "start_time": "2023-07-05T13:53:22.613Z"
      },
      {
        "duration": 10,
        "start_time": "2023-07-05T13:56:35.177Z"
      },
      {
        "duration": 10,
        "start_time": "2023-07-05T13:58:26.638Z"
      },
      {
        "duration": 376,
        "start_time": "2023-07-06T06:33:30.661Z"
      },
      {
        "duration": 85,
        "start_time": "2023-07-06T06:33:31.039Z"
      },
      {
        "duration": 21,
        "start_time": "2023-07-06T06:33:31.126Z"
      },
      {
        "duration": 34,
        "start_time": "2023-07-06T06:33:31.149Z"
      },
      {
        "duration": 33,
        "start_time": "2023-07-06T06:33:31.184Z"
      },
      {
        "duration": 879,
        "start_time": "2023-07-06T06:33:31.219Z"
      },
      {
        "duration": 230,
        "start_time": "2023-07-06T06:33:32.100Z"
      },
      {
        "duration": 22,
        "start_time": "2023-07-06T06:33:32.332Z"
      },
      {
        "duration": 33,
        "start_time": "2023-07-06T06:33:32.355Z"
      },
      {
        "duration": 28,
        "start_time": "2023-07-06T06:33:32.391Z"
      },
      {
        "duration": 273,
        "start_time": "2023-07-06T06:33:32.421Z"
      },
      {
        "duration": 300,
        "start_time": "2023-07-06T06:33:32.696Z"
      },
      {
        "duration": 218,
        "start_time": "2023-07-06T06:33:32.998Z"
      },
      {
        "duration": 377,
        "start_time": "2023-07-06T06:33:33.217Z"
      },
      {
        "duration": 217,
        "start_time": "2023-07-06T06:33:33.596Z"
      },
      {
        "duration": 357,
        "start_time": "2023-07-06T06:33:33.814Z"
      },
      {
        "duration": 165,
        "start_time": "2023-07-06T06:33:34.172Z"
      },
      {
        "duration": 10,
        "start_time": "2023-07-06T06:33:34.342Z"
      },
      {
        "duration": 157,
        "start_time": "2023-07-06T06:33:34.354Z"
      },
      {
        "duration": 5,
        "start_time": "2023-07-06T06:33:34.513Z"
      },
      {
        "duration": 354,
        "start_time": "2023-07-06T06:33:34.520Z"
      },
      {
        "duration": 129,
        "start_time": "2023-07-06T06:33:34.876Z"
      },
      {
        "duration": 6,
        "start_time": "2023-07-06T06:33:35.007Z"
      },
      {
        "duration": 50,
        "start_time": "2023-07-06T06:33:35.015Z"
      },
      {
        "duration": 10,
        "start_time": "2023-07-06T06:33:35.067Z"
      },
      {
        "duration": 18,
        "start_time": "2023-07-06T06:33:35.079Z"
      },
      {
        "duration": 1557,
        "start_time": "2023-07-06T06:40:27.952Z"
      },
      {
        "duration": 16,
        "start_time": "2023-07-06T06:40:39.679Z"
      },
      {
        "duration": 10,
        "start_time": "2023-07-06T06:41:18.759Z"
      },
      {
        "duration": 11,
        "start_time": "2023-07-06T06:41:36.654Z"
      },
      {
        "duration": 4,
        "start_time": "2023-07-06T06:42:31.594Z"
      },
      {
        "duration": 8,
        "start_time": "2023-07-06T06:53:42.523Z"
      },
      {
        "duration": 22,
        "start_time": "2023-07-06T06:56:07.390Z"
      },
      {
        "duration": 1564,
        "start_time": "2023-07-06T11:04:22.661Z"
      },
      {
        "duration": 19,
        "start_time": "2023-07-06T11:04:54.954Z"
      },
      {
        "duration": 1896,
        "start_time": "2023-07-06T11:22:06.699Z"
      },
      {
        "duration": 413,
        "start_time": "2023-07-06T11:22:34.464Z"
      },
      {
        "duration": 44,
        "start_time": "2023-07-06T11:22:34.880Z"
      },
      {
        "duration": 23,
        "start_time": "2023-07-06T11:22:34.926Z"
      },
      {
        "duration": 38,
        "start_time": "2023-07-06T11:22:34.951Z"
      },
      {
        "duration": 8,
        "start_time": "2023-07-06T11:22:34.991Z"
      },
      {
        "duration": 6,
        "start_time": "2023-07-06T11:22:35.001Z"
      },
      {
        "duration": 767,
        "start_time": "2023-07-06T11:22:35.009Z"
      },
      {
        "duration": 65,
        "start_time": "2023-07-06T11:22:35.777Z"
      },
      {
        "duration": 15,
        "start_time": "2023-07-06T11:22:35.844Z"
      },
      {
        "duration": 35,
        "start_time": "2023-07-06T11:22:35.861Z"
      },
      {
        "duration": 8,
        "start_time": "2023-07-06T11:22:35.899Z"
      },
      {
        "duration": 368,
        "start_time": "2023-07-06T11:22:35.909Z"
      },
      {
        "duration": 322,
        "start_time": "2023-07-06T11:22:36.279Z"
      },
      {
        "duration": 222,
        "start_time": "2023-07-06T11:22:36.604Z"
      },
      {
        "duration": 348,
        "start_time": "2023-07-06T11:22:36.831Z"
      },
      {
        "duration": 224,
        "start_time": "2023-07-06T11:22:37.181Z"
      },
      {
        "duration": 376,
        "start_time": "2023-07-06T11:22:37.407Z"
      },
      {
        "duration": 183,
        "start_time": "2023-07-06T11:22:37.785Z"
      },
      {
        "duration": 5,
        "start_time": "2023-07-06T11:22:37.971Z"
      },
      {
        "duration": 190,
        "start_time": "2023-07-06T11:22:37.978Z"
      },
      {
        "duration": 5,
        "start_time": "2023-07-06T11:22:38.169Z"
      },
      {
        "duration": 249,
        "start_time": "2023-07-06T11:22:38.175Z"
      },
      {
        "duration": 179,
        "start_time": "2023-07-06T11:22:38.426Z"
      },
      {
        "duration": 6,
        "start_time": "2023-07-06T11:22:38.607Z"
      },
      {
        "duration": 47,
        "start_time": "2023-07-06T11:22:38.614Z"
      },
      {
        "duration": 15,
        "start_time": "2023-07-06T11:22:38.663Z"
      },
      {
        "duration": 16,
        "start_time": "2023-07-06T11:22:38.679Z"
      },
      {
        "duration": 18,
        "start_time": "2023-07-06T11:22:38.696Z"
      },
      {
        "duration": 42,
        "start_time": "2023-07-06T11:22:38.715Z"
      },
      {
        "duration": 15,
        "start_time": "2023-07-06T11:22:38.759Z"
      },
      {
        "duration": 369,
        "start_time": "2023-07-06T11:56:48.764Z"
      },
      {
        "duration": 37,
        "start_time": "2023-07-06T11:56:49.135Z"
      },
      {
        "duration": 13,
        "start_time": "2023-07-06T11:56:49.173Z"
      },
      {
        "duration": 20,
        "start_time": "2023-07-06T11:56:49.188Z"
      },
      {
        "duration": 41,
        "start_time": "2023-07-06T11:56:49.211Z"
      },
      {
        "duration": 723,
        "start_time": "2023-07-06T11:56:49.254Z"
      },
      {
        "duration": 68,
        "start_time": "2023-07-06T11:56:49.979Z"
      },
      {
        "duration": 14,
        "start_time": "2023-07-06T11:56:50.050Z"
      },
      {
        "duration": 42,
        "start_time": "2023-07-06T11:56:50.065Z"
      },
      {
        "duration": 41,
        "start_time": "2023-07-06T11:56:50.109Z"
      },
      {
        "duration": 291,
        "start_time": "2023-07-06T11:56:50.152Z"
      },
      {
        "duration": 298,
        "start_time": "2023-07-06T11:56:50.446Z"
      },
      {
        "duration": 220,
        "start_time": "2023-07-06T11:56:50.749Z"
      },
      {
        "duration": 327,
        "start_time": "2023-07-06T11:56:50.972Z"
      },
      {
        "duration": 211,
        "start_time": "2023-07-06T11:56:51.301Z"
      },
      {
        "duration": 358,
        "start_time": "2023-07-06T11:56:51.515Z"
      },
      {
        "duration": 171,
        "start_time": "2023-07-06T11:56:51.874Z"
      },
      {
        "duration": 5,
        "start_time": "2023-07-06T11:56:52.048Z"
      },
      {
        "duration": 171,
        "start_time": "2023-07-06T11:56:52.054Z"
      },
      {
        "duration": 11,
        "start_time": "2023-07-06T11:56:52.226Z"
      },
      {
        "duration": 233,
        "start_time": "2023-07-06T11:56:52.238Z"
      },
      {
        "duration": 126,
        "start_time": "2023-07-06T11:56:52.474Z"
      },
      {
        "duration": 5,
        "start_time": "2023-07-06T11:56:52.602Z"
      },
      {
        "duration": 49,
        "start_time": "2023-07-06T11:56:52.608Z"
      },
      {
        "duration": 23,
        "start_time": "2023-07-06T11:56:52.658Z"
      },
      {
        "duration": 18,
        "start_time": "2023-07-06T11:56:52.682Z"
      },
      {
        "duration": 51,
        "start_time": "2023-07-06T11:56:52.701Z"
      },
      {
        "duration": 29,
        "start_time": "2023-07-06T11:56:52.754Z"
      },
      {
        "duration": 12,
        "start_time": "2023-07-06T11:56:52.785Z"
      },
      {
        "duration": 438,
        "start_time": "2023-07-06T14:06:08.620Z"
      },
      {
        "duration": 69,
        "start_time": "2023-07-06T14:06:09.060Z"
      },
      {
        "duration": 15,
        "start_time": "2023-07-06T14:06:09.131Z"
      },
      {
        "duration": 11,
        "start_time": "2023-07-06T14:06:09.148Z"
      },
      {
        "duration": 8,
        "start_time": "2023-07-06T14:06:09.161Z"
      },
      {
        "duration": 963,
        "start_time": "2023-07-06T14:06:09.170Z"
      },
      {
        "duration": 158,
        "start_time": "2023-07-06T14:06:10.135Z"
      },
      {
        "duration": 12,
        "start_time": "2023-07-06T14:06:10.294Z"
      },
      {
        "duration": 32,
        "start_time": "2023-07-06T14:06:10.308Z"
      },
      {
        "duration": 7,
        "start_time": "2023-07-06T14:06:10.343Z"
      },
      {
        "duration": 308,
        "start_time": "2023-07-06T14:06:10.353Z"
      },
      {
        "duration": 318,
        "start_time": "2023-07-06T14:06:10.663Z"
      },
      {
        "duration": 233,
        "start_time": "2023-07-06T14:06:10.984Z"
      },
      {
        "duration": 418,
        "start_time": "2023-07-06T14:06:11.220Z"
      },
      {
        "duration": 227,
        "start_time": "2023-07-06T14:06:11.640Z"
      },
      {
        "duration": 329,
        "start_time": "2023-07-06T14:06:11.869Z"
      },
      {
        "duration": 165,
        "start_time": "2023-07-06T14:06:12.199Z"
      },
      {
        "duration": 4,
        "start_time": "2023-07-06T14:06:12.366Z"
      },
      {
        "duration": 228,
        "start_time": "2023-07-06T14:06:12.372Z"
      },
      {
        "duration": 4,
        "start_time": "2023-07-06T14:06:12.602Z"
      },
      {
        "duration": 306,
        "start_time": "2023-07-06T14:06:12.607Z"
      },
      {
        "duration": 147,
        "start_time": "2023-07-06T14:06:12.915Z"
      },
      {
        "duration": 7,
        "start_time": "2023-07-06T14:06:13.065Z"
      },
      {
        "duration": 47,
        "start_time": "2023-07-06T14:06:13.074Z"
      },
      {
        "duration": 28,
        "start_time": "2023-07-06T14:06:13.123Z"
      },
      {
        "duration": 12,
        "start_time": "2023-07-06T14:06:13.153Z"
      },
      {
        "duration": 24,
        "start_time": "2023-07-06T14:06:13.167Z"
      },
      {
        "duration": 33,
        "start_time": "2023-07-06T14:06:13.195Z"
      },
      {
        "duration": 22,
        "start_time": "2023-07-06T14:06:13.231Z"
      },
      {
        "duration": 46,
        "start_time": "2023-07-07T07:55:28.564Z"
      },
      {
        "duration": 409,
        "start_time": "2023-07-07T07:55:40.459Z"
      },
      {
        "duration": 77,
        "start_time": "2023-07-07T07:55:40.870Z"
      },
      {
        "duration": 13,
        "start_time": "2023-07-07T07:55:40.949Z"
      },
      {
        "duration": 24,
        "start_time": "2023-07-07T07:55:40.964Z"
      },
      {
        "duration": 8,
        "start_time": "2023-07-07T07:55:40.990Z"
      },
      {
        "duration": 868,
        "start_time": "2023-07-07T07:55:41.000Z"
      },
      {
        "duration": 150,
        "start_time": "2023-07-07T07:55:41.869Z"
      },
      {
        "duration": 12,
        "start_time": "2023-07-07T07:55:42.021Z"
      },
      {
        "duration": 52,
        "start_time": "2023-07-07T07:55:42.034Z"
      },
      {
        "duration": 9,
        "start_time": "2023-07-07T07:55:42.089Z"
      },
      {
        "duration": 294,
        "start_time": "2023-07-07T07:55:42.100Z"
      },
      {
        "duration": 286,
        "start_time": "2023-07-07T07:55:42.396Z"
      },
      {
        "duration": 213,
        "start_time": "2023-07-07T07:55:42.684Z"
      },
      {
        "duration": 363,
        "start_time": "2023-07-07T07:55:42.899Z"
      },
      {
        "duration": 205,
        "start_time": "2023-07-07T07:55:43.267Z"
      },
      {
        "duration": 303,
        "start_time": "2023-07-07T07:55:43.474Z"
      },
      {
        "duration": 159,
        "start_time": "2023-07-07T07:55:43.779Z"
      },
      {
        "duration": 4,
        "start_time": "2023-07-07T07:55:43.940Z"
      },
      {
        "duration": 222,
        "start_time": "2023-07-07T07:55:43.946Z"
      },
      {
        "duration": 6,
        "start_time": "2023-07-07T07:55:44.170Z"
      },
      {
        "duration": 295,
        "start_time": "2023-07-07T07:55:44.178Z"
      },
      {
        "duration": 136,
        "start_time": "2023-07-07T07:55:44.474Z"
      },
      {
        "duration": 5,
        "start_time": "2023-07-07T07:55:44.612Z"
      },
      {
        "duration": 22,
        "start_time": "2023-07-07T07:55:44.618Z"
      },
      {
        "duration": 34,
        "start_time": "2023-07-07T07:55:44.641Z"
      },
      {
        "duration": 9,
        "start_time": "2023-07-07T07:55:44.676Z"
      },
      {
        "duration": 9,
        "start_time": "2023-07-07T07:55:44.687Z"
      },
      {
        "duration": 21,
        "start_time": "2023-07-07T07:55:44.699Z"
      },
      {
        "duration": 12,
        "start_time": "2023-07-07T07:55:44.721Z"
      },
      {
        "duration": 1484,
        "start_time": "2023-07-07T07:56:48.161Z"
      },
      {
        "duration": 441,
        "start_time": "2023-07-07T07:56:56.136Z"
      },
      {
        "duration": 36,
        "start_time": "2023-07-07T07:56:56.579Z"
      },
      {
        "duration": 22,
        "start_time": "2023-07-07T07:56:56.617Z"
      },
      {
        "duration": 13,
        "start_time": "2023-07-07T07:56:56.641Z"
      },
      {
        "duration": 8,
        "start_time": "2023-07-07T07:56:56.656Z"
      },
      {
        "duration": 801,
        "start_time": "2023-07-07T07:56:56.668Z"
      },
      {
        "duration": 63,
        "start_time": "2023-07-07T07:56:57.472Z"
      },
      {
        "duration": 13,
        "start_time": "2023-07-07T07:56:57.537Z"
      },
      {
        "duration": 32,
        "start_time": "2023-07-07T07:56:57.552Z"
      },
      {
        "duration": 17,
        "start_time": "2023-07-07T07:56:57.585Z"
      },
      {
        "duration": 299,
        "start_time": "2023-07-07T07:56:57.604Z"
      },
      {
        "duration": 348,
        "start_time": "2023-07-07T07:56:57.905Z"
      },
      {
        "duration": 255,
        "start_time": "2023-07-07T07:56:58.255Z"
      },
      {
        "duration": 299,
        "start_time": "2023-07-07T07:56:58.514Z"
      },
      {
        "duration": 204,
        "start_time": "2023-07-07T07:56:58.814Z"
      },
      {
        "duration": 285,
        "start_time": "2023-07-07T07:56:59.020Z"
      },
      {
        "duration": 156,
        "start_time": "2023-07-07T07:56:59.307Z"
      },
      {
        "duration": 6,
        "start_time": "2023-07-07T07:56:59.465Z"
      },
      {
        "duration": 186,
        "start_time": "2023-07-07T07:56:59.473Z"
      },
      {
        "duration": 9,
        "start_time": "2023-07-07T07:56:59.661Z"
      },
      {
        "duration": 215,
        "start_time": "2023-07-07T07:56:59.672Z"
      },
      {
        "duration": 154,
        "start_time": "2023-07-07T07:56:59.889Z"
      },
      {
        "duration": 6,
        "start_time": "2023-07-07T07:57:00.045Z"
      },
      {
        "duration": 58,
        "start_time": "2023-07-07T07:57:00.052Z"
      },
      {
        "duration": 36,
        "start_time": "2023-07-07T07:57:00.112Z"
      },
      {
        "duration": 54,
        "start_time": "2023-07-07T07:57:00.149Z"
      },
      {
        "duration": 54,
        "start_time": "2023-07-07T07:57:00.205Z"
      },
      {
        "duration": 53,
        "start_time": "2023-07-07T07:57:00.260Z"
      },
      {
        "duration": 42,
        "start_time": "2023-07-07T07:57:00.315Z"
      },
      {
        "duration": 403,
        "start_time": "2023-07-07T07:57:56.490Z"
      },
      {
        "duration": 34,
        "start_time": "2023-07-07T07:57:56.895Z"
      },
      {
        "duration": 15,
        "start_time": "2023-07-07T07:57:56.930Z"
      },
      {
        "duration": 11,
        "start_time": "2023-07-07T07:57:56.947Z"
      },
      {
        "duration": 13,
        "start_time": "2023-07-07T07:57:56.960Z"
      },
      {
        "duration": 752,
        "start_time": "2023-07-07T07:57:56.974Z"
      },
      {
        "duration": 63,
        "start_time": "2023-07-07T07:57:57.728Z"
      },
      {
        "duration": 14,
        "start_time": "2023-07-07T07:57:57.792Z"
      },
      {
        "duration": 27,
        "start_time": "2023-07-07T07:57:57.808Z"
      },
      {
        "duration": 22,
        "start_time": "2023-07-07T07:57:57.838Z"
      },
      {
        "duration": 306,
        "start_time": "2023-07-07T07:57:57.862Z"
      },
      {
        "duration": 321,
        "start_time": "2023-07-07T07:57:58.170Z"
      },
      {
        "duration": 236,
        "start_time": "2023-07-07T07:57:58.493Z"
      },
      {
        "duration": 387,
        "start_time": "2023-07-07T07:57:58.731Z"
      },
      {
        "duration": 229,
        "start_time": "2023-07-07T07:57:59.120Z"
      },
      {
        "duration": 360,
        "start_time": "2023-07-07T07:57:59.351Z"
      },
      {
        "duration": 182,
        "start_time": "2023-07-07T07:57:59.712Z"
      },
      {
        "duration": 4,
        "start_time": "2023-07-07T07:57:59.896Z"
      },
      {
        "duration": 181,
        "start_time": "2023-07-07T07:57:59.902Z"
      },
      {
        "duration": 4,
        "start_time": "2023-07-07T07:58:00.085Z"
      },
      {
        "duration": 233,
        "start_time": "2023-07-07T07:58:00.091Z"
      },
      {
        "duration": 150,
        "start_time": "2023-07-07T07:58:00.326Z"
      },
      {
        "duration": 7,
        "start_time": "2023-07-07T07:58:00.477Z"
      },
      {
        "duration": 43,
        "start_time": "2023-07-07T07:58:00.486Z"
      },
      {
        "duration": 33,
        "start_time": "2023-07-07T07:58:00.530Z"
      },
      {
        "duration": 30,
        "start_time": "2023-07-07T07:58:00.565Z"
      },
      {
        "duration": 37,
        "start_time": "2023-07-07T07:58:00.597Z"
      },
      {
        "duration": 83,
        "start_time": "2023-07-07T07:58:00.638Z"
      },
      {
        "duration": 28,
        "start_time": "2023-07-07T07:58:00.723Z"
      },
      {
        "duration": 428,
        "start_time": "2023-07-07T08:01:01.834Z"
      },
      {
        "duration": 33,
        "start_time": "2023-07-07T08:01:02.263Z"
      },
      {
        "duration": 13,
        "start_time": "2023-07-07T08:01:02.298Z"
      },
      {
        "duration": 21,
        "start_time": "2023-07-07T08:01:02.313Z"
      },
      {
        "duration": 9,
        "start_time": "2023-07-07T08:01:02.335Z"
      },
      {
        "duration": 76,
        "start_time": "2023-07-07T08:01:02.346Z"
      },
      {
        "duration": 0,
        "start_time": "2023-07-07T08:01:02.424Z"
      },
      {
        "duration": 0,
        "start_time": "2023-07-07T08:01:02.425Z"
      },
      {
        "duration": 0,
        "start_time": "2023-07-07T08:01:02.427Z"
      },
      {
        "duration": 0,
        "start_time": "2023-07-07T08:01:02.429Z"
      },
      {
        "duration": 0,
        "start_time": "2023-07-07T08:01:02.431Z"
      },
      {
        "duration": 0,
        "start_time": "2023-07-07T08:01:02.433Z"
      },
      {
        "duration": 0,
        "start_time": "2023-07-07T08:01:02.433Z"
      },
      {
        "duration": 0,
        "start_time": "2023-07-07T08:01:02.435Z"
      },
      {
        "duration": 0,
        "start_time": "2023-07-07T08:01:02.436Z"
      },
      {
        "duration": 0,
        "start_time": "2023-07-07T08:01:02.437Z"
      },
      {
        "duration": 0,
        "start_time": "2023-07-07T08:01:02.438Z"
      },
      {
        "duration": 0,
        "start_time": "2023-07-07T08:01:02.439Z"
      },
      {
        "duration": 0,
        "start_time": "2023-07-07T08:01:02.441Z"
      },
      {
        "duration": 0,
        "start_time": "2023-07-07T08:01:02.441Z"
      },
      {
        "duration": 0,
        "start_time": "2023-07-07T08:01:02.443Z"
      },
      {
        "duration": 0,
        "start_time": "2023-07-07T08:01:02.468Z"
      },
      {
        "duration": 0,
        "start_time": "2023-07-07T08:01:02.470Z"
      },
      {
        "duration": 0,
        "start_time": "2023-07-07T08:01:02.471Z"
      },
      {
        "duration": 0,
        "start_time": "2023-07-07T08:01:02.473Z"
      },
      {
        "duration": 0,
        "start_time": "2023-07-07T08:01:02.473Z"
      },
      {
        "duration": 0,
        "start_time": "2023-07-07T08:01:02.475Z"
      },
      {
        "duration": 0,
        "start_time": "2023-07-07T08:01:02.476Z"
      },
      {
        "duration": 0,
        "start_time": "2023-07-07T08:01:02.477Z"
      },
      {
        "duration": 0,
        "start_time": "2023-07-07T08:01:02.478Z"
      },
      {
        "duration": 360,
        "start_time": "2023-07-07T08:01:23.024Z"
      },
      {
        "duration": 34,
        "start_time": "2023-07-07T08:01:23.386Z"
      },
      {
        "duration": 13,
        "start_time": "2023-07-07T08:01:23.422Z"
      },
      {
        "duration": 13,
        "start_time": "2023-07-07T08:01:23.437Z"
      },
      {
        "duration": 16,
        "start_time": "2023-07-07T08:01:23.452Z"
      },
      {
        "duration": 26,
        "start_time": "2023-07-07T08:01:23.470Z"
      },
      {
        "duration": 771,
        "start_time": "2023-07-07T08:01:23.497Z"
      },
      {
        "duration": 64,
        "start_time": "2023-07-07T08:01:24.270Z"
      },
      {
        "duration": 17,
        "start_time": "2023-07-07T08:01:24.336Z"
      },
      {
        "duration": 30,
        "start_time": "2023-07-07T08:01:24.355Z"
      },
      {
        "duration": 7,
        "start_time": "2023-07-07T08:01:24.386Z"
      },
      {
        "duration": 312,
        "start_time": "2023-07-07T08:01:24.395Z"
      },
      {
        "duration": 332,
        "start_time": "2023-07-07T08:01:24.709Z"
      },
      {
        "duration": 240,
        "start_time": "2023-07-07T08:01:25.045Z"
      },
      {
        "duration": 327,
        "start_time": "2023-07-07T08:01:25.288Z"
      },
      {
        "duration": 239,
        "start_time": "2023-07-07T08:01:25.617Z"
      },
      {
        "duration": 342,
        "start_time": "2023-07-07T08:01:25.867Z"
      },
      {
        "duration": 181,
        "start_time": "2023-07-07T08:01:26.211Z"
      },
      {
        "duration": 4,
        "start_time": "2023-07-07T08:01:26.394Z"
      },
      {
        "duration": 188,
        "start_time": "2023-07-07T08:01:26.400Z"
      },
      {
        "duration": 3,
        "start_time": "2023-07-07T08:01:26.590Z"
      },
      {
        "duration": 251,
        "start_time": "2023-07-07T08:01:26.595Z"
      },
      {
        "duration": 157,
        "start_time": "2023-07-07T08:01:26.849Z"
      },
      {
        "duration": 8,
        "start_time": "2023-07-07T08:01:27.007Z"
      },
      {
        "duration": 27,
        "start_time": "2023-07-07T08:01:27.017Z"
      },
      {
        "duration": 30,
        "start_time": "2023-07-07T08:01:27.045Z"
      },
      {
        "duration": 12,
        "start_time": "2023-07-07T08:01:27.076Z"
      },
      {
        "duration": 10,
        "start_time": "2023-07-07T08:01:27.089Z"
      },
      {
        "duration": 35,
        "start_time": "2023-07-07T08:01:27.101Z"
      },
      {
        "duration": 39,
        "start_time": "2023-07-07T08:01:27.137Z"
      },
      {
        "duration": 117,
        "start_time": "2023-07-07T08:15:57.359Z"
      },
      {
        "duration": 403,
        "start_time": "2023-07-07T08:16:10.545Z"
      },
      {
        "duration": 33,
        "start_time": "2023-07-07T08:16:10.950Z"
      },
      {
        "duration": 14,
        "start_time": "2023-07-07T08:16:10.985Z"
      },
      {
        "duration": 11,
        "start_time": "2023-07-07T08:16:11.001Z"
      },
      {
        "duration": 9,
        "start_time": "2023-07-07T08:16:11.013Z"
      },
      {
        "duration": 17,
        "start_time": "2023-07-07T08:16:11.023Z"
      },
      {
        "duration": 695,
        "start_time": "2023-07-07T08:16:11.042Z"
      },
      {
        "duration": 70,
        "start_time": "2023-07-07T08:16:11.739Z"
      },
      {
        "duration": 16,
        "start_time": "2023-07-07T08:16:11.811Z"
      },
      {
        "duration": 28,
        "start_time": "2023-07-07T08:16:11.831Z"
      },
      {
        "duration": 11,
        "start_time": "2023-07-07T08:16:11.860Z"
      },
      {
        "duration": 291,
        "start_time": "2023-07-07T08:16:11.872Z"
      },
      {
        "duration": 302,
        "start_time": "2023-07-07T08:16:12.168Z"
      },
      {
        "duration": 228,
        "start_time": "2023-07-07T08:16:12.471Z"
      },
      {
        "duration": 321,
        "start_time": "2023-07-07T08:16:12.701Z"
      },
      {
        "duration": 214,
        "start_time": "2023-07-07T08:16:13.024Z"
      },
      {
        "duration": 353,
        "start_time": "2023-07-07T08:16:13.240Z"
      },
      {
        "duration": 165,
        "start_time": "2023-07-07T08:16:13.595Z"
      },
      {
        "duration": 8,
        "start_time": "2023-07-07T08:16:13.762Z"
      },
      {
        "duration": 183,
        "start_time": "2023-07-07T08:16:13.771Z"
      },
      {
        "duration": 14,
        "start_time": "2023-07-07T08:16:13.956Z"
      },
      {
        "duration": 265,
        "start_time": "2023-07-07T08:16:13.974Z"
      },
      {
        "duration": 133,
        "start_time": "2023-07-07T08:16:14.241Z"
      },
      {
        "duration": 6,
        "start_time": "2023-07-07T08:16:14.376Z"
      },
      {
        "duration": 26,
        "start_time": "2023-07-07T08:16:14.383Z"
      },
      {
        "duration": 10,
        "start_time": "2023-07-07T08:16:14.411Z"
      },
      {
        "duration": 10,
        "start_time": "2023-07-07T08:16:14.423Z"
      },
      {
        "duration": 32,
        "start_time": "2023-07-07T08:16:14.436Z"
      },
      {
        "duration": 27,
        "start_time": "2023-07-07T08:16:14.470Z"
      },
      {
        "duration": 16,
        "start_time": "2023-07-07T08:16:14.498Z"
      },
      {
        "duration": 386,
        "start_time": "2023-07-07T08:16:42.087Z"
      },
      {
        "duration": 35,
        "start_time": "2023-07-07T08:16:42.475Z"
      },
      {
        "duration": 14,
        "start_time": "2023-07-07T08:16:42.511Z"
      },
      {
        "duration": 16,
        "start_time": "2023-07-07T08:16:42.527Z"
      },
      {
        "duration": 11,
        "start_time": "2023-07-07T08:16:42.545Z"
      },
      {
        "duration": 11,
        "start_time": "2023-07-07T08:16:42.558Z"
      },
      {
        "duration": 774,
        "start_time": "2023-07-07T08:16:42.571Z"
      },
      {
        "duration": 61,
        "start_time": "2023-07-07T08:16:43.347Z"
      },
      {
        "duration": 13,
        "start_time": "2023-07-07T08:16:43.410Z"
      },
      {
        "duration": 25,
        "start_time": "2023-07-07T08:16:43.426Z"
      },
      {
        "duration": 8,
        "start_time": "2023-07-07T08:16:43.453Z"
      },
      {
        "duration": 266,
        "start_time": "2023-07-07T08:16:43.463Z"
      },
      {
        "duration": 323,
        "start_time": "2023-07-07T08:16:43.731Z"
      },
      {
        "duration": 261,
        "start_time": "2023-07-07T08:16:44.056Z"
      },
      {
        "duration": 309,
        "start_time": "2023-07-07T08:16:44.319Z"
      },
      {
        "duration": 225,
        "start_time": "2023-07-07T08:16:44.629Z"
      },
      {
        "duration": 333,
        "start_time": "2023-07-07T08:16:44.856Z"
      },
      {
        "duration": 186,
        "start_time": "2023-07-07T08:16:45.190Z"
      },
      {
        "duration": 5,
        "start_time": "2023-07-07T08:16:45.377Z"
      },
      {
        "duration": 185,
        "start_time": "2023-07-07T08:16:45.383Z"
      },
      {
        "duration": 4,
        "start_time": "2023-07-07T08:16:45.570Z"
      },
      {
        "duration": 221,
        "start_time": "2023-07-07T08:16:45.576Z"
      },
      {
        "duration": 149,
        "start_time": "2023-07-07T08:16:45.799Z"
      },
      {
        "duration": 7,
        "start_time": "2023-07-07T08:16:45.950Z"
      },
      {
        "duration": 32,
        "start_time": "2023-07-07T08:16:45.958Z"
      },
      {
        "duration": 11,
        "start_time": "2023-07-07T08:16:45.992Z"
      },
      {
        "duration": 11,
        "start_time": "2023-07-07T08:16:46.005Z"
      },
      {
        "duration": 7,
        "start_time": "2023-07-07T08:16:46.020Z"
      },
      {
        "duration": 59,
        "start_time": "2023-07-07T08:16:46.029Z"
      },
      {
        "duration": 13,
        "start_time": "2023-07-07T08:16:46.090Z"
      },
      {
        "duration": 410,
        "start_time": "2023-07-07T08:17:02.463Z"
      },
      {
        "duration": 34,
        "start_time": "2023-07-07T08:17:02.875Z"
      },
      {
        "duration": 14,
        "start_time": "2023-07-07T08:17:02.910Z"
      },
      {
        "duration": 19,
        "start_time": "2023-07-07T08:17:02.926Z"
      },
      {
        "duration": 16,
        "start_time": "2023-07-07T08:17:02.947Z"
      },
      {
        "duration": 89,
        "start_time": "2023-07-07T08:17:02.964Z"
      },
      {
        "duration": 0,
        "start_time": "2023-07-07T08:17:03.056Z"
      },
      {
        "duration": 0,
        "start_time": "2023-07-07T08:17:03.057Z"
      },
      {
        "duration": 0,
        "start_time": "2023-07-07T08:17:03.059Z"
      },
      {
        "duration": 0,
        "start_time": "2023-07-07T08:17:03.060Z"
      },
      {
        "duration": 0,
        "start_time": "2023-07-07T08:17:03.061Z"
      },
      {
        "duration": 0,
        "start_time": "2023-07-07T08:17:03.063Z"
      },
      {
        "duration": 0,
        "start_time": "2023-07-07T08:17:03.065Z"
      },
      {
        "duration": 0,
        "start_time": "2023-07-07T08:17:03.067Z"
      },
      {
        "duration": 0,
        "start_time": "2023-07-07T08:17:03.069Z"
      },
      {
        "duration": 0,
        "start_time": "2023-07-07T08:17:03.071Z"
      },
      {
        "duration": 0,
        "start_time": "2023-07-07T08:17:03.072Z"
      },
      {
        "duration": 0,
        "start_time": "2023-07-07T08:17:03.073Z"
      },
      {
        "duration": 0,
        "start_time": "2023-07-07T08:17:03.075Z"
      },
      {
        "duration": 0,
        "start_time": "2023-07-07T08:17:03.076Z"
      },
      {
        "duration": 0,
        "start_time": "2023-07-07T08:17:03.078Z"
      },
      {
        "duration": 0,
        "start_time": "2023-07-07T08:17:03.080Z"
      },
      {
        "duration": 0,
        "start_time": "2023-07-07T08:17:03.081Z"
      },
      {
        "duration": 0,
        "start_time": "2023-07-07T08:17:03.083Z"
      },
      {
        "duration": 0,
        "start_time": "2023-07-07T08:17:03.084Z"
      },
      {
        "duration": 0,
        "start_time": "2023-07-07T08:17:03.085Z"
      },
      {
        "duration": 0,
        "start_time": "2023-07-07T08:17:03.087Z"
      },
      {
        "duration": 0,
        "start_time": "2023-07-07T08:17:03.088Z"
      },
      {
        "duration": 0,
        "start_time": "2023-07-07T08:17:03.089Z"
      },
      {
        "duration": 0,
        "start_time": "2023-07-07T08:17:03.090Z"
      },
      {
        "duration": 425,
        "start_time": "2023-07-07T08:17:20.063Z"
      },
      {
        "duration": 34,
        "start_time": "2023-07-07T08:17:20.491Z"
      },
      {
        "duration": 15,
        "start_time": "2023-07-07T08:17:20.527Z"
      },
      {
        "duration": 19,
        "start_time": "2023-07-07T08:17:20.543Z"
      },
      {
        "duration": 9,
        "start_time": "2023-07-07T08:17:20.564Z"
      },
      {
        "duration": 22,
        "start_time": "2023-07-07T08:17:20.575Z"
      },
      {
        "duration": 735,
        "start_time": "2023-07-07T08:17:20.598Z"
      },
      {
        "duration": 62,
        "start_time": "2023-07-07T08:17:21.334Z"
      },
      {
        "duration": 13,
        "start_time": "2023-07-07T08:17:21.399Z"
      },
      {
        "duration": 40,
        "start_time": "2023-07-07T08:17:21.413Z"
      },
      {
        "duration": 27,
        "start_time": "2023-07-07T08:17:21.455Z"
      },
      {
        "duration": 292,
        "start_time": "2023-07-07T08:17:21.484Z"
      },
      {
        "duration": 297,
        "start_time": "2023-07-07T08:17:21.779Z"
      },
      {
        "duration": 226,
        "start_time": "2023-07-07T08:17:22.078Z"
      },
      {
        "duration": 328,
        "start_time": "2023-07-07T08:17:22.307Z"
      },
      {
        "duration": 245,
        "start_time": "2023-07-07T08:17:22.637Z"
      },
      {
        "duration": 310,
        "start_time": "2023-07-07T08:17:22.883Z"
      },
      {
        "duration": 162,
        "start_time": "2023-07-07T08:17:23.195Z"
      },
      {
        "duration": 10,
        "start_time": "2023-07-07T08:17:23.359Z"
      },
      {
        "duration": 179,
        "start_time": "2023-07-07T08:17:23.370Z"
      },
      {
        "duration": 5,
        "start_time": "2023-07-07T08:17:23.551Z"
      },
      {
        "duration": 224,
        "start_time": "2023-07-07T08:17:23.557Z"
      },
      {
        "duration": 145,
        "start_time": "2023-07-07T08:17:23.783Z"
      },
      {
        "duration": 8,
        "start_time": "2023-07-07T08:17:23.930Z"
      },
      {
        "duration": 59,
        "start_time": "2023-07-07T08:17:23.941Z"
      },
      {
        "duration": 14,
        "start_time": "2023-07-07T08:17:24.002Z"
      },
      {
        "duration": 15,
        "start_time": "2023-07-07T08:17:24.020Z"
      },
      {
        "duration": 42,
        "start_time": "2023-07-07T08:17:24.037Z"
      },
      {
        "duration": 51,
        "start_time": "2023-07-07T08:17:24.081Z"
      },
      {
        "duration": 20,
        "start_time": "2023-07-07T08:17:24.134Z"
      },
      {
        "duration": 411,
        "start_time": "2023-07-07T08:17:51.650Z"
      },
      {
        "duration": 35,
        "start_time": "2023-07-07T08:17:52.063Z"
      },
      {
        "duration": 15,
        "start_time": "2023-07-07T08:17:52.100Z"
      },
      {
        "duration": 17,
        "start_time": "2023-07-07T08:17:52.116Z"
      },
      {
        "duration": 15,
        "start_time": "2023-07-07T08:17:52.134Z"
      },
      {
        "duration": 7,
        "start_time": "2023-07-07T08:17:52.150Z"
      },
      {
        "duration": 724,
        "start_time": "2023-07-07T08:17:52.159Z"
      },
      {
        "duration": 60,
        "start_time": "2023-07-07T08:17:52.885Z"
      },
      {
        "duration": 11,
        "start_time": "2023-07-07T08:17:52.947Z"
      },
      {
        "duration": 26,
        "start_time": "2023-07-07T08:17:52.962Z"
      },
      {
        "duration": 7,
        "start_time": "2023-07-07T08:17:52.990Z"
      },
      {
        "duration": 290,
        "start_time": "2023-07-07T08:17:52.999Z"
      },
      {
        "duration": 285,
        "start_time": "2023-07-07T08:17:53.291Z"
      },
      {
        "duration": 208,
        "start_time": "2023-07-07T08:17:53.578Z"
      },
      {
        "duration": 369,
        "start_time": "2023-07-07T08:17:53.788Z"
      },
      {
        "duration": 233,
        "start_time": "2023-07-07T08:17:54.159Z"
      },
      {
        "duration": 294,
        "start_time": "2023-07-07T08:17:54.394Z"
      },
      {
        "duration": 156,
        "start_time": "2023-07-07T08:17:54.690Z"
      },
      {
        "duration": 4,
        "start_time": "2023-07-07T08:17:54.848Z"
      },
      {
        "duration": 195,
        "start_time": "2023-07-07T08:17:54.853Z"
      },
      {
        "duration": 4,
        "start_time": "2023-07-07T08:17:55.049Z"
      },
      {
        "duration": 237,
        "start_time": "2023-07-07T08:17:55.055Z"
      },
      {
        "duration": 163,
        "start_time": "2023-07-07T08:17:55.294Z"
      },
      {
        "duration": 12,
        "start_time": "2023-07-07T08:17:55.459Z"
      },
      {
        "duration": 45,
        "start_time": "2023-07-07T08:17:55.472Z"
      },
      {
        "duration": 12,
        "start_time": "2023-07-07T08:17:55.519Z"
      },
      {
        "duration": 18,
        "start_time": "2023-07-07T08:17:55.533Z"
      },
      {
        "duration": 10,
        "start_time": "2023-07-07T08:17:55.554Z"
      },
      {
        "duration": 25,
        "start_time": "2023-07-07T08:17:55.567Z"
      },
      {
        "duration": 15,
        "start_time": "2023-07-07T08:17:55.594Z"
      },
      {
        "duration": 215,
        "start_time": "2023-07-07T10:23:09.649Z"
      },
      {
        "duration": 272,
        "start_time": "2023-07-07T10:23:34.648Z"
      },
      {
        "duration": 345,
        "start_time": "2023-07-07T10:24:48.420Z"
      },
      {
        "duration": 33,
        "start_time": "2023-07-07T10:24:48.768Z"
      },
      {
        "duration": 13,
        "start_time": "2023-07-07T10:24:48.803Z"
      },
      {
        "duration": 16,
        "start_time": "2023-07-07T10:24:48.818Z"
      },
      {
        "duration": 7,
        "start_time": "2023-07-07T10:24:48.836Z"
      },
      {
        "duration": 12,
        "start_time": "2023-07-07T10:24:48.845Z"
      },
      {
        "duration": 665,
        "start_time": "2023-07-07T10:24:48.858Z"
      },
      {
        "duration": 62,
        "start_time": "2023-07-07T10:24:49.524Z"
      },
      {
        "duration": 12,
        "start_time": "2023-07-07T10:24:49.587Z"
      },
      {
        "duration": 42,
        "start_time": "2023-07-07T10:24:49.602Z"
      },
      {
        "duration": 5,
        "start_time": "2023-07-07T10:24:49.646Z"
      },
      {
        "duration": 281,
        "start_time": "2023-07-07T10:24:49.653Z"
      },
      {
        "duration": 281,
        "start_time": "2023-07-07T10:24:49.936Z"
      },
      {
        "duration": 212,
        "start_time": "2023-07-07T10:24:50.219Z"
      },
      {
        "duration": 305,
        "start_time": "2023-07-07T10:24:50.432Z"
      },
      {
        "duration": 208,
        "start_time": "2023-07-07T10:24:50.739Z"
      },
      {
        "duration": 331,
        "start_time": "2023-07-07T10:24:50.948Z"
      },
      {
        "duration": 156,
        "start_time": "2023-07-07T10:24:51.281Z"
      },
      {
        "duration": 4,
        "start_time": "2023-07-07T10:24:51.439Z"
      },
      {
        "duration": 168,
        "start_time": "2023-07-07T10:24:51.445Z"
      },
      {
        "duration": 4,
        "start_time": "2023-07-07T10:24:51.615Z"
      },
      {
        "duration": 248,
        "start_time": "2023-07-07T10:24:51.620Z"
      },
      {
        "duration": 143,
        "start_time": "2023-07-07T10:24:51.869Z"
      },
      {
        "duration": 5,
        "start_time": "2023-07-07T10:24:52.014Z"
      },
      {
        "duration": 50,
        "start_time": "2023-07-07T10:24:52.021Z"
      },
      {
        "duration": 11,
        "start_time": "2023-07-07T10:24:52.072Z"
      },
      {
        "duration": 22,
        "start_time": "2023-07-07T10:24:52.084Z"
      },
      {
        "duration": 26,
        "start_time": "2023-07-07T10:24:52.109Z"
      },
      {
        "duration": 28,
        "start_time": "2023-07-07T10:24:52.137Z"
      },
      {
        "duration": 14,
        "start_time": "2023-07-07T10:24:52.168Z"
      },
      {
        "duration": 395,
        "start_time": "2023-07-07T10:25:48.780Z"
      },
      {
        "duration": 33,
        "start_time": "2023-07-07T10:25:49.177Z"
      },
      {
        "duration": 12,
        "start_time": "2023-07-07T10:25:49.212Z"
      },
      {
        "duration": 22,
        "start_time": "2023-07-07T10:25:49.226Z"
      },
      {
        "duration": 10,
        "start_time": "2023-07-07T10:25:49.249Z"
      },
      {
        "duration": 1459,
        "start_time": "2023-07-07T10:25:49.261Z"
      },
      {
        "duration": 0,
        "start_time": "2023-07-07T10:25:50.724Z"
      },
      {
        "duration": 0,
        "start_time": "2023-07-07T10:25:50.725Z"
      },
      {
        "duration": 0,
        "start_time": "2023-07-07T10:25:50.726Z"
      },
      {
        "duration": 0,
        "start_time": "2023-07-07T10:25:50.727Z"
      },
      {
        "duration": 0,
        "start_time": "2023-07-07T10:25:50.728Z"
      },
      {
        "duration": 0,
        "start_time": "2023-07-07T10:25:50.729Z"
      },
      {
        "duration": 0,
        "start_time": "2023-07-07T10:25:50.730Z"
      },
      {
        "duration": 0,
        "start_time": "2023-07-07T10:25:50.731Z"
      },
      {
        "duration": 0,
        "start_time": "2023-07-07T10:25:50.732Z"
      },
      {
        "duration": 0,
        "start_time": "2023-07-07T10:25:50.733Z"
      },
      {
        "duration": 0,
        "start_time": "2023-07-07T10:25:50.734Z"
      },
      {
        "duration": 0,
        "start_time": "2023-07-07T10:25:50.735Z"
      },
      {
        "duration": 0,
        "start_time": "2023-07-07T10:25:50.736Z"
      },
      {
        "duration": 0,
        "start_time": "2023-07-07T10:25:50.737Z"
      },
      {
        "duration": 0,
        "start_time": "2023-07-07T10:25:50.738Z"
      },
      {
        "duration": 0,
        "start_time": "2023-07-07T10:25:50.739Z"
      },
      {
        "duration": 0,
        "start_time": "2023-07-07T10:25:50.739Z"
      },
      {
        "duration": 0,
        "start_time": "2023-07-07T10:25:50.740Z"
      },
      {
        "duration": 0,
        "start_time": "2023-07-07T10:25:50.741Z"
      },
      {
        "duration": 0,
        "start_time": "2023-07-07T10:25:50.742Z"
      },
      {
        "duration": 0,
        "start_time": "2023-07-07T10:25:50.743Z"
      },
      {
        "duration": 0,
        "start_time": "2023-07-07T10:25:50.744Z"
      },
      {
        "duration": 0,
        "start_time": "2023-07-07T10:25:50.745Z"
      },
      {
        "duration": 0,
        "start_time": "2023-07-07T10:25:50.746Z"
      },
      {
        "duration": 391,
        "start_time": "2023-07-07T10:26:08.822Z"
      },
      {
        "duration": 34,
        "start_time": "2023-07-07T10:26:09.215Z"
      },
      {
        "duration": 13,
        "start_time": "2023-07-07T10:26:09.250Z"
      },
      {
        "duration": 19,
        "start_time": "2023-07-07T10:26:09.265Z"
      },
      {
        "duration": 20,
        "start_time": "2023-07-07T10:26:09.285Z"
      },
      {
        "duration": 1423,
        "start_time": "2023-07-07T10:26:09.306Z"
      },
      {
        "duration": 0,
        "start_time": "2023-07-07T10:26:10.731Z"
      },
      {
        "duration": 0,
        "start_time": "2023-07-07T10:26:10.734Z"
      },
      {
        "duration": 0,
        "start_time": "2023-07-07T10:26:10.735Z"
      },
      {
        "duration": 0,
        "start_time": "2023-07-07T10:26:10.736Z"
      },
      {
        "duration": 0,
        "start_time": "2023-07-07T10:26:10.737Z"
      },
      {
        "duration": 0,
        "start_time": "2023-07-07T10:26:10.738Z"
      },
      {
        "duration": 0,
        "start_time": "2023-07-07T10:26:10.739Z"
      },
      {
        "duration": 0,
        "start_time": "2023-07-07T10:26:10.740Z"
      },
      {
        "duration": 0,
        "start_time": "2023-07-07T10:26:10.740Z"
      },
      {
        "duration": 0,
        "start_time": "2023-07-07T10:26:10.741Z"
      },
      {
        "duration": 0,
        "start_time": "2023-07-07T10:26:10.742Z"
      },
      {
        "duration": 0,
        "start_time": "2023-07-07T10:26:10.743Z"
      },
      {
        "duration": 0,
        "start_time": "2023-07-07T10:26:10.744Z"
      },
      {
        "duration": 0,
        "start_time": "2023-07-07T10:26:10.745Z"
      },
      {
        "duration": 0,
        "start_time": "2023-07-07T10:26:10.745Z"
      },
      {
        "duration": 0,
        "start_time": "2023-07-07T10:26:10.746Z"
      },
      {
        "duration": 0,
        "start_time": "2023-07-07T10:26:10.747Z"
      },
      {
        "duration": 0,
        "start_time": "2023-07-07T10:26:10.748Z"
      },
      {
        "duration": 0,
        "start_time": "2023-07-07T10:26:10.749Z"
      },
      {
        "duration": 0,
        "start_time": "2023-07-07T10:26:10.749Z"
      },
      {
        "duration": 0,
        "start_time": "2023-07-07T10:26:10.750Z"
      },
      {
        "duration": 0,
        "start_time": "2023-07-07T10:26:10.751Z"
      },
      {
        "duration": 0,
        "start_time": "2023-07-07T10:26:10.752Z"
      },
      {
        "duration": 0,
        "start_time": "2023-07-07T10:26:10.753Z"
      },
      {
        "duration": 424,
        "start_time": "2023-07-07T10:27:10.650Z"
      },
      {
        "duration": 35,
        "start_time": "2023-07-07T10:27:11.076Z"
      },
      {
        "duration": 14,
        "start_time": "2023-07-07T10:27:11.112Z"
      },
      {
        "duration": 13,
        "start_time": "2023-07-07T10:27:11.127Z"
      },
      {
        "duration": 7,
        "start_time": "2023-07-07T10:27:11.142Z"
      },
      {
        "duration": 22,
        "start_time": "2023-07-07T10:27:11.150Z"
      },
      {
        "duration": 660,
        "start_time": "2023-07-07T10:27:11.173Z"
      },
      {
        "duration": 62,
        "start_time": "2023-07-07T10:27:11.835Z"
      },
      {
        "duration": 12,
        "start_time": "2023-07-07T10:27:11.898Z"
      },
      {
        "duration": 27,
        "start_time": "2023-07-07T10:27:11.913Z"
      },
      {
        "duration": 19,
        "start_time": "2023-07-07T10:27:11.942Z"
      },
      {
        "duration": 262,
        "start_time": "2023-07-07T10:27:11.963Z"
      },
      {
        "duration": 276,
        "start_time": "2023-07-07T10:27:12.226Z"
      },
      {
        "duration": 211,
        "start_time": "2023-07-07T10:27:12.504Z"
      },
      {
        "duration": 296,
        "start_time": "2023-07-07T10:27:12.717Z"
      },
      {
        "duration": 206,
        "start_time": "2023-07-07T10:27:13.015Z"
      },
      {
        "duration": 293,
        "start_time": "2023-07-07T10:27:13.223Z"
      },
      {
        "duration": 156,
        "start_time": "2023-07-07T10:27:13.518Z"
      },
      {
        "duration": 4,
        "start_time": "2023-07-07T10:27:13.675Z"
      },
      {
        "duration": 175,
        "start_time": "2023-07-07T10:27:13.681Z"
      },
      {
        "duration": 4,
        "start_time": "2023-07-07T10:27:13.858Z"
      },
      {
        "duration": 259,
        "start_time": "2023-07-07T10:27:13.868Z"
      },
      {
        "duration": 156,
        "start_time": "2023-07-07T10:27:14.129Z"
      },
      {
        "duration": 6,
        "start_time": "2023-07-07T10:27:14.287Z"
      },
      {
        "duration": 51,
        "start_time": "2023-07-07T10:27:14.294Z"
      },
      {
        "duration": 11,
        "start_time": "2023-07-07T10:27:14.346Z"
      },
      {
        "duration": 14,
        "start_time": "2023-07-07T10:27:14.358Z"
      },
      {
        "duration": 27,
        "start_time": "2023-07-07T10:27:14.375Z"
      },
      {
        "duration": 35,
        "start_time": "2023-07-07T10:27:14.404Z"
      },
      {
        "duration": 30,
        "start_time": "2023-07-07T10:27:14.441Z"
      },
      {
        "duration": 361,
        "start_time": "2023-07-07T10:29:12.628Z"
      },
      {
        "duration": 33,
        "start_time": "2023-07-07T10:29:12.991Z"
      },
      {
        "duration": 14,
        "start_time": "2023-07-07T10:29:13.028Z"
      },
      {
        "duration": 34,
        "start_time": "2023-07-07T10:29:13.044Z"
      },
      {
        "duration": 9,
        "start_time": "2023-07-07T10:29:13.083Z"
      },
      {
        "duration": 63,
        "start_time": "2023-07-07T10:29:13.094Z"
      },
      {
        "duration": 0,
        "start_time": "2023-07-07T10:29:13.160Z"
      },
      {
        "duration": 0,
        "start_time": "2023-07-07T10:29:13.161Z"
      },
      {
        "duration": 0,
        "start_time": "2023-07-07T10:29:13.167Z"
      },
      {
        "duration": 0,
        "start_time": "2023-07-07T10:29:13.168Z"
      },
      {
        "duration": 0,
        "start_time": "2023-07-07T10:29:13.169Z"
      },
      {
        "duration": 0,
        "start_time": "2023-07-07T10:29:13.171Z"
      },
      {
        "duration": 0,
        "start_time": "2023-07-07T10:29:13.172Z"
      },
      {
        "duration": 0,
        "start_time": "2023-07-07T10:29:13.173Z"
      },
      {
        "duration": 0,
        "start_time": "2023-07-07T10:29:13.174Z"
      },
      {
        "duration": 0,
        "start_time": "2023-07-07T10:29:13.175Z"
      },
      {
        "duration": 0,
        "start_time": "2023-07-07T10:29:13.176Z"
      },
      {
        "duration": 0,
        "start_time": "2023-07-07T10:29:13.177Z"
      },
      {
        "duration": 0,
        "start_time": "2023-07-07T10:29:13.178Z"
      },
      {
        "duration": 0,
        "start_time": "2023-07-07T10:29:13.179Z"
      },
      {
        "duration": 0,
        "start_time": "2023-07-07T10:29:13.180Z"
      },
      {
        "duration": 0,
        "start_time": "2023-07-07T10:29:13.181Z"
      },
      {
        "duration": 0,
        "start_time": "2023-07-07T10:29:13.182Z"
      },
      {
        "duration": 0,
        "start_time": "2023-07-07T10:29:13.183Z"
      },
      {
        "duration": 0,
        "start_time": "2023-07-07T10:29:13.184Z"
      },
      {
        "duration": 0,
        "start_time": "2023-07-07T10:29:13.185Z"
      },
      {
        "duration": 0,
        "start_time": "2023-07-07T10:29:13.186Z"
      },
      {
        "duration": 0,
        "start_time": "2023-07-07T10:29:13.187Z"
      },
      {
        "duration": 0,
        "start_time": "2023-07-07T10:29:13.188Z"
      },
      {
        "duration": 0,
        "start_time": "2023-07-07T10:29:13.189Z"
      },
      {
        "duration": 444,
        "start_time": "2023-07-07T10:29:24.140Z"
      },
      {
        "duration": 34,
        "start_time": "2023-07-07T10:29:24.587Z"
      },
      {
        "duration": 15,
        "start_time": "2023-07-07T10:29:24.623Z"
      },
      {
        "duration": 12,
        "start_time": "2023-07-07T10:29:24.640Z"
      },
      {
        "duration": 9,
        "start_time": "2023-07-07T10:29:24.654Z"
      },
      {
        "duration": 9,
        "start_time": "2023-07-07T10:29:24.667Z"
      },
      {
        "duration": 754,
        "start_time": "2023-07-07T10:29:24.678Z"
      },
      {
        "duration": 62,
        "start_time": "2023-07-07T10:29:25.434Z"
      },
      {
        "duration": 15,
        "start_time": "2023-07-07T10:29:25.497Z"
      },
      {
        "duration": 35,
        "start_time": "2023-07-07T10:29:25.516Z"
      },
      {
        "duration": 9,
        "start_time": "2023-07-07T10:29:25.553Z"
      },
      {
        "duration": 327,
        "start_time": "2023-07-07T10:29:25.564Z"
      },
      {
        "duration": 325,
        "start_time": "2023-07-07T10:29:25.893Z"
      },
      {
        "duration": 250,
        "start_time": "2023-07-07T10:29:26.220Z"
      },
      {
        "duration": 369,
        "start_time": "2023-07-07T10:29:26.471Z"
      },
      {
        "duration": 235,
        "start_time": "2023-07-07T10:29:26.842Z"
      },
      {
        "duration": 349,
        "start_time": "2023-07-07T10:29:27.079Z"
      },
      {
        "duration": 181,
        "start_time": "2023-07-07T10:29:27.430Z"
      },
      {
        "duration": 4,
        "start_time": "2023-07-07T10:29:27.613Z"
      },
      {
        "duration": 213,
        "start_time": "2023-07-07T10:29:27.619Z"
      },
      {
        "duration": 4,
        "start_time": "2023-07-07T10:29:27.835Z"
      },
      {
        "duration": 246,
        "start_time": "2023-07-07T10:29:27.841Z"
      },
      {
        "duration": 146,
        "start_time": "2023-07-07T10:29:28.088Z"
      },
      {
        "duration": 6,
        "start_time": "2023-07-07T10:29:28.236Z"
      },
      {
        "duration": 34,
        "start_time": "2023-07-07T10:29:28.243Z"
      },
      {
        "duration": 13,
        "start_time": "2023-07-07T10:29:28.279Z"
      },
      {
        "duration": 14,
        "start_time": "2023-07-07T10:29:28.294Z"
      },
      {
        "duration": 17,
        "start_time": "2023-07-07T10:29:28.312Z"
      },
      {
        "duration": 45,
        "start_time": "2023-07-07T10:29:28.331Z"
      },
      {
        "duration": 15,
        "start_time": "2023-07-07T10:29:28.378Z"
      },
      {
        "duration": 428,
        "start_time": "2023-07-07T10:29:48.644Z"
      },
      {
        "duration": 34,
        "start_time": "2023-07-07T10:29:49.074Z"
      },
      {
        "duration": 13,
        "start_time": "2023-07-07T10:29:49.110Z"
      },
      {
        "duration": 11,
        "start_time": "2023-07-07T10:29:49.125Z"
      },
      {
        "duration": 7,
        "start_time": "2023-07-07T10:29:49.137Z"
      },
      {
        "duration": 11,
        "start_time": "2023-07-07T10:29:49.146Z"
      },
      {
        "duration": 645,
        "start_time": "2023-07-07T10:29:49.159Z"
      },
      {
        "duration": 62,
        "start_time": "2023-07-07T10:29:49.806Z"
      },
      {
        "duration": 13,
        "start_time": "2023-07-07T10:29:49.871Z"
      },
      {
        "duration": 37,
        "start_time": "2023-07-07T10:29:49.888Z"
      },
      {
        "duration": 19,
        "start_time": "2023-07-07T10:29:49.927Z"
      },
      {
        "duration": 269,
        "start_time": "2023-07-07T10:29:49.947Z"
      },
      {
        "duration": 288,
        "start_time": "2023-07-07T10:29:50.217Z"
      },
      {
        "duration": 217,
        "start_time": "2023-07-07T10:29:50.506Z"
      },
      {
        "duration": 311,
        "start_time": "2023-07-07T10:29:50.724Z"
      },
      {
        "duration": 218,
        "start_time": "2023-07-07T10:29:51.037Z"
      },
      {
        "duration": 327,
        "start_time": "2023-07-07T10:29:51.257Z"
      },
      {
        "duration": 163,
        "start_time": "2023-07-07T10:29:51.586Z"
      },
      {
        "duration": 4,
        "start_time": "2023-07-07T10:29:51.751Z"
      },
      {
        "duration": 174,
        "start_time": "2023-07-07T10:29:51.758Z"
      },
      {
        "duration": 4,
        "start_time": "2023-07-07T10:29:51.933Z"
      },
      {
        "duration": 219,
        "start_time": "2023-07-07T10:29:51.939Z"
      },
      {
        "duration": 137,
        "start_time": "2023-07-07T10:29:52.160Z"
      },
      {
        "duration": 7,
        "start_time": "2023-07-07T10:29:52.299Z"
      },
      {
        "duration": 31,
        "start_time": "2023-07-07T10:29:52.307Z"
      },
      {
        "duration": 10,
        "start_time": "2023-07-07T10:29:52.339Z"
      },
      {
        "duration": 24,
        "start_time": "2023-07-07T10:29:52.351Z"
      },
      {
        "duration": 66,
        "start_time": "2023-07-07T10:29:52.378Z"
      },
      {
        "duration": 37,
        "start_time": "2023-07-07T10:29:52.446Z"
      },
      {
        "duration": 13,
        "start_time": "2023-07-07T10:29:52.485Z"
      },
      {
        "duration": 447,
        "start_time": "2023-07-07T10:35:59.846Z"
      },
      {
        "duration": 34,
        "start_time": "2023-07-07T10:36:00.295Z"
      },
      {
        "duration": 17,
        "start_time": "2023-07-07T10:36:00.331Z"
      },
      {
        "duration": 42,
        "start_time": "2023-07-07T10:36:00.350Z"
      },
      {
        "duration": 24,
        "start_time": "2023-07-07T10:36:00.394Z"
      },
      {
        "duration": 44,
        "start_time": "2023-07-07T10:36:00.420Z"
      },
      {
        "duration": 790,
        "start_time": "2023-07-07T10:36:00.466Z"
      },
      {
        "duration": 66,
        "start_time": "2023-07-07T10:36:01.258Z"
      },
      {
        "duration": 15,
        "start_time": "2023-07-07T10:36:01.325Z"
      },
      {
        "duration": 121,
        "start_time": "2023-07-07T10:36:01.342Z"
      },
      {
        "duration": 90,
        "start_time": "2023-07-07T10:36:01.464Z"
      },
      {
        "duration": 351,
        "start_time": "2023-07-07T10:36:01.556Z"
      },
      {
        "duration": 301,
        "start_time": "2023-07-07T10:36:01.909Z"
      },
      {
        "duration": 249,
        "start_time": "2023-07-07T10:36:02.211Z"
      },
      {
        "duration": 345,
        "start_time": "2023-07-07T10:36:02.462Z"
      },
      {
        "duration": 206,
        "start_time": "2023-07-07T10:36:02.809Z"
      },
      {
        "duration": 305,
        "start_time": "2023-07-07T10:36:03.017Z"
      },
      {
        "duration": 155,
        "start_time": "2023-07-07T10:36:03.324Z"
      },
      {
        "duration": 4,
        "start_time": "2023-07-07T10:36:03.480Z"
      },
      {
        "duration": 194,
        "start_time": "2023-07-07T10:36:03.485Z"
      },
      {
        "duration": 4,
        "start_time": "2023-07-07T10:36:03.680Z"
      },
      {
        "duration": 216,
        "start_time": "2023-07-07T10:36:03.686Z"
      },
      {
        "duration": 168,
        "start_time": "2023-07-07T10:36:03.904Z"
      },
      {
        "duration": 7,
        "start_time": "2023-07-07T10:36:04.074Z"
      },
      {
        "duration": 30,
        "start_time": "2023-07-07T10:36:04.085Z"
      },
      {
        "duration": 14,
        "start_time": "2023-07-07T10:36:04.118Z"
      },
      {
        "duration": 41,
        "start_time": "2023-07-07T10:36:04.133Z"
      },
      {
        "duration": 9,
        "start_time": "2023-07-07T10:36:04.177Z"
      },
      {
        "duration": 28,
        "start_time": "2023-07-07T10:36:04.188Z"
      },
      {
        "duration": 16,
        "start_time": "2023-07-07T10:36:04.218Z"
      },
      {
        "duration": 11,
        "start_time": "2023-07-07T11:13:05.998Z"
      },
      {
        "duration": 15,
        "start_time": "2023-07-07T11:14:46.004Z"
      },
      {
        "duration": 403,
        "start_time": "2023-07-07T11:15:58.879Z"
      },
      {
        "duration": 33,
        "start_time": "2023-07-07T11:15:59.283Z"
      },
      {
        "duration": 12,
        "start_time": "2023-07-07T11:15:59.318Z"
      },
      {
        "duration": 10,
        "start_time": "2023-07-07T11:15:59.332Z"
      },
      {
        "duration": 7,
        "start_time": "2023-07-07T11:15:59.343Z"
      },
      {
        "duration": 7,
        "start_time": "2023-07-07T11:15:59.351Z"
      },
      {
        "duration": 693,
        "start_time": "2023-07-07T11:15:59.367Z"
      },
      {
        "duration": 62,
        "start_time": "2023-07-07T11:16:00.062Z"
      },
      {
        "duration": 12,
        "start_time": "2023-07-07T11:16:00.126Z"
      },
      {
        "duration": 42,
        "start_time": "2023-07-07T11:16:00.141Z"
      },
      {
        "duration": 27,
        "start_time": "2023-07-07T11:16:00.185Z"
      },
      {
        "duration": 310,
        "start_time": "2023-07-07T11:16:00.214Z"
      },
      {
        "duration": 291,
        "start_time": "2023-07-07T11:16:00.526Z"
      },
      {
        "duration": 222,
        "start_time": "2023-07-07T11:16:00.819Z"
      },
      {
        "duration": 346,
        "start_time": "2023-07-07T11:16:01.043Z"
      },
      {
        "duration": 225,
        "start_time": "2023-07-07T11:16:01.391Z"
      },
      {
        "duration": 297,
        "start_time": "2023-07-07T11:16:01.618Z"
      },
      {
        "duration": 166,
        "start_time": "2023-07-07T11:16:01.917Z"
      },
      {
        "duration": 4,
        "start_time": "2023-07-07T11:16:02.084Z"
      },
      {
        "duration": 212,
        "start_time": "2023-07-07T11:16:02.090Z"
      },
      {
        "duration": 4,
        "start_time": "2023-07-07T11:16:02.304Z"
      },
      {
        "duration": 244,
        "start_time": "2023-07-07T11:16:02.310Z"
      },
      {
        "duration": 127,
        "start_time": "2023-07-07T11:16:02.555Z"
      },
      {
        "duration": 6,
        "start_time": "2023-07-07T11:16:02.683Z"
      },
      {
        "duration": 38,
        "start_time": "2023-07-07T11:16:02.691Z"
      },
      {
        "duration": 11,
        "start_time": "2023-07-07T11:16:02.731Z"
      },
      {
        "duration": 18,
        "start_time": "2023-07-07T11:16:02.744Z"
      },
      {
        "duration": 27,
        "start_time": "2023-07-07T11:16:02.767Z"
      },
      {
        "duration": 34,
        "start_time": "2023-07-07T11:16:02.796Z"
      },
      {
        "duration": 28,
        "start_time": "2023-07-07T11:16:02.832Z"
      }
    ],
    "toc": {
      "base_numbering": 1,
      "nav_menu": {
        "height": "420px",
        "width": "680px"
      },
      "number_sections": true,
      "sideBar": true,
      "skip_h1_title": true,
      "title_cell": "Table of Contents",
      "title_sidebar": "Contents",
      "toc_cell": false,
      "toc_position": {},
      "toc_section_display": true,
      "toc_window_display": false
    },
    "kernelspec": {
      "name": "python",
      "display_name": "Python (Pyodide)",
      "language": "python"
    },
    "language_info": {
      "codemirror_mode": {
        "name": "ipython",
        "version": 3
      },
      "file_extension": ".py",
      "mimetype": "text/x-python",
      "name": "python",
      "nbconvert_exporter": "python",
      "pygments_lexer": "ipython3",
      "version": "3.9.5"
    }
  },
  "nbformat_minor": 4,
  "nbformat": 4,
  "cells": [
    {
      "cell_type": "markdown",
      "source": "# Проект \"Выбор гипотезы и анализ результатов А/В-теста\"",
      "metadata": {}
    },
    {
      "cell_type": "markdown",
      "source": "## Часть 1\n### Введение\nИмеется подготовленный список гипотез для увеличения выручки интернет-магазина.\nНеобходимо приоритизировать гипотезы для запуска A/B-теста и анализа результатов.\n\nЗадачи:\n- Применить фреймворк ICE для приоритизации гипотез. Отсортировать их по убыванию приоритета.\n- Применить фреймворк RICE для приоритизации гипотез. Отсортировать их по убыванию приоритета.\n- Указать, как изменилась приоритизация гипотез при применении RICE вместо ICE. Объяснить, почему так произошло.\n\nИмпортируем необходимую для этого библиотеку.",
      "metadata": {}
    },
    {
      "cell_type": "code",
      "source": "import pandas as pd",
      "metadata": {},
      "execution_count": 1,
      "outputs": []
    },
    {
      "cell_type": "markdown",
      "source": "### Получение данных\nПрочитаем датасет с гипотезами по увеличению выручки и посмотрим общую информацию.",
      "metadata": {}
    },
    {
      "cell_type": "code",
      "source": "data = pd.read_csv('/datasets/hypothesis.csv')\ndata.info()",
      "metadata": {},
      "execution_count": 2,
      "outputs": [
        {
          "name": "stdout",
          "output_type": "stream",
          "text": "<class 'pandas.core.frame.DataFrame'>\n\nRangeIndex: 9 entries, 0 to 8\n\nData columns (total 5 columns):\n\n #   Column      Non-Null Count  Dtype \n\n---  ------      --------------  ----- \n\n 0   Hypothesis  9 non-null      object\n\n 1   Reach       9 non-null      int64 \n\n 2   Impact      9 non-null      int64 \n\n 3   Confidence  9 non-null      int64 \n\n 4   Efforts     9 non-null      int64 \n\ndtypes: int64(4), object(1)\n\nmemory usage: 488.0+ bytes\n"
        }
      ]
    },
    {
      "cell_type": "markdown",
      "source": "Всего 9 строк и 5 столбцов - можно вывести таблицу целиком и посмотреть на данные.\n- Hypothesis — краткое описание гипотезы;\n- Reach — охват пользователей по 10-балльной шкале;\n- Impact — влияние на пользователей по 10-балльной шкале;\n- Confidence — уверенность в гипотезе по 10-балльной шкале;\n- Efforts — затраты ресурсов на проверку гипотезы по 10-балльной шкале. Чем больше значение Efforts, тем дороже проверка гипотезы.\n\nСразу для удобства приведем названия столбцов к нижнему регистру.",
      "metadata": {}
    },
    {
      "cell_type": "code",
      "source": "data.columns = map(str.lower, data.columns)\ndisplay(data)",
      "metadata": {
        "scrolled": true
      },
      "execution_count": 3,
      "outputs": [
        {
          "output_type": "display_data",
          "data": {
            "text/html": [
              "<div>\n",
              "<style scoped>\n",
              "    .dataframe tbody tr th:only-of-type {\n",
              "        vertical-align: middle;\n",
              "    }\n",
              "\n",
              "    .dataframe tbody tr th {\n",
              "        vertical-align: top;\n",
              "    }\n",
              "\n",
              "    .dataframe thead th {\n",
              "        text-align: right;\n",
              "    }\n",
              "</style>\n",
              "<table border=\"1\" class=\"dataframe\">\n",
              "  <thead>\n",
              "    <tr style=\"text-align: right;\">\n",
              "      <th></th>\n",
              "      <th>hypothesis</th>\n",
              "      <th>reach</th>\n",
              "      <th>impact</th>\n",
              "      <th>confidence</th>\n",
              "      <th>efforts</th>\n",
              "    </tr>\n",
              "  </thead>\n",
              "  <tbody>\n",
              "    <tr>\n",
              "      <th>0</th>\n",
              "      <td>Добавить два новых канала привлечения трафика,...</td>\n",
              "      <td>3</td>\n",
              "      <td>10</td>\n",
              "      <td>8</td>\n",
              "      <td>6</td>\n",
              "    </tr>\n",
              "    <tr>\n",
              "      <th>1</th>\n",
              "      <td>Запустить собственную службу доставки, что сок...</td>\n",
              "      <td>2</td>\n",
              "      <td>5</td>\n",
              "      <td>4</td>\n",
              "      <td>10</td>\n",
              "    </tr>\n",
              "    <tr>\n",
              "      <th>2</th>\n",
              "      <td>Добавить блоки рекомендаций товаров на сайт ин...</td>\n",
              "      <td>8</td>\n",
              "      <td>3</td>\n",
              "      <td>7</td>\n",
              "      <td>3</td>\n",
              "    </tr>\n",
              "    <tr>\n",
              "      <th>3</th>\n",
              "      <td>Изменить структура категорий, что увеличит кон...</td>\n",
              "      <td>8</td>\n",
              "      <td>3</td>\n",
              "      <td>3</td>\n",
              "      <td>8</td>\n",
              "    </tr>\n",
              "    <tr>\n",
              "      <th>4</th>\n",
              "      <td>Изменить цвет фона главной страницы, чтобы уве...</td>\n",
              "      <td>3</td>\n",
              "      <td>1</td>\n",
              "      <td>1</td>\n",
              "      <td>1</td>\n",
              "    </tr>\n",
              "    <tr>\n",
              "      <th>5</th>\n",
              "      <td>Добавить страницу отзывов клиентов о магазине,...</td>\n",
              "      <td>3</td>\n",
              "      <td>2</td>\n",
              "      <td>2</td>\n",
              "      <td>3</td>\n",
              "    </tr>\n",
              "    <tr>\n",
              "      <th>6</th>\n",
              "      <td>Показать на главной странице баннеры с актуаль...</td>\n",
              "      <td>5</td>\n",
              "      <td>3</td>\n",
              "      <td>8</td>\n",
              "      <td>3</td>\n",
              "    </tr>\n",
              "    <tr>\n",
              "      <th>7</th>\n",
              "      <td>Добавить форму подписки на все основные страни...</td>\n",
              "      <td>10</td>\n",
              "      <td>7</td>\n",
              "      <td>8</td>\n",
              "      <td>5</td>\n",
              "    </tr>\n",
              "    <tr>\n",
              "      <th>8</th>\n",
              "      <td>Запустить акцию, дающую скидку на товар в день...</td>\n",
              "      <td>1</td>\n",
              "      <td>9</td>\n",
              "      <td>9</td>\n",
              "      <td>5</td>\n",
              "    </tr>\n",
              "  </tbody>\n",
              "</table>\n",
              "</div>"
            ],
            "text/plain": [
              "                                          hypothesis  reach  impact  \\\n",
              "0  Добавить два новых канала привлечения трафика,...      3      10   \n",
              "1  Запустить собственную службу доставки, что сок...      2       5   \n",
              "2  Добавить блоки рекомендаций товаров на сайт ин...      8       3   \n",
              "3  Изменить структура категорий, что увеличит кон...      8       3   \n",
              "4  Изменить цвет фона главной страницы, чтобы уве...      3       1   \n",
              "5  Добавить страницу отзывов клиентов о магазине,...      3       2   \n",
              "6  Показать на главной странице баннеры с актуаль...      5       3   \n",
              "7  Добавить форму подписки на все основные страни...     10       7   \n",
              "8  Запустить акцию, дающую скидку на товар в день...      1       9   \n",
              "\n",
              "   confidence  efforts  \n",
              "0           8        6  \n",
              "1           4       10  \n",
              "2           7        3  \n",
              "3           3        8  \n",
              "4           1        1  \n",
              "5           2        3  \n",
              "6           8        3  \n",
              "7           8        5  \n",
              "8           9        5  "
            ]
          },
          "metadata": {}
        }
      ]
    },
    {
      "cell_type": "markdown",
      "source": "Благодаря небольшому размеру таблицы, видим, что отсутствуют дубликаты, аномалии и пропуски, а типы данных соответствуют необходимым для расчета. Можно рассчитывать ICE.",
      "metadata": {}
    },
    {
      "cell_type": "markdown",
      "source": "### Расчет приоритизации гипотез\nРасчитаем ICE для имеющихся гипотез.",
      "metadata": {}
    },
    {
      "cell_type": "code",
      "source": "data['ICE'] = round(data['impact'] * data['confidence'] / data['efforts'], 2)\ndisplay(data[['hypothesis', 'ICE']].sort_values(by='ICE', ascending=False))",
      "metadata": {},
      "execution_count": 4,
      "outputs": [
        {
          "output_type": "display_data",
          "data": {
            "text/html": [
              "<div>\n",
              "<style scoped>\n",
              "    .dataframe tbody tr th:only-of-type {\n",
              "        vertical-align: middle;\n",
              "    }\n",
              "\n",
              "    .dataframe tbody tr th {\n",
              "        vertical-align: top;\n",
              "    }\n",
              "\n",
              "    .dataframe thead th {\n",
              "        text-align: right;\n",
              "    }\n",
              "</style>\n",
              "<table border=\"1\" class=\"dataframe\">\n",
              "  <thead>\n",
              "    <tr style=\"text-align: right;\">\n",
              "      <th></th>\n",
              "      <th>hypothesis</th>\n",
              "      <th>ICE</th>\n",
              "    </tr>\n",
              "  </thead>\n",
              "  <tbody>\n",
              "    <tr>\n",
              "      <th>8</th>\n",
              "      <td>Запустить акцию, дающую скидку на товар в день...</td>\n",
              "      <td>16.20</td>\n",
              "    </tr>\n",
              "    <tr>\n",
              "      <th>0</th>\n",
              "      <td>Добавить два новых канала привлечения трафика,...</td>\n",
              "      <td>13.33</td>\n",
              "    </tr>\n",
              "    <tr>\n",
              "      <th>7</th>\n",
              "      <td>Добавить форму подписки на все основные страни...</td>\n",
              "      <td>11.20</td>\n",
              "    </tr>\n",
              "    <tr>\n",
              "      <th>6</th>\n",
              "      <td>Показать на главной странице баннеры с актуаль...</td>\n",
              "      <td>8.00</td>\n",
              "    </tr>\n",
              "    <tr>\n",
              "      <th>2</th>\n",
              "      <td>Добавить блоки рекомендаций товаров на сайт ин...</td>\n",
              "      <td>7.00</td>\n",
              "    </tr>\n",
              "    <tr>\n",
              "      <th>1</th>\n",
              "      <td>Запустить собственную службу доставки, что сок...</td>\n",
              "      <td>2.00</td>\n",
              "    </tr>\n",
              "    <tr>\n",
              "      <th>5</th>\n",
              "      <td>Добавить страницу отзывов клиентов о магазине,...</td>\n",
              "      <td>1.33</td>\n",
              "    </tr>\n",
              "    <tr>\n",
              "      <th>3</th>\n",
              "      <td>Изменить структура категорий, что увеличит кон...</td>\n",
              "      <td>1.12</td>\n",
              "    </tr>\n",
              "    <tr>\n",
              "      <th>4</th>\n",
              "      <td>Изменить цвет фона главной страницы, чтобы уве...</td>\n",
              "      <td>1.00</td>\n",
              "    </tr>\n",
              "  </tbody>\n",
              "</table>\n",
              "</div>"
            ],
            "text/plain": [
              "                                          hypothesis    ICE\n",
              "8  Запустить акцию, дающую скидку на товар в день...  16.20\n",
              "0  Добавить два новых канала привлечения трафика,...  13.33\n",
              "7  Добавить форму подписки на все основные страни...  11.20\n",
              "6  Показать на главной странице баннеры с актуаль...   8.00\n",
              "2  Добавить блоки рекомендаций товаров на сайт ин...   7.00\n",
              "1  Запустить собственную службу доставки, что сок...   2.00\n",
              "5  Добавить страницу отзывов клиентов о магазине,...   1.33\n",
              "3  Изменить структура категорий, что увеличит кон...   1.12\n",
              "4  Изменить цвет фона главной страницы, чтобы уве...   1.00"
            ]
          },
          "metadata": {}
        }
      ]
    },
    {
      "cell_type": "markdown",
      "source": "Наиболее перспективные гипотезы 8, 0 и 7. Расчитаем RICE.",
      "metadata": {}
    },
    {
      "cell_type": "code",
      "source": "data['RICE'] = data['reach'] * data['impact'] * data['confidence'] / data['efforts']\nprint(data[['hypothesis', 'RICE']].sort_values(by='RICE', ascending=False))",
      "metadata": {},
      "execution_count": 5,
      "outputs": [
        {
          "name": "stdout",
          "output_type": "stream",
          "text": "                                          hypothesis   RICE\n\n7  Добавить форму подписки на все основные страни...  112.0\n\n2  Добавить блоки рекомендаций товаров на сайт ин...   56.0\n\n0  Добавить два новых канала привлечения трафика,...   40.0\n\n6  Показать на главной странице баннеры с актуаль...   40.0\n\n8  Запустить акцию, дающую скидку на товар в день...   16.2\n\n3  Изменить структура категорий, что увеличит кон...    9.0\n\n1  Запустить собственную службу доставки, что сок...    4.0\n\n5  Добавить страницу отзывов клиентов о магазине,...    4.0\n\n4  Изменить цвет фона главной страницы, чтобы уве...    3.0\n"
        }
      ]
    },
    {
      "cell_type": "markdown",
      "source": "По RICE самая перспективная гипотеза с большим отрывом - 7. Далее 2, 0 и 6 гипотезы.\n\nТак произошло, потому что фреймворк RICE учитывает reach — скольких пользователей затронет изменение, благодаря чему 7-я гипотеза, у которой reach = 10, уверенно вырвалась вперед, а 8-я гипотеза, у которой reach = 1, опустилась ниже по списку.",
      "metadata": {}
    },
    {
      "cell_type": "markdown",
      "source": "Выведем описание самой перспективной гипотезы по RICE.",
      "metadata": {}
    },
    {
      "cell_type": "code",
      "source": "top_hypothesis = data.sort_values(by='RICE', ascending=False).head(1)\npd.options.display.max_colwidth = 130\ndisplay(top_hypothesis['hypothesis'])",
      "metadata": {},
      "execution_count": 6,
      "outputs": [
        {
          "output_type": "display_data",
          "data": {
            "text/plain": [
              "7    Добавить форму подписки на все основные страницы, чтобы собрать базу клиентов для email-рассылок\n",
              "Name: hypothesis, dtype: object"
            ]
          },
          "metadata": {}
        }
      ]
    },
    {
      "cell_type": "markdown",
      "source": "## Часть 2.\n### Введение\nA/B-тест был проведен и были получены результаты, которые необходимо проанализировать.\n\nЗадачи:\n1. Прочитать результаты теста и провести предобработку данных в случае необходимости.\n2. Построить график кумулятивной выручки по группам. Сделать выводы и предположения.\n3. Построить график кумулятивного среднего чека по группам. Сделать выводы и предположения.\n4. Построить график относительного изменения кумулятивного среднего чека группы B к группе A. Сделать выводы и предположения.\n5. Построить график кумулятивного среднего количества заказов на посетителя по группам. Сделать выводы и предположения.\n6. Построить график относительного изменения кумулятивного среднего количества заказов на посетителя группы B к группе A. Сделать выводы и предположения.\n7. Построить точечный график количества заказов по пользователям. Сделать выводы и предположения.\n8. Посчитать 95-й и 99-й перцентили количества заказов на пользователя. Выбрать границу для определения аномальных пользователей.\n9. Построить точечный график стоимостей заказов. Сделать выводы и предположения.\n10. Посчитать 95-й и 99-й перцентили стоимости заказов. Выбрать границу для определения аномальных заказов.\n11. Посчитать статистическую значимость различий в среднем количестве заказов на посетителя между группами по «сырым» данным. Сделать выводы и предположения.\n12. Посчитать статистическую значимость различий в среднем чеке заказа между группами по «сырым» данным. Сделать выводы и предположения.\n13. Посчитать статистическую значимость различий в среднем количестве заказов на посетителя между группами по «очищенным» данным. Сделать выводы и предположения.\n14. Посчитать статистическую значимость различий в среднем чеке заказа между группами по «очищенным» данным. Сделать выводы и предположения.\n15. Принять решение по результатам теста и объяснить его. Варианты решений: \n    1. Остановить тест, зафиксировать победу одной из групп. \n    2. Остановить тест, зафиксировать отсутствие различий между группами. \n    3. Продолжить тест.\n\nИмпортируем необходимые для этого библиотеки и модули.",
      "metadata": {}
    },
    {
      "cell_type": "code",
      "source": "import pandas as pd\nimport datetime as dt\nimport numpy as np\nimport matplotlib.pyplot as plt\nimport scipy.stats as stats",
      "metadata": {},
      "execution_count": 7,
      "outputs": []
    },
    {
      "cell_type": "markdown",
      "source": "### Получение результатов теста\nПрочитаем в переменную orders данные о заказах, а в перерменную visitors - данные о пользователях.",
      "metadata": {}
    },
    {
      "cell_type": "code",
      "source": "orders = pd.read_csv('/datasets/orders.csv')\nvisitors = pd.read_csv('/datasets/visitors.csv')\norders.info()\nvisitors.info()",
      "metadata": {},
      "execution_count": 8,
      "outputs": [
        {
          "name": "stdout",
          "output_type": "stream",
          "text": "<class 'pandas.core.frame.DataFrame'>\n\nRangeIndex: 1197 entries, 0 to 1196\n\nData columns (total 5 columns):\n\n #   Column         Non-Null Count  Dtype \n\n---  ------         --------------  ----- \n\n 0   transactionId  1197 non-null   int64 \n\n 1   visitorId      1197 non-null   int64 \n\n 2   date           1197 non-null   object\n\n 3   revenue        1197 non-null   int64 \n\n 4   group          1197 non-null   object\n\ndtypes: int64(3), object(2)\n\nmemory usage: 46.9+ KB\n\n<class 'pandas.core.frame.DataFrame'>\n\nRangeIndex: 62 entries, 0 to 61\n\nData columns (total 3 columns):\n\n #   Column    Non-Null Count  Dtype \n\n---  ------    --------------  ----- \n\n 0   date      62 non-null     object\n\n 1   group     62 non-null     object\n\n 2   visitors  62 non-null     int64 \n\ndtypes: int64(1), object(2)\n\nmemory usage: 1.6+ KB\n"
        }
      ]
    },
    {
      "cell_type": "markdown",
      "source": "Наблюдаем, что в таблицах нет ни единого пропуска.\n\nСтолбцы таблицы orders:\n- transactionId — идентификатор заказа;\n- visitorId — идентификатор пользователя, совершившего заказ;\n- date — дата, когда был совершён заказ;\n- revenue — выручка заказа;\n- group — группа A/B-теста, в которую попал заказ.\n\nСтолбцы таблицы visitors:\n- date — дата;\n- group — группа A/B-теста;\n- visitors — количество пользователей в указанную дату в указанной группе A/B-теста.\n\nТипы данных столбцов соответсвуют необходимым кроме столбцов с датами. Посомтрим в каком виде записаны даты и приведем их к нужному типу данных.\n",
      "metadata": {}
    },
    {
      "cell_type": "code",
      "source": "display(orders.head())\ndisplay(visitors.head())",
      "metadata": {},
      "execution_count": 9,
      "outputs": [
        {
          "output_type": "display_data",
          "data": {
            "text/html": [
              "<div>\n",
              "<style scoped>\n",
              "    .dataframe tbody tr th:only-of-type {\n",
              "        vertical-align: middle;\n",
              "    }\n",
              "\n",
              "    .dataframe tbody tr th {\n",
              "        vertical-align: top;\n",
              "    }\n",
              "\n",
              "    .dataframe thead th {\n",
              "        text-align: right;\n",
              "    }\n",
              "</style>\n",
              "<table border=\"1\" class=\"dataframe\">\n",
              "  <thead>\n",
              "    <tr style=\"text-align: right;\">\n",
              "      <th></th>\n",
              "      <th>transactionId</th>\n",
              "      <th>visitorId</th>\n",
              "      <th>date</th>\n",
              "      <th>revenue</th>\n",
              "      <th>group</th>\n",
              "    </tr>\n",
              "  </thead>\n",
              "  <tbody>\n",
              "    <tr>\n",
              "      <th>0</th>\n",
              "      <td>3667963787</td>\n",
              "      <td>3312258926</td>\n",
              "      <td>2019-08-15</td>\n",
              "      <td>1650</td>\n",
              "      <td>B</td>\n",
              "    </tr>\n",
              "    <tr>\n",
              "      <th>1</th>\n",
              "      <td>2804400009</td>\n",
              "      <td>3642806036</td>\n",
              "      <td>2019-08-15</td>\n",
              "      <td>730</td>\n",
              "      <td>B</td>\n",
              "    </tr>\n",
              "    <tr>\n",
              "      <th>2</th>\n",
              "      <td>2961555356</td>\n",
              "      <td>4069496402</td>\n",
              "      <td>2019-08-15</td>\n",
              "      <td>400</td>\n",
              "      <td>A</td>\n",
              "    </tr>\n",
              "    <tr>\n",
              "      <th>3</th>\n",
              "      <td>3797467345</td>\n",
              "      <td>1196621759</td>\n",
              "      <td>2019-08-15</td>\n",
              "      <td>9759</td>\n",
              "      <td>B</td>\n",
              "    </tr>\n",
              "    <tr>\n",
              "      <th>4</th>\n",
              "      <td>2282983706</td>\n",
              "      <td>2322279887</td>\n",
              "      <td>2019-08-15</td>\n",
              "      <td>2308</td>\n",
              "      <td>B</td>\n",
              "    </tr>\n",
              "  </tbody>\n",
              "</table>\n",
              "</div>"
            ],
            "text/plain": [
              "   transactionId   visitorId        date  revenue group\n",
              "0     3667963787  3312258926  2019-08-15     1650     B\n",
              "1     2804400009  3642806036  2019-08-15      730     B\n",
              "2     2961555356  4069496402  2019-08-15      400     A\n",
              "3     3797467345  1196621759  2019-08-15     9759     B\n",
              "4     2282983706  2322279887  2019-08-15     2308     B"
            ]
          },
          "metadata": {}
        },
        {
          "output_type": "display_data",
          "data": {
            "text/html": [
              "<div>\n",
              "<style scoped>\n",
              "    .dataframe tbody tr th:only-of-type {\n",
              "        vertical-align: middle;\n",
              "    }\n",
              "\n",
              "    .dataframe tbody tr th {\n",
              "        vertical-align: top;\n",
              "    }\n",
              "\n",
              "    .dataframe thead th {\n",
              "        text-align: right;\n",
              "    }\n",
              "</style>\n",
              "<table border=\"1\" class=\"dataframe\">\n",
              "  <thead>\n",
              "    <tr style=\"text-align: right;\">\n",
              "      <th></th>\n",
              "      <th>date</th>\n",
              "      <th>group</th>\n",
              "      <th>visitors</th>\n",
              "    </tr>\n",
              "  </thead>\n",
              "  <tbody>\n",
              "    <tr>\n",
              "      <th>0</th>\n",
              "      <td>2019-08-01</td>\n",
              "      <td>A</td>\n",
              "      <td>719</td>\n",
              "    </tr>\n",
              "    <tr>\n",
              "      <th>1</th>\n",
              "      <td>2019-08-02</td>\n",
              "      <td>A</td>\n",
              "      <td>619</td>\n",
              "    </tr>\n",
              "    <tr>\n",
              "      <th>2</th>\n",
              "      <td>2019-08-03</td>\n",
              "      <td>A</td>\n",
              "      <td>507</td>\n",
              "    </tr>\n",
              "    <tr>\n",
              "      <th>3</th>\n",
              "      <td>2019-08-04</td>\n",
              "      <td>A</td>\n",
              "      <td>717</td>\n",
              "    </tr>\n",
              "    <tr>\n",
              "      <th>4</th>\n",
              "      <td>2019-08-05</td>\n",
              "      <td>A</td>\n",
              "      <td>756</td>\n",
              "    </tr>\n",
              "  </tbody>\n",
              "</table>\n",
              "</div>"
            ],
            "text/plain": [
              "         date group  visitors\n",
              "0  2019-08-01     A       719\n",
              "1  2019-08-02     A       619\n",
              "2  2019-08-03     A       507\n",
              "3  2019-08-04     A       717\n",
              "4  2019-08-05     A       756"
            ]
          },
          "metadata": {}
        }
      ]
    },
    {
      "cell_type": "code",
      "source": "orders['date'] = orders['date'].map(lambda x: dt.datetime.strptime(x, '%Y-%m-%d'))\nvisitors['date'] = visitors['date'].map(lambda x: dt.datetime.strptime(x, '%Y-%m-%d'))\norders.info()\nvisitors.info()",
      "metadata": {},
      "execution_count": 10,
      "outputs": [
        {
          "name": "stdout",
          "output_type": "stream",
          "text": "<class 'pandas.core.frame.DataFrame'>\n\nRangeIndex: 1197 entries, 0 to 1196\n\nData columns (total 5 columns):\n\n #   Column         Non-Null Count  Dtype         \n\n---  ------         --------------  -----         \n\n 0   transactionId  1197 non-null   int64         \n\n 1   visitorId      1197 non-null   int64         \n\n 2   date           1197 non-null   datetime64[ns]\n\n 3   revenue        1197 non-null   int64         \n\n 4   group          1197 non-null   object        \n\ndtypes: datetime64[ns](1), int64(3), object(1)\n\nmemory usage: 46.9+ KB\n\n<class 'pandas.core.frame.DataFrame'>\n\nRangeIndex: 62 entries, 0 to 61\n\nData columns (total 3 columns):\n\n #   Column    Non-Null Count  Dtype         \n\n---  ------    --------------  -----         \n\n 0   date      62 non-null     datetime64[ns]\n\n 1   group     62 non-null     object        \n\n 2   visitors  62 non-null     int64         \n\ndtypes: datetime64[ns](1), int64(1), object(1)\n\nmemory usage: 1.6+ KB\n"
        }
      ]
    },
    {
      "cell_type": "markdown",
      "source": "Теперь типы данных позволяют провести расчет. Проверим данные на явные дубликаты.",
      "metadata": {}
    },
    {
      "cell_type": "code",
      "source": "print('Дубликаты таблицы orders:', orders.duplicated().sum())\nprint('Дубликаты таблицы visitors:', visitors.duplicated().sum())",
      "metadata": {},
      "execution_count": 11,
      "outputs": [
        {
          "name": "stdout",
          "output_type": "stream",
          "text": "Дубликаты таблицы orders: 0\n\nДубликаты таблицы visitors: 0\n"
        }
      ]
    },
    {
      "cell_type": "markdown",
      "source": "Явные дубликаты не найдены, а неявных, будем считать, нет, так как данные в основном в числовом формате, где неявным дубликатам появиться затруднительно.\n\nМожно приступать к анализу.",
      "metadata": {}
    },
    {
      "cell_type": "markdown",
      "source": "### График кумулятивной выручки по группам",
      "metadata": {}
    },
    {
      "cell_type": "markdown",
      "source": "Чтобы построить графики, нужно собрать кумулятивные данные. Соберем их в датафрейм cumulativeData со столбцами: \n- date — дата;\n- group — группа A/B-теста (A или B);\n- orders — кумулятивное количество заказов на указанную дату в указанной группе;\n- buyers — кумулятивное количество пользователей, совершивших хотя бы один заказ, на указанную дату в указанной группе;\n- revenue — кумулятивная выручка на указанную дату в указанной группе (средний чек);\n- visitors — кумулятивное количество посетителей интернет-магазина на указанную дату в определённой группе.",
      "metadata": {}
    },
    {
      "cell_type": "code",
      "source": "# создаем массив уникальных пар значений дат и групп теста\ndatesGroups = orders[['date','group']].drop_duplicates()\n\n# создаем кумулятивные данные по дням по таблице orders\nordersAggregated = datesGroups.apply(\n    lambda x: orders[np.logical_and(orders['date'] <= x['date'], orders['group'] == x['group'])]\\\n    .agg(\n        {'date' : 'max', \n         'group' : 'max', \n         'transactionId' : 'nunique', \n         'visitorId' : 'nunique', \n         'revenue' : 'sum'}\n    ), axis=1).sort_values(by=['date','group'])\n\n# создаем кумулятивные данные по дням по таблице visitors\nvisitorsAggregated = datesGroups.apply(\n    lambda x: visitors[np.logical_and(visitors['date'] <= x['date'], visitors['group'] == x['group'])]\\\n    .agg(\n        {'date' : 'max', \n         'group' : 'max', \n         'visitors' : 'sum'}\n    ), axis=1).sort_values(by=['date','group'])\n\n# объединяем кумулятивные данные в одной таблице\ncumulativeData = ordersAggregated.merge(\n    visitorsAggregated, \n    left_on=['date', 'group'], \n    right_on=['date', 'group']\n)\n\n# присваиваем столбцам понятные названия\ncumulativeData.columns = ['date', \n                          'group', \n                          'orders', \n                          'buyers', \n                          'revenue', \n                          'visitors']\ndisplay(cumulativeData.head(5))",
      "metadata": {},
      "execution_count": 12,
      "outputs": [
        {
          "output_type": "display_data",
          "data": {
            "text/html": [
              "<div>\n",
              "<style scoped>\n",
              "    .dataframe tbody tr th:only-of-type {\n",
              "        vertical-align: middle;\n",
              "    }\n",
              "\n",
              "    .dataframe tbody tr th {\n",
              "        vertical-align: top;\n",
              "    }\n",
              "\n",
              "    .dataframe thead th {\n",
              "        text-align: right;\n",
              "    }\n",
              "</style>\n",
              "<table border=\"1\" class=\"dataframe\">\n",
              "  <thead>\n",
              "    <tr style=\"text-align: right;\">\n",
              "      <th></th>\n",
              "      <th>date</th>\n",
              "      <th>group</th>\n",
              "      <th>orders</th>\n",
              "      <th>buyers</th>\n",
              "      <th>revenue</th>\n",
              "      <th>visitors</th>\n",
              "    </tr>\n",
              "  </thead>\n",
              "  <tbody>\n",
              "    <tr>\n",
              "      <th>0</th>\n",
              "      <td>2019-08-01</td>\n",
              "      <td>A</td>\n",
              "      <td>24</td>\n",
              "      <td>20</td>\n",
              "      <td>148579</td>\n",
              "      <td>719</td>\n",
              "    </tr>\n",
              "    <tr>\n",
              "      <th>1</th>\n",
              "      <td>2019-08-01</td>\n",
              "      <td>B</td>\n",
              "      <td>21</td>\n",
              "      <td>20</td>\n",
              "      <td>101217</td>\n",
              "      <td>713</td>\n",
              "    </tr>\n",
              "    <tr>\n",
              "      <th>2</th>\n",
              "      <td>2019-08-02</td>\n",
              "      <td>A</td>\n",
              "      <td>44</td>\n",
              "      <td>38</td>\n",
              "      <td>242401</td>\n",
              "      <td>1338</td>\n",
              "    </tr>\n",
              "    <tr>\n",
              "      <th>3</th>\n",
              "      <td>2019-08-02</td>\n",
              "      <td>B</td>\n",
              "      <td>45</td>\n",
              "      <td>43</td>\n",
              "      <td>266748</td>\n",
              "      <td>1294</td>\n",
              "    </tr>\n",
              "    <tr>\n",
              "      <th>4</th>\n",
              "      <td>2019-08-03</td>\n",
              "      <td>A</td>\n",
              "      <td>68</td>\n",
              "      <td>62</td>\n",
              "      <td>354874</td>\n",
              "      <td>1845</td>\n",
              "    </tr>\n",
              "  </tbody>\n",
              "</table>\n",
              "</div>"
            ],
            "text/plain": [
              "        date group  orders  buyers  revenue  visitors\n",
              "0 2019-08-01     A      24      20   148579       719\n",
              "1 2019-08-01     B      21      20   101217       713\n",
              "2 2019-08-02     A      44      38   242401      1338\n",
              "3 2019-08-02     B      45      43   266748      1294\n",
              "4 2019-08-03     A      68      62   354874      1845"
            ]
          },
          "metadata": {}
        }
      ]
    },
    {
      "cell_type": "markdown",
      "source": "Построим график кумулятивной выручки для каждой группы.",
      "metadata": {}
    },
    {
      "cell_type": "code",
      "source": "# датафрейм с кумулятивным количеством заказов и кумулятивной выручкой по дням в группе А\ncumulativeRevenueA = cumulativeData[cumulativeData['group']=='A'][['date','revenue', 'orders']]\n\n# датафрейм с кумулятивным количеством заказов и кумулятивной выручкой по дням в группе B\ncumulativeRevenueB = cumulativeData[cumulativeData['group']=='B'][['date','revenue', 'orders']]\n\nplt.figure(figsize=(12,8))\n\n# Строим график выручки группы А\nplt.plot(cumulativeRevenueA['date'], cumulativeRevenueA['revenue'], label='A')\n\n# Строим график выручки группы B\nplt.plot(cumulativeRevenueB['date'], cumulativeRevenueB['revenue'], label='B')\nplt.legend()\nplt.title('График кумулятивной выручки')\nplt.xlabel('Дата')\nplt.ylabel('Выручка, млн')\nplt.show()",
      "metadata": {},
      "execution_count": 13,
      "outputs": [
        {
          "output_type": "display_data",
          "data": {
            "image/png": "[encoded data removed]",
            "text/plain": [
              "<Figure size 864x576 with 1 Axes>"
            ]
          },
          "metadata": {
            "needs_background": "light"
          }
        }
      ]
    },
    {
      "cell_type": "markdown",
      "source": "Выручка в обех группах растет почти равномерно, но в группе В виден резкий скачек, что может свидетельствовать о всплесках числа заказов, либо о появлении очень дорогих заказов в выборке. Несмотря на это, графики выглядят так, что выручка группы В почти всегда больше выручки группы А.",
      "metadata": {}
    },
    {
      "cell_type": "markdown",
      "source": "### График кумулятивного среднего чека по группам\nПостроим график кумулятивного среднего чека, разделив кумулятивную выручку на кумулятивное число заказов.",
      "metadata": {}
    },
    {
      "cell_type": "code",
      "source": "plt.figure(figsize=(12,8))\nplt.plot(cumulativeRevenueA['date'], \n         cumulativeRevenueA['revenue']/cumulativeRevenueA['orders'], \n         label='A')\n\nplt.plot(cumulativeRevenueB['date'], \n         cumulativeRevenueB['revenue']/cumulativeRevenueB['orders'], \n         label='B')\nplt.legend()\nplt.title('График кумулятивного среднего чека')\nplt.xlabel('Дата')\nplt.ylabel('Средний чек')",
      "metadata": {},
      "execution_count": 14,
      "outputs": [
        {
          "execution_count": 14,
          "output_type": "execute_result",
          "data": {
            "text/plain": [
              "Text(0, 0.5, 'Средний чек')"
            ]
          },
          "metadata": {}
        },
        {
          "output_type": "display_data",
          "data": {
            "image/png": "[encoded data removed]",
            "text/plain": [
              "<Figure size 864x576 with 1 Axes>"
            ]
          },
          "metadata": {
            "needs_background": "light"
          }
        }
      ]
    },
    {
      "cell_type": "markdown",
      "source": "Чем ближе к конце теста, тем более стабильные становятся графики, при этом график А держится в районе 7000, а график В после резкого роста, постепенно снижается. Резкий рост графика В свидетельствует об аномально крупном заказе или заказах. В таком случае графику В нужно больше времени, чтобы прийти к реальному среднему чеку и установиться на его уровне. При этом низкий в начале график А, и последующий резкий рост свидетельствует о дешевых заказах.",
      "metadata": {}
    },
    {
      "cell_type": "markdown",
      "source": "### График относительного изменения кумулятивного среднего чека группы B к группе A\nПостроим график относительного различия для среднего чека.",
      "metadata": {}
    },
    {
      "cell_type": "code",
      "source": "# собираем данные в одном датафрейме\nmergedCumulativeRevenue = cumulativeRevenueA.merge(cumulativeRevenueB, \n                                                   left_on='date', \n                                                   right_on='date', \n                                                   how='left', \n                                                   suffixes=['A', 'B'])\n\n# cтроим отношение средних чеков\nplt.figure(figsize=(12,8))\nplt.plot(\n    mergedCumulativeRevenue['date'], \n    (mergedCumulativeRevenue['revenueB']/mergedCumulativeRevenue['ordersB'])\n    /(mergedCumulativeRevenue['revenueA']/mergedCumulativeRevenue['ordersA'])-1\n)\n\n# добавляем ось X\nplt.axhline(y=0, color='black', linestyle='--')\n\nplt.title('График относительного изменения кумулятивного среднего чека группы B к группе A')\nplt.xlabel('Дата')\nplt.ylabel('Относительное изменение')",
      "metadata": {},
      "execution_count": 15,
      "outputs": [
        {
          "execution_count": 15,
          "output_type": "execute_result",
          "data": {
            "text/plain": [
              "Text(0, 0.5, 'Относительное изменение')"
            ]
          },
          "metadata": {}
        },
        {
          "output_type": "display_data",
          "data": {
            "image/png": "[encoded data removed]",
            "text/plain": [
              "<Figure size 864x576 with 1 Axes>"
            ]
          },
          "metadata": {
            "needs_background": "light"
          }
        }
      ]
    },
    {
      "cell_type": "markdown",
      "source": "Практически везде график положительный, то есть вроде бы как кумулятивный средний чек группы В имеет преимущество перед группой А, но большие резкие перепады свидетельствуют о всплесках в данных.",
      "metadata": {}
    },
    {
      "cell_type": "markdown",
      "source": "### График кумулятивного среднего количества заказов на посетителя по группам\nИными словами, построим график кумулятивной конверсии.",
      "metadata": {}
    },
    {
      "cell_type": "code",
      "source": "# считаем кумулятивную конверсию\ncumulativeData['conversion'] = cumulativeData['orders']/cumulativeData['visitors']\n\n# отделяем данные по группе A\ncumulativeDataA = cumulativeData[cumulativeData['group']=='A']\n\n# отделяем данные по группе B\ncumulativeDataB = cumulativeData[cumulativeData['group']=='B']\n\n# строим графики\nplt.figure(figsize=(12,8))\nplt.plot(cumulativeDataA['date'], cumulativeDataA['conversion'], label='A')\nplt.plot(cumulativeDataB['date'], cumulativeDataB['conversion'], label='B')\nplt.legend()\n\n# задаем масштаб осей\nplt.axis([cumulativeDataA['date'].min(), cumulativeDataA['date'].max(), 0.020, 0.045])\n\nplt.title('График кумулятивного среднего количества заказов на посетителя по группам')\nplt.xlabel('Дата')\nplt.ylabel('Кумулятивная конверсия')",
      "metadata": {},
      "execution_count": 16,
      "outputs": [
        {
          "execution_count": 16,
          "output_type": "execute_result",
          "data": {
            "text/plain": [
              "Text(0, 0.5, 'Кумулятивная конверсия')"
            ]
          },
          "metadata": {}
        },
        {
          "output_type": "display_data",
          "data": {
            "image/png": "[encoded data removed]",
            "text/plain": [
              "<Figure size 864x576 with 1 Axes>"
            ]
          },
          "metadata": {
            "needs_background": "light"
          }
        }
      ]
    },
    {
      "cell_type": "markdown",
      "source": "Вначале графики существенно колебались и даже пересекались, но потом разошлись и стабилизировались. Судя по графикам, кумулятивная конверсия группы В имеет преимущество практически на всем временном диапазоне проведения теста.",
      "metadata": {}
    },
    {
      "cell_type": "markdown",
      "source": "### График относительного изменения кумулятивного среднего количества заказов на посетителя группы B к группе A\nИными словами, построим график относительного изменения кумулятивной конверсии группы В к группе А.",
      "metadata": {}
    },
    {
      "cell_type": "code",
      "source": "mergedCumulativeConversions = cumulativeDataA[['date','conversion']].merge(\n    cumulativeDataB[['date','conversion']], \n    left_on='date', \n    right_on='date', \n    how='left', \n    suffixes=['A', 'B']\n)\n\nplt.figure(figsize=(12,8))\nplt.plot(mergedCumulativeConversions['date'], \n         mergedCumulativeConversions['conversionB']/mergedCumulativeConversions['conversionA']-1\n)\n\nplt.axhline(y=0, color='black', linestyle='--')\nplt.axhline(y=0.15, color='grey', linestyle='--')\nplt.axis([cumulativeDataA['date'].min(), cumulativeDataA['date'].max(), -0.4, 0.4])\n\nplt.title('Относительный прирост конверсии группы B относительно группы A')\nplt.xlabel('Дата')\nplt.ylabel('Относительное изменение')",
      "metadata": {},
      "execution_count": 17,
      "outputs": [
        {
          "execution_count": 17,
          "output_type": "execute_result",
          "data": {
            "text/plain": [
              "Text(0, 0.5, 'Относительное изменение')"
            ]
          },
          "metadata": {}
        },
        {
          "output_type": "display_data",
          "data": {
            "image/png": "[encoded data removed]",
            "text/plain": [
              "<Figure size 864x576 with 1 Axes>"
            ]
          },
          "metadata": {
            "needs_background": "light"
          }
        }
      ]
    },
    {
      "cell_type": "markdown",
      "source": "С самого начала группы В как вырвалась вперед, так и продолжила держаться на протяжении всего времени теста.",
      "metadata": {}
    },
    {
      "cell_type": "markdown",
      "source": "### Точечный график количества заказов по пользователям\nПосчитаем количество заказов по пользователям в переменную ordersByUsers и построим график.",
      "metadata": {}
    },
    {
      "cell_type": "code",
      "source": "ordersByUsers = orders.groupby('visitorId', as_index=False).agg({'transactionId': 'nunique'})\nordersByUsers.columns = ['userId', 'orders']\n\nx_values = pd.Series(range(0,len(ordersByUsers)))\nplt.figure(figsize=(12,8))\nplt.scatter(x_values, ordersByUsers['orders'])\n\nplt.grid(True)\nplt.title('Распределение заказов по пользователям')\nplt.xlabel('Пользователи по порядку')\nplt.ylabel('Количество заказов')",
      "metadata": {},
      "execution_count": 18,
      "outputs": [
        {
          "execution_count": 18,
          "output_type": "execute_result",
          "data": {
            "text/plain": [
              "Text(0, 0.5, 'Количество заказов')"
            ]
          },
          "metadata": {}
        },
        {
          "output_type": "display_data",
          "data": {
            "image/png": "[encoded data removed]",
            "text/plain": [
              "<Figure size 864x576 with 1 Axes>"
            ]
          },
          "metadata": {
            "needs_background": "light"
          }
        }
      ]
    },
    {
      "cell_type": "markdown",
      "source": "Видим, что подавляющее большинство пользователей сделало всего 1 покупку, гораздо меньше пользователей сделало 2 покупки и еще меньше - 3 покупки, и так далее. Однако есть пользователи, которые сделали и 11 заказов. Определим границы, за которыми значения будут считаться аномальными.",
      "metadata": {}
    },
    {
      "cell_type": "markdown",
      "source": "### Выбор границ для определения количества аномальных пользователей\nОпределим 90, 95 и 99 перцентили количества заказов по пользователям.",
      "metadata": {}
    },
    {
      "cell_type": "code",
      "source": "print(np.percentile(ordersByUsers['orders'], [90, 95, 99]))",
      "metadata": {},
      "execution_count": 19,
      "outputs": [
        {
          "name": "stdout",
          "output_type": "stream",
          "text": "[1. 2. 4.]\n"
        }
      ]
    },
    {
      "cell_type": "markdown",
      "source": "Грубо говоря, 90% пользователей сделали по 1 заказу, не более 5% пользователей сделали больше 2 заказов, а более 4 заказов сделали всего 1% пользователей. Логично выбрать 2 заказа на одного пользователя за верхнюю границу числа заказов, и отсеять аномальных пользователей по ней.",
      "metadata": {}
    },
    {
      "cell_type": "markdown",
      "source": "### Точечный график стоимостей заказов\nПосчитаем стоимость заказов и построим точечный график.",
      "metadata": {}
    },
    {
      "cell_type": "code",
      "source": "x_values = pd.Series(range(0,len(orders['revenue'])))\n\nplt.figure(figsize=(12,8))\nplt.scatter(x_values, orders['revenue'])\n\nplt.title('Распределение стоимости заказов')\nplt.xlabel('Заказы по порядку')\nplt.ylabel('Стоимость заказа, млн')",
      "metadata": {},
      "execution_count": 20,
      "outputs": [
        {
          "execution_count": 20,
          "output_type": "execute_result",
          "data": {
            "text/plain": [
              "Text(0, 0.5, 'Стоимость заказа, млн')"
            ]
          },
          "metadata": {}
        },
        {
          "output_type": "display_data",
          "data": {
            "image/png": "[encoded data removed]",
            "text/plain": [
              "<Figure size 864x576 with 1 Axes>"
            ]
          },
          "metadata": {
            "needs_background": "light"
          }
        }
      ]
    },
    {
      "cell_type": "markdown",
      "source": "Визуально, стоимость заказа редко превышает 50 000, но видно один заказ примерно на 1.3 млн, что является явным выбросом, мешающим анализу теста. Аналогично, определим границы аномальных значений.",
      "metadata": {}
    },
    {
      "cell_type": "markdown",
      "source": "### Выбор границ для определения аномальных заказов\nОпределим 90, 95 и 99 перцентили стоимости заказов в выборке.",
      "metadata": {}
    },
    {
      "cell_type": "code",
      "source": "print(np.percentile(orders['revenue'], [90, 95, 99]))",
      "metadata": {},
      "execution_count": 21,
      "outputs": [
        {
          "name": "stdout",
          "output_type": "stream",
          "text": "[18168.  28000.  58233.2]\n"
        }
      ]
    },
    {
      "cell_type": "markdown",
      "source": "Не более 5% заказов дороже 28 000 рублей и не более 1% дороже 58 233 рублей. Выберем 28 000 за верхнюю границу стоимости заказов, чтобы отсеять аномальные заказы по ней.",
      "metadata": {}
    },
    {
      "cell_type": "markdown",
      "source": "### Статистическая значимость различий в среднем количестве заказов на посетителя между группами по «сырым» данным\nСформулируем гипотезы. Нулевая: различий в среднем количестве заказов между группами нет. Альтернативная: различия в среднем между группами есть.\n\nПодготовим данные и объеденим их в переменную data.",
      "metadata": {}
    },
    {
      "cell_type": "code",
      "source": "visitorsADaily = visitors[visitors['group'] == 'A'][['date', 'visitors']]\nvisitorsADaily.columns = ['date', 'visitorsPerDateA']\n\nvisitorsACummulative = visitorsADaily.apply(\n    lambda x: visitorsADaily[visitorsADaily['date'] <= x['date']].agg(\n        {'date': 'max', 'visitorsPerDateA': 'sum'}\n    ),\n    axis=1,\n)\nvisitorsACummulative.columns = ['date', 'visitorsCummulativeA']\n\nvisitorsBDaily = visitors[visitors['group'] == 'B'][['date', 'visitors']]\nvisitorsBDaily.columns = ['date', 'visitorsPerDateB']\n\nvisitorsBCummulative = visitorsBDaily.apply(\n    lambda x: visitorsBDaily[visitorsBDaily['date'] <= x['date']].agg(\n        {'date': 'max', 'visitorsPerDateB': 'sum'}\n    ),\n    axis=1,\n)\nvisitorsBCummulative.columns = ['date', 'visitorsCummulativeB']\n\nordersADaily = (\n    orders[orders['group'] == 'A'][['date', 'transactionId', 'visitorId', 'revenue']]\n    .groupby('date', as_index=False)\n    .agg({'transactionId': pd.Series.nunique, 'revenue': 'sum'})\n)\nordersADaily.columns = ['date', 'ordersPerDateA', 'revenuePerDateA']\n\nordersACummulative = ordersADaily.apply(\n    lambda x: ordersADaily[ordersADaily['date'] <= x['date']].agg(\n        {'date': 'max', 'ordersPerDateA': 'sum', 'revenuePerDateA': 'sum'}\n    ),\n    axis=1,\n).sort_values(by=['date'])\nordersACummulative.columns = [\n    'date',\n    'ordersCummulativeA',\n    'revenueCummulativeA',\n]\n\nordersBDaily = (\n    orders[orders['group'] == 'B'][['date', 'transactionId', 'visitorId', 'revenue']]\n    .groupby('date', as_index=False)\n    .agg({'transactionId': pd.Series.nunique, 'revenue': 'sum'})\n)\nordersBDaily.columns = ['date', 'ordersPerDateB', 'revenuePerDateB']\n\nordersBCummulative = ordersBDaily.apply(\n    lambda x: ordersBDaily[ordersBDaily['date'] <= x['date']].agg(\n        {'date': 'max', 'ordersPerDateB': 'sum', 'revenuePerDateB': 'sum'}\n    ),\n    axis=1,\n).sort_values(by=['date'])\nordersBCummulative.columns = [\n    'date',\n    'ordersCummulativeB',\n    'revenueCummulativeB',\n]\n\ndata = (\n    ordersADaily.merge(\n        ordersBDaily, left_on='date', right_on='date', how='left'\n    )\n    .merge(ordersACummulative, left_on='date', right_on='date', how='left')\n    .merge(ordersBCummulative, left_on='date', right_on='date', how='left')\n    .merge(visitorsADaily, left_on='date', right_on='date', how='left')\n    .merge(visitorsBDaily, left_on='date', right_on='date', how='left')\n    .merge(visitorsACummulative, left_on='date', right_on='date', how='left')\n    .merge(visitorsBCummulative, left_on='date', right_on='date', how='left')\n)\nprint(data.head(5))",
      "metadata": {},
      "execution_count": 22,
      "outputs": [
        {
          "name": "stdout",
          "output_type": "stream",
          "text": "        date  ordersPerDateA  revenuePerDateA  ordersPerDateB  \\\n\n0 2019-08-01              24           148579              21   \n\n1 2019-08-02              20            93822              24   \n\n2 2019-08-03              24           112473              16   \n\n3 2019-08-04              16            70825              17   \n\n4 2019-08-05              25           124218              23   \n\n\n\n   revenuePerDateB  ordersCummulativeA  revenueCummulativeA  \\\n\n0           101217                  24               148579   \n\n1           165531                  44               242401   \n\n2           114248                  68               354874   \n\n3           108571                  84               425699   \n\n4            92428                 109               549917   \n\n\n\n   ordersCummulativeB  revenueCummulativeB  visitorsPerDateA  \\\n\n0                  21               101217               719   \n\n1                  45               266748               619   \n\n2                  61               380996               507   \n\n3                  78               489567               717   \n\n4                 101               581995               756   \n\n\n\n   visitorsPerDateB  visitorsCummulativeA  visitorsCummulativeB  \n\n0               713                   719                   713  \n\n1               581                  1338                  1294  \n\n2               509                  1845                  1803  \n\n3               770                  2562                  2573  \n\n4               707                  3318                  3280  \n"
        }
      ]
    },
    {
      "cell_type": "markdown",
      "source": "Столбцы в таблице data:\t\n- date — дата;\n- ordersPerDateA — количество заказов в выбранную дату в группе A;\n- revenuePerDateA — суммарная выручка в выбранную дату в группе A;\n- ordersPerDateB — количество заказов в выбранную дату в группе B;\n- revenuePerDateB — суммарная выручка в выбранную дату в группе B;\n- ordersCummulativeA — суммарное число заказов до выбранной даты включительно в группе A;\n- revenueCummulativeA — суммарная выручка до выбранной даты включительно в группе A;\n- ordersCummulativeB — суммарное количество заказов до выбранной даты включительно в группе B;\n- revenueCummulativeB — суммарная выручка до выбранной даты включительно в группе B;\n- visitorsPerDateA — количество пользователей в выбранную дату в группе A;\n- visitorsPerDateB — количество пользователей в выбранную дату в группе B;\n- visitorsCummulativeA — количество пользователей до выбранной даты включительно в группе A;\n- visitorsCummulativeB — количество пользователей до выбранной даты включительно в группе B.\n\nСоздадим переменные ordersByUsersA и ordersByUsersB со столбцами userId и orders. В них для пользователей, которые заказывали хотя бы 1 раз, укажем число совершённых заказов.",
      "metadata": {}
    },
    {
      "cell_type": "code",
      "source": "ordersByUsersA = (\n    orders[orders['group'] == 'A']\n    .groupby('visitorId', as_index=False)\n    .agg({'transactionId': pd.Series.nunique})\n)\nordersByUsersA.columns = ['userId', 'orders']\n\nordersByUsersB = (\n    orders[orders['group'] == 'B']\n    .groupby('visitorId', as_index=False)\n    .agg({'transactionId': pd.Series.nunique})\n)\nordersByUsersB.columns = ['userId', 'orders']",
      "metadata": {},
      "execution_count": 23,
      "outputs": []
    },
    {
      "cell_type": "markdown",
      "source": "В переменные sampleA и sampleB запишем количество заказов по пользователям из разных групп. Тем, кто ничего не заказал, будут соответствовать нули. Это нужно, чтобы подготовить выборки к проверке критерием Манна-Уитни.",
      "metadata": {}
    },
    {
      "cell_type": "code",
      "source": "sampleA = pd.concat(\n    [ordersByUsersA['orders'],\n     pd.Series(0, index=np.arange(data['visitorsPerDateA']\n                                  .sum() - len(ordersByUsersA['orders'])), \n               name='orders')],axis=0)\n\nsampleB = pd.concat(\n    [ordersByUsersB['orders'],\n     pd.Series(0, index=np.arange(data['visitorsPerDateB']\n                                  .sum() - len(ordersByUsersB['orders'])), \n               name='orders')],axis=0)",
      "metadata": {},
      "execution_count": 24,
      "outputs": []
    },
    {
      "cell_type": "markdown",
      "source": "Применим критерий Манна-Уитни и отформатируем p-value, округлив его до трёх знаков после запятой. Также, выведем относительный прирост среднего числа заказов группы B: среднее число заказов группы B / среднее число заказов группы A - 1, округлив до трёх знаков после запятой.",
      "metadata": {}
    },
    {
      "cell_type": "code",
      "source": "print('p-value:', \n      \"{0:.3f}\".format(stats.mannwhitneyu(sampleA, sampleB)[1]))\n\nprint('Относительный прирост среднего числа заказов:', \n      \"{0:.3f}\".format(sampleB.mean() / sampleA.mean() - 1))",
      "metadata": {},
      "execution_count": 25,
      "outputs": [
        {
          "name": "stdout",
          "output_type": "stream",
          "text": "p-value: 0.017\n\nОтносительный прирост среднего числа заказов: 0.138\n"
        }
      ]
    },
    {
      "cell_type": "markdown",
      "source": "Вывод: По «сырым» данным в среднем числе заказов групп A и B статистически значима. \n\nПервое число — p-value = 0.017, что меньше, чем 0.05. Значит, нулевую гипотезу о том, что статистически значимых различий в среднем числе заказов между группами нет, отвергаем. При этом относительный выигрыш группы B равен 13.8%.",
      "metadata": {}
    },
    {
      "cell_type": "markdown",
      "source": "###  Статистическая значимость различий в среднем чеке заказа между группами по «сырым» данным\nНулевая гипотеза: различий в среднем чеке между группами нет. Альтернативная гипотеза: различия в среднем чеке между группами есть. \nЧтобы рассчитать статистическую значимость различий в среднем чеке также воспользуемся критерием Манна-Уитни, передав данные о выручке с заказов. \nА ещё найдём относительные различия в среднем чеке между группами.",
      "metadata": {}
    },
    {
      "cell_type": "code",
      "source": "print('p-value:', \n      '{0:.3f}'.format(stats.mannwhitneyu(orders[orders['group']=='A']['revenue'], \n                                          orders[orders['group']=='B']['revenue'])[1]))\nprint('Относительный прирост среднего чека:', \n      '{0:.3f}'.format(\n          orders[orders['group']=='B']['revenue'].mean()/orders[orders['group']=='A']['revenue'].mean()-1))",
      "metadata": {},
      "execution_count": 26,
      "outputs": [
        {
          "name": "stdout",
          "output_type": "stream",
          "text": "p-value: 0.729\n\nОтносительный прирост среднего чека: 0.259\n"
        }
      ]
    },
    {
      "cell_type": "markdown",
      "source": "P-value значительно больше, чем 0.05, соответственно нет причин отвергать нулевую теорию, то есть средние чеки между группами стастически равны. Вдобавок, средний чек группы B на 25,9% больше среднего чека группы A.",
      "metadata": {}
    },
    {
      "cell_type": "markdown",
      "source": "### Статистическая значимость различий в среднем количестве заказов на посетителя между группами по «очищенным» данным\nСформулируем аналогичные гипотезы. Нулевая: различий в среднем количестве заказов между группами нет. Альтернативная: различия в среднем между группами есть.\n\nВыделим аномальных пользователей. В прошлых пунктах определили, что такими пользователями будут те, кто совершил более 2 заказов или сделал заказ дороже 28 000.\n\nСделаем срезы пользователей с числом заказов больше 2 — usersWithManyOrders и пользователей, совершивших заказы дороже 28 000 — usersWithExpensiveOrders. Объединим их в таблице abnormalUsers.",
      "metadata": {}
    },
    {
      "cell_type": "code",
      "source": "usersWithManyOrders = pd.concat(\n    [\n        ordersByUsersA[ordersByUsersA['orders'] > np.percentile(ordersByUsers['orders'], 95)]['userId'],\n        ordersByUsersB[ordersByUsersB['orders'] > np.percentile(ordersByUsers['orders'], 95)]['userId'],\n    ],\n    axis=0,\n)\nusersWithExpensiveOrders = orders[orders['revenue'] > np.percentile(orders['revenue'], 95)]['visitorId']\nabnormalUsers = (\n    pd.concat([usersWithManyOrders, usersWithExpensiveOrders], axis=0)\n    .drop_duplicates()\n    .sort_values()\n)\nprint(abnormalUsers.head(5))\nprint('Количество аномальных пользователей:',abnormalUsers.shape[0])\nprint('Доля аномальных пользователей от общего числа:', \n      '{0:.3f}'.format(abnormalUsers.shape[0]/orders['visitorId'].nunique()))",
      "metadata": {},
      "execution_count": 27,
      "outputs": [
        {
          "name": "stdout",
          "output_type": "stream",
          "text": "1099    148427295\n\n18      199603092\n\n928     204675465\n\n23      237748145\n\n37      249864742\n\ndtype: int64\n\nКоличество аномальных пользователей: 74\n\nДоля аномальных пользователей от общего числа: 0.072\n"
        }
      ]
    },
    {
      "cell_type": "markdown",
      "source": "Всего нашлось 74 аномальных пользователя, что составляет 7.2% от общего числа пользователей, участвовавших в тесте.\n\nУзнаем, как их действия повлияли на результаты теста. Посчитаем статистическую значимость различий в среднем количестве заказов между группами теста по очищенным данным. Сначала подготовим выборки количества заказов по пользователям по группам теста и запишем их в переменные sampleAFiltered и sampleBFiltered.",
      "metadata": {}
    },
    {
      "cell_type": "code",
      "source": "sampleAFiltered = pd.concat(\n    [ordersByUsersA[np.logical_not(ordersByUsersA['userId'].isin(abnormalUsers))]['orders'],\n     pd.Series(0,\n               index=np.arange(data['visitorsPerDateA'].sum() - len(ordersByUsersA['orders'])),\n               name='orders')], \n    axis=0)\n\nsampleBFiltered = pd.concat(\n    [ordersByUsersB[np.logical_not(ordersByUsersB['userId'].isin(abnormalUsers))]['orders'],\n     pd.Series(0,\n               index=np.arange(data['visitorsPerDateB'].sum() - len(ordersByUsersB['orders'])),\n               name='orders')],\n    axis=0)",
      "metadata": {},
      "execution_count": 28,
      "outputs": []
    },
    {
      "cell_type": "markdown",
      "source": "Применим статистический критерий Манна-Уитни к полученным выборкам.",
      "metadata": {}
    },
    {
      "cell_type": "code",
      "source": "print('p-value:', \n      '{0:.3f}'.format(stats.mannwhitneyu(sampleAFiltered, sampleBFiltered)[1]))\n\nprint('Относительный прирост среднего числа заказов:', \n      '{0:.3f}'.format(sampleBFiltered.mean()/sampleAFiltered.mean()-1))",
      "metadata": {},
      "execution_count": 29,
      "outputs": [
        {
          "name": "stdout",
          "output_type": "stream",
          "text": "p-value: 0.013\n\nОтносительный прирост среднего числа заказов: 0.173\n"
        }
      ]
    },
    {
      "cell_type": "markdown",
      "source": "Вывод: По «очищенным» данным в среднем числе заказов групп A и B есть статистически значимое различие. \n\nПервое число - p-value = 0.013, что всё ещё меньше, чем 0.05, и меньше, чем p-value по \"сырым\" данным, которое равно 0.017. То есть, нулевую гипотезу о том, что статистически значимых различий в среднем числе заказов между группами нет, отвергаем. \n\nПри этом относительный выигрыш группы B теперь равен 17.3%, а по \"сырым\" данным -  13.8%, то есть без аномальных значений выигрышь группы В еще больше.",
      "metadata": {}
    },
    {
      "cell_type": "markdown",
      "source": "###  Статистическая значимость различий в среднем чеке заказа между группами по «чистым» данным\nАналогично, нулевая гипотеза: различий в среднем чеке между группами нет. Альтернативная гипотеза: различия в среднем чеке между группами есть.\n\nСнова применим статистический критерий Манна-Уитни к полученным ранее выборкам.",
      "metadata": {}
    },
    {
      "cell_type": "code",
      "source": "print('p-value:',\n      '{0:.3f}'.format(\n          stats.mannwhitneyu(\n              orders[\n                  np.logical_and(\n                      orders['group'] == 'A',\n                      np.logical_not(orders['visitorId'].isin(abnormalUsers))\n                  )\n            ]['revenue'],\n            orders[\n                np.logical_and(\n                    orders['group'] == 'B',\n                    np.logical_not(orders['visitorId'].isin(abnormalUsers))\n                )\n            ]['revenue'],\n          )[1]\n      )\n     )\n\n\nprint('Относительный прирост среднего чека:',\n      \"{0:.3f}\".format(\n          orders[\n              np.logical_and(\n                  orders['group'] == 'B',\n                  np.logical_not(orders['visitorId'].isin(abnormalUsers))\n              )\n          ]['revenue'].mean()\n          / orders[\n              np.logical_and(\n                  orders['group'] == 'A',\n                  np.logical_not(orders['visitorId'].isin(abnormalUsers))\n              )\n          ]['revenue'].mean() - 1\n      )\n     )",
      "metadata": {},
      "execution_count": 30,
      "outputs": [
        {
          "name": "stdout",
          "output_type": "stream",
          "text": "p-value: 0.738\n\nОтносительный прирост среднего чека: -0.020\n"
        }
      ]
    },
    {
      "cell_type": "markdown",
      "source": "По \"очищенным\" данным p-value чуть увеличилось до 0.738 по сравнению с \"сырыми\" данными, где p-value было равно 0.729. Это значит, что нулевую гипотезу не отвергаем, то есть средние чеки между группами статистически равны.\n\nА вот прирост среднего чека по \"очищенным\" данным оказался отрицательным, то есть в группе В средний чек уменьшился на 2%, в то время как по \"сырым\" данным был прирост 25,9%.\n\nЭто различие в средних чеках скорее всего возникло как раз из-за аномальных заказов, в частности из-за заказа в 1.3 млн, который судя по графику кумулятивного среднего чека был в группе В.",
      "metadata": {}
    },
    {
      "cell_type": "markdown",
      "source": "### Решение по результатам теста\n\nВыполнив анализ результатов теста можно сделать следующие выводы:\n- И по \"сырым\", и по \"очищенным\" данным имеется статистическая значимая разница в среднем числе заказов групп. В обоих случаях имеется прирост среднего числа заказов в группе В.\n- И по \"сырым\", и по \"очищенным\" данным средние чеки между группами статистически равны. Хотя по \"сырым\" данным имелся прирост среднего чека в группе В на 25.9%, то по \"очищенным\" данным средний чек группы В уменьшился на 2%.",
      "metadata": {}
    },
    {
      "cell_type": "markdown",
      "source": "## Общий вывод\n1. Были приоритезированы гипотезы для проведения А/В-теста и определена самая перспективная.\n2. Проведен анализ результатов А/В-теста, в результате чего сделаны выводы:\n    - В группе В имеется статистически значимый прирос среднего числа заказов.\n    - По среднему чеку между группами статистически значимой разницы нет.\n    - Результат теста можно считать положительным, группа В выигрывает по среднему числу заказа, не проиграв по среднему чеку.\n    - Тест можно считать завершенным, дальнейшее продолжение смысла не имеет.",
      "metadata": {}
    }
  ]
}