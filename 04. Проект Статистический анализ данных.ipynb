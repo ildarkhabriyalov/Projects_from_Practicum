{
  "metadata": {
    "ExecuteTimeLog": [
      {
        "duration": 63,
        "start_time": "2023-04-24T05:55:55.400Z"
      },
      {
        "duration": 498,
        "start_time": "2023-04-24T05:56:00.334Z"
      },
      {
        "duration": 229,
        "start_time": "2023-04-24T05:56:03.194Z"
      },
      {
        "duration": 105,
        "start_time": "2023-04-24T06:00:06.206Z"
      },
      {
        "duration": 110,
        "start_time": "2023-04-24T06:00:32.404Z"
      },
      {
        "duration": 69,
        "start_time": "2023-04-24T06:29:25.711Z"
      },
      {
        "duration": 41,
        "start_time": "2023-04-24T06:29:30.284Z"
      },
      {
        "duration": 273,
        "start_time": "2023-04-24T07:12:17.649Z"
      },
      {
        "duration": 123,
        "start_time": "2023-04-24T07:15:47.098Z"
      },
      {
        "duration": 125,
        "start_time": "2023-04-24T07:17:49.969Z"
      },
      {
        "duration": 2559,
        "start_time": "2023-04-24T07:18:01.998Z"
      },
      {
        "duration": 2260,
        "start_time": "2023-04-24T07:18:18.794Z"
      },
      {
        "duration": 4594,
        "start_time": "2023-04-24T07:18:42.142Z"
      },
      {
        "duration": 473,
        "start_time": "2023-04-24T07:18:57.982Z"
      },
      {
        "duration": 79,
        "start_time": "2023-04-24T07:18:58.458Z"
      },
      {
        "duration": 53,
        "start_time": "2023-04-24T07:18:58.539Z"
      },
      {
        "duration": 4780,
        "start_time": "2023-04-24T07:18:58.594Z"
      },
      {
        "duration": 2602,
        "start_time": "2023-04-24T07:23:29.432Z"
      },
      {
        "duration": 3280,
        "start_time": "2023-04-24T07:30:27.601Z"
      },
      {
        "duration": 391,
        "start_time": "2023-04-24T07:30:40.939Z"
      },
      {
        "duration": 69,
        "start_time": "2023-04-24T07:30:41.333Z"
      },
      {
        "duration": 50,
        "start_time": "2023-04-24T07:30:41.404Z"
      },
      {
        "duration": 2230,
        "start_time": "2023-04-24T07:30:41.456Z"
      },
      {
        "duration": 1934,
        "start_time": "2023-04-24T07:41:12.489Z"
      },
      {
        "duration": 5,
        "start_time": "2023-04-24T07:41:41.169Z"
      },
      {
        "duration": 9,
        "start_time": "2023-04-24T07:41:50.489Z"
      },
      {
        "duration": 59,
        "start_time": "2023-04-24T07:42:12.625Z"
      },
      {
        "duration": 8,
        "start_time": "2023-04-24T07:46:07.822Z"
      },
      {
        "duration": 20,
        "start_time": "2023-04-24T07:46:31.013Z"
      },
      {
        "duration": 16,
        "start_time": "2023-04-24T07:46:50.611Z"
      },
      {
        "duration": 24,
        "start_time": "2023-04-24T07:55:43.677Z"
      },
      {
        "duration": 10,
        "start_time": "2023-04-24T08:04:56.050Z"
      },
      {
        "duration": 8,
        "start_time": "2023-04-24T08:05:23.538Z"
      },
      {
        "duration": 6,
        "start_time": "2023-04-24T08:06:17.327Z"
      },
      {
        "duration": 10,
        "start_time": "2023-04-24T08:06:59.784Z"
      },
      {
        "duration": 8,
        "start_time": "2023-04-24T08:08:33.894Z"
      },
      {
        "duration": 5,
        "start_time": "2023-04-24T08:08:55.871Z"
      },
      {
        "duration": 8,
        "start_time": "2023-04-24T08:09:04.454Z"
      },
      {
        "duration": 4,
        "start_time": "2023-04-24T08:09:13.659Z"
      },
      {
        "duration": 7,
        "start_time": "2023-04-24T08:13:31.548Z"
      },
      {
        "duration": 4,
        "start_time": "2023-04-24T08:22:44.491Z"
      },
      {
        "duration": 6,
        "start_time": "2023-04-24T08:31:12.383Z"
      },
      {
        "duration": 567,
        "start_time": "2023-04-24T08:34:03.483Z"
      },
      {
        "duration": 176,
        "start_time": "2023-04-24T08:36:10.322Z"
      },
      {
        "duration": 118,
        "start_time": "2023-04-24T10:48:44.130Z"
      },
      {
        "duration": 232,
        "start_time": "2023-04-24T11:02:55.547Z"
      },
      {
        "duration": 942,
        "start_time": "2023-04-24T11:03:16.333Z"
      },
      {
        "duration": 120,
        "start_time": "2023-04-24T11:03:25.661Z"
      },
      {
        "duration": 266,
        "start_time": "2023-04-24T11:04:21.999Z"
      },
      {
        "duration": 274,
        "start_time": "2023-04-24T11:04:35.384Z"
      },
      {
        "duration": 311,
        "start_time": "2023-04-24T11:05:17.707Z"
      },
      {
        "duration": 297,
        "start_time": "2023-04-24T11:05:42.095Z"
      },
      {
        "duration": 219,
        "start_time": "2023-04-24T11:05:59.138Z"
      },
      {
        "duration": 172,
        "start_time": "2023-04-24T11:06:21.674Z"
      },
      {
        "duration": 219,
        "start_time": "2023-04-24T11:07:00.894Z"
      },
      {
        "duration": 195,
        "start_time": "2023-04-24T11:15:44.495Z"
      },
      {
        "duration": 203,
        "start_time": "2023-04-24T11:15:57.587Z"
      },
      {
        "duration": 197,
        "start_time": "2023-04-24T11:19:20.138Z"
      },
      {
        "duration": 212,
        "start_time": "2023-04-24T11:20:17.914Z"
      },
      {
        "duration": 198,
        "start_time": "2023-04-24T11:20:33.007Z"
      },
      {
        "duration": 15,
        "start_time": "2023-04-24T11:21:25.365Z"
      },
      {
        "duration": 208,
        "start_time": "2023-04-24T11:21:53.671Z"
      },
      {
        "duration": 234,
        "start_time": "2023-04-24T11:28:46.785Z"
      },
      {
        "duration": 274,
        "start_time": "2023-04-24T11:28:58.988Z"
      },
      {
        "duration": 196,
        "start_time": "2023-04-24T11:29:48.907Z"
      },
      {
        "duration": 16,
        "start_time": "2023-04-24T11:30:22.548Z"
      },
      {
        "duration": 118,
        "start_time": "2023-04-24T11:30:27.345Z"
      },
      {
        "duration": 10,
        "start_time": "2023-04-24T11:40:32.060Z"
      },
      {
        "duration": 12,
        "start_time": "2023-04-24T11:40:38.064Z"
      },
      {
        "duration": 14,
        "start_time": "2023-04-24T11:43:42.792Z"
      },
      {
        "duration": 12,
        "start_time": "2023-04-24T11:43:48.876Z"
      },
      {
        "duration": 443,
        "start_time": "2023-04-24T11:44:00.344Z"
      },
      {
        "duration": 75,
        "start_time": "2023-04-24T11:44:00.790Z"
      },
      {
        "duration": 47,
        "start_time": "2023-04-24T11:44:00.867Z"
      },
      {
        "duration": 15,
        "start_time": "2023-04-24T11:44:00.916Z"
      },
      {
        "duration": 57,
        "start_time": "2023-04-24T11:44:00.932Z"
      },
      {
        "duration": 33,
        "start_time": "2023-04-24T11:44:00.991Z"
      },
      {
        "duration": 32,
        "start_time": "2023-04-24T11:44:01.026Z"
      },
      {
        "duration": 17,
        "start_time": "2023-04-24T11:44:01.060Z"
      },
      {
        "duration": 41,
        "start_time": "2023-04-24T11:44:01.079Z"
      },
      {
        "duration": 436,
        "start_time": "2023-04-24T11:44:01.124Z"
      },
      {
        "duration": 127,
        "start_time": "2023-04-24T11:44:01.562Z"
      },
      {
        "duration": 219,
        "start_time": "2023-04-24T11:44:01.691Z"
      },
      {
        "duration": 243,
        "start_time": "2023-04-24T11:44:01.912Z"
      },
      {
        "duration": 212,
        "start_time": "2023-04-24T11:45:46.919Z"
      },
      {
        "duration": 284,
        "start_time": "2023-04-24T11:46:06.767Z"
      },
      {
        "duration": 247,
        "start_time": "2023-04-24T11:46:48.097Z"
      },
      {
        "duration": 254,
        "start_time": "2023-04-24T11:47:08.273Z"
      },
      {
        "duration": 220,
        "start_time": "2023-04-24T11:48:45.729Z"
      },
      {
        "duration": 221,
        "start_time": "2023-04-24T11:49:09.832Z"
      },
      {
        "duration": 248,
        "start_time": "2023-04-24T11:49:18.715Z"
      },
      {
        "duration": 212,
        "start_time": "2023-04-24T11:49:22.831Z"
      },
      {
        "duration": 223,
        "start_time": "2023-04-24T11:49:28.343Z"
      },
      {
        "duration": 219,
        "start_time": "2023-04-24T11:49:31.792Z"
      },
      {
        "duration": 310,
        "start_time": "2023-04-24T11:49:37.410Z"
      },
      {
        "duration": 233,
        "start_time": "2023-04-24T11:51:44.351Z"
      },
      {
        "duration": 225,
        "start_time": "2023-04-24T11:52:21.262Z"
      },
      {
        "duration": 393,
        "start_time": "2023-04-24T11:59:28.431Z"
      },
      {
        "duration": 70,
        "start_time": "2023-04-24T11:59:28.827Z"
      },
      {
        "duration": 48,
        "start_time": "2023-04-24T11:59:28.899Z"
      },
      {
        "duration": 15,
        "start_time": "2023-04-24T11:59:28.949Z"
      },
      {
        "duration": 30,
        "start_time": "2023-04-24T11:59:28.965Z"
      },
      {
        "duration": 12,
        "start_time": "2023-04-24T11:59:28.997Z"
      },
      {
        "duration": 8,
        "start_time": "2023-04-24T11:59:29.011Z"
      },
      {
        "duration": 6,
        "start_time": "2023-04-24T11:59:29.021Z"
      },
      {
        "duration": 16,
        "start_time": "2023-04-24T11:59:29.028Z"
      },
      {
        "duration": 456,
        "start_time": "2023-04-24T11:59:29.047Z"
      },
      {
        "duration": 136,
        "start_time": "2023-04-24T11:59:29.505Z"
      },
      {
        "duration": 232,
        "start_time": "2023-04-24T11:59:29.644Z"
      },
      {
        "duration": 263,
        "start_time": "2023-04-24T11:59:29.878Z"
      },
      {
        "duration": 309,
        "start_time": "2023-04-24T11:59:30.143Z"
      },
      {
        "duration": 201,
        "start_time": "2023-04-24T12:04:23.759Z"
      },
      {
        "duration": 204,
        "start_time": "2023-04-24T12:04:34.014Z"
      },
      {
        "duration": 444,
        "start_time": "2023-04-24T12:06:34.577Z"
      },
      {
        "duration": 71,
        "start_time": "2023-04-24T12:06:35.024Z"
      },
      {
        "duration": 51,
        "start_time": "2023-04-24T12:06:35.097Z"
      },
      {
        "duration": 14,
        "start_time": "2023-04-24T12:06:35.150Z"
      },
      {
        "duration": 12,
        "start_time": "2023-04-24T12:06:35.187Z"
      },
      {
        "duration": 14,
        "start_time": "2023-04-24T12:06:35.200Z"
      },
      {
        "duration": 12,
        "start_time": "2023-04-24T12:06:35.215Z"
      },
      {
        "duration": 4,
        "start_time": "2023-04-24T12:06:35.228Z"
      },
      {
        "duration": 22,
        "start_time": "2023-04-24T12:06:35.233Z"
      },
      {
        "duration": 424,
        "start_time": "2023-04-24T12:06:35.256Z"
      },
      {
        "duration": 145,
        "start_time": "2023-04-24T12:06:35.687Z"
      },
      {
        "duration": 226,
        "start_time": "2023-04-24T12:06:35.834Z"
      },
      {
        "duration": 262,
        "start_time": "2023-04-24T12:06:36.063Z"
      },
      {
        "duration": 328,
        "start_time": "2023-04-24T12:06:36.328Z"
      },
      {
        "duration": 26,
        "start_time": "2023-04-24T12:46:12.809Z"
      },
      {
        "duration": 2044,
        "start_time": "2023-04-24T12:52:44.254Z"
      },
      {
        "duration": 4,
        "start_time": "2023-04-24T12:52:55.669Z"
      },
      {
        "duration": 6,
        "start_time": "2023-04-24T12:53:21.758Z"
      },
      {
        "duration": 6,
        "start_time": "2023-04-24T12:59:52.362Z"
      },
      {
        "duration": 18,
        "start_time": "2023-04-24T13:36:36.956Z"
      },
      {
        "duration": 22,
        "start_time": "2023-04-24T13:36:48.715Z"
      },
      {
        "duration": 28,
        "start_time": "2023-04-24T13:37:01.348Z"
      },
      {
        "duration": 24,
        "start_time": "2023-04-24T13:37:43.421Z"
      },
      {
        "duration": 16,
        "start_time": "2023-04-24T13:37:58.897Z"
      },
      {
        "duration": 25,
        "start_time": "2023-04-24T13:38:36.357Z"
      },
      {
        "duration": 28,
        "start_time": "2023-04-24T13:42:54.730Z"
      },
      {
        "duration": 359,
        "start_time": "2023-04-24T22:07:24.337Z"
      },
      {
        "duration": 368,
        "start_time": "2023-04-24T22:07:24.698Z"
      },
      {
        "duration": 43,
        "start_time": "2023-04-24T22:07:25.068Z"
      },
      {
        "duration": 14,
        "start_time": "2023-04-24T22:07:25.112Z"
      },
      {
        "duration": 17,
        "start_time": "2023-04-24T22:07:25.128Z"
      },
      {
        "duration": 9,
        "start_time": "2023-04-24T22:07:25.147Z"
      },
      {
        "duration": 30,
        "start_time": "2023-04-24T22:07:25.158Z"
      },
      {
        "duration": 3,
        "start_time": "2023-04-24T22:07:25.190Z"
      },
      {
        "duration": 13,
        "start_time": "2023-04-24T22:07:25.194Z"
      },
      {
        "duration": 520,
        "start_time": "2023-04-24T22:07:25.209Z"
      },
      {
        "duration": 111,
        "start_time": "2023-04-24T22:07:25.731Z"
      },
      {
        "duration": 195,
        "start_time": "2023-04-24T22:07:25.843Z"
      },
      {
        "duration": 292,
        "start_time": "2023-04-24T22:07:26.039Z"
      },
      {
        "duration": 230,
        "start_time": "2023-04-24T22:07:26.334Z"
      },
      {
        "duration": 5,
        "start_time": "2023-04-24T22:07:26.566Z"
      },
      {
        "duration": 37,
        "start_time": "2023-04-24T22:07:26.572Z"
      },
      {
        "duration": 25,
        "start_time": "2023-04-24T22:07:26.610Z"
      },
      {
        "duration": 26,
        "start_time": "2023-04-24T22:17:13.006Z"
      },
      {
        "duration": 24,
        "start_time": "2023-04-24T22:17:23.241Z"
      },
      {
        "duration": 7,
        "start_time": "2023-04-24T22:19:19.580Z"
      },
      {
        "duration": 10,
        "start_time": "2023-04-24T22:20:07.769Z"
      },
      {
        "duration": 387,
        "start_time": "2023-04-24T22:22:48.244Z"
      },
      {
        "duration": 65,
        "start_time": "2023-04-24T22:22:48.633Z"
      },
      {
        "duration": 44,
        "start_time": "2023-04-24T22:22:48.700Z"
      },
      {
        "duration": 13,
        "start_time": "2023-04-24T22:22:48.746Z"
      },
      {
        "duration": 25,
        "start_time": "2023-04-24T22:22:48.761Z"
      },
      {
        "duration": 9,
        "start_time": "2023-04-24T22:22:48.788Z"
      },
      {
        "duration": 8,
        "start_time": "2023-04-24T22:22:48.799Z"
      },
      {
        "duration": 9,
        "start_time": "2023-04-24T22:22:48.809Z"
      },
      {
        "duration": 11,
        "start_time": "2023-04-24T22:22:48.819Z"
      },
      {
        "duration": 398,
        "start_time": "2023-04-24T22:22:48.832Z"
      },
      {
        "duration": 127,
        "start_time": "2023-04-24T22:22:49.232Z"
      },
      {
        "duration": 207,
        "start_time": "2023-04-24T22:22:49.361Z"
      },
      {
        "duration": 252,
        "start_time": "2023-04-24T22:22:49.570Z"
      },
      {
        "duration": 280,
        "start_time": "2023-04-24T22:22:49.824Z"
      },
      {
        "duration": 5,
        "start_time": "2023-04-24T22:22:50.106Z"
      },
      {
        "duration": 25,
        "start_time": "2023-04-24T22:22:50.113Z"
      },
      {
        "duration": 46,
        "start_time": "2023-04-24T22:22:50.140Z"
      },
      {
        "duration": 12,
        "start_time": "2023-04-24T22:22:50.189Z"
      },
      {
        "duration": 24,
        "start_time": "2023-04-24T22:22:50.203Z"
      },
      {
        "duration": 9,
        "start_time": "2023-04-24T22:25:47.843Z"
      },
      {
        "duration": 297,
        "start_time": "2023-04-24T22:29:30.258Z"
      },
      {
        "duration": 380,
        "start_time": "2023-04-24T22:31:16.654Z"
      },
      {
        "duration": 377,
        "start_time": "2023-04-24T22:32:02.914Z"
      },
      {
        "duration": 497,
        "start_time": "2023-04-24T22:32:45.449Z"
      },
      {
        "duration": 341,
        "start_time": "2023-04-24T22:37:06.498Z"
      },
      {
        "duration": 473,
        "start_time": "2023-04-24T22:37:45.980Z"
      },
      {
        "duration": 5,
        "start_time": "2023-04-24T22:48:26.799Z"
      },
      {
        "duration": 75,
        "start_time": "2023-04-24T22:48:47.011Z"
      },
      {
        "duration": 8,
        "start_time": "2023-04-24T22:52:52.908Z"
      },
      {
        "duration": 30,
        "start_time": "2023-04-24T22:52:58.254Z"
      },
      {
        "duration": 22,
        "start_time": "2023-04-24T22:54:02.945Z"
      },
      {
        "duration": 22,
        "start_time": "2023-04-24T22:57:02.348Z"
      },
      {
        "duration": 29,
        "start_time": "2023-04-24T22:57:49.763Z"
      },
      {
        "duration": 8,
        "start_time": "2023-04-24T22:58:41.498Z"
      },
      {
        "duration": 4,
        "start_time": "2023-04-24T22:58:48.370Z"
      },
      {
        "duration": 28,
        "start_time": "2023-04-24T23:04:25.574Z"
      },
      {
        "duration": 28,
        "start_time": "2023-04-24T23:04:50.018Z"
      },
      {
        "duration": 27,
        "start_time": "2023-04-24T23:06:48.106Z"
      },
      {
        "duration": 28,
        "start_time": "2023-04-24T23:07:15.658Z"
      },
      {
        "duration": 23,
        "start_time": "2023-04-24T23:07:59.776Z"
      },
      {
        "duration": 24,
        "start_time": "2023-04-24T23:11:16.694Z"
      },
      {
        "duration": 26,
        "start_time": "2023-04-24T23:14:28.443Z"
      },
      {
        "duration": 24,
        "start_time": "2023-04-24T23:14:46.111Z"
      },
      {
        "duration": 9,
        "start_time": "2023-04-24T23:16:26.350Z"
      },
      {
        "duration": 8,
        "start_time": "2023-04-24T23:16:41.030Z"
      },
      {
        "duration": 82,
        "start_time": "2023-04-24T23:29:14.236Z"
      },
      {
        "duration": 77,
        "start_time": "2023-04-24T23:30:44.693Z"
      },
      {
        "duration": 3671,
        "start_time": "2023-04-24T23:30:55.781Z"
      },
      {
        "duration": 3162,
        "start_time": "2023-04-24T23:32:08.397Z"
      },
      {
        "duration": 369,
        "start_time": "2023-04-24T23:41:44.323Z"
      },
      {
        "duration": 65,
        "start_time": "2023-04-24T23:41:44.694Z"
      },
      {
        "duration": 47,
        "start_time": "2023-04-24T23:41:44.761Z"
      },
      {
        "duration": 15,
        "start_time": "2023-04-24T23:41:44.810Z"
      },
      {
        "duration": 11,
        "start_time": "2023-04-24T23:41:44.826Z"
      },
      {
        "duration": 10,
        "start_time": "2023-04-24T23:41:44.838Z"
      },
      {
        "duration": 7,
        "start_time": "2023-04-24T23:41:44.850Z"
      },
      {
        "duration": 4,
        "start_time": "2023-04-24T23:41:44.885Z"
      },
      {
        "duration": 12,
        "start_time": "2023-04-24T23:41:44.890Z"
      },
      {
        "duration": 375,
        "start_time": "2023-04-24T23:41:44.904Z"
      },
      {
        "duration": 119,
        "start_time": "2023-04-24T23:41:45.281Z"
      },
      {
        "duration": 205,
        "start_time": "2023-04-24T23:41:45.401Z"
      },
      {
        "duration": 243,
        "start_time": "2023-04-24T23:41:45.608Z"
      },
      {
        "duration": 267,
        "start_time": "2023-04-24T23:41:45.853Z"
      },
      {
        "duration": 5,
        "start_time": "2023-04-24T23:41:46.122Z"
      },
      {
        "duration": 23,
        "start_time": "2023-04-24T23:41:46.129Z"
      },
      {
        "duration": 46,
        "start_time": "2023-04-24T23:41:46.154Z"
      },
      {
        "duration": 12,
        "start_time": "2023-04-24T23:41:46.202Z"
      },
      {
        "duration": 9,
        "start_time": "2023-04-24T23:41:46.216Z"
      },
      {
        "duration": 518,
        "start_time": "2023-04-24T23:41:46.226Z"
      },
      {
        "duration": 393,
        "start_time": "2023-04-24T23:41:46.746Z"
      },
      {
        "duration": 67,
        "start_time": "2023-04-24T23:41:47.141Z"
      },
      {
        "duration": 3,
        "start_time": "2023-04-24T23:41:47.210Z"
      },
      {
        "duration": 83,
        "start_time": "2023-04-24T23:45:26.927Z"
      },
      {
        "duration": 4,
        "start_time": "2023-04-24T23:45:59.943Z"
      },
      {
        "duration": 11,
        "start_time": "2023-04-24T23:46:27.041Z"
      },
      {
        "duration": 9,
        "start_time": "2023-04-24T23:46:50.056Z"
      },
      {
        "duration": 11,
        "start_time": "2023-04-24T23:47:28.864Z"
      },
      {
        "duration": 54,
        "start_time": "2023-04-24T23:49:34.608Z"
      },
      {
        "duration": 32,
        "start_time": "2023-04-24T23:50:02.632Z"
      },
      {
        "duration": 34,
        "start_time": "2023-04-24T23:50:32.046Z"
      },
      {
        "duration": 38,
        "start_time": "2023-04-24T23:50:43.608Z"
      },
      {
        "duration": 61,
        "start_time": "2023-04-24T23:51:51.696Z"
      },
      {
        "duration": 37,
        "start_time": "2023-04-24T23:53:03.551Z"
      },
      {
        "duration": 35,
        "start_time": "2023-04-24T23:53:08.846Z"
      },
      {
        "duration": 81,
        "start_time": "2023-04-24T23:53:33.855Z"
      },
      {
        "duration": 96,
        "start_time": "2023-04-24T23:53:40.173Z"
      },
      {
        "duration": 33,
        "start_time": "2023-04-24T23:53:47.021Z"
      },
      {
        "duration": 11,
        "start_time": "2023-04-24T23:57:42.077Z"
      },
      {
        "duration": 10,
        "start_time": "2023-04-24T23:58:01.900Z"
      },
      {
        "duration": 9,
        "start_time": "2023-04-25T00:01:34.148Z"
      },
      {
        "duration": 568,
        "start_time": "2023-04-25T05:16:03.859Z"
      },
      {
        "duration": 237,
        "start_time": "2023-04-25T05:16:04.432Z"
      },
      {
        "duration": 77,
        "start_time": "2023-04-25T05:16:04.671Z"
      },
      {
        "duration": 39,
        "start_time": "2023-04-25T05:16:04.751Z"
      },
      {
        "duration": 17,
        "start_time": "2023-04-25T05:16:04.794Z"
      },
      {
        "duration": 16,
        "start_time": "2023-04-25T05:16:04.813Z"
      },
      {
        "duration": 20,
        "start_time": "2023-04-25T05:16:04.831Z"
      },
      {
        "duration": 40,
        "start_time": "2023-04-25T05:16:04.852Z"
      },
      {
        "duration": 22,
        "start_time": "2023-04-25T05:16:04.893Z"
      },
      {
        "duration": 640,
        "start_time": "2023-04-25T05:16:04.918Z"
      },
      {
        "duration": 144,
        "start_time": "2023-04-25T05:16:05.560Z"
      },
      {
        "duration": 268,
        "start_time": "2023-04-25T05:16:05.706Z"
      },
      {
        "duration": 485,
        "start_time": "2023-04-25T05:16:05.979Z"
      },
      {
        "duration": 411,
        "start_time": "2023-04-25T05:16:06.467Z"
      },
      {
        "duration": 8,
        "start_time": "2023-04-25T05:16:06.887Z"
      },
      {
        "duration": 37,
        "start_time": "2023-04-25T05:16:06.897Z"
      },
      {
        "duration": 34,
        "start_time": "2023-04-25T05:16:06.936Z"
      },
      {
        "duration": 17,
        "start_time": "2023-04-25T05:16:06.988Z"
      },
      {
        "duration": 18,
        "start_time": "2023-04-25T05:16:07.007Z"
      },
      {
        "duration": 595,
        "start_time": "2023-04-25T05:16:07.027Z"
      },
      {
        "duration": 491,
        "start_time": "2023-04-25T05:16:07.624Z"
      },
      {
        "duration": 6,
        "start_time": "2023-04-25T05:16:08.117Z"
      },
      {
        "duration": 105,
        "start_time": "2023-04-25T05:16:08.125Z"
      },
      {
        "duration": 122,
        "start_time": "2023-04-25T05:16:08.232Z"
      },
      {
        "duration": 24,
        "start_time": "2023-04-25T05:30:20.939Z"
      },
      {
        "duration": 26,
        "start_time": "2023-04-25T05:31:04.704Z"
      },
      {
        "duration": 17,
        "start_time": "2023-04-25T05:51:12.654Z"
      },
      {
        "duration": 17,
        "start_time": "2023-04-25T05:51:27.663Z"
      },
      {
        "duration": 44,
        "start_time": "2023-04-25T07:28:24.857Z"
      },
      {
        "duration": 791,
        "start_time": "2023-04-25T07:28:35.911Z"
      },
      {
        "duration": 310,
        "start_time": "2023-04-25T07:28:36.704Z"
      },
      {
        "duration": 45,
        "start_time": "2023-04-25T07:28:37.016Z"
      },
      {
        "duration": 13,
        "start_time": "2023-04-25T07:28:37.063Z"
      },
      {
        "duration": 25,
        "start_time": "2023-04-25T07:28:37.078Z"
      },
      {
        "duration": 21,
        "start_time": "2023-04-25T07:28:37.104Z"
      },
      {
        "duration": 16,
        "start_time": "2023-04-25T07:28:37.127Z"
      },
      {
        "duration": 19,
        "start_time": "2023-04-25T07:28:37.144Z"
      },
      {
        "duration": 13,
        "start_time": "2023-04-25T07:28:37.165Z"
      },
      {
        "duration": 536,
        "start_time": "2023-04-25T07:28:37.180Z"
      },
      {
        "duration": 108,
        "start_time": "2023-04-25T07:28:37.717Z"
      },
      {
        "duration": 206,
        "start_time": "2023-04-25T07:28:37.826Z"
      },
      {
        "duration": 223,
        "start_time": "2023-04-25T07:28:38.034Z"
      },
      {
        "duration": 202,
        "start_time": "2023-04-25T07:28:38.260Z"
      },
      {
        "duration": 5,
        "start_time": "2023-04-25T07:28:38.463Z"
      },
      {
        "duration": 33,
        "start_time": "2023-04-25T07:28:38.470Z"
      },
      {
        "duration": 23,
        "start_time": "2023-04-25T07:28:38.505Z"
      },
      {
        "duration": 30,
        "start_time": "2023-04-25T07:28:38.529Z"
      },
      {
        "duration": 8,
        "start_time": "2023-04-25T07:28:38.560Z"
      },
      {
        "duration": 463,
        "start_time": "2023-04-25T07:28:38.569Z"
      },
      {
        "duration": 457,
        "start_time": "2023-04-25T07:28:39.033Z"
      },
      {
        "duration": 4,
        "start_time": "2023-04-25T07:28:39.492Z"
      },
      {
        "duration": 41,
        "start_time": "2023-04-25T07:28:39.497Z"
      },
      {
        "duration": 26,
        "start_time": "2023-04-25T07:28:39.540Z"
      },
      {
        "duration": 15,
        "start_time": "2023-04-25T07:28:39.567Z"
      },
      {
        "duration": 157,
        "start_time": "2023-04-25T07:28:39.583Z"
      },
      {
        "duration": 8,
        "start_time": "2023-04-25T07:30:12.247Z"
      },
      {
        "duration": 8,
        "start_time": "2023-04-25T07:32:59.115Z"
      },
      {
        "duration": 7,
        "start_time": "2023-04-25T07:33:08.252Z"
      },
      {
        "duration": 8,
        "start_time": "2023-04-25T07:33:27.164Z"
      },
      {
        "duration": 8,
        "start_time": "2023-04-25T07:35:32.599Z"
      },
      {
        "duration": 6,
        "start_time": "2023-04-25T07:36:14.738Z"
      },
      {
        "duration": 6,
        "start_time": "2023-04-25T07:40:23.305Z"
      },
      {
        "duration": 13,
        "start_time": "2023-04-25T12:13:51.112Z"
      },
      {
        "duration": 15,
        "start_time": "2023-04-25T12:13:58.790Z"
      },
      {
        "duration": 6,
        "start_time": "2023-04-25T12:14:34.226Z"
      },
      {
        "duration": 5,
        "start_time": "2023-04-25T12:16:22.901Z"
      },
      {
        "duration": 24,
        "start_time": "2023-04-25T12:16:48.955Z"
      },
      {
        "duration": 15,
        "start_time": "2023-04-25T12:16:55.585Z"
      },
      {
        "duration": 95,
        "start_time": "2023-04-25T12:30:35.135Z"
      },
      {
        "duration": 1478,
        "start_time": "2023-04-25T12:31:07.105Z"
      },
      {
        "duration": 11,
        "start_time": "2023-04-25T12:31:23.805Z"
      },
      {
        "duration": 10,
        "start_time": "2023-04-25T12:34:35.330Z"
      },
      {
        "duration": 7,
        "start_time": "2023-04-25T12:34:41.581Z"
      },
      {
        "duration": 10,
        "start_time": "2023-04-25T12:35:35.098Z"
      },
      {
        "duration": 14,
        "start_time": "2023-04-25T12:37:08.450Z"
      },
      {
        "duration": 9,
        "start_time": "2023-04-25T12:38:00.344Z"
      },
      {
        "duration": 9,
        "start_time": "2023-04-25T12:42:44.850Z"
      },
      {
        "duration": 6,
        "start_time": "2023-04-25T13:03:40.814Z"
      },
      {
        "duration": 13,
        "start_time": "2023-04-25T13:04:50.055Z"
      },
      {
        "duration": 48,
        "start_time": "2023-04-25T21:34:11.132Z"
      },
      {
        "duration": 918,
        "start_time": "2023-04-25T21:34:22.512Z"
      },
      {
        "duration": 312,
        "start_time": "2023-04-25T21:34:23.432Z"
      },
      {
        "duration": 69,
        "start_time": "2023-04-25T21:34:23.746Z"
      },
      {
        "duration": 16,
        "start_time": "2023-04-25T21:34:23.817Z"
      },
      {
        "duration": 31,
        "start_time": "2023-04-25T21:34:23.834Z"
      },
      {
        "duration": 13,
        "start_time": "2023-04-25T21:34:23.867Z"
      },
      {
        "duration": 25,
        "start_time": "2023-04-25T21:34:23.882Z"
      },
      {
        "duration": 9,
        "start_time": "2023-04-25T21:34:23.908Z"
      },
      {
        "duration": 41,
        "start_time": "2023-04-25T21:34:23.920Z"
      },
      {
        "duration": 684,
        "start_time": "2023-04-25T21:34:23.966Z"
      },
      {
        "duration": 112,
        "start_time": "2023-04-25T21:34:24.655Z"
      },
      {
        "duration": 224,
        "start_time": "2023-04-25T21:34:24.769Z"
      },
      {
        "duration": 285,
        "start_time": "2023-04-25T21:34:24.994Z"
      },
      {
        "duration": 246,
        "start_time": "2023-04-25T21:34:25.281Z"
      },
      {
        "duration": 8,
        "start_time": "2023-04-25T21:34:25.529Z"
      },
      {
        "duration": 47,
        "start_time": "2023-04-25T21:34:25.540Z"
      },
      {
        "duration": 42,
        "start_time": "2023-04-25T21:34:25.589Z"
      },
      {
        "duration": 33,
        "start_time": "2023-04-25T21:34:25.634Z"
      },
      {
        "duration": 14,
        "start_time": "2023-04-25T21:34:25.669Z"
      },
      {
        "duration": 551,
        "start_time": "2023-04-25T21:34:25.685Z"
      },
      {
        "duration": 479,
        "start_time": "2023-04-25T21:34:26.238Z"
      },
      {
        "duration": 7,
        "start_time": "2023-04-25T21:34:26.719Z"
      },
      {
        "duration": 61,
        "start_time": "2023-04-25T21:34:26.727Z"
      },
      {
        "duration": 33,
        "start_time": "2023-04-25T21:34:26.791Z"
      },
      {
        "duration": 45,
        "start_time": "2023-04-25T21:34:26.826Z"
      },
      {
        "duration": 5,
        "start_time": "2023-04-25T21:34:26.873Z"
      },
      {
        "duration": 106,
        "start_time": "2023-04-25T21:34:26.880Z"
      },
      {
        "duration": 0,
        "start_time": "2023-04-25T21:34:26.988Z"
      },
      {
        "duration": 0,
        "start_time": "2023-04-25T21:34:26.989Z"
      },
      {
        "duration": 21,
        "start_time": "2023-04-25T21:35:57.987Z"
      },
      {
        "duration": 14,
        "start_time": "2023-04-25T21:36:12.627Z"
      },
      {
        "duration": 6,
        "start_time": "2023-04-25T21:37:03.795Z"
      },
      {
        "duration": 13,
        "start_time": "2023-04-25T21:37:08.195Z"
      },
      {
        "duration": 10,
        "start_time": "2023-04-25T21:38:11.988Z"
      },
      {
        "duration": 7,
        "start_time": "2023-04-25T21:39:08.347Z"
      },
      {
        "duration": 7,
        "start_time": "2023-04-25T21:39:11.050Z"
      },
      {
        "duration": 22,
        "start_time": "2023-04-25T21:40:37.058Z"
      },
      {
        "duration": 24,
        "start_time": "2023-04-25T21:41:11.242Z"
      },
      {
        "duration": 48,
        "start_time": "2023-04-25T21:44:15.007Z"
      },
      {
        "duration": 46,
        "start_time": "2023-04-25T21:44:29.994Z"
      },
      {
        "duration": 820,
        "start_time": "2023-04-25T21:44:49.274Z"
      },
      {
        "duration": 72,
        "start_time": "2023-04-25T21:44:50.096Z"
      },
      {
        "duration": 49,
        "start_time": "2023-04-25T21:44:50.169Z"
      },
      {
        "duration": 14,
        "start_time": "2023-04-25T21:44:50.219Z"
      },
      {
        "duration": 27,
        "start_time": "2023-04-25T21:44:50.236Z"
      },
      {
        "duration": 10,
        "start_time": "2023-04-25T21:44:50.265Z"
      },
      {
        "duration": 7,
        "start_time": "2023-04-25T21:44:50.277Z"
      },
      {
        "duration": 4,
        "start_time": "2023-04-25T21:44:50.286Z"
      },
      {
        "duration": 16,
        "start_time": "2023-04-25T21:44:50.291Z"
      },
      {
        "duration": 426,
        "start_time": "2023-04-25T21:44:50.309Z"
      },
      {
        "duration": 134,
        "start_time": "2023-04-25T21:44:50.737Z"
      },
      {
        "duration": 216,
        "start_time": "2023-04-25T21:44:50.873Z"
      },
      {
        "duration": 257,
        "start_time": "2023-04-25T21:44:51.091Z"
      },
      {
        "duration": 220,
        "start_time": "2023-04-25T21:44:51.355Z"
      },
      {
        "duration": 5,
        "start_time": "2023-04-25T21:44:51.578Z"
      },
      {
        "duration": 30,
        "start_time": "2023-04-25T21:44:51.586Z"
      },
      {
        "duration": 44,
        "start_time": "2023-04-25T21:44:51.618Z"
      },
      {
        "duration": 16,
        "start_time": "2023-04-25T21:44:51.663Z"
      },
      {
        "duration": 9,
        "start_time": "2023-04-25T21:44:51.681Z"
      },
      {
        "duration": 511,
        "start_time": "2023-04-25T21:44:51.692Z"
      },
      {
        "duration": 383,
        "start_time": "2023-04-25T21:44:52.205Z"
      },
      {
        "duration": 4,
        "start_time": "2023-04-25T21:44:52.590Z"
      },
      {
        "duration": 134,
        "start_time": "2023-04-25T21:44:52.596Z"
      },
      {
        "duration": 31,
        "start_time": "2023-04-25T21:44:52.732Z"
      },
      {
        "duration": 15,
        "start_time": "2023-04-25T21:44:52.765Z"
      },
      {
        "duration": 15,
        "start_time": "2023-04-25T21:44:52.782Z"
      },
      {
        "duration": 28,
        "start_time": "2023-04-25T21:44:52.799Z"
      },
      {
        "duration": 7,
        "start_time": "2023-04-25T21:44:52.829Z"
      },
      {
        "duration": 5,
        "start_time": "2023-04-25T21:44:52.856Z"
      },
      {
        "duration": 104,
        "start_time": "2023-04-25T21:44:52.863Z"
      },
      {
        "duration": 5,
        "start_time": "2023-04-25T21:45:13.937Z"
      },
      {
        "duration": 74,
        "start_time": "2023-04-25T21:45:18.472Z"
      },
      {
        "duration": 3,
        "start_time": "2023-04-25T21:45:37.809Z"
      },
      {
        "duration": 1473,
        "start_time": "2023-04-25T21:45:41.824Z"
      },
      {
        "duration": 177,
        "start_time": "2023-04-25T21:49:38.024Z"
      },
      {
        "duration": 84,
        "start_time": "2023-04-25T21:49:57.255Z"
      },
      {
        "duration": 1677,
        "start_time": "2023-04-25T21:51:04.696Z"
      },
      {
        "duration": 1758,
        "start_time": "2023-04-25T21:51:12.008Z"
      },
      {
        "duration": 259,
        "start_time": "2023-04-25T21:51:25.384Z"
      },
      {
        "duration": 155,
        "start_time": "2023-04-25T21:53:44.659Z"
      },
      {
        "duration": 155,
        "start_time": "2023-04-25T21:54:11.023Z"
      },
      {
        "duration": 201,
        "start_time": "2023-04-25T22:37:41.636Z"
      },
      {
        "duration": 284,
        "start_time": "2023-04-25T22:42:11.899Z"
      },
      {
        "duration": 9,
        "start_time": "2023-04-25T22:51:08.361Z"
      },
      {
        "duration": 1580,
        "start_time": "2023-04-25T22:58:20.967Z"
      },
      {
        "duration": 674,
        "start_time": "2023-04-25T23:00:28.774Z"
      },
      {
        "duration": 1515,
        "start_time": "2023-04-25T23:00:36.494Z"
      },
      {
        "duration": 9,
        "start_time": "2023-04-25T23:02:29.382Z"
      },
      {
        "duration": 3,
        "start_time": "2023-04-25T23:02:45.677Z"
      },
      {
        "duration": 3,
        "start_time": "2023-04-25T23:02:50.613Z"
      },
      {
        "duration": 6,
        "start_time": "2023-04-25T23:05:10.487Z"
      },
      {
        "duration": 5,
        "start_time": "2023-04-25T23:05:22.893Z"
      },
      {
        "duration": 5,
        "start_time": "2023-04-25T23:05:32.549Z"
      },
      {
        "duration": 6,
        "start_time": "2023-04-25T23:05:58.092Z"
      },
      {
        "duration": 6,
        "start_time": "2023-04-25T23:06:01.980Z"
      },
      {
        "duration": 5,
        "start_time": "2023-04-25T23:06:08.741Z"
      },
      {
        "duration": 5,
        "start_time": "2023-04-25T23:06:15.085Z"
      },
      {
        "duration": 82,
        "start_time": "2023-04-25T23:06:30.782Z"
      },
      {
        "duration": 81,
        "start_time": "2023-04-25T23:07:35.205Z"
      },
      {
        "duration": 111,
        "start_time": "2023-04-25T23:07:54.893Z"
      },
      {
        "duration": 78,
        "start_time": "2023-04-25T23:10:32.564Z"
      },
      {
        "duration": 5,
        "start_time": "2023-04-25T23:10:36.467Z"
      },
      {
        "duration": 5,
        "start_time": "2023-04-25T23:10:40.684Z"
      },
      {
        "duration": 5,
        "start_time": "2023-04-25T23:10:45.675Z"
      },
      {
        "duration": 5,
        "start_time": "2023-04-25T23:12:37.443Z"
      },
      {
        "duration": 1392,
        "start_time": "2023-04-26T05:56:40.318Z"
      },
      {
        "duration": 370,
        "start_time": "2023-04-26T05:56:41.712Z"
      },
      {
        "duration": 42,
        "start_time": "2023-04-26T05:56:42.084Z"
      },
      {
        "duration": 13,
        "start_time": "2023-04-26T05:56:42.129Z"
      },
      {
        "duration": 13,
        "start_time": "2023-04-26T05:56:42.144Z"
      },
      {
        "duration": 38,
        "start_time": "2023-04-26T05:56:42.159Z"
      },
      {
        "duration": 9,
        "start_time": "2023-04-26T05:56:42.199Z"
      },
      {
        "duration": 5,
        "start_time": "2023-04-26T05:56:42.210Z"
      },
      {
        "duration": 14,
        "start_time": "2023-04-26T05:56:42.217Z"
      },
      {
        "duration": 181,
        "start_time": "2023-04-26T05:56:42.234Z"
      },
      {
        "duration": 139,
        "start_time": "2023-04-26T05:56:42.417Z"
      },
      {
        "duration": 270,
        "start_time": "2023-04-26T05:56:42.558Z"
      },
      {
        "duration": 265,
        "start_time": "2023-04-26T05:56:42.830Z"
      },
      {
        "duration": 199,
        "start_time": "2023-04-26T05:56:43.097Z"
      },
      {
        "duration": 5,
        "start_time": "2023-04-26T05:56:43.297Z"
      },
      {
        "duration": 24,
        "start_time": "2023-04-26T05:56:43.304Z"
      },
      {
        "duration": 24,
        "start_time": "2023-04-26T05:56:43.330Z"
      },
      {
        "duration": 38,
        "start_time": "2023-04-26T05:56:43.356Z"
      },
      {
        "duration": 10,
        "start_time": "2023-04-26T05:56:43.396Z"
      },
      {
        "duration": 579,
        "start_time": "2023-04-26T05:56:43.407Z"
      },
      {
        "duration": 567,
        "start_time": "2023-04-26T05:56:43.988Z"
      },
      {
        "duration": 5,
        "start_time": "2023-04-26T05:56:44.557Z"
      },
      {
        "duration": 51,
        "start_time": "2023-04-26T05:56:44.563Z"
      },
      {
        "duration": 30,
        "start_time": "2023-04-26T05:56:44.617Z"
      },
      {
        "duration": 17,
        "start_time": "2023-04-26T05:56:44.649Z"
      },
      {
        "duration": 31,
        "start_time": "2023-04-26T05:56:44.668Z"
      },
      {
        "duration": 34,
        "start_time": "2023-04-26T05:56:44.701Z"
      },
      {
        "duration": 9,
        "start_time": "2023-04-26T05:56:44.739Z"
      },
      {
        "duration": 9,
        "start_time": "2023-04-26T05:56:44.749Z"
      },
      {
        "duration": 1747,
        "start_time": "2023-04-26T05:56:44.760Z"
      },
      {
        "duration": 8,
        "start_time": "2023-04-26T05:56:46.509Z"
      },
      {
        "duration": 1063,
        "start_time": "2023-04-26T06:39:00.074Z"
      },
      {
        "duration": 120,
        "start_time": "2023-04-26T06:39:01.139Z"
      },
      {
        "duration": 44,
        "start_time": "2023-04-26T06:39:01.260Z"
      },
      {
        "duration": 20,
        "start_time": "2023-04-26T06:39:01.306Z"
      },
      {
        "duration": 37,
        "start_time": "2023-04-26T06:39:01.327Z"
      },
      {
        "duration": 44,
        "start_time": "2023-04-26T06:39:01.366Z"
      },
      {
        "duration": 69,
        "start_time": "2023-04-26T06:39:01.412Z"
      },
      {
        "duration": 26,
        "start_time": "2023-04-26T06:39:01.483Z"
      },
      {
        "duration": 43,
        "start_time": "2023-04-26T06:39:01.511Z"
      },
      {
        "duration": 180,
        "start_time": "2023-04-26T06:39:01.557Z"
      },
      {
        "duration": 153,
        "start_time": "2023-04-26T06:39:01.739Z"
      },
      {
        "duration": 201,
        "start_time": "2023-04-26T06:39:01.894Z"
      },
      {
        "duration": 225,
        "start_time": "2023-04-26T06:39:02.097Z"
      },
      {
        "duration": 224,
        "start_time": "2023-04-26T06:39:02.324Z"
      },
      {
        "duration": 6,
        "start_time": "2023-04-26T06:39:02.550Z"
      },
      {
        "duration": 40,
        "start_time": "2023-04-26T06:39:02.557Z"
      },
      {
        "duration": 23,
        "start_time": "2023-04-26T06:39:02.598Z"
      },
      {
        "duration": 18,
        "start_time": "2023-04-26T06:39:02.623Z"
      },
      {
        "duration": 8,
        "start_time": "2023-04-26T06:39:02.642Z"
      },
      {
        "duration": 519,
        "start_time": "2023-04-26T06:39:02.652Z"
      },
      {
        "duration": 478,
        "start_time": "2023-04-26T06:39:03.173Z"
      },
      {
        "duration": 5,
        "start_time": "2023-04-26T06:39:03.652Z"
      },
      {
        "duration": 67,
        "start_time": "2023-04-26T06:39:03.659Z"
      },
      {
        "duration": 31,
        "start_time": "2023-04-26T06:39:03.729Z"
      },
      {
        "duration": 37,
        "start_time": "2023-04-26T06:39:03.763Z"
      },
      {
        "duration": 5,
        "start_time": "2023-04-26T06:39:03.802Z"
      },
      {
        "duration": 30,
        "start_time": "2023-04-26T06:39:03.809Z"
      },
      {
        "duration": 12,
        "start_time": "2023-04-26T06:39:03.842Z"
      },
      {
        "duration": 18,
        "start_time": "2023-04-26T06:39:03.855Z"
      },
      {
        "duration": 1614,
        "start_time": "2023-04-26T06:39:03.875Z"
      },
      {
        "duration": 11,
        "start_time": "2023-04-26T06:39:05.494Z"
      },
      {
        "duration": 44021,
        "start_time": "2023-04-26T06:39:05.506Z"
      },
      {
        "duration": 6,
        "start_time": "2023-04-26T06:46:15.146Z"
      },
      {
        "duration": 6,
        "start_time": "2023-04-26T06:48:15.876Z"
      },
      {
        "duration": 73,
        "start_time": "2023-04-26T06:48:52.066Z"
      },
      {
        "duration": 7,
        "start_time": "2023-04-26T06:49:14.007Z"
      },
      {
        "duration": 82,
        "start_time": "2023-04-26T06:49:20.632Z"
      },
      {
        "duration": 6,
        "start_time": "2023-04-26T06:49:26.809Z"
      },
      {
        "duration": 11,
        "start_time": "2023-04-26T07:00:15.402Z"
      },
      {
        "duration": 3,
        "start_time": "2023-04-26T07:01:07.137Z"
      },
      {
        "duration": 9,
        "start_time": "2023-04-26T07:01:11.717Z"
      },
      {
        "duration": 10,
        "start_time": "2023-04-26T07:07:26.983Z"
      },
      {
        "duration": 10,
        "start_time": "2023-04-26T07:08:25.318Z"
      },
      {
        "duration": 9,
        "start_time": "2023-04-26T07:08:56.845Z"
      },
      {
        "duration": 154,
        "start_time": "2023-04-26T07:09:54.254Z"
      },
      {
        "duration": 74,
        "start_time": "2023-04-26T07:10:30.453Z"
      },
      {
        "duration": 987,
        "start_time": "2023-04-26T07:11:00.019Z"
      },
      {
        "duration": 116,
        "start_time": "2023-04-26T07:11:01.008Z"
      },
      {
        "duration": 41,
        "start_time": "2023-04-26T07:11:01.125Z"
      },
      {
        "duration": 18,
        "start_time": "2023-04-26T07:11:01.168Z"
      },
      {
        "duration": 31,
        "start_time": "2023-04-26T07:11:01.188Z"
      },
      {
        "duration": 53,
        "start_time": "2023-04-26T07:11:01.220Z"
      },
      {
        "duration": 19,
        "start_time": "2023-04-26T07:11:01.275Z"
      },
      {
        "duration": 25,
        "start_time": "2023-04-26T07:11:01.296Z"
      },
      {
        "duration": 36,
        "start_time": "2023-04-26T07:11:01.323Z"
      },
      {
        "duration": 179,
        "start_time": "2023-04-26T07:11:01.362Z"
      },
      {
        "duration": 112,
        "start_time": "2023-04-26T07:11:01.543Z"
      },
      {
        "duration": 200,
        "start_time": "2023-04-26T07:11:01.657Z"
      },
      {
        "duration": 228,
        "start_time": "2023-04-26T07:11:01.859Z"
      },
      {
        "duration": 200,
        "start_time": "2023-04-26T07:11:02.089Z"
      },
      {
        "duration": 6,
        "start_time": "2023-04-26T07:11:02.290Z"
      },
      {
        "duration": 48,
        "start_time": "2023-04-26T07:11:02.297Z"
      },
      {
        "duration": 21,
        "start_time": "2023-04-26T07:11:02.347Z"
      },
      {
        "duration": 22,
        "start_time": "2023-04-26T07:11:02.371Z"
      },
      {
        "duration": 19,
        "start_time": "2023-04-26T07:11:02.395Z"
      },
      {
        "duration": 436,
        "start_time": "2023-04-26T07:11:02.415Z"
      },
      {
        "duration": 429,
        "start_time": "2023-04-26T07:11:02.853Z"
      },
      {
        "duration": 12,
        "start_time": "2023-04-26T07:11:03.283Z"
      },
      {
        "duration": 60,
        "start_time": "2023-04-26T07:11:03.296Z"
      },
      {
        "duration": 18,
        "start_time": "2023-04-26T07:11:03.358Z"
      },
      {
        "duration": 17,
        "start_time": "2023-04-26T07:11:03.378Z"
      },
      {
        "duration": 27,
        "start_time": "2023-04-26T07:11:03.405Z"
      },
      {
        "duration": 39,
        "start_time": "2023-04-26T07:11:03.434Z"
      },
      {
        "duration": 7,
        "start_time": "2023-04-26T07:11:03.476Z"
      },
      {
        "duration": 29,
        "start_time": "2023-04-26T07:11:03.485Z"
      },
      {
        "duration": 1416,
        "start_time": "2023-04-26T07:11:03.516Z"
      },
      {
        "duration": 6,
        "start_time": "2023-04-26T07:11:04.934Z"
      },
      {
        "duration": 8,
        "start_time": "2023-04-26T07:11:04.942Z"
      },
      {
        "duration": 72,
        "start_time": "2023-04-26T07:11:04.952Z"
      },
      {
        "duration": 72,
        "start_time": "2023-04-26T07:11:19.979Z"
      },
      {
        "duration": 125,
        "start_time": "2023-04-26T07:11:30.041Z"
      },
      {
        "duration": 82,
        "start_time": "2023-04-26T07:11:57.483Z"
      },
      {
        "duration": 112,
        "start_time": "2023-04-26T07:34:00.031Z"
      },
      {
        "duration": 94,
        "start_time": "2023-04-26T07:34:54.408Z"
      },
      {
        "duration": 79,
        "start_time": "2023-04-26T07:35:04.472Z"
      },
      {
        "duration": 73,
        "start_time": "2023-04-26T07:35:15.599Z"
      },
      {
        "duration": 120,
        "start_time": "2023-04-26T07:35:30.373Z"
      },
      {
        "duration": 6,
        "start_time": "2023-04-26T07:41:21.720Z"
      },
      {
        "duration": 1194,
        "start_time": "2023-04-26T07:49:34.897Z"
      },
      {
        "duration": 141,
        "start_time": "2023-04-26T07:49:36.099Z"
      },
      {
        "duration": 42,
        "start_time": "2023-04-26T07:49:36.242Z"
      },
      {
        "duration": 25,
        "start_time": "2023-04-26T07:49:36.287Z"
      },
      {
        "duration": 17,
        "start_time": "2023-04-26T07:49:36.317Z"
      },
      {
        "duration": 10,
        "start_time": "2023-04-26T07:49:36.336Z"
      },
      {
        "duration": 9,
        "start_time": "2023-04-26T07:49:36.348Z"
      },
      {
        "duration": 127,
        "start_time": "2023-04-26T07:49:36.359Z"
      },
      {
        "duration": 16,
        "start_time": "2023-04-26T07:49:36.488Z"
      },
      {
        "duration": 214,
        "start_time": "2023-04-26T07:49:36.511Z"
      },
      {
        "duration": 136,
        "start_time": "2023-04-26T07:49:36.727Z"
      },
      {
        "duration": 220,
        "start_time": "2023-04-26T07:49:36.865Z"
      },
      {
        "duration": 261,
        "start_time": "2023-04-26T07:49:37.087Z"
      },
      {
        "duration": 221,
        "start_time": "2023-04-26T07:49:37.351Z"
      },
      {
        "duration": 6,
        "start_time": "2023-04-26T07:49:37.573Z"
      },
      {
        "duration": 38,
        "start_time": "2023-04-26T07:49:37.580Z"
      },
      {
        "duration": 23,
        "start_time": "2023-04-26T07:49:37.620Z"
      },
      {
        "duration": 14,
        "start_time": "2023-04-26T07:49:37.645Z"
      },
      {
        "duration": 10,
        "start_time": "2023-04-26T07:49:37.661Z"
      },
      {
        "duration": 512,
        "start_time": "2023-04-26T07:49:37.694Z"
      },
      {
        "duration": 449,
        "start_time": "2023-04-26T07:49:38.207Z"
      },
      {
        "duration": 4,
        "start_time": "2023-04-26T07:49:38.658Z"
      },
      {
        "duration": 52,
        "start_time": "2023-04-26T07:49:38.663Z"
      },
      {
        "duration": 21,
        "start_time": "2023-04-26T07:49:38.717Z"
      },
      {
        "duration": 15,
        "start_time": "2023-04-26T07:49:38.739Z"
      },
      {
        "duration": 5,
        "start_time": "2023-04-26T07:49:38.755Z"
      },
      {
        "duration": 51,
        "start_time": "2023-04-26T07:49:38.761Z"
      },
      {
        "duration": 6,
        "start_time": "2023-04-26T07:49:38.815Z"
      },
      {
        "duration": 4,
        "start_time": "2023-04-26T07:49:38.823Z"
      },
      {
        "duration": 1490,
        "start_time": "2023-04-26T07:49:38.829Z"
      },
      {
        "duration": 6,
        "start_time": "2023-04-26T07:49:40.321Z"
      },
      {
        "duration": 7,
        "start_time": "2023-04-26T07:49:40.329Z"
      },
      {
        "duration": 34175,
        "start_time": "2023-04-26T07:49:40.338Z"
      },
      {
        "duration": 5,
        "start_time": "2023-04-26T07:50:23.266Z"
      },
      {
        "duration": 1142,
        "start_time": "2023-04-26T07:52:19.621Z"
      },
      {
        "duration": 1372,
        "start_time": "2023-04-26T07:53:11.282Z"
      },
      {
        "duration": 1083,
        "start_time": "2023-04-26T07:54:17.740Z"
      },
      {
        "duration": 1629,
        "start_time": "2023-04-26T08:15:32.924Z"
      },
      {
        "duration": 1430,
        "start_time": "2023-04-26T08:15:52.853Z"
      },
      {
        "duration": 1480,
        "start_time": "2023-04-26T08:16:14.205Z"
      },
      {
        "duration": 1436,
        "start_time": "2023-04-26T08:17:04.413Z"
      },
      {
        "duration": 1523,
        "start_time": "2023-04-26T08:38:50.642Z"
      },
      {
        "duration": 99,
        "start_time": "2023-04-26T08:39:37.133Z"
      },
      {
        "duration": 86,
        "start_time": "2023-04-26T08:40:38.444Z"
      },
      {
        "duration": 51,
        "start_time": "2023-04-26T08:40:55.339Z"
      },
      {
        "duration": 49,
        "start_time": "2023-04-26T08:41:35.914Z"
      },
      {
        "duration": 60,
        "start_time": "2023-04-26T08:42:01.893Z"
      },
      {
        "duration": 1096,
        "start_time": "2023-04-26T08:42:46.714Z"
      },
      {
        "duration": 124,
        "start_time": "2023-04-26T08:42:47.812Z"
      },
      {
        "duration": 41,
        "start_time": "2023-04-26T08:42:47.937Z"
      },
      {
        "duration": 12,
        "start_time": "2023-04-26T08:42:47.980Z"
      },
      {
        "duration": 21,
        "start_time": "2023-04-26T08:42:47.995Z"
      },
      {
        "duration": 11,
        "start_time": "2023-04-26T08:42:48.018Z"
      },
      {
        "duration": 8,
        "start_time": "2023-04-26T08:42:48.031Z"
      },
      {
        "duration": 7,
        "start_time": "2023-04-26T08:42:48.041Z"
      },
      {
        "duration": 35,
        "start_time": "2023-04-26T08:42:48.051Z"
      },
      {
        "duration": 158,
        "start_time": "2023-04-26T08:42:48.088Z"
      },
      {
        "duration": 112,
        "start_time": "2023-04-26T08:42:48.247Z"
      },
      {
        "duration": 210,
        "start_time": "2023-04-26T08:42:48.361Z"
      },
      {
        "duration": 265,
        "start_time": "2023-04-26T08:42:48.573Z"
      },
      {
        "duration": 205,
        "start_time": "2023-04-26T08:42:48.841Z"
      },
      {
        "duration": 5,
        "start_time": "2023-04-26T08:42:49.048Z"
      },
      {
        "duration": 41,
        "start_time": "2023-04-26T08:42:49.055Z"
      },
      {
        "duration": 30,
        "start_time": "2023-04-26T08:42:49.101Z"
      },
      {
        "duration": 10,
        "start_time": "2023-04-26T08:42:49.132Z"
      },
      {
        "duration": 34,
        "start_time": "2023-04-26T08:42:49.143Z"
      },
      {
        "duration": 490,
        "start_time": "2023-04-26T08:42:49.178Z"
      },
      {
        "duration": 484,
        "start_time": "2023-04-26T08:42:49.670Z"
      },
      {
        "duration": 4,
        "start_time": "2023-04-26T08:42:50.156Z"
      },
      {
        "duration": 61,
        "start_time": "2023-04-26T08:42:50.162Z"
      },
      {
        "duration": 20,
        "start_time": "2023-04-26T08:42:50.225Z"
      },
      {
        "duration": 20,
        "start_time": "2023-04-26T08:42:50.247Z"
      },
      {
        "duration": 37,
        "start_time": "2023-04-26T08:42:50.268Z"
      },
      {
        "duration": 26,
        "start_time": "2023-04-26T08:42:50.306Z"
      },
      {
        "duration": 7,
        "start_time": "2023-04-26T08:42:50.333Z"
      },
      {
        "duration": 6,
        "start_time": "2023-04-26T08:42:50.341Z"
      },
      {
        "duration": 1533,
        "start_time": "2023-04-26T08:42:50.349Z"
      },
      {
        "duration": 12,
        "start_time": "2023-04-26T08:42:51.884Z"
      },
      {
        "duration": 15,
        "start_time": "2023-04-26T08:42:51.900Z"
      },
      {
        "duration": 1187,
        "start_time": "2023-04-26T08:42:51.919Z"
      },
      {
        "duration": 10,
        "start_time": "2023-04-26T08:43:25.546Z"
      },
      {
        "duration": 4,
        "start_time": "2023-04-26T08:43:42.407Z"
      },
      {
        "duration": 154,
        "start_time": "2023-04-26T10:05:31.610Z"
      },
      {
        "duration": 7,
        "start_time": "2023-04-26T10:05:57.150Z"
      },
      {
        "duration": 6,
        "start_time": "2023-04-26T10:29:43.512Z"
      },
      {
        "duration": 8,
        "start_time": "2023-04-26T10:32:42.650Z"
      },
      {
        "duration": 10,
        "start_time": "2023-04-26T10:41:24.709Z"
      },
      {
        "duration": 12,
        "start_time": "2023-04-26T10:41:58.289Z"
      },
      {
        "duration": 3,
        "start_time": "2023-04-26T10:42:47.123Z"
      },
      {
        "duration": 7,
        "start_time": "2023-04-26T10:45:35.378Z"
      },
      {
        "duration": 9,
        "start_time": "2023-04-26T10:45:42.090Z"
      },
      {
        "duration": 10,
        "start_time": "2023-04-26T10:45:57.383Z"
      },
      {
        "duration": 302,
        "start_time": "2023-04-26T10:54:55.356Z"
      },
      {
        "duration": 277,
        "start_time": "2023-04-26T11:11:24.756Z"
      },
      {
        "duration": 262,
        "start_time": "2023-04-26T11:11:32.524Z"
      },
      {
        "duration": 968,
        "start_time": "2023-04-26T12:23:27.243Z"
      },
      {
        "duration": 131,
        "start_time": "2023-04-26T12:23:28.213Z"
      },
      {
        "duration": 41,
        "start_time": "2023-04-26T12:23:28.346Z"
      },
      {
        "duration": 21,
        "start_time": "2023-04-26T12:23:28.389Z"
      },
      {
        "duration": 10,
        "start_time": "2023-04-26T12:23:28.412Z"
      },
      {
        "duration": 13,
        "start_time": "2023-04-26T12:23:28.424Z"
      },
      {
        "duration": 7,
        "start_time": "2023-04-26T12:23:28.440Z"
      },
      {
        "duration": 3,
        "start_time": "2023-04-26T12:23:28.449Z"
      },
      {
        "duration": 11,
        "start_time": "2023-04-26T12:23:28.454Z"
      },
      {
        "duration": 174,
        "start_time": "2023-04-26T12:23:28.467Z"
      },
      {
        "duration": 115,
        "start_time": "2023-04-26T12:23:28.643Z"
      },
      {
        "duration": 201,
        "start_time": "2023-04-26T12:23:28.760Z"
      },
      {
        "duration": 250,
        "start_time": "2023-04-26T12:23:28.963Z"
      },
      {
        "duration": 233,
        "start_time": "2023-04-26T12:23:29.214Z"
      },
      {
        "duration": 6,
        "start_time": "2023-04-26T12:23:29.449Z"
      },
      {
        "duration": 50,
        "start_time": "2023-04-26T12:23:29.457Z"
      },
      {
        "duration": 24,
        "start_time": "2023-04-26T12:23:29.508Z"
      },
      {
        "duration": 10,
        "start_time": "2023-04-26T12:23:29.533Z"
      },
      {
        "duration": 13,
        "start_time": "2023-04-26T12:23:29.544Z"
      },
      {
        "duration": 488,
        "start_time": "2023-04-26T12:23:29.558Z"
      },
      {
        "duration": 515,
        "start_time": "2023-04-26T12:23:30.048Z"
      },
      {
        "duration": 5,
        "start_time": "2023-04-26T12:23:30.565Z"
      },
      {
        "duration": 102,
        "start_time": "2023-04-26T12:23:30.571Z"
      },
      {
        "duration": 28,
        "start_time": "2023-04-26T12:23:30.675Z"
      },
      {
        "duration": 19,
        "start_time": "2023-04-26T12:23:30.706Z"
      },
      {
        "duration": 37,
        "start_time": "2023-04-26T12:23:30.727Z"
      },
      {
        "duration": 77,
        "start_time": "2023-04-26T12:23:30.766Z"
      },
      {
        "duration": 65,
        "start_time": "2023-04-26T12:23:30.846Z"
      },
      {
        "duration": 132,
        "start_time": "2023-04-26T12:23:30.914Z"
      },
      {
        "duration": 0,
        "start_time": "2023-04-26T12:23:31.048Z"
      },
      {
        "duration": 0,
        "start_time": "2023-04-26T12:23:31.049Z"
      },
      {
        "duration": 0,
        "start_time": "2023-04-26T12:23:31.050Z"
      },
      {
        "duration": 0,
        "start_time": "2023-04-26T12:23:31.051Z"
      },
      {
        "duration": 0,
        "start_time": "2023-04-26T12:23:31.052Z"
      },
      {
        "duration": 0,
        "start_time": "2023-04-26T12:23:31.053Z"
      },
      {
        "duration": 2,
        "start_time": "2023-04-26T12:25:05.517Z"
      },
      {
        "duration": 1012,
        "start_time": "2023-04-26T12:25:12.660Z"
      },
      {
        "duration": 126,
        "start_time": "2023-04-26T12:25:13.673Z"
      },
      {
        "duration": 39,
        "start_time": "2023-04-26T12:25:13.802Z"
      },
      {
        "duration": 13,
        "start_time": "2023-04-26T12:25:13.842Z"
      },
      {
        "duration": 10,
        "start_time": "2023-04-26T12:25:13.858Z"
      },
      {
        "duration": 39,
        "start_time": "2023-04-26T12:25:13.869Z"
      },
      {
        "duration": 7,
        "start_time": "2023-04-26T12:25:13.909Z"
      },
      {
        "duration": 3,
        "start_time": "2023-04-26T12:25:13.918Z"
      },
      {
        "duration": 13,
        "start_time": "2023-04-26T12:25:13.923Z"
      },
      {
        "duration": 194,
        "start_time": "2023-04-26T12:25:13.938Z"
      },
      {
        "duration": 149,
        "start_time": "2023-04-26T12:25:14.133Z"
      },
      {
        "duration": 227,
        "start_time": "2023-04-26T12:25:14.284Z"
      },
      {
        "duration": 224,
        "start_time": "2023-04-26T12:25:14.513Z"
      },
      {
        "duration": 202,
        "start_time": "2023-04-26T12:25:14.739Z"
      },
      {
        "duration": 5,
        "start_time": "2023-04-26T12:25:14.943Z"
      },
      {
        "duration": 30,
        "start_time": "2023-04-26T12:25:14.949Z"
      },
      {
        "duration": 40,
        "start_time": "2023-04-26T12:25:14.981Z"
      },
      {
        "duration": 27,
        "start_time": "2023-04-26T12:25:15.023Z"
      },
      {
        "duration": 25,
        "start_time": "2023-04-26T12:25:15.051Z"
      },
      {
        "duration": 483,
        "start_time": "2023-04-26T12:25:15.078Z"
      },
      {
        "duration": 454,
        "start_time": "2023-04-26T12:25:15.563Z"
      },
      {
        "duration": 5,
        "start_time": "2023-04-26T12:25:16.018Z"
      },
      {
        "duration": 51,
        "start_time": "2023-04-26T12:25:16.024Z"
      },
      {
        "duration": 38,
        "start_time": "2023-04-26T12:25:16.076Z"
      },
      {
        "duration": 18,
        "start_time": "2023-04-26T12:25:16.116Z"
      },
      {
        "duration": 5,
        "start_time": "2023-04-26T12:25:16.136Z"
      },
      {
        "duration": 6,
        "start_time": "2023-04-26T12:25:16.143Z"
      },
      {
        "duration": 3,
        "start_time": "2023-04-26T12:25:16.150Z"
      },
      {
        "duration": 15,
        "start_time": "2023-04-26T12:25:16.156Z"
      },
      {
        "duration": 27,
        "start_time": "2023-04-26T12:25:16.173Z"
      },
      {
        "duration": 10,
        "start_time": "2023-04-26T12:25:16.201Z"
      },
      {
        "duration": 1426,
        "start_time": "2023-04-26T12:25:16.212Z"
      },
      {
        "duration": 6,
        "start_time": "2023-04-26T12:25:17.639Z"
      },
      {
        "duration": 15,
        "start_time": "2023-04-26T12:25:17.646Z"
      },
      {
        "duration": 260,
        "start_time": "2023-04-26T12:25:17.663Z"
      },
      {
        "duration": 51,
        "start_time": "2023-04-26T12:27:24.821Z"
      },
      {
        "duration": 1017,
        "start_time": "2023-04-26T12:44:23.362Z"
      },
      {
        "duration": 143,
        "start_time": "2023-04-26T12:44:24.380Z"
      },
      {
        "duration": 41,
        "start_time": "2023-04-26T12:44:24.525Z"
      },
      {
        "duration": 13,
        "start_time": "2023-04-26T12:44:24.569Z"
      },
      {
        "duration": 19,
        "start_time": "2023-04-26T12:44:24.584Z"
      },
      {
        "duration": 9,
        "start_time": "2023-04-26T12:44:24.606Z"
      },
      {
        "duration": 7,
        "start_time": "2023-04-26T12:44:24.617Z"
      },
      {
        "duration": 3,
        "start_time": "2023-04-26T12:44:24.626Z"
      },
      {
        "duration": 11,
        "start_time": "2023-04-26T12:44:24.630Z"
      },
      {
        "duration": 168,
        "start_time": "2023-04-26T12:44:24.643Z"
      },
      {
        "duration": 117,
        "start_time": "2023-04-26T12:44:24.812Z"
      },
      {
        "duration": 197,
        "start_time": "2023-04-26T12:44:24.931Z"
      },
      {
        "duration": 240,
        "start_time": "2023-04-26T12:44:25.129Z"
      },
      {
        "duration": 247,
        "start_time": "2023-04-26T12:44:25.371Z"
      },
      {
        "duration": 6,
        "start_time": "2023-04-26T12:44:25.619Z"
      },
      {
        "duration": 29,
        "start_time": "2023-04-26T12:44:25.626Z"
      },
      {
        "duration": 44,
        "start_time": "2023-04-26T12:44:25.656Z"
      },
      {
        "duration": 10,
        "start_time": "2023-04-26T12:44:25.711Z"
      },
      {
        "duration": 12,
        "start_time": "2023-04-26T12:44:25.723Z"
      },
      {
        "duration": 471,
        "start_time": "2023-04-26T12:44:25.737Z"
      },
      {
        "duration": 450,
        "start_time": "2023-04-26T12:44:26.210Z"
      },
      {
        "duration": 4,
        "start_time": "2023-04-26T12:44:26.662Z"
      },
      {
        "duration": 67,
        "start_time": "2023-04-26T12:44:26.667Z"
      },
      {
        "duration": 19,
        "start_time": "2023-04-26T12:44:26.736Z"
      },
      {
        "duration": 14,
        "start_time": "2023-04-26T12:44:26.756Z"
      },
      {
        "duration": 37,
        "start_time": "2023-04-26T12:44:26.771Z"
      },
      {
        "duration": 11,
        "start_time": "2023-04-26T12:44:26.810Z"
      },
      {
        "duration": 2,
        "start_time": "2023-04-26T12:44:26.824Z"
      },
      {
        "duration": 5,
        "start_time": "2023-04-26T12:44:26.828Z"
      },
      {
        "duration": 9,
        "start_time": "2023-04-26T12:44:26.835Z"
      },
      {
        "duration": 5,
        "start_time": "2023-04-26T12:44:26.845Z"
      },
      {
        "duration": 1474,
        "start_time": "2023-04-26T12:44:26.852Z"
      },
      {
        "duration": 6,
        "start_time": "2023-04-26T12:44:28.327Z"
      },
      {
        "duration": 7,
        "start_time": "2023-04-26T12:44:28.335Z"
      },
      {
        "duration": 284,
        "start_time": "2023-04-26T12:44:28.344Z"
      },
      {
        "duration": 985,
        "start_time": "2023-04-26T12:45:15.660Z"
      },
      {
        "duration": 117,
        "start_time": "2023-04-26T12:45:16.647Z"
      },
      {
        "duration": 44,
        "start_time": "2023-04-26T12:45:16.766Z"
      },
      {
        "duration": 15,
        "start_time": "2023-04-26T12:45:16.813Z"
      },
      {
        "duration": 13,
        "start_time": "2023-04-26T12:45:16.830Z"
      },
      {
        "duration": 10,
        "start_time": "2023-04-26T12:45:16.845Z"
      },
      {
        "duration": 8,
        "start_time": "2023-04-26T12:45:16.857Z"
      },
      {
        "duration": 4,
        "start_time": "2023-04-26T12:45:16.866Z"
      },
      {
        "duration": 35,
        "start_time": "2023-04-26T12:45:16.871Z"
      },
      {
        "duration": 148,
        "start_time": "2023-04-26T12:45:16.913Z"
      },
      {
        "duration": 121,
        "start_time": "2023-04-26T12:45:17.063Z"
      },
      {
        "duration": 228,
        "start_time": "2023-04-26T12:45:17.186Z"
      },
      {
        "duration": 214,
        "start_time": "2023-04-26T12:45:17.416Z"
      },
      {
        "duration": 202,
        "start_time": "2023-04-26T12:45:17.631Z"
      },
      {
        "duration": 5,
        "start_time": "2023-04-26T12:45:17.834Z"
      },
      {
        "duration": 32,
        "start_time": "2023-04-26T12:45:17.840Z"
      },
      {
        "duration": 38,
        "start_time": "2023-04-26T12:45:17.874Z"
      },
      {
        "duration": 10,
        "start_time": "2023-04-26T12:45:17.914Z"
      },
      {
        "duration": 10,
        "start_time": "2023-04-26T12:45:17.925Z"
      },
      {
        "duration": 508,
        "start_time": "2023-04-26T12:45:17.937Z"
      },
      {
        "duration": 471,
        "start_time": "2023-04-26T12:45:18.447Z"
      },
      {
        "duration": 5,
        "start_time": "2023-04-26T12:45:18.919Z"
      },
      {
        "duration": 49,
        "start_time": "2023-04-26T12:45:18.925Z"
      },
      {
        "duration": 22,
        "start_time": "2023-04-26T12:45:18.999Z"
      },
      {
        "duration": 14,
        "start_time": "2023-04-26T12:45:19.022Z"
      },
      {
        "duration": 7,
        "start_time": "2023-04-26T12:45:19.037Z"
      },
      {
        "duration": 7,
        "start_time": "2023-04-26T12:45:19.045Z"
      },
      {
        "duration": 11,
        "start_time": "2023-04-26T12:45:19.055Z"
      },
      {
        "duration": 8,
        "start_time": "2023-04-26T12:45:19.067Z"
      },
      {
        "duration": 20,
        "start_time": "2023-04-26T12:45:19.076Z"
      },
      {
        "duration": 9,
        "start_time": "2023-04-26T12:45:19.098Z"
      },
      {
        "duration": 1473,
        "start_time": "2023-04-26T12:45:19.108Z"
      },
      {
        "duration": 5,
        "start_time": "2023-04-26T12:45:20.583Z"
      },
      {
        "duration": 9,
        "start_time": "2023-04-26T12:45:20.594Z"
      },
      {
        "duration": 256,
        "start_time": "2023-04-26T12:45:20.606Z"
      },
      {
        "duration": 24,
        "start_time": "2023-04-26T12:49:23.995Z"
      },
      {
        "duration": 52,
        "start_time": "2023-04-26T12:52:20.087Z"
      },
      {
        "duration": 47,
        "start_time": "2023-04-26T12:52:28.157Z"
      },
      {
        "duration": 49,
        "start_time": "2023-04-26T12:52:28.951Z"
      },
      {
        "duration": 46,
        "start_time": "2023-04-26T12:52:29.558Z"
      },
      {
        "duration": 44,
        "start_time": "2023-04-26T12:52:30.125Z"
      },
      {
        "duration": 52,
        "start_time": "2023-04-26T12:52:30.734Z"
      },
      {
        "duration": 46,
        "start_time": "2023-04-26T12:52:31.341Z"
      },
      {
        "duration": 1041,
        "start_time": "2023-04-26T12:52:38.581Z"
      },
      {
        "duration": 119,
        "start_time": "2023-04-26T12:52:39.624Z"
      },
      {
        "duration": 38,
        "start_time": "2023-04-26T12:52:39.745Z"
      },
      {
        "duration": 18,
        "start_time": "2023-04-26T12:52:39.786Z"
      },
      {
        "duration": 20,
        "start_time": "2023-04-26T12:52:39.806Z"
      },
      {
        "duration": 17,
        "start_time": "2023-04-26T12:52:39.828Z"
      },
      {
        "duration": 8,
        "start_time": "2023-04-26T12:52:39.847Z"
      },
      {
        "duration": 6,
        "start_time": "2023-04-26T12:52:39.856Z"
      },
      {
        "duration": 26,
        "start_time": "2023-04-26T12:52:39.864Z"
      },
      {
        "duration": 155,
        "start_time": "2023-04-26T12:52:39.892Z"
      },
      {
        "duration": 120,
        "start_time": "2023-04-26T12:52:40.049Z"
      },
      {
        "duration": 191,
        "start_time": "2023-04-26T12:52:40.171Z"
      },
      {
        "duration": 249,
        "start_time": "2023-04-26T12:52:40.363Z"
      },
      {
        "duration": 206,
        "start_time": "2023-04-26T12:52:40.614Z"
      },
      {
        "duration": 5,
        "start_time": "2023-04-26T12:52:40.822Z"
      },
      {
        "duration": 31,
        "start_time": "2023-04-26T12:52:40.829Z"
      },
      {
        "duration": 21,
        "start_time": "2023-04-26T12:52:40.861Z"
      },
      {
        "duration": 17,
        "start_time": "2023-04-26T12:52:40.894Z"
      },
      {
        "duration": 9,
        "start_time": "2023-04-26T12:52:40.914Z"
      },
      {
        "duration": 480,
        "start_time": "2023-04-26T12:52:40.925Z"
      },
      {
        "duration": 468,
        "start_time": "2023-04-26T12:52:41.408Z"
      },
      {
        "duration": 32,
        "start_time": "2023-04-26T12:52:41.878Z"
      },
      {
        "duration": 46,
        "start_time": "2023-04-26T12:52:41.912Z"
      },
      {
        "duration": 49,
        "start_time": "2023-04-26T12:52:41.960Z"
      },
      {
        "duration": 18,
        "start_time": "2023-04-26T12:52:42.010Z"
      },
      {
        "duration": 5,
        "start_time": "2023-04-26T12:52:42.029Z"
      },
      {
        "duration": 18,
        "start_time": "2023-04-26T12:52:42.036Z"
      },
      {
        "duration": 4,
        "start_time": "2023-04-26T12:52:42.057Z"
      },
      {
        "duration": 6,
        "start_time": "2023-04-26T12:52:42.063Z"
      },
      {
        "duration": 16,
        "start_time": "2023-04-26T12:52:42.070Z"
      },
      {
        "duration": 7,
        "start_time": "2023-04-26T12:52:42.107Z"
      },
      {
        "duration": 1440,
        "start_time": "2023-04-26T12:52:42.116Z"
      },
      {
        "duration": 6,
        "start_time": "2023-04-26T12:52:43.558Z"
      },
      {
        "duration": 13,
        "start_time": "2023-04-26T12:52:43.566Z"
      },
      {
        "duration": 295,
        "start_time": "2023-04-26T12:52:43.581Z"
      },
      {
        "duration": 981,
        "start_time": "2023-04-26T12:53:28.335Z"
      },
      {
        "duration": 141,
        "start_time": "2023-04-26T12:53:29.318Z"
      },
      {
        "duration": 51,
        "start_time": "2023-04-26T12:53:29.461Z"
      },
      {
        "duration": 15,
        "start_time": "2023-04-26T12:53:29.515Z"
      },
      {
        "duration": 10,
        "start_time": "2023-04-26T12:53:29.531Z"
      },
      {
        "duration": 9,
        "start_time": "2023-04-26T12:53:29.543Z"
      },
      {
        "duration": 7,
        "start_time": "2023-04-26T12:53:29.553Z"
      },
      {
        "duration": 46,
        "start_time": "2023-04-26T12:53:29.562Z"
      },
      {
        "duration": 14,
        "start_time": "2023-04-26T12:53:29.612Z"
      },
      {
        "duration": 149,
        "start_time": "2023-04-26T12:53:29.629Z"
      },
      {
        "duration": 132,
        "start_time": "2023-04-26T12:53:29.780Z"
      },
      {
        "duration": 196,
        "start_time": "2023-04-26T12:53:29.914Z"
      },
      {
        "duration": 309,
        "start_time": "2023-04-26T12:53:30.111Z"
      },
      {
        "duration": 291,
        "start_time": "2023-04-26T12:53:30.423Z"
      },
      {
        "duration": 6,
        "start_time": "2023-04-26T12:53:30.719Z"
      },
      {
        "duration": 55,
        "start_time": "2023-04-26T12:53:30.727Z"
      },
      {
        "duration": 46,
        "start_time": "2023-04-26T12:53:30.783Z"
      },
      {
        "duration": 45,
        "start_time": "2023-04-26T12:53:30.831Z"
      },
      {
        "duration": 40,
        "start_time": "2023-04-26T12:53:30.879Z"
      },
      {
        "duration": 574,
        "start_time": "2023-04-26T12:53:30.921Z"
      },
      {
        "duration": 462,
        "start_time": "2023-04-26T12:53:31.497Z"
      },
      {
        "duration": 18,
        "start_time": "2023-04-26T12:53:31.961Z"
      },
      {
        "duration": 77,
        "start_time": "2023-04-26T12:53:31.981Z"
      },
      {
        "duration": 20,
        "start_time": "2023-04-26T12:53:32.060Z"
      },
      {
        "duration": 27,
        "start_time": "2023-04-26T12:53:32.082Z"
      },
      {
        "duration": 6,
        "start_time": "2023-04-26T12:53:32.110Z"
      },
      {
        "duration": 12,
        "start_time": "2023-04-26T12:53:32.118Z"
      },
      {
        "duration": 2,
        "start_time": "2023-04-26T12:53:32.133Z"
      },
      {
        "duration": 14,
        "start_time": "2023-04-26T12:53:32.137Z"
      },
      {
        "duration": 20,
        "start_time": "2023-04-26T12:53:32.153Z"
      },
      {
        "duration": 16,
        "start_time": "2023-04-26T12:53:32.175Z"
      },
      {
        "duration": 1572,
        "start_time": "2023-04-26T12:53:32.194Z"
      },
      {
        "duration": 6,
        "start_time": "2023-04-26T12:53:33.768Z"
      },
      {
        "duration": 34,
        "start_time": "2023-04-26T12:53:33.776Z"
      },
      {
        "duration": 274,
        "start_time": "2023-04-26T12:53:33.812Z"
      },
      {
        "duration": 32,
        "start_time": "2023-04-26T12:54:21.728Z"
      },
      {
        "duration": 1084,
        "start_time": "2023-04-26T13:05:02.971Z"
      },
      {
        "duration": 133,
        "start_time": "2023-04-26T13:05:04.057Z"
      },
      {
        "duration": 53,
        "start_time": "2023-04-26T13:05:04.193Z"
      },
      {
        "duration": 16,
        "start_time": "2023-04-26T13:05:04.249Z"
      },
      {
        "duration": 38,
        "start_time": "2023-04-26T13:05:04.267Z"
      },
      {
        "duration": 10,
        "start_time": "2023-04-26T13:05:04.310Z"
      },
      {
        "duration": 8,
        "start_time": "2023-04-26T13:05:04.322Z"
      },
      {
        "duration": 5,
        "start_time": "2023-04-26T13:05:04.332Z"
      },
      {
        "duration": 15,
        "start_time": "2023-04-26T13:05:04.338Z"
      },
      {
        "duration": 161,
        "start_time": "2023-04-26T13:05:04.356Z"
      },
      {
        "duration": 121,
        "start_time": "2023-04-26T13:05:04.519Z"
      },
      {
        "duration": 199,
        "start_time": "2023-04-26T13:05:04.642Z"
      },
      {
        "duration": 248,
        "start_time": "2023-04-26T13:05:04.842Z"
      },
      {
        "duration": 219,
        "start_time": "2023-04-26T13:05:05.094Z"
      },
      {
        "duration": 5,
        "start_time": "2023-04-26T13:05:05.315Z"
      },
      {
        "duration": 47,
        "start_time": "2023-04-26T13:05:05.321Z"
      },
      {
        "duration": 26,
        "start_time": "2023-04-26T13:05:05.370Z"
      },
      {
        "duration": 17,
        "start_time": "2023-04-26T13:05:05.398Z"
      },
      {
        "duration": 13,
        "start_time": "2023-04-26T13:05:05.417Z"
      },
      {
        "duration": 498,
        "start_time": "2023-04-26T13:05:05.431Z"
      },
      {
        "duration": 439,
        "start_time": "2023-04-26T13:05:05.931Z"
      },
      {
        "duration": 43,
        "start_time": "2023-04-26T13:05:06.372Z"
      },
      {
        "duration": 18,
        "start_time": "2023-04-26T13:05:06.416Z"
      },
      {
        "duration": 14,
        "start_time": "2023-04-26T13:05:06.436Z"
      },
      {
        "duration": 5,
        "start_time": "2023-04-26T13:05:06.452Z"
      },
      {
        "duration": 5,
        "start_time": "2023-04-26T13:05:06.458Z"
      },
      {
        "duration": 49,
        "start_time": "2023-04-26T13:05:06.465Z"
      },
      {
        "duration": 3,
        "start_time": "2023-04-26T13:05:06.517Z"
      },
      {
        "duration": 9,
        "start_time": "2023-04-26T13:05:06.521Z"
      },
      {
        "duration": 5,
        "start_time": "2023-04-26T13:05:06.532Z"
      },
      {
        "duration": 1481,
        "start_time": "2023-04-26T13:05:06.538Z"
      },
      {
        "duration": 5,
        "start_time": "2023-04-26T13:05:08.020Z"
      },
      {
        "duration": 263,
        "start_time": "2023-04-26T13:05:08.027Z"
      },
      {
        "duration": 11,
        "start_time": "2023-04-26T13:05:08.294Z"
      },
      {
        "duration": 5,
        "start_time": "2023-04-26T13:09:27.037Z"
      },
      {
        "duration": 1111,
        "start_time": "2023-04-26T22:39:34.869Z"
      },
      {
        "duration": 246,
        "start_time": "2023-04-26T22:39:35.982Z"
      },
      {
        "duration": 41,
        "start_time": "2023-04-26T22:39:36.229Z"
      },
      {
        "duration": 12,
        "start_time": "2023-04-26T22:39:36.272Z"
      },
      {
        "duration": 10,
        "start_time": "2023-04-26T22:39:36.286Z"
      },
      {
        "duration": 9,
        "start_time": "2023-04-26T22:39:36.298Z"
      },
      {
        "duration": 7,
        "start_time": "2023-04-26T22:39:36.337Z"
      },
      {
        "duration": 7,
        "start_time": "2023-04-26T22:39:36.346Z"
      },
      {
        "duration": 22,
        "start_time": "2023-04-26T22:39:36.354Z"
      },
      {
        "duration": 156,
        "start_time": "2023-04-26T22:39:36.379Z"
      },
      {
        "duration": 115,
        "start_time": "2023-04-26T22:39:36.537Z"
      },
      {
        "duration": 177,
        "start_time": "2023-04-26T22:39:36.653Z"
      },
      {
        "duration": 220,
        "start_time": "2023-04-26T22:39:36.832Z"
      },
      {
        "duration": 193,
        "start_time": "2023-04-26T22:39:37.054Z"
      },
      {
        "duration": 4,
        "start_time": "2023-04-26T22:39:37.248Z"
      },
      {
        "duration": 50,
        "start_time": "2023-04-26T22:39:37.253Z"
      },
      {
        "duration": 21,
        "start_time": "2023-04-26T22:39:37.305Z"
      },
      {
        "duration": 16,
        "start_time": "2023-04-26T22:39:37.328Z"
      },
      {
        "duration": 12,
        "start_time": "2023-04-26T22:39:37.345Z"
      },
      {
        "duration": 442,
        "start_time": "2023-04-26T22:39:37.359Z"
      },
      {
        "duration": 422,
        "start_time": "2023-04-26T22:39:37.802Z"
      },
      {
        "duration": 37,
        "start_time": "2023-04-26T22:39:38.226Z"
      },
      {
        "duration": 19,
        "start_time": "2023-04-26T22:39:38.264Z"
      },
      {
        "duration": 13,
        "start_time": "2023-04-26T22:39:38.284Z"
      },
      {
        "duration": 4,
        "start_time": "2023-04-26T22:39:38.298Z"
      },
      {
        "duration": 33,
        "start_time": "2023-04-26T22:39:38.303Z"
      },
      {
        "duration": 11,
        "start_time": "2023-04-26T22:39:38.337Z"
      },
      {
        "duration": 27,
        "start_time": "2023-04-26T22:39:38.351Z"
      },
      {
        "duration": 10,
        "start_time": "2023-04-26T22:39:38.381Z"
      },
      {
        "duration": 12,
        "start_time": "2023-04-26T22:39:38.392Z"
      },
      {
        "duration": 1358,
        "start_time": "2023-04-26T22:39:38.405Z"
      },
      {
        "duration": 6,
        "start_time": "2023-04-26T22:39:39.764Z"
      },
      {
        "duration": 268,
        "start_time": "2023-04-26T22:39:39.771Z"
      },
      {
        "duration": 5,
        "start_time": "2023-04-26T22:39:40.040Z"
      },
      {
        "duration": 1006,
        "start_time": "2023-04-26T22:42:51.053Z"
      },
      {
        "duration": 125,
        "start_time": "2023-04-26T22:42:52.062Z"
      },
      {
        "duration": 45,
        "start_time": "2023-04-26T22:42:52.189Z"
      },
      {
        "duration": 14,
        "start_time": "2023-04-26T22:42:52.236Z"
      },
      {
        "duration": 26,
        "start_time": "2023-04-26T22:42:52.251Z"
      },
      {
        "duration": 9,
        "start_time": "2023-04-26T22:42:52.279Z"
      },
      {
        "duration": 8,
        "start_time": "2023-04-26T22:42:52.289Z"
      },
      {
        "duration": 3,
        "start_time": "2023-04-26T22:42:52.298Z"
      },
      {
        "duration": 12,
        "start_time": "2023-04-26T22:42:52.303Z"
      },
      {
        "duration": 160,
        "start_time": "2023-04-26T22:42:52.317Z"
      },
      {
        "duration": 133,
        "start_time": "2023-04-26T22:42:52.478Z"
      },
      {
        "duration": 192,
        "start_time": "2023-04-26T22:42:52.612Z"
      },
      {
        "duration": 232,
        "start_time": "2023-04-26T22:42:52.806Z"
      },
      {
        "duration": 209,
        "start_time": "2023-04-26T22:42:53.040Z"
      },
      {
        "duration": 5,
        "start_time": "2023-04-26T22:42:53.250Z"
      },
      {
        "duration": 27,
        "start_time": "2023-04-26T22:42:53.257Z"
      },
      {
        "duration": 25,
        "start_time": "2023-04-26T22:42:53.286Z"
      },
      {
        "duration": 30,
        "start_time": "2023-04-26T22:42:53.313Z"
      },
      {
        "duration": 31,
        "start_time": "2023-04-26T22:42:53.344Z"
      },
      {
        "duration": 511,
        "start_time": "2023-04-26T22:42:53.377Z"
      },
      {
        "duration": 459,
        "start_time": "2023-04-26T22:42:53.890Z"
      },
      {
        "duration": 39,
        "start_time": "2023-04-26T22:42:54.350Z"
      },
      {
        "duration": 17,
        "start_time": "2023-04-26T22:42:54.391Z"
      },
      {
        "duration": 40,
        "start_time": "2023-04-26T22:42:54.409Z"
      },
      {
        "duration": 9,
        "start_time": "2023-04-26T22:42:54.451Z"
      },
      {
        "duration": 17,
        "start_time": "2023-04-26T22:42:54.462Z"
      },
      {
        "duration": 8,
        "start_time": "2023-04-26T22:42:54.480Z"
      },
      {
        "duration": 1571,
        "start_time": "2023-04-26T22:42:54.492Z"
      },
      {
        "duration": 6,
        "start_time": "2023-04-26T22:42:56.065Z"
      },
      {
        "duration": 319,
        "start_time": "2023-04-26T22:42:56.073Z"
      },
      {
        "duration": 6,
        "start_time": "2023-04-26T22:42:56.393Z"
      },
      {
        "duration": 1231,
        "start_time": "2023-04-27T12:09:22.726Z"
      },
      {
        "duration": 152,
        "start_time": "2023-04-27T12:09:23.960Z"
      },
      {
        "duration": 60,
        "start_time": "2023-04-27T12:09:24.115Z"
      },
      {
        "duration": 19,
        "start_time": "2023-04-27T12:09:24.178Z"
      },
      {
        "duration": 14,
        "start_time": "2023-04-27T12:09:24.200Z"
      },
      {
        "duration": 15,
        "start_time": "2023-04-27T12:09:24.216Z"
      },
      {
        "duration": 11,
        "start_time": "2023-04-27T12:09:24.256Z"
      },
      {
        "duration": 27,
        "start_time": "2023-04-27T12:09:24.269Z"
      },
      {
        "duration": 28,
        "start_time": "2023-04-27T12:09:24.299Z"
      },
      {
        "duration": 180,
        "start_time": "2023-04-27T12:09:24.329Z"
      },
      {
        "duration": 156,
        "start_time": "2023-04-27T12:09:24.511Z"
      },
      {
        "duration": 216,
        "start_time": "2023-04-27T12:09:24.669Z"
      },
      {
        "duration": 256,
        "start_time": "2023-04-27T12:09:24.887Z"
      },
      {
        "duration": 230,
        "start_time": "2023-04-27T12:09:25.155Z"
      },
      {
        "duration": 5,
        "start_time": "2023-04-27T12:09:25.387Z"
      },
      {
        "duration": 65,
        "start_time": "2023-04-27T12:09:25.394Z"
      },
      {
        "duration": 38,
        "start_time": "2023-04-27T12:09:25.460Z"
      },
      {
        "duration": 13,
        "start_time": "2023-04-27T12:09:25.501Z"
      },
      {
        "duration": 10,
        "start_time": "2023-04-27T12:09:25.516Z"
      },
      {
        "duration": 619,
        "start_time": "2023-04-27T12:09:25.528Z"
      },
      {
        "duration": 487,
        "start_time": "2023-04-27T12:09:26.149Z"
      },
      {
        "duration": 43,
        "start_time": "2023-04-27T12:09:26.639Z"
      },
      {
        "duration": 19,
        "start_time": "2023-04-27T12:09:26.684Z"
      },
      {
        "duration": 22,
        "start_time": "2023-04-27T12:09:26.705Z"
      },
      {
        "duration": 35,
        "start_time": "2023-04-27T12:09:26.730Z"
      },
      {
        "duration": 10,
        "start_time": "2023-04-27T12:09:26.768Z"
      },
      {
        "duration": 14,
        "start_time": "2023-04-27T12:09:26.780Z"
      },
      {
        "duration": 1534,
        "start_time": "2023-04-27T12:09:26.796Z"
      },
      {
        "duration": 8,
        "start_time": "2023-04-27T12:09:28.332Z"
      },
      {
        "duration": 280,
        "start_time": "2023-04-27T12:09:28.357Z"
      },
      {
        "duration": 5,
        "start_time": "2023-04-27T12:09:28.639Z"
      },
      {
        "duration": 1094,
        "start_time": "2023-04-27T15:02:54.777Z"
      },
      {
        "duration": 126,
        "start_time": "2023-04-27T15:02:55.873Z"
      },
      {
        "duration": 46,
        "start_time": "2023-04-27T15:02:56.001Z"
      },
      {
        "duration": 15,
        "start_time": "2023-04-27T15:02:56.050Z"
      },
      {
        "duration": 12,
        "start_time": "2023-04-27T15:02:56.067Z"
      },
      {
        "duration": 9,
        "start_time": "2023-04-27T15:02:56.081Z"
      },
      {
        "duration": 7,
        "start_time": "2023-04-27T15:02:56.092Z"
      },
      {
        "duration": 4,
        "start_time": "2023-04-27T15:02:56.101Z"
      },
      {
        "duration": 17,
        "start_time": "2023-04-27T15:02:56.107Z"
      },
      {
        "duration": 160,
        "start_time": "2023-04-27T15:02:56.157Z"
      },
      {
        "duration": 147,
        "start_time": "2023-04-27T15:02:56.318Z"
      },
      {
        "duration": 228,
        "start_time": "2023-04-27T15:02:56.467Z"
      },
      {
        "duration": 254,
        "start_time": "2023-04-27T15:02:56.697Z"
      },
      {
        "duration": 219,
        "start_time": "2023-04-27T15:02:56.956Z"
      },
      {
        "duration": 6,
        "start_time": "2023-04-27T15:02:57.177Z"
      },
      {
        "duration": 43,
        "start_time": "2023-04-27T15:02:57.185Z"
      },
      {
        "duration": 27,
        "start_time": "2023-04-27T15:02:57.230Z"
      },
      {
        "duration": 12,
        "start_time": "2023-04-27T15:02:57.258Z"
      },
      {
        "duration": 9,
        "start_time": "2023-04-27T15:02:57.272Z"
      },
      {
        "duration": 534,
        "start_time": "2023-04-27T15:02:57.282Z"
      },
      {
        "duration": 484,
        "start_time": "2023-04-27T15:02:57.818Z"
      },
      {
        "duration": 39,
        "start_time": "2023-04-27T15:02:58.304Z"
      },
      {
        "duration": 22,
        "start_time": "2023-04-27T15:02:58.355Z"
      },
      {
        "duration": 17,
        "start_time": "2023-04-27T15:02:58.378Z"
      },
      {
        "duration": 6,
        "start_time": "2023-04-27T15:02:58.397Z"
      },
      {
        "duration": 9,
        "start_time": "2023-04-27T15:02:58.404Z"
      },
      {
        "duration": 5,
        "start_time": "2023-04-27T15:02:58.416Z"
      },
      {
        "duration": 1654,
        "start_time": "2023-04-27T15:02:58.458Z"
      },
      {
        "duration": 6,
        "start_time": "2023-04-27T15:03:00.114Z"
      },
      {
        "duration": 324,
        "start_time": "2023-04-27T15:03:00.122Z"
      },
      {
        "duration": 10,
        "start_time": "2023-04-27T15:03:00.449Z"
      },
      {
        "duration": 6,
        "start_time": "2023-04-27T15:28:20.246Z"
      },
      {
        "duration": 109,
        "start_time": "2023-04-27T15:34:59.575Z"
      },
      {
        "duration": 5,
        "start_time": "2023-04-27T15:35:07.726Z"
      },
      {
        "duration": 7,
        "start_time": "2023-04-27T15:35:36.185Z"
      },
      {
        "duration": 8,
        "start_time": "2023-04-27T15:48:18.509Z"
      },
      {
        "duration": 44,
        "start_time": "2023-04-27T20:26:59.787Z"
      },
      {
        "duration": 1195,
        "start_time": "2023-04-27T20:27:08.697Z"
      },
      {
        "duration": 270,
        "start_time": "2023-04-27T20:27:09.894Z"
      },
      {
        "duration": 44,
        "start_time": "2023-04-27T20:27:10.166Z"
      },
      {
        "duration": 14,
        "start_time": "2023-04-27T20:27:10.212Z"
      },
      {
        "duration": 6,
        "start_time": "2023-04-27T20:27:10.227Z"
      },
      {
        "duration": 33,
        "start_time": "2023-04-27T20:27:10.234Z"
      },
      {
        "duration": 9,
        "start_time": "2023-04-27T20:27:10.269Z"
      },
      {
        "duration": 8,
        "start_time": "2023-04-27T20:27:10.279Z"
      },
      {
        "duration": 4,
        "start_time": "2023-04-27T20:27:10.288Z"
      },
      {
        "duration": 13,
        "start_time": "2023-04-27T20:27:10.295Z"
      },
      {
        "duration": 172,
        "start_time": "2023-04-27T20:27:10.309Z"
      },
      {
        "duration": 133,
        "start_time": "2023-04-27T20:27:10.482Z"
      },
      {
        "duration": 211,
        "start_time": "2023-04-27T20:27:10.616Z"
      },
      {
        "duration": 269,
        "start_time": "2023-04-27T20:27:10.828Z"
      },
      {
        "duration": 241,
        "start_time": "2023-04-27T20:27:11.099Z"
      },
      {
        "duration": 13,
        "start_time": "2023-04-27T20:27:11.341Z"
      },
      {
        "duration": 32,
        "start_time": "2023-04-27T20:27:11.356Z"
      },
      {
        "duration": 27,
        "start_time": "2023-04-27T20:27:11.389Z"
      },
      {
        "duration": 17,
        "start_time": "2023-04-27T20:27:11.434Z"
      },
      {
        "duration": 13,
        "start_time": "2023-04-27T20:27:11.452Z"
      },
      {
        "duration": 548,
        "start_time": "2023-04-27T20:27:11.467Z"
      },
      {
        "duration": 534,
        "start_time": "2023-04-27T20:27:12.017Z"
      },
      {
        "duration": 36,
        "start_time": "2023-04-27T20:27:12.553Z"
      },
      {
        "duration": 21,
        "start_time": "2023-04-27T20:27:12.590Z"
      },
      {
        "duration": 43,
        "start_time": "2023-04-27T20:27:12.612Z"
      },
      {
        "duration": 8,
        "start_time": "2023-04-27T20:27:12.657Z"
      },
      {
        "duration": 10,
        "start_time": "2023-04-27T20:27:12.666Z"
      },
      {
        "duration": 7,
        "start_time": "2023-04-27T20:27:12.679Z"
      },
      {
        "duration": 1599,
        "start_time": "2023-04-27T20:27:12.688Z"
      },
      {
        "duration": 6,
        "start_time": "2023-04-27T20:27:14.289Z"
      },
      {
        "duration": 309,
        "start_time": "2023-04-27T20:27:14.297Z"
      },
      {
        "duration": 7,
        "start_time": "2023-04-27T20:27:14.608Z"
      },
      {
        "duration": 4,
        "start_time": "2023-04-27T20:32:33.038Z"
      },
      {
        "duration": 2,
        "start_time": "2023-04-27T20:43:01.132Z"
      },
      {
        "duration": 1065,
        "start_time": "2023-04-27T20:56:29.620Z"
      },
      {
        "duration": 128,
        "start_time": "2023-04-27T20:56:30.686Z"
      },
      {
        "duration": 38,
        "start_time": "2023-04-27T20:56:30.816Z"
      },
      {
        "duration": 13,
        "start_time": "2023-04-27T20:56:30.856Z"
      },
      {
        "duration": 15,
        "start_time": "2023-04-27T20:56:30.871Z"
      },
      {
        "duration": 43,
        "start_time": "2023-04-27T20:56:30.888Z"
      },
      {
        "duration": 45,
        "start_time": "2023-04-27T20:56:30.933Z"
      },
      {
        "duration": 23,
        "start_time": "2023-04-27T20:56:30.980Z"
      },
      {
        "duration": 60,
        "start_time": "2023-04-27T20:56:31.004Z"
      },
      {
        "duration": 156,
        "start_time": "2023-04-27T20:56:31.066Z"
      },
      {
        "duration": 121,
        "start_time": "2023-04-27T20:56:31.223Z"
      },
      {
        "duration": 185,
        "start_time": "2023-04-27T20:56:31.346Z"
      },
      {
        "duration": 221,
        "start_time": "2023-04-27T20:56:31.534Z"
      },
      {
        "duration": 207,
        "start_time": "2023-04-27T20:56:31.756Z"
      },
      {
        "duration": 5,
        "start_time": "2023-04-27T20:56:31.964Z"
      },
      {
        "duration": 31,
        "start_time": "2023-04-27T20:56:31.970Z"
      },
      {
        "duration": 21,
        "start_time": "2023-04-27T20:56:32.003Z"
      },
      {
        "duration": 10,
        "start_time": "2023-04-27T20:56:32.034Z"
      },
      {
        "duration": 24,
        "start_time": "2023-04-27T20:56:32.046Z"
      },
      {
        "duration": 470,
        "start_time": "2023-04-27T20:56:32.071Z"
      },
      {
        "duration": 529,
        "start_time": "2023-04-27T20:56:32.542Z"
      },
      {
        "duration": 73,
        "start_time": "2023-04-27T20:56:33.073Z"
      },
      {
        "duration": 18,
        "start_time": "2023-04-27T20:56:33.147Z"
      },
      {
        "duration": 13,
        "start_time": "2023-04-27T20:56:33.166Z"
      },
      {
        "duration": 5,
        "start_time": "2023-04-27T20:56:33.180Z"
      },
      {
        "duration": 19,
        "start_time": "2023-04-27T20:56:33.186Z"
      },
      {
        "duration": 11,
        "start_time": "2023-04-27T20:56:33.207Z"
      },
      {
        "duration": 1452,
        "start_time": "2023-04-27T20:56:33.234Z"
      },
      {
        "duration": 7,
        "start_time": "2023-04-27T20:56:34.688Z"
      },
      {
        "duration": 267,
        "start_time": "2023-04-27T20:56:34.697Z"
      },
      {
        "duration": 5,
        "start_time": "2023-04-27T20:56:34.966Z"
      },
      {
        "duration": 126,
        "start_time": "2023-04-27T21:00:27.502Z"
      },
      {
        "duration": 124,
        "start_time": "2023-04-27T21:01:41.972Z"
      },
      {
        "duration": 157,
        "start_time": "2023-04-27T21:03:13.589Z"
      },
      {
        "duration": 129,
        "start_time": "2023-04-27T21:03:45.141Z"
      },
      {
        "duration": 145,
        "start_time": "2023-04-27T21:04:09.429Z"
      },
      {
        "duration": 67,
        "start_time": "2023-04-27T21:08:44.707Z"
      },
      {
        "duration": 91,
        "start_time": "2023-04-27T21:10:50.417Z"
      },
      {
        "duration": 203,
        "start_time": "2023-04-27T21:10:56.918Z"
      },
      {
        "duration": 236,
        "start_time": "2023-04-27T21:11:11.580Z"
      },
      {
        "duration": 91,
        "start_time": "2023-04-27T21:16:09.242Z"
      },
      {
        "duration": 72,
        "start_time": "2023-04-27T21:16:33.346Z"
      },
      {
        "duration": 75,
        "start_time": "2023-04-27T21:17:50.858Z"
      },
      {
        "duration": 86,
        "start_time": "2023-04-27T21:18:10.249Z"
      },
      {
        "duration": 94,
        "start_time": "2023-04-27T21:20:15.762Z"
      },
      {
        "duration": 152,
        "start_time": "2023-04-27T21:23:50.456Z"
      },
      {
        "duration": 181,
        "start_time": "2023-04-27T21:23:54.606Z"
      },
      {
        "duration": 85,
        "start_time": "2023-04-27T21:23:59.900Z"
      },
      {
        "duration": 115,
        "start_time": "2023-04-27T21:25:10.656Z"
      },
      {
        "duration": 116,
        "start_time": "2023-04-27T21:25:20.367Z"
      },
      {
        "duration": 97,
        "start_time": "2023-04-27T21:25:35.816Z"
      },
      {
        "duration": 80,
        "start_time": "2023-04-27T21:27:02.071Z"
      },
      {
        "duration": 107,
        "start_time": "2023-04-27T21:27:25.975Z"
      },
      {
        "duration": 103,
        "start_time": "2023-04-27T21:27:55.879Z"
      },
      {
        "duration": 195,
        "start_time": "2023-04-27T21:31:09.479Z"
      },
      {
        "duration": 189,
        "start_time": "2023-04-27T21:31:12.107Z"
      },
      {
        "duration": 10,
        "start_time": "2023-04-27T21:35:22.198Z"
      },
      {
        "duration": 13,
        "start_time": "2023-04-27T21:35:52.637Z"
      },
      {
        "duration": 175,
        "start_time": "2023-04-27T21:36:56.295Z"
      },
      {
        "duration": 122,
        "start_time": "2023-04-27T21:39:27.860Z"
      },
      {
        "duration": 1034,
        "start_time": "2023-04-27T21:40:12.259Z"
      },
      {
        "duration": 119,
        "start_time": "2023-04-27T21:40:13.295Z"
      },
      {
        "duration": 42,
        "start_time": "2023-04-27T21:40:13.415Z"
      },
      {
        "duration": 13,
        "start_time": "2023-04-27T21:40:13.459Z"
      },
      {
        "duration": 4,
        "start_time": "2023-04-27T21:40:13.474Z"
      },
      {
        "duration": 24,
        "start_time": "2023-04-27T21:40:13.480Z"
      },
      {
        "duration": 12,
        "start_time": "2023-04-27T21:40:13.505Z"
      },
      {
        "duration": 8,
        "start_time": "2023-04-27T21:40:13.534Z"
      },
      {
        "duration": 5,
        "start_time": "2023-04-27T21:40:13.544Z"
      },
      {
        "duration": 185,
        "start_time": "2023-04-27T21:40:13.552Z"
      },
      {
        "duration": 148,
        "start_time": "2023-04-27T21:40:13.738Z"
      },
      {
        "duration": 102,
        "start_time": "2023-04-27T21:40:13.887Z"
      },
      {
        "duration": 145,
        "start_time": "2023-04-27T21:40:13.991Z"
      },
      {
        "duration": 243,
        "start_time": "2023-04-27T21:40:14.138Z"
      },
      {
        "duration": 226,
        "start_time": "2023-04-27T21:40:14.383Z"
      },
      {
        "duration": 5,
        "start_time": "2023-04-27T21:40:14.611Z"
      },
      {
        "duration": 30,
        "start_time": "2023-04-27T21:40:14.617Z"
      },
      {
        "duration": 23,
        "start_time": "2023-04-27T21:40:14.649Z"
      },
      {
        "duration": 11,
        "start_time": "2023-04-27T21:40:14.673Z"
      },
      {
        "duration": 8,
        "start_time": "2023-04-27T21:40:14.686Z"
      },
      {
        "duration": 596,
        "start_time": "2023-04-27T21:40:14.695Z"
      },
      {
        "duration": 483,
        "start_time": "2023-04-27T21:40:15.293Z"
      },
      {
        "duration": 34,
        "start_time": "2023-04-27T21:40:15.778Z"
      },
      {
        "duration": 37,
        "start_time": "2023-04-27T21:40:15.814Z"
      },
      {
        "duration": 13,
        "start_time": "2023-04-27T21:40:15.853Z"
      },
      {
        "duration": 5,
        "start_time": "2023-04-27T21:40:15.868Z"
      },
      {
        "duration": 8,
        "start_time": "2023-04-27T21:40:15.874Z"
      },
      {
        "duration": 4,
        "start_time": "2023-04-27T21:40:15.885Z"
      },
      {
        "duration": 1460,
        "start_time": "2023-04-27T21:40:15.890Z"
      },
      {
        "duration": 5,
        "start_time": "2023-04-27T21:40:17.352Z"
      },
      {
        "duration": 265,
        "start_time": "2023-04-27T21:40:17.359Z"
      },
      {
        "duration": 11,
        "start_time": "2023-04-27T21:40:17.625Z"
      },
      {
        "duration": 178,
        "start_time": "2023-04-27T21:43:06.731Z"
      },
      {
        "duration": 168,
        "start_time": "2023-04-27T21:43:48.581Z"
      },
      {
        "duration": 203,
        "start_time": "2023-04-27T21:44:48.199Z"
      },
      {
        "duration": 289,
        "start_time": "2023-04-27T21:46:16.242Z"
      },
      {
        "duration": 255,
        "start_time": "2023-04-27T21:49:38.682Z"
      },
      {
        "duration": 133,
        "start_time": "2023-04-27T21:49:58.290Z"
      },
      {
        "duration": 240,
        "start_time": "2023-04-27T21:50:28.041Z"
      },
      {
        "duration": 149,
        "start_time": "2023-04-27T21:50:57.368Z"
      },
      {
        "duration": 171,
        "start_time": "2023-04-27T21:51:22.145Z"
      },
      {
        "duration": 177,
        "start_time": "2023-04-27T21:52:16.295Z"
      },
      {
        "duration": 165,
        "start_time": "2023-04-27T21:54:28.960Z"
      },
      {
        "duration": 206,
        "start_time": "2023-04-27T21:54:34.738Z"
      },
      {
        "duration": 184,
        "start_time": "2023-04-27T21:54:52.360Z"
      },
      {
        "duration": 211,
        "start_time": "2023-04-27T21:56:09.183Z"
      },
      {
        "duration": 188,
        "start_time": "2023-04-27T21:57:00.072Z"
      },
      {
        "duration": 191,
        "start_time": "2023-04-27T21:57:19.935Z"
      },
      {
        "duration": 117,
        "start_time": "2023-04-27T21:58:50.407Z"
      },
      {
        "duration": 9,
        "start_time": "2023-04-27T22:00:31.175Z"
      },
      {
        "duration": 198,
        "start_time": "2023-04-27T22:04:12.030Z"
      },
      {
        "duration": 881,
        "start_time": "2023-04-27T22:12:33.259Z"
      },
      {
        "duration": 236,
        "start_time": "2023-04-27T22:12:50.955Z"
      },
      {
        "duration": 389,
        "start_time": "2023-04-27T22:13:13.915Z"
      },
      {
        "duration": 234,
        "start_time": "2023-04-27T22:13:31.380Z"
      },
      {
        "duration": 10,
        "start_time": "2023-04-27T22:15:19.370Z"
      },
      {
        "duration": 238,
        "start_time": "2023-04-27T22:21:09.617Z"
      },
      {
        "duration": 12,
        "start_time": "2023-04-27T22:25:43.744Z"
      },
      {
        "duration": 8,
        "start_time": "2023-04-27T22:25:53.103Z"
      },
      {
        "duration": 333,
        "start_time": "2023-04-27T22:34:37.334Z"
      },
      {
        "duration": 244,
        "start_time": "2023-04-27T22:35:06.830Z"
      },
      {
        "duration": 263,
        "start_time": "2023-04-27T22:35:09.575Z"
      },
      {
        "duration": 563,
        "start_time": "2023-04-27T22:37:57.678Z"
      },
      {
        "duration": 208,
        "start_time": "2023-04-27T22:39:06.861Z"
      },
      {
        "duration": 981,
        "start_time": "2023-04-27T22:39:20.939Z"
      },
      {
        "duration": 113,
        "start_time": "2023-04-27T22:39:21.921Z"
      },
      {
        "duration": 41,
        "start_time": "2023-04-27T22:39:22.036Z"
      },
      {
        "duration": 12,
        "start_time": "2023-04-27T22:39:22.079Z"
      },
      {
        "duration": 4,
        "start_time": "2023-04-27T22:39:22.092Z"
      },
      {
        "duration": 14,
        "start_time": "2023-04-27T22:39:22.097Z"
      },
      {
        "duration": 9,
        "start_time": "2023-04-27T22:39:22.134Z"
      },
      {
        "duration": 7,
        "start_time": "2023-04-27T22:39:22.145Z"
      },
      {
        "duration": 3,
        "start_time": "2023-04-27T22:39:22.154Z"
      },
      {
        "duration": 156,
        "start_time": "2023-04-27T22:39:22.160Z"
      },
      {
        "duration": 130,
        "start_time": "2023-04-27T22:39:22.318Z"
      },
      {
        "duration": 72,
        "start_time": "2023-04-27T22:39:22.450Z"
      },
      {
        "duration": 197,
        "start_time": "2023-04-27T22:39:22.534Z"
      },
      {
        "duration": 9,
        "start_time": "2023-04-27T22:39:22.735Z"
      },
      {
        "duration": 242,
        "start_time": "2023-04-27T22:39:22.745Z"
      },
      {
        "duration": 8,
        "start_time": "2023-04-27T22:39:22.989Z"
      },
      {
        "duration": 217,
        "start_time": "2023-04-27T22:39:22.998Z"
      },
      {
        "duration": 8,
        "start_time": "2023-04-27T22:39:23.216Z"
      },
      {
        "duration": 4,
        "start_time": "2023-04-27T22:39:23.234Z"
      },
      {
        "duration": 22,
        "start_time": "2023-04-27T22:39:23.239Z"
      },
      {
        "duration": 22,
        "start_time": "2023-04-27T22:39:23.262Z"
      },
      {
        "duration": 14,
        "start_time": "2023-04-27T22:39:23.286Z"
      },
      {
        "duration": 37,
        "start_time": "2023-04-27T22:39:23.302Z"
      },
      {
        "duration": 250,
        "start_time": "2023-04-27T22:39:23.341Z"
      },
      {
        "duration": 298,
        "start_time": "2023-04-27T22:39:23.592Z"
      },
      {
        "duration": 209,
        "start_time": "2023-04-27T22:39:23.892Z"
      },
      {
        "duration": 188,
        "start_time": "2023-04-27T22:39:24.102Z"
      },
      {
        "duration": 42,
        "start_time": "2023-04-27T22:39:24.293Z"
      },
      {
        "duration": 19,
        "start_time": "2023-04-27T22:39:24.336Z"
      },
      {
        "duration": 14,
        "start_time": "2023-04-27T22:39:24.356Z"
      },
      {
        "duration": 4,
        "start_time": "2023-04-27T22:39:24.372Z"
      },
      {
        "duration": 23,
        "start_time": "2023-04-27T22:39:24.378Z"
      },
      {
        "duration": 8,
        "start_time": "2023-04-27T22:39:24.402Z"
      },
      {
        "duration": 1461,
        "start_time": "2023-04-27T22:39:24.412Z"
      },
      {
        "duration": 5,
        "start_time": "2023-04-27T22:39:25.875Z"
      },
      {
        "duration": 257,
        "start_time": "2023-04-27T22:39:25.881Z"
      },
      {
        "duration": 5,
        "start_time": "2023-04-27T22:39:26.140Z"
      },
      {
        "duration": 31,
        "start_time": "2023-04-27T22:41:27.898Z"
      },
      {
        "duration": 925,
        "start_time": "2023-04-27T22:58:41.128Z"
      },
      {
        "duration": 974,
        "start_time": "2023-04-27T22:58:58.500Z"
      },
      {
        "duration": 111,
        "start_time": "2023-04-27T22:58:59.475Z"
      },
      {
        "duration": 37,
        "start_time": "2023-04-27T22:58:59.587Z"
      },
      {
        "duration": 12,
        "start_time": "2023-04-27T22:58:59.626Z"
      },
      {
        "duration": 5,
        "start_time": "2023-04-27T22:58:59.640Z"
      },
      {
        "duration": 15,
        "start_time": "2023-04-27T22:58:59.646Z"
      },
      {
        "duration": 9,
        "start_time": "2023-04-27T22:58:59.663Z"
      },
      {
        "duration": 7,
        "start_time": "2023-04-27T22:58:59.673Z"
      },
      {
        "duration": 9,
        "start_time": "2023-04-27T22:58:59.681Z"
      },
      {
        "duration": 168,
        "start_time": "2023-04-27T22:58:59.692Z"
      },
      {
        "duration": 140,
        "start_time": "2023-04-27T22:58:59.862Z"
      },
      {
        "duration": 91,
        "start_time": "2023-04-27T22:59:00.003Z"
      },
      {
        "duration": 204,
        "start_time": "2023-04-27T22:59:00.095Z"
      },
      {
        "duration": 8,
        "start_time": "2023-04-27T22:59:00.300Z"
      },
      {
        "duration": 257,
        "start_time": "2023-04-27T22:59:00.310Z"
      },
      {
        "duration": 8,
        "start_time": "2023-04-27T22:59:00.569Z"
      },
      {
        "duration": 236,
        "start_time": "2023-04-27T22:59:00.578Z"
      },
      {
        "duration": 8,
        "start_time": "2023-04-27T22:59:00.815Z"
      },
      {
        "duration": 37,
        "start_time": "2023-04-27T22:59:00.825Z"
      },
      {
        "duration": 60,
        "start_time": "2023-04-27T22:59:00.863Z"
      },
      {
        "duration": 42,
        "start_time": "2023-04-27T22:59:00.924Z"
      },
      {
        "duration": 39,
        "start_time": "2023-04-27T22:59:00.967Z"
      },
      {
        "duration": 76,
        "start_time": "2023-04-27T22:59:01.008Z"
      },
      {
        "duration": 328,
        "start_time": "2023-04-27T22:59:01.086Z"
      },
      {
        "duration": 322,
        "start_time": "2023-04-27T22:59:01.416Z"
      },
      {
        "duration": 213,
        "start_time": "2023-04-27T22:59:01.740Z"
      },
      {
        "duration": 199,
        "start_time": "2023-04-27T22:59:01.954Z"
      },
      {
        "duration": 31,
        "start_time": "2023-04-27T22:59:02.156Z"
      },
      {
        "duration": 47,
        "start_time": "2023-04-27T22:59:02.189Z"
      },
      {
        "duration": 90,
        "start_time": "2023-04-27T22:59:02.238Z"
      },
      {
        "duration": 8,
        "start_time": "2023-04-27T22:59:02.330Z"
      },
      {
        "duration": 12,
        "start_time": "2023-04-27T22:59:02.340Z"
      },
      {
        "duration": 18,
        "start_time": "2023-04-27T22:59:02.354Z"
      },
      {
        "duration": 1410,
        "start_time": "2023-04-27T22:59:02.374Z"
      },
      {
        "duration": 6,
        "start_time": "2023-04-27T22:59:03.785Z"
      },
      {
        "duration": 281,
        "start_time": "2023-04-27T22:59:03.793Z"
      },
      {
        "duration": 6,
        "start_time": "2023-04-27T22:59:04.076Z"
      },
      {
        "duration": 97,
        "start_time": "2023-04-27T23:01:51.751Z"
      },
      {
        "duration": 5,
        "start_time": "2023-04-27T23:03:29.723Z"
      },
      {
        "duration": 7,
        "start_time": "2023-04-27T23:03:56.736Z"
      },
      {
        "duration": 9,
        "start_time": "2023-04-27T23:05:37.614Z"
      },
      {
        "duration": 9,
        "start_time": "2023-04-27T23:05:44.070Z"
      },
      {
        "duration": 11,
        "start_time": "2023-04-27T23:05:49.670Z"
      },
      {
        "duration": 9,
        "start_time": "2023-04-27T23:06:17.023Z"
      },
      {
        "duration": 9,
        "start_time": "2023-04-27T23:06:32.210Z"
      },
      {
        "duration": 9,
        "start_time": "2023-04-27T23:06:56.262Z"
      },
      {
        "duration": 1011,
        "start_time": "2023-04-27T23:10:16.275Z"
      },
      {
        "duration": 114,
        "start_time": "2023-04-27T23:10:17.288Z"
      },
      {
        "duration": 38,
        "start_time": "2023-04-27T23:10:17.403Z"
      },
      {
        "duration": 42,
        "start_time": "2023-04-27T23:10:17.443Z"
      },
      {
        "duration": 5,
        "start_time": "2023-04-27T23:10:17.487Z"
      },
      {
        "duration": 16,
        "start_time": "2023-04-27T23:10:17.493Z"
      },
      {
        "duration": 8,
        "start_time": "2023-04-27T23:10:17.510Z"
      },
      {
        "duration": 12,
        "start_time": "2023-04-27T23:10:17.519Z"
      },
      {
        "duration": 4,
        "start_time": "2023-04-27T23:10:17.532Z"
      },
      {
        "duration": 138,
        "start_time": "2023-04-27T23:10:17.538Z"
      },
      {
        "duration": 145,
        "start_time": "2023-04-27T23:10:17.678Z"
      },
      {
        "duration": 86,
        "start_time": "2023-04-27T23:10:17.824Z"
      },
      {
        "duration": 201,
        "start_time": "2023-04-27T23:10:17.911Z"
      },
      {
        "duration": 8,
        "start_time": "2023-04-27T23:10:18.113Z"
      },
      {
        "duration": 248,
        "start_time": "2023-04-27T23:10:18.122Z"
      },
      {
        "duration": 8,
        "start_time": "2023-04-27T23:10:18.371Z"
      },
      {
        "duration": 215,
        "start_time": "2023-04-27T23:10:18.380Z"
      },
      {
        "duration": 8,
        "start_time": "2023-04-27T23:10:18.596Z"
      },
      {
        "duration": 6,
        "start_time": "2023-04-27T23:10:18.605Z"
      },
      {
        "duration": 35,
        "start_time": "2023-04-27T23:10:18.612Z"
      },
      {
        "duration": 21,
        "start_time": "2023-04-27T23:10:18.648Z"
      },
      {
        "duration": 10,
        "start_time": "2023-04-27T23:10:18.670Z"
      },
      {
        "duration": 7,
        "start_time": "2023-04-27T23:10:18.682Z"
      },
      {
        "duration": 281,
        "start_time": "2023-04-27T23:10:18.690Z"
      },
      {
        "duration": 300,
        "start_time": "2023-04-27T23:10:18.972Z"
      },
      {
        "duration": 209,
        "start_time": "2023-04-27T23:10:19.274Z"
      },
      {
        "duration": 191,
        "start_time": "2023-04-27T23:10:19.485Z"
      },
      {
        "duration": 31,
        "start_time": "2023-04-27T23:10:19.679Z"
      },
      {
        "duration": 36,
        "start_time": "2023-04-27T23:10:19.711Z"
      },
      {
        "duration": 13,
        "start_time": "2023-04-27T23:10:19.749Z"
      },
      {
        "duration": 9,
        "start_time": "2023-04-27T23:10:19.763Z"
      },
      {
        "duration": 15,
        "start_time": "2023-04-27T23:10:19.774Z"
      },
      {
        "duration": 32,
        "start_time": "2023-04-27T23:10:19.790Z"
      },
      {
        "duration": 14,
        "start_time": "2023-04-27T23:10:19.824Z"
      },
      {
        "duration": 1368,
        "start_time": "2023-04-27T23:10:19.839Z"
      },
      {
        "duration": 5,
        "start_time": "2023-04-27T23:10:21.209Z"
      },
      {
        "duration": 331,
        "start_time": "2023-04-27T23:10:21.216Z"
      },
      {
        "duration": 5,
        "start_time": "2023-04-27T23:10:21.548Z"
      },
      {
        "duration": 931,
        "start_time": "2023-04-27T23:15:58.595Z"
      },
      {
        "duration": 114,
        "start_time": "2023-04-27T23:15:59.528Z"
      },
      {
        "duration": 37,
        "start_time": "2023-04-27T23:15:59.644Z"
      },
      {
        "duration": 12,
        "start_time": "2023-04-27T23:15:59.683Z"
      },
      {
        "duration": 4,
        "start_time": "2023-04-27T23:15:59.696Z"
      },
      {
        "duration": 11,
        "start_time": "2023-04-27T23:15:59.701Z"
      },
      {
        "duration": 29,
        "start_time": "2023-04-27T23:15:59.713Z"
      },
      {
        "duration": 18,
        "start_time": "2023-04-27T23:15:59.743Z"
      },
      {
        "duration": 4,
        "start_time": "2023-04-27T23:15:59.762Z"
      },
      {
        "duration": 144,
        "start_time": "2023-04-27T23:15:59.768Z"
      },
      {
        "duration": 133,
        "start_time": "2023-04-27T23:15:59.914Z"
      },
      {
        "duration": 96,
        "start_time": "2023-04-27T23:16:00.049Z"
      },
      {
        "duration": 205,
        "start_time": "2023-04-27T23:16:00.146Z"
      },
      {
        "duration": 8,
        "start_time": "2023-04-27T23:16:00.353Z"
      },
      {
        "duration": 326,
        "start_time": "2023-04-27T23:16:00.362Z"
      },
      {
        "duration": 9,
        "start_time": "2023-04-27T23:16:00.691Z"
      },
      {
        "duration": 260,
        "start_time": "2023-04-27T23:16:00.701Z"
      },
      {
        "duration": 10,
        "start_time": "2023-04-27T23:16:00.962Z"
      },
      {
        "duration": 17,
        "start_time": "2023-04-27T23:16:00.973Z"
      },
      {
        "duration": 48,
        "start_time": "2023-04-27T23:16:00.992Z"
      },
      {
        "duration": 21,
        "start_time": "2023-04-27T23:16:01.042Z"
      },
      {
        "duration": 33,
        "start_time": "2023-04-27T23:16:01.065Z"
      },
      {
        "duration": 34,
        "start_time": "2023-04-27T23:16:01.100Z"
      },
      {
        "duration": 323,
        "start_time": "2023-04-27T23:16:01.136Z"
      },
      {
        "duration": 320,
        "start_time": "2023-04-27T23:16:01.461Z"
      },
      {
        "duration": 197,
        "start_time": "2023-04-27T23:16:01.783Z"
      },
      {
        "duration": 199,
        "start_time": "2023-04-27T23:16:01.981Z"
      },
      {
        "duration": 31,
        "start_time": "2023-04-27T23:16:02.183Z"
      },
      {
        "duration": 33,
        "start_time": "2023-04-27T23:16:02.215Z"
      },
      {
        "duration": 13,
        "start_time": "2023-04-27T23:16:02.250Z"
      },
      {
        "duration": 14,
        "start_time": "2023-04-27T23:16:02.264Z"
      },
      {
        "duration": 21,
        "start_time": "2023-04-27T23:16:02.279Z"
      },
      {
        "duration": 9,
        "start_time": "2023-04-27T23:16:02.301Z"
      },
      {
        "duration": 19,
        "start_time": "2023-04-27T23:16:02.311Z"
      },
      {
        "duration": 1382,
        "start_time": "2023-04-27T23:16:02.331Z"
      },
      {
        "duration": 5,
        "start_time": "2023-04-27T23:16:03.714Z"
      },
      {
        "duration": 266,
        "start_time": "2023-04-27T23:16:03.721Z"
      },
      {
        "duration": 4,
        "start_time": "2023-04-27T23:16:03.989Z"
      },
      {
        "duration": 1158,
        "start_time": "2023-04-28T17:27:55.724Z"
      },
      {
        "duration": 127,
        "start_time": "2023-04-28T17:27:56.884Z"
      },
      {
        "duration": 45,
        "start_time": "2023-04-28T17:27:57.013Z"
      },
      {
        "duration": 15,
        "start_time": "2023-04-28T17:27:57.060Z"
      },
      {
        "duration": 5,
        "start_time": "2023-04-28T17:27:57.077Z"
      },
      {
        "duration": 14,
        "start_time": "2023-04-28T17:27:57.083Z"
      },
      {
        "duration": 10,
        "start_time": "2023-04-28T17:27:57.099Z"
      },
      {
        "duration": 10,
        "start_time": "2023-04-28T17:27:57.110Z"
      },
      {
        "duration": 40,
        "start_time": "2023-04-28T17:27:57.122Z"
      },
      {
        "duration": 168,
        "start_time": "2023-04-28T17:27:57.165Z"
      },
      {
        "duration": 166,
        "start_time": "2023-04-28T17:27:57.335Z"
      },
      {
        "duration": 93,
        "start_time": "2023-04-28T17:27:57.503Z"
      },
      {
        "duration": 233,
        "start_time": "2023-04-28T17:27:57.597Z"
      },
      {
        "duration": 9,
        "start_time": "2023-04-28T17:27:57.832Z"
      },
      {
        "duration": 276,
        "start_time": "2023-04-28T17:27:57.843Z"
      },
      {
        "duration": 10,
        "start_time": "2023-04-28T17:27:58.121Z"
      },
      {
        "duration": 253,
        "start_time": "2023-04-28T17:27:58.132Z"
      },
      {
        "duration": 9,
        "start_time": "2023-04-28T17:27:58.386Z"
      },
      {
        "duration": 4,
        "start_time": "2023-04-28T17:27:58.397Z"
      },
      {
        "duration": 23,
        "start_time": "2023-04-28T17:27:58.403Z"
      },
      {
        "duration": 48,
        "start_time": "2023-04-28T17:27:58.428Z"
      },
      {
        "duration": 14,
        "start_time": "2023-04-28T17:27:58.478Z"
      },
      {
        "duration": 8,
        "start_time": "2023-04-28T17:27:58.494Z"
      },
      {
        "duration": 305,
        "start_time": "2023-04-28T17:27:58.504Z"
      },
      {
        "duration": 350,
        "start_time": "2023-04-28T17:27:58.811Z"
      },
      {
        "duration": 236,
        "start_time": "2023-04-28T17:27:59.162Z"
      },
      {
        "duration": 244,
        "start_time": "2023-04-28T17:27:59.400Z"
      },
      {
        "duration": 57,
        "start_time": "2023-04-28T17:27:59.648Z"
      },
      {
        "duration": 26,
        "start_time": "2023-04-28T17:27:59.707Z"
      },
      {
        "duration": 35,
        "start_time": "2023-04-28T17:27:59.735Z"
      },
      {
        "duration": 6,
        "start_time": "2023-04-28T17:27:59.773Z"
      },
      {
        "duration": 12,
        "start_time": "2023-04-28T17:27:59.781Z"
      },
      {
        "duration": 7,
        "start_time": "2023-04-28T17:27:59.795Z"
      },
      {
        "duration": 10,
        "start_time": "2023-04-28T17:27:59.804Z"
      },
      {
        "duration": 1646,
        "start_time": "2023-04-28T17:27:59.816Z"
      },
      {
        "duration": 6,
        "start_time": "2023-04-28T17:28:01.465Z"
      },
      {
        "duration": 344,
        "start_time": "2023-04-28T17:28:01.473Z"
      },
      {
        "duration": 7,
        "start_time": "2023-04-28T17:28:01.818Z"
      },
      {
        "duration": 111,
        "start_time": "2023-04-28T17:30:22.760Z"
      }
    ],
    "toc": {
      "base_numbering": 1,
      "nav_menu": {
        "height": "418px",
        "width": "474px"
      },
      "number_sections": true,
      "sideBar": true,
      "skip_h1_title": true,
      "title_cell": "Table of Contents",
      "title_sidebar": "Contents",
      "toc_cell": false,
      "toc_position": {},
      "toc_section_display": true,
      "toc_window_display": true
    },
    "kernelspec": {
      "name": "python",
      "display_name": "Python (Pyodide)",
      "language": "python"
    },
    "language_info": {
      "codemirror_mode": {
        "name": "ipython",
        "version": 3
      },
      "file_extension": ".py",
      "mimetype": "text/x-python",
      "name": "python",
      "nbconvert_exporter": "python",
      "pygments_lexer": "ipython3",
      "version": "3.9.5"
    }
  },
  "nbformat_minor": 5,
  "nbformat": 4,
  "cells": [
    {
      "cell_type": "markdown",
      "source": "# Анализ данных пользователей GoFast\n# Введение",
      "metadata": {},
      "id": "7cb7f5dc"
    },
    {
      "cell_type": "markdown",
      "source": "Имеются данные о некоторых пользователях из нескольких городов, а также об их поездках пользователей сервиса аренды самокатов GoFast. Целью данной работы является анализ данных и проверка гипотез.\n\nВ основных данных есть информация о пользователях, их поездках и подписках. Есть дополнительная информация о количестве обращений пользователей в техподдержку сервиса до и после обновления технической инфраструктуры.\n\nНачальные данные:\n- Пользователи — users_go.csv\n- Поездки — rides_go.csv\n- Подписки — subscriptions_go.csv\n\nОсновные задачи:\n- прочитать данные;\n- провести предобработку;\n- провести исследовательский анализ;\n- объеденить данные;\n- подсчитать выручку;\n- провеить гипотезы;\n- исследовать распределения (опционально);\n- сделать выводы.",
      "metadata": {},
      "id": "42a8d0c4"
    },
    {
      "cell_type": "markdown",
      "source": "Подключим необходимы библиотеки и модули.",
      "metadata": {},
      "id": "e1eac0de"
    },
    {
      "cell_type": "code",
      "source": "import pandas as pd\nfrom scipy import stats as st\nimport numpy as np\nfrom matplotlib import pyplot as plt\nfrom math import factorial\nfrom math import sqrt\nfrom scipy.stats import binom, norm",
      "metadata": {},
      "execution_count": 1,
      "outputs": [],
      "id": "72576667"
    },
    {
      "cell_type": "markdown",
      "source": "#### Шаг 1. Загрузка данных",
      "metadata": {},
      "id": "c42cbe00"
    },
    {
      "cell_type": "markdown",
      "source": "##### Чтение исходных данных",
      "metadata": {},
      "id": "b7dda4b2"
    },
    {
      "cell_type": "markdown",
      "source": "Прочитаем исходные данные в датафреймы.",
      "metadata": {},
      "id": "cd10b7a6"
    },
    {
      "cell_type": "code",
      "source": "users_data = pd.read_csv('/datasets/users_go.csv')\nrides_data = pd.read_csv('/datasets/rides_go.csv')\nsubscriptions_data = pd.read_csv('/datasets/subscriptions_go.csv')",
      "metadata": {
        "scrolled": true
      },
      "execution_count": 2,
      "outputs": [],
      "id": "eff9f206"
    },
    {
      "cell_type": "markdown",
      "source": "##### Выведем первые строки каждого набора данных. Изучите общую информацию о каждом датафрейме.",
      "metadata": {},
      "id": "7d47f892"
    },
    {
      "cell_type": "code",
      "source": "display(users_data.head())\ndisplay(rides_data.head())\ndisplay(subscriptions_data.head())\n\nusers_data.info()\nprint()\nrides_data.info()\nprint()\nsubscriptions_data.info()",
      "metadata": {},
      "execution_count": 3,
      "outputs": [
        {
          "output_type": "display_data",
          "data": {
            "text/html": [
              "<div>\n",
              "<style scoped>\n",
              "    .dataframe tbody tr th:only-of-type {\n",
              "        vertical-align: middle;\n",
              "    }\n",
              "\n",
              "    .dataframe tbody tr th {\n",
              "        vertical-align: top;\n",
              "    }\n",
              "\n",
              "    .dataframe thead th {\n",
              "        text-align: right;\n",
              "    }\n",
              "</style>\n",
              "<table border=\"1\" class=\"dataframe\">\n",
              "  <thead>\n",
              "    <tr style=\"text-align: right;\">\n",
              "      <th></th>\n",
              "      <th>user_id</th>\n",
              "      <th>name</th>\n",
              "      <th>age</th>\n",
              "      <th>city</th>\n",
              "      <th>subscription_type</th>\n",
              "    </tr>\n",
              "  </thead>\n",
              "  <tbody>\n",
              "    <tr>\n",
              "      <th>0</th>\n",
              "      <td>1</td>\n",
              "      <td>Кира</td>\n",
              "      <td>22</td>\n",
              "      <td>Тюмень</td>\n",
              "      <td>ultra</td>\n",
              "    </tr>\n",
              "    <tr>\n",
              "      <th>1</th>\n",
              "      <td>2</td>\n",
              "      <td>Станислав</td>\n",
              "      <td>31</td>\n",
              "      <td>Омск</td>\n",
              "      <td>ultra</td>\n",
              "    </tr>\n",
              "    <tr>\n",
              "      <th>2</th>\n",
              "      <td>3</td>\n",
              "      <td>Алексей</td>\n",
              "      <td>20</td>\n",
              "      <td>Москва</td>\n",
              "      <td>ultra</td>\n",
              "    </tr>\n",
              "    <tr>\n",
              "      <th>3</th>\n",
              "      <td>4</td>\n",
              "      <td>Константин</td>\n",
              "      <td>26</td>\n",
              "      <td>Ростов-на-Дону</td>\n",
              "      <td>ultra</td>\n",
              "    </tr>\n",
              "    <tr>\n",
              "      <th>4</th>\n",
              "      <td>5</td>\n",
              "      <td>Адель</td>\n",
              "      <td>28</td>\n",
              "      <td>Омск</td>\n",
              "      <td>ultra</td>\n",
              "    </tr>\n",
              "  </tbody>\n",
              "</table>\n",
              "</div>"
            ],
            "text/plain": [
              "   user_id        name  age            city subscription_type\n",
              "0        1        Кира   22          Тюмень             ultra\n",
              "1        2   Станислав   31            Омск             ultra\n",
              "2        3     Алексей   20          Москва             ultra\n",
              "3        4  Константин   26  Ростов-на-Дону             ultra\n",
              "4        5       Адель   28            Омск             ultra"
            ]
          },
          "metadata": {}
        },
        {
          "output_type": "display_data",
          "data": {
            "text/html": [
              "<div>\n",
              "<style scoped>\n",
              "    .dataframe tbody tr th:only-of-type {\n",
              "        vertical-align: middle;\n",
              "    }\n",
              "\n",
              "    .dataframe tbody tr th {\n",
              "        vertical-align: top;\n",
              "    }\n",
              "\n",
              "    .dataframe thead th {\n",
              "        text-align: right;\n",
              "    }\n",
              "</style>\n",
              "<table border=\"1\" class=\"dataframe\">\n",
              "  <thead>\n",
              "    <tr style=\"text-align: right;\">\n",
              "      <th></th>\n",
              "      <th>user_id</th>\n",
              "      <th>distance</th>\n",
              "      <th>duration</th>\n",
              "      <th>date</th>\n",
              "    </tr>\n",
              "  </thead>\n",
              "  <tbody>\n",
              "    <tr>\n",
              "      <th>0</th>\n",
              "      <td>1</td>\n",
              "      <td>4409.919140</td>\n",
              "      <td>25.599769</td>\n",
              "      <td>2021-01-01</td>\n",
              "    </tr>\n",
              "    <tr>\n",
              "      <th>1</th>\n",
              "      <td>1</td>\n",
              "      <td>2617.592153</td>\n",
              "      <td>15.816871</td>\n",
              "      <td>2021-01-18</td>\n",
              "    </tr>\n",
              "    <tr>\n",
              "      <th>2</th>\n",
              "      <td>1</td>\n",
              "      <td>754.159807</td>\n",
              "      <td>6.232113</td>\n",
              "      <td>2021-04-20</td>\n",
              "    </tr>\n",
              "    <tr>\n",
              "      <th>3</th>\n",
              "      <td>1</td>\n",
              "      <td>2694.783254</td>\n",
              "      <td>18.511000</td>\n",
              "      <td>2021-08-11</td>\n",
              "    </tr>\n",
              "    <tr>\n",
              "      <th>4</th>\n",
              "      <td>1</td>\n",
              "      <td>4028.687306</td>\n",
              "      <td>26.265803</td>\n",
              "      <td>2021-08-28</td>\n",
              "    </tr>\n",
              "  </tbody>\n",
              "</table>\n",
              "</div>"
            ],
            "text/plain": [
              "   user_id     distance   duration        date\n",
              "0        1  4409.919140  25.599769  2021-01-01\n",
              "1        1  2617.592153  15.816871  2021-01-18\n",
              "2        1   754.159807   6.232113  2021-04-20\n",
              "3        1  2694.783254  18.511000  2021-08-11\n",
              "4        1  4028.687306  26.265803  2021-08-28"
            ]
          },
          "metadata": {}
        },
        {
          "output_type": "display_data",
          "data": {
            "text/html": [
              "<div>\n",
              "<style scoped>\n",
              "    .dataframe tbody tr th:only-of-type {\n",
              "        vertical-align: middle;\n",
              "    }\n",
              "\n",
              "    .dataframe tbody tr th {\n",
              "        vertical-align: top;\n",
              "    }\n",
              "\n",
              "    .dataframe thead th {\n",
              "        text-align: right;\n",
              "    }\n",
              "</style>\n",
              "<table border=\"1\" class=\"dataframe\">\n",
              "  <thead>\n",
              "    <tr style=\"text-align: right;\">\n",
              "      <th></th>\n",
              "      <th>subscription_type</th>\n",
              "      <th>minute_price</th>\n",
              "      <th>start_ride_price</th>\n",
              "      <th>subscription_fee</th>\n",
              "    </tr>\n",
              "  </thead>\n",
              "  <tbody>\n",
              "    <tr>\n",
              "      <th>0</th>\n",
              "      <td>free</td>\n",
              "      <td>8</td>\n",
              "      <td>50</td>\n",
              "      <td>0</td>\n",
              "    </tr>\n",
              "    <tr>\n",
              "      <th>1</th>\n",
              "      <td>ultra</td>\n",
              "      <td>6</td>\n",
              "      <td>0</td>\n",
              "      <td>199</td>\n",
              "    </tr>\n",
              "  </tbody>\n",
              "</table>\n",
              "</div>"
            ],
            "text/plain": [
              "  subscription_type  minute_price  start_ride_price  subscription_fee\n",
              "0              free             8                50                 0\n",
              "1             ultra             6                 0               199"
            ]
          },
          "metadata": {}
        },
        {
          "name": "stdout",
          "output_type": "stream",
          "text": "<class 'pandas.core.frame.DataFrame'>\n\nRangeIndex: 1565 entries, 0 to 1564\n\nData columns (total 5 columns):\n\n #   Column             Non-Null Count  Dtype \n\n---  ------             --------------  ----- \n\n 0   user_id            1565 non-null   int64 \n\n 1   name               1565 non-null   object\n\n 2   age                1565 non-null   int64 \n\n 3   city               1565 non-null   object\n\n 4   subscription_type  1565 non-null   object\n\ndtypes: int64(2), object(3)\n\nmemory usage: 61.3+ KB\n\n\n\n<class 'pandas.core.frame.DataFrame'>\n\nRangeIndex: 18068 entries, 0 to 18067\n\nData columns (total 4 columns):\n\n #   Column    Non-Null Count  Dtype  \n\n---  ------    --------------  -----  \n\n 0   user_id   18068 non-null  int64  \n\n 1   distance  18068 non-null  float64\n\n 2   duration  18068 non-null  float64\n\n 3   date      18068 non-null  object \n\ndtypes: float64(2), int64(1), object(1)\n\nmemory usage: 564.8+ KB\n\n\n\n<class 'pandas.core.frame.DataFrame'>\n\nRangeIndex: 2 entries, 0 to 1\n\nData columns (total 4 columns):\n\n #   Column             Non-Null Count  Dtype \n\n---  ------             --------------  ----- \n\n 0   subscription_type  2 non-null      object\n\n 1   minute_price       2 non-null      int64 \n\n 2   start_ride_price   2 non-null      int64 \n\n 3   subscription_fee   2 non-null      int64 \n\ndtypes: int64(3), object(1)\n\nmemory usage: 192.0+ bytes\n"
        }
      ],
      "id": "999284c0"
    },
    {
      "cell_type": "markdown",
      "source": "Предварительно можно сказать, что данные хорошие, прочитались без проблем, в трех датафреймах не имеется ни одного пропуска. При предобработке данных рассмотрим данные более подробно.\nИмеем следующие данные:\n- users_data:\n    - user_id - ID пользователя;\n    - name - имя пользователя;\n    - age - возраст пользователя;\n    - city - город, в котором пользователь предположительно живет и пользуется сервисом;\n    - subscription_type - тип подписки;\n- rides_data:\n    - user_id - ID пользователя;\n    - distance - расстояние поездки (предположительно в метрах);\n    - duration - время, которое заняла поездка (предположительно в минутах);\n    - date - дата, когда была совершена поездка;\n- subscriptions_data:\n    - subscription_type - тип подписки;\n    - minute_price - цена за 1 минуту поездки;\n    - start_ride_price - стоимость старта (начала поездки);\n    - subscription_fee - цена подписки.",
      "metadata": {},
      "id": "c8410c11"
    },
    {
      "cell_type": "markdown",
      "source": "#### Шаг 2. Предобработка данных",
      "metadata": {},
      "id": "e95ebca7"
    },
    {
      "cell_type": "markdown",
      "source": "##### Приведем столбец date к типу даты Pandas.",
      "metadata": {},
      "id": "eb75eb5a"
    },
    {
      "cell_type": "code",
      "source": "rides_data['date'] = pd.to_datetime(rides_data['date'], format='%Y-%m-%d')\n\nrides_data.info()",
      "metadata": {},
      "execution_count": 4,
      "outputs": [
        {
          "name": "stdout",
          "output_type": "stream",
          "text": "<class 'pandas.core.frame.DataFrame'>\n\nRangeIndex: 18068 entries, 0 to 18067\n\nData columns (total 4 columns):\n\n #   Column    Non-Null Count  Dtype         \n\n---  ------    --------------  -----         \n\n 0   user_id   18068 non-null  int64         \n\n 1   distance  18068 non-null  float64       \n\n 2   duration  18068 non-null  float64       \n\n 3   date      18068 non-null  datetime64[ns]\n\ndtypes: datetime64[ns](1), float64(2), int64(1)\n\nmemory usage: 564.8 KB\n"
        }
      ],
      "id": "af6d202c"
    },
    {
      "cell_type": "markdown",
      "source": "Видим в столбце date тип данных datetime64, значит всё работает.",
      "metadata": {},
      "id": "f6d3afe7"
    },
    {
      "cell_type": "markdown",
      "source": "##### Создадим новый столбец с номером месяца на основе столбца date.",
      "metadata": {},
      "id": "2253c56a"
    },
    {
      "cell_type": "markdown",
      "source": "Проверим, за какой период предоставлены данные.",
      "metadata": {},
      "id": "9df9998d"
    },
    {
      "cell_type": "code",
      "source": "print(rides_data['date'].min())\nprint(rides_data['date'].max())",
      "metadata": {},
      "execution_count": 5,
      "outputs": [
        {
          "name": "stdout",
          "output_type": "stream",
          "text": "2021-01-01 00:00:00\n\n2021-12-30 00:00:00\n"
        }
      ],
      "id": "85413794"
    },
    {
      "cell_type": "markdown",
      "source": "Данные охватывают только 2021 год. Это значит можно спокойно выделить номер месяца, не опасаясь, что месяца из разных годов сольются.",
      "metadata": {},
      "id": "d7c075b9"
    },
    {
      "cell_type": "code",
      "source": "rides_data['month'] = pd.DatetimeIndex(rides_data['date']).month\ndisplay(rides_data.head())",
      "metadata": {},
      "execution_count": 6,
      "outputs": [
        {
          "output_type": "display_data",
          "data": {
            "text/html": [
              "<div>\n",
              "<style scoped>\n",
              "    .dataframe tbody tr th:only-of-type {\n",
              "        vertical-align: middle;\n",
              "    }\n",
              "\n",
              "    .dataframe tbody tr th {\n",
              "        vertical-align: top;\n",
              "    }\n",
              "\n",
              "    .dataframe thead th {\n",
              "        text-align: right;\n",
              "    }\n",
              "</style>\n",
              "<table border=\"1\" class=\"dataframe\">\n",
              "  <thead>\n",
              "    <tr style=\"text-align: right;\">\n",
              "      <th></th>\n",
              "      <th>user_id</th>\n",
              "      <th>distance</th>\n",
              "      <th>duration</th>\n",
              "      <th>date</th>\n",
              "      <th>month</th>\n",
              "    </tr>\n",
              "  </thead>\n",
              "  <tbody>\n",
              "    <tr>\n",
              "      <th>0</th>\n",
              "      <td>1</td>\n",
              "      <td>4409.919140</td>\n",
              "      <td>25.599769</td>\n",
              "      <td>2021-01-01</td>\n",
              "      <td>1</td>\n",
              "    </tr>\n",
              "    <tr>\n",
              "      <th>1</th>\n",
              "      <td>1</td>\n",
              "      <td>2617.592153</td>\n",
              "      <td>15.816871</td>\n",
              "      <td>2021-01-18</td>\n",
              "      <td>1</td>\n",
              "    </tr>\n",
              "    <tr>\n",
              "      <th>2</th>\n",
              "      <td>1</td>\n",
              "      <td>754.159807</td>\n",
              "      <td>6.232113</td>\n",
              "      <td>2021-04-20</td>\n",
              "      <td>4</td>\n",
              "    </tr>\n",
              "    <tr>\n",
              "      <th>3</th>\n",
              "      <td>1</td>\n",
              "      <td>2694.783254</td>\n",
              "      <td>18.511000</td>\n",
              "      <td>2021-08-11</td>\n",
              "      <td>8</td>\n",
              "    </tr>\n",
              "    <tr>\n",
              "      <th>4</th>\n",
              "      <td>1</td>\n",
              "      <td>4028.687306</td>\n",
              "      <td>26.265803</td>\n",
              "      <td>2021-08-28</td>\n",
              "      <td>8</td>\n",
              "    </tr>\n",
              "  </tbody>\n",
              "</table>\n",
              "</div>"
            ],
            "text/plain": [
              "   user_id     distance   duration       date  month\n",
              "0        1  4409.919140  25.599769 2021-01-01      1\n",
              "1        1  2617.592153  15.816871 2021-01-18      1\n",
              "2        1   754.159807   6.232113 2021-04-20      4\n",
              "3        1  2694.783254  18.511000 2021-08-11      8\n",
              "4        1  4028.687306  26.265803 2021-08-28      8"
            ]
          },
          "metadata": {}
        }
      ],
      "id": "0eb37ba4"
    },
    {
      "cell_type": "markdown",
      "source": "Видим добавленный столбец month и по крайне мере в первых пяти строках значения в столбце соответствуют номеру месяца.",
      "metadata": {},
      "id": "fb68c34a"
    },
    {
      "cell_type": "markdown",
      "source": "##### Проверим наличие пропущенных значений и дубликатов в датафреймах. Обработаем их, если такие значения присутствуют.",
      "metadata": {},
      "id": "53c444ac"
    },
    {
      "cell_type": "markdown",
      "source": "Из пункта 1.2 видим, что пропущенные значения во всех датафреймах отсутствуют.\n\nПроверим явные дубликаты в users_data и rides_data, так как в subscriptions_data всего две строки и там всё и так видно и понятно.",
      "metadata": {},
      "id": "9f569583"
    },
    {
      "cell_type": "code",
      "source": "print('Количество явных дубликатов в users_data:', users_data.duplicated().sum())\nprint('Количество явных дубликатов в rides_data:', rides_data.duplicated().sum())",
      "metadata": {},
      "execution_count": 7,
      "outputs": [
        {
          "name": "stdout",
          "output_type": "stream",
          "text": "Количество явных дубликатов в users_data: 31\n\nКоличество явных дубликатов в rides_data: 0\n"
        }
      ],
      "id": "b731fb8c"
    },
    {
      "cell_type": "markdown",
      "source": "Удалим явные дубликаты в users_data и снова выведем подсчет дубликатов, чтобы убелиться, что всё получилось.",
      "metadata": {},
      "id": "d12ba736"
    },
    {
      "cell_type": "code",
      "source": "users_data = users_data.drop_duplicates()\nprint('Количество явных дубликатов в users_data:', users_data.duplicated().sum())\nprint('Количество пользователей:', users_data.shape[0])",
      "metadata": {},
      "execution_count": 8,
      "outputs": [
        {
          "name": "stdout",
          "output_type": "stream",
          "text": "Количество явных дубликатов в users_data: 0\n\nКоличество пользователей: 1534\n"
        }
      ],
      "id": "097d1853"
    },
    {
      "cell_type": "markdown",
      "source": "Явные дубликаты удалены.\n\nНеявные дубликаты если и есть, то скорее всего только в столце city в users_data, так как кроме стобца name все остальные столбцы не типа object. Проверим уникальные значения столбца city в users_data.",
      "metadata": {},
      "id": "dbb7de29"
    },
    {
      "cell_type": "code",
      "source": "print(users_data['city'].unique())",
      "metadata": {},
      "execution_count": 9,
      "outputs": [
        {
          "name": "stdout",
          "output_type": "stream",
          "text": "['Тюмень' 'Омск' 'Москва' 'Ростов-на-Дону' 'Краснодар' 'Пятигорск'\n\n 'Екатеринбург' 'Сочи']\n"
        }
      ],
      "id": "8eda0fa0"
    },
    {
      "cell_type": "markdown",
      "source": "Тут всё просто, неявные дубликаты отсутствуют.",
      "metadata": {},
      "id": "1f27c5c3"
    },
    {
      "cell_type": "markdown",
      "source": "#### Шаг 3. Исследовательский анализ данных",
      "metadata": {},
      "id": "212593c7"
    },
    {
      "cell_type": "markdown",
      "source": "Опишем и визуализируем общую информацию о пользователях и поездках.",
      "metadata": {},
      "id": "f0fa41f5"
    },
    {
      "cell_type": "markdown",
      "source": "##### Частота встречаемости городов",
      "metadata": {},
      "id": "076de48f"
    },
    {
      "cell_type": "code",
      "source": "print(users_data['city'].value_counts())\n\ntemp_data = users_data['city'].value_counts().plot(kind='bar', \n                                                   grid=True, \n                                                   figsize=(5, 5), \n                                                   title=('Частота встречаемости городов'))",
      "metadata": {},
      "execution_count": 10,
      "outputs": [
        {
          "name": "stdout",
          "output_type": "stream",
          "text": "Пятигорск         219\n\nЕкатеринбург      204\n\nРостов-на-Дону    198\n\nКраснодар         193\n\nСочи              189\n\nОмск              183\n\nТюмень            180\n\nМосква            168\n\nName: city, dtype: int64\n"
        },
        {
          "output_type": "display_data",
          "data": {
            "image/png": "[encoded data removed]",
            "text/plain": [
              "<Figure size 360x360 with 1 Axes>"
            ]
          },
          "metadata": {
            "needs_background": "light"
          }
        }
      ],
      "id": "e3a4274c"
    },
    {
      "cell_type": "markdown",
      "source": "Самое большое количество пользователей в Пятигорске, а самое маленькое - в Москве.",
      "metadata": {},
      "id": "2875dec9"
    },
    {
      "cell_type": "markdown",
      "source": "##### Соотношение пользователей с подпиской и без подписки",
      "metadata": {},
      "id": "24202d54"
    },
    {
      "cell_type": "code",
      "source": "print(users_data['subscription_type'].value_counts())\n\ntemp_data = users_data['subscription_type'].value_counts().plot(kind='bar', \n                                                                grid=True, \n                                                                figsize=(5, 5), \n                                                                title=('Количество пользователей по типу подписки'))\ntemp_data.set_ylabel('Количество пользователей')",
      "metadata": {},
      "execution_count": 11,
      "outputs": [
        {
          "name": "stdout",
          "output_type": "stream",
          "text": "free     835\n\nultra    699\n\nName: subscription_type, dtype: int64\n"
        },
        {
          "execution_count": 11,
          "output_type": "execute_result",
          "data": {
            "text/plain": [
              "Text(0, 0.5, 'Количество пользователей')"
            ]
          },
          "metadata": {}
        },
        {
          "output_type": "display_data",
          "data": {
            "image/png": "[encoded data removed]",
            "text/plain": [
              "<Figure size 360x360 with 1 Axes>"
            ]
          },
          "metadata": {
            "needs_background": "light"
          }
        }
      ],
      "id": "0fa37489"
    },
    {
      "cell_type": "markdown",
      "source": "Построим еще на круговую диаграмму.",
      "metadata": {},
      "id": "d56afd93"
    },
    {
      "cell_type": "code",
      "source": "temp_data = users_data['subscription_type'].value_counts().plot(kind='pie', \n                                                                grid=True, \n                                                                figsize=(5, 5), \n                                                                title=('Соотношение пользователей по типу подписки'), \n                                                                labels = ('Без подписки', 'С подпиской'), \n                                                                autopct='%.1f%%')",
      "metadata": {},
      "execution_count": 12,
      "outputs": [
        {
          "output_type": "display_data",
          "data": {
            "image/png": "[encoded data removed]",
            "text/plain": [
              "<Figure size 360x360 with 1 Axes>"
            ]
          },
          "metadata": {}
        }
      ],
      "id": "e8682204"
    },
    {
      "cell_type": "markdown",
      "source": "Пользователей без подписки больше примерно на 19,5%.",
      "metadata": {},
      "id": "ae216df4"
    },
    {
      "cell_type": "markdown",
      "source": "##### Возраст пользователей",
      "metadata": {},
      "id": "13ec5963"
    },
    {
      "cell_type": "code",
      "source": "print(users_data['age'].value_counts())\n\ntemp_data_age = users_data['age'].plot(kind='hist', \n                                   grid=True, \n                                   bins=31, \n                                   figsize=(10, 10), \n                                   title=('Количество пользователей по возрасту'))\ntemp_data_age.set_xlabel(\"Возраст пользователей\")\ntemp_data_age.set_ylabel(\"Количество пользователей\")",
      "metadata": {
        "scrolled": true
      },
      "execution_count": 13,
      "outputs": [
        {
          "name": "stdout",
          "output_type": "stream",
          "text": "25    145\n\n24    132\n\n26    131\n\n23    129\n\n27    119\n\n22    119\n\n28    112\n\n21     93\n\n20     71\n\n30     68\n\n29     68\n\n31     48\n\n19     47\n\n18     46\n\n32     41\n\n33     39\n\n17     26\n\n34     19\n\n16     19\n\n35     15\n\n15     13\n\n14      9\n\n13      8\n\n36      6\n\n12      4\n\n38      3\n\n37      2\n\n39      1\n\n43      1\n\nName: age, dtype: int64\n"
        },
        {
          "execution_count": 13,
          "output_type": "execute_result",
          "data": {
            "text/plain": [
              "Text(0, 0.5, 'Количество пользователей')"
            ]
          },
          "metadata": {}
        },
        {
          "output_type": "display_data",
          "data": {
            "image/png": "[encoded data removed]",
            "text/plain": [
              "<Figure size 720x720 with 1 Axes>"
            ]
          },
          "metadata": {
            "needs_background": "light"
          }
        }
      ],
      "id": "9ecc8806"
    },
    {
      "cell_type": "markdown",
      "source": "Исследуем распределение.",
      "metadata": {},
      "id": "f6947a9a"
    },
    {
      "cell_type": "code",
      "source": "users_data['age'].describe()",
      "metadata": {},
      "execution_count": 14,
      "outputs": [
        {
          "execution_count": 14,
          "output_type": "execute_result",
          "data": {
            "text/plain": [
              "count    1534.000000\n",
              "mean       24.903520\n",
              "std         4.572367\n",
              "min        12.000000\n",
              "25%        22.000000\n",
              "50%        25.000000\n",
              "75%        28.000000\n",
              "max        43.000000\n",
              "Name: age, dtype: float64"
            ]
          },
          "metadata": {}
        }
      ],
      "id": "bc049f8c"
    },
    {
      "cell_type": "markdown",
      "source": "Считая от первого квантиля до третьего, можно сказать, что большинство клиентов в возрасте от 22 до 28 лет. Распределение выглядит нормальным.",
      "metadata": {},
      "id": "0fd1b486"
    },
    {
      "cell_type": "markdown",
      "source": "##### Расстояние, которое пользователь преодолел за одну поездку",
      "metadata": {},
      "id": "22682011"
    },
    {
      "cell_type": "code",
      "source": "print(rides_data['distance'].value_counts())\n\ntemp_data_distance = rides_data['distance'].plot(kind='hist', \n                                                 grid=True, \n                                                 bins=72, \n                                                 figsize=(10, 10), \n                                                 title=('Количество поездок по расстоянию'))\ntemp_data_distance.set_xlabel(\"Расстояние поездки\")\ntemp_data_distance.set_ylabel(\"Количество поездок\")",
      "metadata": {
        "scrolled": true
      },
      "execution_count": 15,
      "outputs": [
        {
          "name": "stdout",
          "output_type": "stream",
          "text": "741.545359     1\n\n4158.226381    1\n\n3672.118870    1\n\n4533.004089    1\n\n2437.274120    1\n\n              ..\n\n2949.530545    1\n\n3289.893471    1\n\n3047.554085    1\n\n2931.718067    1\n\n4031.935032    1\n\nName: distance, Length: 18068, dtype: int64\n"
        },
        {
          "execution_count": 15,
          "output_type": "execute_result",
          "data": {
            "text/plain": [
              "Text(0, 0.5, 'Количество поездок')"
            ]
          },
          "metadata": {}
        },
        {
          "output_type": "display_data",
          "data": {
            "image/png": "[encoded data removed]",
            "text/plain": [
              "<Figure size 720x720 with 1 Axes>"
            ]
          },
          "metadata": {
            "needs_background": "light"
          }
        }
      ],
      "id": "9143732f"
    },
    {
      "cell_type": "code",
      "source": "rides_data['distance'].describe()",
      "metadata": {},
      "execution_count": 16,
      "outputs": [
        {
          "execution_count": 16,
          "output_type": "execute_result",
          "data": {
            "text/plain": [
              "count    18068.000000\n",
              "mean      3070.659976\n",
              "std       1116.831209\n",
              "min          0.855683\n",
              "25%       2543.226360\n",
              "50%       3133.609994\n",
              "75%       3776.222735\n",
              "max       7211.007745\n",
              "Name: distance, dtype: float64"
            ]
          },
          "metadata": {}
        }
      ],
      "id": "f4672272"
    },
    {
      "cell_type": "markdown",
      "source": "Судя по графику, в основном пользователи ездят на близкие дистанции в районе около 700 метров и на чуть дальние расстояния от 1.5 до 5.5 км. \nИсследовав распределение, можно сказать, что большинство поездок на расстояние примерно от 2543 до 3776 метров.\nЕсли не брать в расчет пик в начале до 1500 метров, распределение можно считать нормальным.",
      "metadata": {},
      "id": "c1194e97"
    },
    {
      "cell_type": "markdown",
      "source": "##### Продолжительность поездок",
      "metadata": {},
      "id": "76cd2397"
    },
    {
      "cell_type": "code",
      "source": "print(rides_data['duration'].value_counts())\n\ntemp_data_duration = rides_data['duration'].plot(kind='hist', \n                                                 grid=True, \n                                                 bins=41, \n                                                 figsize=(10, 10), \n                                                 title=('Количество поездок по времени'))\ntemp_data_duration.set_xlabel(\"Время поездки\")\ntemp_data_duration.set_ylabel(\"Количество поездок\")",
      "metadata": {
        "scrolled": true
      },
      "execution_count": 17,
      "outputs": [
        {
          "name": "stdout",
          "output_type": "stream",
          "text": "0.500000     95\n\n22.184080     1\n\n25.866000     1\n\n22.837062     1\n\n19.173800     1\n\n             ..\n\n18.843765     1\n\n17.644888     1\n\n22.477965     1\n\n19.745218     1\n\n16.537044     1\n\nName: duration, Length: 17974, dtype: int64\n"
        },
        {
          "execution_count": 17,
          "output_type": "execute_result",
          "data": {
            "text/plain": [
              "Text(0, 0.5, 'Количество поездок')"
            ]
          },
          "metadata": {}
        },
        {
          "output_type": "display_data",
          "data": {
            "image/png": "[encoded data removed]",
            "text/plain": [
              "<Figure size 720x720 with 1 Axes>"
            ]
          },
          "metadata": {
            "needs_background": "light"
          }
        }
      ],
      "id": "290bae1d"
    },
    {
      "cell_type": "code",
      "source": "rides_data['duration'].describe()",
      "metadata": {},
      "execution_count": 18,
      "outputs": [
        {
          "execution_count": 18,
          "output_type": "execute_result",
          "data": {
            "text/plain": [
              "count    18068.000000\n",
              "mean        17.805011\n",
              "std          6.091051\n",
              "min          0.500000\n",
              "25%         13.597563\n",
              "50%         17.678395\n",
              "75%         21.724800\n",
              "max         40.823963\n",
              "Name: duration, dtype: float64"
            ]
          },
          "metadata": {}
        }
      ],
      "id": "1e81968c"
    },
    {
      "cell_type": "markdown",
      "source": "Видим небольшой пик в районе 1 минуты. Скорее всего это заезды клиентов, которые они делали, чтобы опробовать сервис.  \n\nИсследовав распределение, можно сказать, что в основоном время поездки клиентов составляет от 13 до 22 минут.  \nВ остальном распределение выглядит нормальными.",
      "metadata": {},
      "id": "ac6cbf00"
    },
    {
      "cell_type": "markdown",
      "source": "#### Шаг 4. Объединение данных",
      "metadata": {},
      "id": "4ef51331"
    },
    {
      "cell_type": "markdown",
      "source": "##### Объединим данные о пользователях, поездках и подписках в один датафрейм",
      "metadata": {},
      "id": "fead2089"
    },
    {
      "cell_type": "markdown",
      "source": "Для начала объеденим датафреймы users_data и rides_data. Логично, что объединять нужно опираясь на user_id, и что нужно users_data \"заливать\" в rides_data, так получим наиболее полный датафрейм. Онднако, возможно такое, что пользователь зарегистрировался, но поездок не совершал. Проверим есть ли такие.",
      "metadata": {},
      "id": "e63ed19c"
    },
    {
      "cell_type": "code",
      "source": "print('Количество пользователей, совершивших поездку:', rides_data['user_id'].nunique())\nprint('Количество зарегестрированных пользователей:', users_data['user_id'].nunique())",
      "metadata": {},
      "execution_count": 19,
      "outputs": [
        {
          "name": "stdout",
          "output_type": "stream",
          "text": "Количество пользователей, совершивших поездку: 1534\n\nКоличество зарегестрированных пользователей: 1534\n"
        }
      ],
      "id": "6bf288b5"
    },
    {
      "cell_type": "markdown",
      "source": "Будем надеяться, что совпадает не только количество пользователей, но и сами id. То есть можно смело объединять, данные не должны потеряться и не должно появиться пропусков.",
      "metadata": {},
      "id": "cf84e3de"
    },
    {
      "cell_type": "code",
      "source": "data = rides_data.merge(users_data, on='user_id', how='left')\ndisplay(data)",
      "metadata": {},
      "execution_count": 20,
      "outputs": [
        {
          "output_type": "display_data",
          "data": {
            "text/html": [
              "<div>\n",
              "<style scoped>\n",
              "    .dataframe tbody tr th:only-of-type {\n",
              "        vertical-align: middle;\n",
              "    }\n",
              "\n",
              "    .dataframe tbody tr th {\n",
              "        vertical-align: top;\n",
              "    }\n",
              "\n",
              "    .dataframe thead th {\n",
              "        text-align: right;\n",
              "    }\n",
              "</style>\n",
              "<table border=\"1\" class=\"dataframe\">\n",
              "  <thead>\n",
              "    <tr style=\"text-align: right;\">\n",
              "      <th></th>\n",
              "      <th>user_id</th>\n",
              "      <th>distance</th>\n",
              "      <th>duration</th>\n",
              "      <th>date</th>\n",
              "      <th>month</th>\n",
              "      <th>name</th>\n",
              "      <th>age</th>\n",
              "      <th>city</th>\n",
              "      <th>subscription_type</th>\n",
              "    </tr>\n",
              "  </thead>\n",
              "  <tbody>\n",
              "    <tr>\n",
              "      <th>0</th>\n",
              "      <td>1</td>\n",
              "      <td>4409.919140</td>\n",
              "      <td>25.599769</td>\n",
              "      <td>2021-01-01</td>\n",
              "      <td>1</td>\n",
              "      <td>Кира</td>\n",
              "      <td>22</td>\n",
              "      <td>Тюмень</td>\n",
              "      <td>ultra</td>\n",
              "    </tr>\n",
              "    <tr>\n",
              "      <th>1</th>\n",
              "      <td>1</td>\n",
              "      <td>2617.592153</td>\n",
              "      <td>15.816871</td>\n",
              "      <td>2021-01-18</td>\n",
              "      <td>1</td>\n",
              "      <td>Кира</td>\n",
              "      <td>22</td>\n",
              "      <td>Тюмень</td>\n",
              "      <td>ultra</td>\n",
              "    </tr>\n",
              "    <tr>\n",
              "      <th>2</th>\n",
              "      <td>1</td>\n",
              "      <td>754.159807</td>\n",
              "      <td>6.232113</td>\n",
              "      <td>2021-04-20</td>\n",
              "      <td>4</td>\n",
              "      <td>Кира</td>\n",
              "      <td>22</td>\n",
              "      <td>Тюмень</td>\n",
              "      <td>ultra</td>\n",
              "    </tr>\n",
              "    <tr>\n",
              "      <th>3</th>\n",
              "      <td>1</td>\n",
              "      <td>2694.783254</td>\n",
              "      <td>18.511000</td>\n",
              "      <td>2021-08-11</td>\n",
              "      <td>8</td>\n",
              "      <td>Кира</td>\n",
              "      <td>22</td>\n",
              "      <td>Тюмень</td>\n",
              "      <td>ultra</td>\n",
              "    </tr>\n",
              "    <tr>\n",
              "      <th>4</th>\n",
              "      <td>1</td>\n",
              "      <td>4028.687306</td>\n",
              "      <td>26.265803</td>\n",
              "      <td>2021-08-28</td>\n",
              "      <td>8</td>\n",
              "      <td>Кира</td>\n",
              "      <td>22</td>\n",
              "      <td>Тюмень</td>\n",
              "      <td>ultra</td>\n",
              "    </tr>\n",
              "    <tr>\n",
              "      <th>...</th>\n",
              "      <td>...</td>\n",
              "      <td>...</td>\n",
              "      <td>...</td>\n",
              "      <td>...</td>\n",
              "      <td>...</td>\n",
              "      <td>...</td>\n",
              "      <td>...</td>\n",
              "      <td>...</td>\n",
              "      <td>...</td>\n",
              "    </tr>\n",
              "    <tr>\n",
              "      <th>18063</th>\n",
              "      <td>1534</td>\n",
              "      <td>3781.098080</td>\n",
              "      <td>19.822962</td>\n",
              "      <td>2021-11-04</td>\n",
              "      <td>11</td>\n",
              "      <td>Альберт</td>\n",
              "      <td>25</td>\n",
              "      <td>Краснодар</td>\n",
              "      <td>free</td>\n",
              "    </tr>\n",
              "    <tr>\n",
              "      <th>18064</th>\n",
              "      <td>1534</td>\n",
              "      <td>2840.423057</td>\n",
              "      <td>21.409799</td>\n",
              "      <td>2021-11-16</td>\n",
              "      <td>11</td>\n",
              "      <td>Альберт</td>\n",
              "      <td>25</td>\n",
              "      <td>Краснодар</td>\n",
              "      <td>free</td>\n",
              "    </tr>\n",
              "    <tr>\n",
              "      <th>18065</th>\n",
              "      <td>1534</td>\n",
              "      <td>3826.185507</td>\n",
              "      <td>18.435051</td>\n",
              "      <td>2021-11-18</td>\n",
              "      <td>11</td>\n",
              "      <td>Альберт</td>\n",
              "      <td>25</td>\n",
              "      <td>Краснодар</td>\n",
              "      <td>free</td>\n",
              "    </tr>\n",
              "    <tr>\n",
              "      <th>18066</th>\n",
              "      <td>1534</td>\n",
              "      <td>2902.308661</td>\n",
              "      <td>16.674362</td>\n",
              "      <td>2021-11-27</td>\n",
              "      <td>11</td>\n",
              "      <td>Альберт</td>\n",
              "      <td>25</td>\n",
              "      <td>Краснодар</td>\n",
              "      <td>free</td>\n",
              "    </tr>\n",
              "    <tr>\n",
              "      <th>18067</th>\n",
              "      <td>1534</td>\n",
              "      <td>2371.711192</td>\n",
              "      <td>15.893917</td>\n",
              "      <td>2021-12-29</td>\n",
              "      <td>12</td>\n",
              "      <td>Альберт</td>\n",
              "      <td>25</td>\n",
              "      <td>Краснодар</td>\n",
              "      <td>free</td>\n",
              "    </tr>\n",
              "  </tbody>\n",
              "</table>\n",
              "<p>18068 rows × 9 columns</p>\n",
              "</div>"
            ],
            "text/plain": [
              "       user_id     distance   duration       date  month     name  age  \\\n",
              "0            1  4409.919140  25.599769 2021-01-01      1     Кира   22   \n",
              "1            1  2617.592153  15.816871 2021-01-18      1     Кира   22   \n",
              "2            1   754.159807   6.232113 2021-04-20      4     Кира   22   \n",
              "3            1  2694.783254  18.511000 2021-08-11      8     Кира   22   \n",
              "4            1  4028.687306  26.265803 2021-08-28      8     Кира   22   \n",
              "...        ...          ...        ...        ...    ...      ...  ...   \n",
              "18063     1534  3781.098080  19.822962 2021-11-04     11  Альберт   25   \n",
              "18064     1534  2840.423057  21.409799 2021-11-16     11  Альберт   25   \n",
              "18065     1534  3826.185507  18.435051 2021-11-18     11  Альберт   25   \n",
              "18066     1534  2902.308661  16.674362 2021-11-27     11  Альберт   25   \n",
              "18067     1534  2371.711192  15.893917 2021-12-29     12  Альберт   25   \n",
              "\n",
              "            city subscription_type  \n",
              "0         Тюмень             ultra  \n",
              "1         Тюмень             ultra  \n",
              "2         Тюмень             ultra  \n",
              "3         Тюмень             ultra  \n",
              "4         Тюмень             ultra  \n",
              "...          ...               ...  \n",
              "18063  Краснодар              free  \n",
              "18064  Краснодар              free  \n",
              "18065  Краснодар              free  \n",
              "18066  Краснодар              free  \n",
              "18067  Краснодар              free  \n",
              "\n",
              "[18068 rows x 9 columns]"
            ]
          },
          "metadata": {}
        }
      ],
      "id": "e1a6dd22"
    },
    {
      "cell_type": "markdown",
      "source": "Как было 18068 строк, так и осталось. Видим, что к столбцам из rides_data справа добавились столбцы из users_data.\n\nТеперь \"зальем\" в получившийся датафрейм subscriptions_data. Объединять будем по subscription_type.",
      "metadata": {},
      "id": "242094f8"
    },
    {
      "cell_type": "code",
      "source": "data = data.merge(subscriptions_data, on='subscription_type', how='left')\ndisplay(data)",
      "metadata": {},
      "execution_count": 21,
      "outputs": [
        {
          "output_type": "display_data",
          "data": {
            "text/html": [
              "<div>\n",
              "<style scoped>\n",
              "    .dataframe tbody tr th:only-of-type {\n",
              "        vertical-align: middle;\n",
              "    }\n",
              "\n",
              "    .dataframe tbody tr th {\n",
              "        vertical-align: top;\n",
              "    }\n",
              "\n",
              "    .dataframe thead th {\n",
              "        text-align: right;\n",
              "    }\n",
              "</style>\n",
              "<table border=\"1\" class=\"dataframe\">\n",
              "  <thead>\n",
              "    <tr style=\"text-align: right;\">\n",
              "      <th></th>\n",
              "      <th>user_id</th>\n",
              "      <th>distance</th>\n",
              "      <th>duration</th>\n",
              "      <th>date</th>\n",
              "      <th>month</th>\n",
              "      <th>name</th>\n",
              "      <th>age</th>\n",
              "      <th>city</th>\n",
              "      <th>subscription_type</th>\n",
              "      <th>minute_price</th>\n",
              "      <th>start_ride_price</th>\n",
              "      <th>subscription_fee</th>\n",
              "    </tr>\n",
              "  </thead>\n",
              "  <tbody>\n",
              "    <tr>\n",
              "      <th>0</th>\n",
              "      <td>1</td>\n",
              "      <td>4409.919140</td>\n",
              "      <td>25.599769</td>\n",
              "      <td>2021-01-01</td>\n",
              "      <td>1</td>\n",
              "      <td>Кира</td>\n",
              "      <td>22</td>\n",
              "      <td>Тюмень</td>\n",
              "      <td>ultra</td>\n",
              "      <td>6</td>\n",
              "      <td>0</td>\n",
              "      <td>199</td>\n",
              "    </tr>\n",
              "    <tr>\n",
              "      <th>1</th>\n",
              "      <td>1</td>\n",
              "      <td>2617.592153</td>\n",
              "      <td>15.816871</td>\n",
              "      <td>2021-01-18</td>\n",
              "      <td>1</td>\n",
              "      <td>Кира</td>\n",
              "      <td>22</td>\n",
              "      <td>Тюмень</td>\n",
              "      <td>ultra</td>\n",
              "      <td>6</td>\n",
              "      <td>0</td>\n",
              "      <td>199</td>\n",
              "    </tr>\n",
              "    <tr>\n",
              "      <th>2</th>\n",
              "      <td>1</td>\n",
              "      <td>754.159807</td>\n",
              "      <td>6.232113</td>\n",
              "      <td>2021-04-20</td>\n",
              "      <td>4</td>\n",
              "      <td>Кира</td>\n",
              "      <td>22</td>\n",
              "      <td>Тюмень</td>\n",
              "      <td>ultra</td>\n",
              "      <td>6</td>\n",
              "      <td>0</td>\n",
              "      <td>199</td>\n",
              "    </tr>\n",
              "    <tr>\n",
              "      <th>3</th>\n",
              "      <td>1</td>\n",
              "      <td>2694.783254</td>\n",
              "      <td>18.511000</td>\n",
              "      <td>2021-08-11</td>\n",
              "      <td>8</td>\n",
              "      <td>Кира</td>\n",
              "      <td>22</td>\n",
              "      <td>Тюмень</td>\n",
              "      <td>ultra</td>\n",
              "      <td>6</td>\n",
              "      <td>0</td>\n",
              "      <td>199</td>\n",
              "    </tr>\n",
              "    <tr>\n",
              "      <th>4</th>\n",
              "      <td>1</td>\n",
              "      <td>4028.687306</td>\n",
              "      <td>26.265803</td>\n",
              "      <td>2021-08-28</td>\n",
              "      <td>8</td>\n",
              "      <td>Кира</td>\n",
              "      <td>22</td>\n",
              "      <td>Тюмень</td>\n",
              "      <td>ultra</td>\n",
              "      <td>6</td>\n",
              "      <td>0</td>\n",
              "      <td>199</td>\n",
              "    </tr>\n",
              "    <tr>\n",
              "      <th>...</th>\n",
              "      <td>...</td>\n",
              "      <td>...</td>\n",
              "      <td>...</td>\n",
              "      <td>...</td>\n",
              "      <td>...</td>\n",
              "      <td>...</td>\n",
              "      <td>...</td>\n",
              "      <td>...</td>\n",
              "      <td>...</td>\n",
              "      <td>...</td>\n",
              "      <td>...</td>\n",
              "      <td>...</td>\n",
              "    </tr>\n",
              "    <tr>\n",
              "      <th>18063</th>\n",
              "      <td>1534</td>\n",
              "      <td>3781.098080</td>\n",
              "      <td>19.822962</td>\n",
              "      <td>2021-11-04</td>\n",
              "      <td>11</td>\n",
              "      <td>Альберт</td>\n",
              "      <td>25</td>\n",
              "      <td>Краснодар</td>\n",
              "      <td>free</td>\n",
              "      <td>8</td>\n",
              "      <td>50</td>\n",
              "      <td>0</td>\n",
              "    </tr>\n",
              "    <tr>\n",
              "      <th>18064</th>\n",
              "      <td>1534</td>\n",
              "      <td>2840.423057</td>\n",
              "      <td>21.409799</td>\n",
              "      <td>2021-11-16</td>\n",
              "      <td>11</td>\n",
              "      <td>Альберт</td>\n",
              "      <td>25</td>\n",
              "      <td>Краснодар</td>\n",
              "      <td>free</td>\n",
              "      <td>8</td>\n",
              "      <td>50</td>\n",
              "      <td>0</td>\n",
              "    </tr>\n",
              "    <tr>\n",
              "      <th>18065</th>\n",
              "      <td>1534</td>\n",
              "      <td>3826.185507</td>\n",
              "      <td>18.435051</td>\n",
              "      <td>2021-11-18</td>\n",
              "      <td>11</td>\n",
              "      <td>Альберт</td>\n",
              "      <td>25</td>\n",
              "      <td>Краснодар</td>\n",
              "      <td>free</td>\n",
              "      <td>8</td>\n",
              "      <td>50</td>\n",
              "      <td>0</td>\n",
              "    </tr>\n",
              "    <tr>\n",
              "      <th>18066</th>\n",
              "      <td>1534</td>\n",
              "      <td>2902.308661</td>\n",
              "      <td>16.674362</td>\n",
              "      <td>2021-11-27</td>\n",
              "      <td>11</td>\n",
              "      <td>Альберт</td>\n",
              "      <td>25</td>\n",
              "      <td>Краснодар</td>\n",
              "      <td>free</td>\n",
              "      <td>8</td>\n",
              "      <td>50</td>\n",
              "      <td>0</td>\n",
              "    </tr>\n",
              "    <tr>\n",
              "      <th>18067</th>\n",
              "      <td>1534</td>\n",
              "      <td>2371.711192</td>\n",
              "      <td>15.893917</td>\n",
              "      <td>2021-12-29</td>\n",
              "      <td>12</td>\n",
              "      <td>Альберт</td>\n",
              "      <td>25</td>\n",
              "      <td>Краснодар</td>\n",
              "      <td>free</td>\n",
              "      <td>8</td>\n",
              "      <td>50</td>\n",
              "      <td>0</td>\n",
              "    </tr>\n",
              "  </tbody>\n",
              "</table>\n",
              "<p>18068 rows × 12 columns</p>\n",
              "</div>"
            ],
            "text/plain": [
              "       user_id     distance   duration       date  month     name  age  \\\n",
              "0            1  4409.919140  25.599769 2021-01-01      1     Кира   22   \n",
              "1            1  2617.592153  15.816871 2021-01-18      1     Кира   22   \n",
              "2            1   754.159807   6.232113 2021-04-20      4     Кира   22   \n",
              "3            1  2694.783254  18.511000 2021-08-11      8     Кира   22   \n",
              "4            1  4028.687306  26.265803 2021-08-28      8     Кира   22   \n",
              "...        ...          ...        ...        ...    ...      ...  ...   \n",
              "18063     1534  3781.098080  19.822962 2021-11-04     11  Альберт   25   \n",
              "18064     1534  2840.423057  21.409799 2021-11-16     11  Альберт   25   \n",
              "18065     1534  3826.185507  18.435051 2021-11-18     11  Альберт   25   \n",
              "18066     1534  2902.308661  16.674362 2021-11-27     11  Альберт   25   \n",
              "18067     1534  2371.711192  15.893917 2021-12-29     12  Альберт   25   \n",
              "\n",
              "            city subscription_type  minute_price  start_ride_price  \\\n",
              "0         Тюмень             ultra             6                 0   \n",
              "1         Тюмень             ultra             6                 0   \n",
              "2         Тюмень             ultra             6                 0   \n",
              "3         Тюмень             ultra             6                 0   \n",
              "4         Тюмень             ultra             6                 0   \n",
              "...          ...               ...           ...               ...   \n",
              "18063  Краснодар              free             8                50   \n",
              "18064  Краснодар              free             8                50   \n",
              "18065  Краснодар              free             8                50   \n",
              "18066  Краснодар              free             8                50   \n",
              "18067  Краснодар              free             8                50   \n",
              "\n",
              "       subscription_fee  \n",
              "0                   199  \n",
              "1                   199  \n",
              "2                   199  \n",
              "3                   199  \n",
              "4                   199  \n",
              "...                 ...  \n",
              "18063                 0  \n",
              "18064                 0  \n",
              "18065                 0  \n",
              "18066                 0  \n",
              "18067                 0  \n",
              "\n",
              "[18068 rows x 12 columns]"
            ]
          },
          "metadata": {}
        }
      ],
      "id": "95c7f618"
    },
    {
      "cell_type": "markdown",
      "source": "18068 строк осталось неизменно. Видим, что к столбцам из data справа добавились столбцы из subscriptions_data.\n\nПолучили датафрейм data, который объединил в себе 3 исходных датафрейма.",
      "metadata": {},
      "id": "e4845d5f"
    },
    {
      "cell_type": "markdown",
      "source": "##### Создадим ещё два датафрейма из датафрейма, созданного на предыдущем этапе",
      "metadata": {},
      "id": "cf749510"
    },
    {
      "cell_type": "markdown",
      "source": "На всякий случай, чтобы потом проверить новые датафреймы, посчитаем количество поездок без подписки и с подпиской.",
      "metadata": {},
      "id": "b1ab0b74"
    },
    {
      "cell_type": "code",
      "source": "print('Поездки без подписки:', data[data['subscription_type']=='free']['subscription_type'].count())\nprint('Поездки с подписой:', data[data['subscription_type']=='ultra']['subscription_type'].count())",
      "metadata": {},
      "execution_count": 22,
      "outputs": [
        {
          "name": "stdout",
          "output_type": "stream",
          "text": "Поездки без подписки: 11568\n\nПоездки с подписой: 6500\n"
        }
      ],
      "id": "bbf4aa00"
    },
    {
      "cell_type": "markdown",
      "source": "Разделим общий датафрейм по типу подписки. Выведем количество строк в новых датафреймах, чтобы убедиться, что всё разделилось корректно.",
      "metadata": {},
      "id": "148151de"
    },
    {
      "cell_type": "code",
      "source": "data_free = data[data['subscription_type']=='free']\ndata_ultra = data[data['subscription_type']=='ultra']\n\nprint('Количество строк в data_free', data_free.shape[0])\nprint('Количество строк в data_ultra', data_ultra.shape[0])",
      "metadata": {},
      "execution_count": 23,
      "outputs": [
        {
          "name": "stdout",
          "output_type": "stream",
          "text": "Количество строк в data_free 11568\n\nКоличество строк в data_ultra 6500\n"
        }
      ],
      "id": "0b95732a"
    },
    {
      "cell_type": "markdown",
      "source": "Количество строк в каждом датафрейме совпадает с расчитанными ранее строками по типу подписки.",
      "metadata": {},
      "id": "a182e6ee"
    },
    {
      "cell_type": "markdown",
      "source": "##### Визуализируем информацию о расстоянии и времени поездок для пользователей обеих категорий",
      "metadata": {},
      "id": "9bfae162"
    },
    {
      "cell_type": "markdown",
      "source": "Расстояние поездок.",
      "metadata": {},
      "id": "4519f07f"
    },
    {
      "cell_type": "code",
      "source": "temp_data_distance_free = data_free['distance'].plot(kind='hist', \n                                                 grid=True, \n                                                 bins=75,\n                                                 range=(0, 7500), \n                                                 figsize=(10, 10), \n                                                 title=('Количество поездок по расстоянию клиентов без подписки'))\ntemp_data_distance_free.set_xlabel(\"Расстояние поездки\")\ntemp_data_distance_free.set_ylabel(\"Количество поездок\")",
      "metadata": {},
      "execution_count": 24,
      "outputs": [
        {
          "execution_count": 24,
          "output_type": "execute_result",
          "data": {
            "text/plain": [
              "Text(0, 0.5, 'Количество поездок')"
            ]
          },
          "metadata": {}
        },
        {
          "output_type": "display_data",
          "data": {
            "image/png": "[encoded data removed]",
            "text/plain": [
              "<Figure size 720x720 with 1 Axes>"
            ]
          },
          "metadata": {
            "needs_background": "light"
          }
        }
      ],
      "id": "5ac642f6"
    },
    {
      "cell_type": "code",
      "source": "temp_data_distance_ultra = data_ultra['distance'].plot(kind='hist', \n                                                 grid=True, \n                                                 bins=75,\n                                                 range=(0, 7500), \n                                                 figsize=(10, 10), \n                                                 title=('Количество поездок по расстоянию клиентов с подпиской'))\ntemp_data_distance_ultra.set_xlabel(\"Расстояние поездки\")\ntemp_data_distance_ultra.set_ylabel(\"Количество поездок\")",
      "metadata": {},
      "execution_count": 25,
      "outputs": [
        {
          "execution_count": 25,
          "output_type": "execute_result",
          "data": {
            "text/plain": [
              "Text(0, 0.5, 'Количество поездок')"
            ]
          },
          "metadata": {}
        },
        {
          "output_type": "display_data",
          "data": {
            "image/png": "[encoded data removed]",
            "text/plain": [
              "<Figure size 720x720 with 1 Axes>"
            ]
          },
          "metadata": {
            "needs_background": "light"
          }
        }
      ],
      "id": "1135ea26"
    },
    {
      "cell_type": "markdown",
      "source": "На первом графике изображена гистограмма растояний, совершенных пользователями без подписок, а а втором - с подписками. Видим на обоих графиках пик в начале, затем спад, а далее практически нормальное распределение.",
      "metadata": {},
      "id": "80c860f8"
    },
    {
      "cell_type": "markdown",
      "source": "Время поездок.",
      "metadata": {},
      "id": "b626d4b9"
    },
    {
      "cell_type": "code",
      "source": "temp_data_duration_free = data_free['duration'].plot(kind='hist', \n                                                 grid=True, \n                                                 bins=45,\n                                                 range=(0, 45), \n                                                 figsize=(10, 10), \n                                                 title=('Количество поездок по времени пользоватей без подписки'))\ntemp_data_duration_free.set_xlabel(\"Время поездки\")\ntemp_data_duration_free.set_ylabel(\"Количество поездок\")",
      "metadata": {},
      "execution_count": 26,
      "outputs": [
        {
          "execution_count": 26,
          "output_type": "execute_result",
          "data": {
            "text/plain": [
              "Text(0, 0.5, 'Количество поездок')"
            ]
          },
          "metadata": {}
        },
        {
          "output_type": "display_data",
          "data": {
            "image/png": "[encoded data removed]",
            "text/plain": [
              "<Figure size 720x720 with 1 Axes>"
            ]
          },
          "metadata": {
            "needs_background": "light"
          }
        }
      ],
      "id": "df3e66a1"
    },
    {
      "cell_type": "code",
      "source": "temp_data_duration_ultra = data_ultra['duration'].plot(kind='hist', \n                                                 grid=True, \n                                                 bins=45,\n                                                 range=(0, 45), \n                                                 figsize=(10, 10), \n                                                 title=('Количество поездок по времени пользоватей с подпиской'))\ntemp_data_duration_ultra.set_xlabel(\"Время поездки\")\ntemp_data_duration_ultra.set_ylabel(\"Количество поездок\")",
      "metadata": {},
      "execution_count": 27,
      "outputs": [
        {
          "execution_count": 27,
          "output_type": "execute_result",
          "data": {
            "text/plain": [
              "Text(0, 0.5, 'Количество поездок')"
            ]
          },
          "metadata": {}
        },
        {
          "output_type": "display_data",
          "data": {
            "image/png": "[encoded data removed]",
            "text/plain": [
              "<Figure size 720x720 with 1 Axes>"
            ]
          },
          "metadata": {
            "needs_background": "light"
          }
        }
      ],
      "id": "c8427464"
    },
    {
      "cell_type": "markdown",
      "source": "На первом графике изображена гистограмма времени поездок, совершенных ползователями без подписок, а а втором - с подписками. На втором графиках отсутствует пик в районе 1 минуты, что косвенно подтверждает предположение, что это пробные заезды пользователей. В остальном, графики очень схожи и распределение можно назвать нормальным.",
      "metadata": {},
      "id": "d6770de9"
    },
    {
      "cell_type": "markdown",
      "source": "#### Шаг 5. Подсчёт выручки",
      "metadata": {},
      "id": "402d620f"
    },
    {
      "cell_type": "markdown",
      "source": "##### Найдем суммарное расстояние, количество поездок и суммарное время для каждого пользователя за каждый месяц",
      "metadata": {},
      "id": "8ccd335a"
    },
    {
      "cell_type": "markdown",
      "source": "Для этого создадим новый датафрейм из объединенного.",
      "metadata": {},
      "id": "eace7627"
    },
    {
      "cell_type": "code",
      "source": "#Создадим сводную таблицу по distance и duration, группируя по user_id и month,\n#применяя расчет суммы и количества, сбросим индекс\ndata_agrigated = data.pivot_table(index=('user_id', 'month'), \n                                  values=('distance', 'duration'), \n                                  aggfunc=('sum', 'count')).reset_index()\n#display(data_agrigated)\n#print(data_agrigated.columns)\n\n#Переименуем столбцы, отметив задублировавшийся столбец как for_drop\ndata_agrigated.columns = ['user_id', 'month', 'total_rides', 'sum_ distance', 'for_drop', 'sum_duration']\n\n#Удалим задублировавшийся столбец for_drop\ndata_agrigated = data_agrigated.drop('for_drop', axis=1)\n\ndisplay(data_agrigated)\nprint('Количество срок:', data_agrigated.shape[0])",
      "metadata": {},
      "execution_count": 28,
      "outputs": [
        {
          "output_type": "display_data",
          "data": {
            "text/html": [
              "<div>\n",
              "<style scoped>\n",
              "    .dataframe tbody tr th:only-of-type {\n",
              "        vertical-align: middle;\n",
              "    }\n",
              "\n",
              "    .dataframe tbody tr th {\n",
              "        vertical-align: top;\n",
              "    }\n",
              "\n",
              "    .dataframe thead th {\n",
              "        text-align: right;\n",
              "    }\n",
              "</style>\n",
              "<table border=\"1\" class=\"dataframe\">\n",
              "  <thead>\n",
              "    <tr style=\"text-align: right;\">\n",
              "      <th></th>\n",
              "      <th>user_id</th>\n",
              "      <th>month</th>\n",
              "      <th>total_rides</th>\n",
              "      <th>sum_ distance</th>\n",
              "      <th>sum_duration</th>\n",
              "    </tr>\n",
              "  </thead>\n",
              "  <tbody>\n",
              "    <tr>\n",
              "      <th>0</th>\n",
              "      <td>1</td>\n",
              "      <td>1</td>\n",
              "      <td>2</td>\n",
              "      <td>7027.511294</td>\n",
              "      <td>41.416640</td>\n",
              "    </tr>\n",
              "    <tr>\n",
              "      <th>1</th>\n",
              "      <td>1</td>\n",
              "      <td>4</td>\n",
              "      <td>1</td>\n",
              "      <td>754.159807</td>\n",
              "      <td>6.232113</td>\n",
              "    </tr>\n",
              "    <tr>\n",
              "      <th>2</th>\n",
              "      <td>1</td>\n",
              "      <td>8</td>\n",
              "      <td>2</td>\n",
              "      <td>6723.470560</td>\n",
              "      <td>44.776802</td>\n",
              "    </tr>\n",
              "    <tr>\n",
              "      <th>3</th>\n",
              "      <td>1</td>\n",
              "      <td>10</td>\n",
              "      <td>2</td>\n",
              "      <td>5809.911100</td>\n",
              "      <td>31.578017</td>\n",
              "    </tr>\n",
              "    <tr>\n",
              "      <th>4</th>\n",
              "      <td>1</td>\n",
              "      <td>11</td>\n",
              "      <td>3</td>\n",
              "      <td>7003.499363</td>\n",
              "      <td>53.397424</td>\n",
              "    </tr>\n",
              "    <tr>\n",
              "      <th>...</th>\n",
              "      <td>...</td>\n",
              "      <td>...</td>\n",
              "      <td>...</td>\n",
              "      <td>...</td>\n",
              "      <td>...</td>\n",
              "    </tr>\n",
              "    <tr>\n",
              "      <th>11326</th>\n",
              "      <td>1534</td>\n",
              "      <td>6</td>\n",
              "      <td>2</td>\n",
              "      <td>3409.468534</td>\n",
              "      <td>24.812678</td>\n",
              "    </tr>\n",
              "    <tr>\n",
              "      <th>11327</th>\n",
              "      <td>1534</td>\n",
              "      <td>8</td>\n",
              "      <td>2</td>\n",
              "      <td>7622.453034</td>\n",
              "      <td>47.205960</td>\n",
              "    </tr>\n",
              "    <tr>\n",
              "      <th>11328</th>\n",
              "      <td>1534</td>\n",
              "      <td>9</td>\n",
              "      <td>1</td>\n",
              "      <td>4928.173852</td>\n",
              "      <td>22.560373</td>\n",
              "    </tr>\n",
              "    <tr>\n",
              "      <th>11329</th>\n",
              "      <td>1534</td>\n",
              "      <td>11</td>\n",
              "      <td>4</td>\n",
              "      <td>13350.015305</td>\n",
              "      <td>76.342174</td>\n",
              "    </tr>\n",
              "    <tr>\n",
              "      <th>11330</th>\n",
              "      <td>1534</td>\n",
              "      <td>12</td>\n",
              "      <td>1</td>\n",
              "      <td>2371.711192</td>\n",
              "      <td>15.893917</td>\n",
              "    </tr>\n",
              "  </tbody>\n",
              "</table>\n",
              "<p>11331 rows × 5 columns</p>\n",
              "</div>"
            ],
            "text/plain": [
              "       user_id  month  total_rides  sum_ distance  sum_duration\n",
              "0            1      1            2    7027.511294     41.416640\n",
              "1            1      4            1     754.159807      6.232113\n",
              "2            1      8            2    6723.470560     44.776802\n",
              "3            1     10            2    5809.911100     31.578017\n",
              "4            1     11            3    7003.499363     53.397424\n",
              "...        ...    ...          ...            ...           ...\n",
              "11326     1534      6            2    3409.468534     24.812678\n",
              "11327     1534      8            2    7622.453034     47.205960\n",
              "11328     1534      9            1    4928.173852     22.560373\n",
              "11329     1534     11            4   13350.015305     76.342174\n",
              "11330     1534     12            1    2371.711192     15.893917\n",
              "\n",
              "[11331 rows x 5 columns]"
            ]
          },
          "metadata": {}
        },
        {
          "name": "stdout",
          "output_type": "stream",
          "text": "Количество срок: 11331\n"
        }
      ],
      "id": "53049e0a"
    },
    {
      "cell_type": "markdown",
      "source": "Создали новый датафрейм, где:\n- month - месяц, в котором совершались поездки;\n- user_id - ID пользователя;\n- total_rides - суммарное количество поездок пользователя;\n- sum_distance - суммарное пройденное расстояние;\n- sum_duration - суммарное время поездок.",
      "metadata": {},
      "id": "458ab3d6"
    },
    {
      "cell_type": "markdown",
      "source": "##### Добавим столбец с помесячной выручкой, которую принёс каждый пользователь",
      "metadata": {},
      "id": "b6064060"
    },
    {
      "cell_type": "markdown",
      "source": "Создадим временный датафрейм, в который, так же группируя по user_id и month, возьмем первые значения для столбцов start_ride_price, minute_price, subscription_fee.",
      "metadata": {},
      "id": "74dae463"
    },
    {
      "cell_type": "code",
      "source": "temp_data = data.pivot_table(\n    index=('user_id', 'month'), \n    values=('start_ride_price', 'minute_price', 'subscription_fee'), \n    aggfunc='first').reset_index()\ndisplay(temp_data)",
      "metadata": {},
      "execution_count": 29,
      "outputs": [
        {
          "output_type": "display_data",
          "data": {
            "text/html": [
              "<div>\n",
              "<style scoped>\n",
              "    .dataframe tbody tr th:only-of-type {\n",
              "        vertical-align: middle;\n",
              "    }\n",
              "\n",
              "    .dataframe tbody tr th {\n",
              "        vertical-align: top;\n",
              "    }\n",
              "\n",
              "    .dataframe thead th {\n",
              "        text-align: right;\n",
              "    }\n",
              "</style>\n",
              "<table border=\"1\" class=\"dataframe\">\n",
              "  <thead>\n",
              "    <tr style=\"text-align: right;\">\n",
              "      <th></th>\n",
              "      <th>user_id</th>\n",
              "      <th>month</th>\n",
              "      <th>minute_price</th>\n",
              "      <th>start_ride_price</th>\n",
              "      <th>subscription_fee</th>\n",
              "    </tr>\n",
              "  </thead>\n",
              "  <tbody>\n",
              "    <tr>\n",
              "      <th>0</th>\n",
              "      <td>1</td>\n",
              "      <td>1</td>\n",
              "      <td>6</td>\n",
              "      <td>0</td>\n",
              "      <td>199</td>\n",
              "    </tr>\n",
              "    <tr>\n",
              "      <th>1</th>\n",
              "      <td>1</td>\n",
              "      <td>4</td>\n",
              "      <td>6</td>\n",
              "      <td>0</td>\n",
              "      <td>199</td>\n",
              "    </tr>\n",
              "    <tr>\n",
              "      <th>2</th>\n",
              "      <td>1</td>\n",
              "      <td>8</td>\n",
              "      <td>6</td>\n",
              "      <td>0</td>\n",
              "      <td>199</td>\n",
              "    </tr>\n",
              "    <tr>\n",
              "      <th>3</th>\n",
              "      <td>1</td>\n",
              "      <td>10</td>\n",
              "      <td>6</td>\n",
              "      <td>0</td>\n",
              "      <td>199</td>\n",
              "    </tr>\n",
              "    <tr>\n",
              "      <th>4</th>\n",
              "      <td>1</td>\n",
              "      <td>11</td>\n",
              "      <td>6</td>\n",
              "      <td>0</td>\n",
              "      <td>199</td>\n",
              "    </tr>\n",
              "    <tr>\n",
              "      <th>...</th>\n",
              "      <td>...</td>\n",
              "      <td>...</td>\n",
              "      <td>...</td>\n",
              "      <td>...</td>\n",
              "      <td>...</td>\n",
              "    </tr>\n",
              "    <tr>\n",
              "      <th>11326</th>\n",
              "      <td>1534</td>\n",
              "      <td>6</td>\n",
              "      <td>8</td>\n",
              "      <td>50</td>\n",
              "      <td>0</td>\n",
              "    </tr>\n",
              "    <tr>\n",
              "      <th>11327</th>\n",
              "      <td>1534</td>\n",
              "      <td>8</td>\n",
              "      <td>8</td>\n",
              "      <td>50</td>\n",
              "      <td>0</td>\n",
              "    </tr>\n",
              "    <tr>\n",
              "      <th>11328</th>\n",
              "      <td>1534</td>\n",
              "      <td>9</td>\n",
              "      <td>8</td>\n",
              "      <td>50</td>\n",
              "      <td>0</td>\n",
              "    </tr>\n",
              "    <tr>\n",
              "      <th>11329</th>\n",
              "      <td>1534</td>\n",
              "      <td>11</td>\n",
              "      <td>8</td>\n",
              "      <td>50</td>\n",
              "      <td>0</td>\n",
              "    </tr>\n",
              "    <tr>\n",
              "      <th>11330</th>\n",
              "      <td>1534</td>\n",
              "      <td>12</td>\n",
              "      <td>8</td>\n",
              "      <td>50</td>\n",
              "      <td>0</td>\n",
              "    </tr>\n",
              "  </tbody>\n",
              "</table>\n",
              "<p>11331 rows × 5 columns</p>\n",
              "</div>"
            ],
            "text/plain": [
              "       user_id  month  minute_price  start_ride_price  subscription_fee\n",
              "0            1      1             6                 0               199\n",
              "1            1      4             6                 0               199\n",
              "2            1      8             6                 0               199\n",
              "3            1     10             6                 0               199\n",
              "4            1     11             6                 0               199\n",
              "...        ...    ...           ...               ...               ...\n",
              "11326     1534      6             8                50                 0\n",
              "11327     1534      8             8                50                 0\n",
              "11328     1534      9             8                50                 0\n",
              "11329     1534     11             8                50                 0\n",
              "11330     1534     12             8                50                 0\n",
              "\n",
              "[11331 rows x 5 columns]"
            ]
          },
          "metadata": {}
        }
      ],
      "id": "7e51a061"
    },
    {
      "cell_type": "markdown",
      "source": "Количество строк совпадает с data_agrigated, значит теперь можно перемножить нужные столбцы и получить искомое значение выручки.\n\nМесячная выручка будет равна \"стоимость старта * количество поездок + цена минуты * количество минут + цена подписки\".  \nПо заданию время поездок округляется до целых чисел.",
      "metadata": {},
      "id": "69b5431e"
    },
    {
      "cell_type": "code",
      "source": "data_agrigated['earning'] = temp_data['start_ride_price'] * data_agrigated['total_rides'] + \\\ntemp_data['minute_price'] * data_agrigated['sum_duration'].round(0) + temp_data['subscription_fee']\n\ndisplay(data_agrigated)",
      "metadata": {},
      "execution_count": 30,
      "outputs": [
        {
          "output_type": "display_data",
          "data": {
            "text/html": [
              "<div>\n",
              "<style scoped>\n",
              "    .dataframe tbody tr th:only-of-type {\n",
              "        vertical-align: middle;\n",
              "    }\n",
              "\n",
              "    .dataframe tbody tr th {\n",
              "        vertical-align: top;\n",
              "    }\n",
              "\n",
              "    .dataframe thead th {\n",
              "        text-align: right;\n",
              "    }\n",
              "</style>\n",
              "<table border=\"1\" class=\"dataframe\">\n",
              "  <thead>\n",
              "    <tr style=\"text-align: right;\">\n",
              "      <th></th>\n",
              "      <th>user_id</th>\n",
              "      <th>month</th>\n",
              "      <th>total_rides</th>\n",
              "      <th>sum_ distance</th>\n",
              "      <th>sum_duration</th>\n",
              "      <th>earning</th>\n",
              "    </tr>\n",
              "  </thead>\n",
              "  <tbody>\n",
              "    <tr>\n",
              "      <th>0</th>\n",
              "      <td>1</td>\n",
              "      <td>1</td>\n",
              "      <td>2</td>\n",
              "      <td>7027.511294</td>\n",
              "      <td>41.416640</td>\n",
              "      <td>445.0</td>\n",
              "    </tr>\n",
              "    <tr>\n",
              "      <th>1</th>\n",
              "      <td>1</td>\n",
              "      <td>4</td>\n",
              "      <td>1</td>\n",
              "      <td>754.159807</td>\n",
              "      <td>6.232113</td>\n",
              "      <td>235.0</td>\n",
              "    </tr>\n",
              "    <tr>\n",
              "      <th>2</th>\n",
              "      <td>1</td>\n",
              "      <td>8</td>\n",
              "      <td>2</td>\n",
              "      <td>6723.470560</td>\n",
              "      <td>44.776802</td>\n",
              "      <td>469.0</td>\n",
              "    </tr>\n",
              "    <tr>\n",
              "      <th>3</th>\n",
              "      <td>1</td>\n",
              "      <td>10</td>\n",
              "      <td>2</td>\n",
              "      <td>5809.911100</td>\n",
              "      <td>31.578017</td>\n",
              "      <td>391.0</td>\n",
              "    </tr>\n",
              "    <tr>\n",
              "      <th>4</th>\n",
              "      <td>1</td>\n",
              "      <td>11</td>\n",
              "      <td>3</td>\n",
              "      <td>7003.499363</td>\n",
              "      <td>53.397424</td>\n",
              "      <td>517.0</td>\n",
              "    </tr>\n",
              "    <tr>\n",
              "      <th>...</th>\n",
              "      <td>...</td>\n",
              "      <td>...</td>\n",
              "      <td>...</td>\n",
              "      <td>...</td>\n",
              "      <td>...</td>\n",
              "      <td>...</td>\n",
              "    </tr>\n",
              "    <tr>\n",
              "      <th>11326</th>\n",
              "      <td>1534</td>\n",
              "      <td>6</td>\n",
              "      <td>2</td>\n",
              "      <td>3409.468534</td>\n",
              "      <td>24.812678</td>\n",
              "      <td>300.0</td>\n",
              "    </tr>\n",
              "    <tr>\n",
              "      <th>11327</th>\n",
              "      <td>1534</td>\n",
              "      <td>8</td>\n",
              "      <td>2</td>\n",
              "      <td>7622.453034</td>\n",
              "      <td>47.205960</td>\n",
              "      <td>476.0</td>\n",
              "    </tr>\n",
              "    <tr>\n",
              "      <th>11328</th>\n",
              "      <td>1534</td>\n",
              "      <td>9</td>\n",
              "      <td>1</td>\n",
              "      <td>4928.173852</td>\n",
              "      <td>22.560373</td>\n",
              "      <td>234.0</td>\n",
              "    </tr>\n",
              "    <tr>\n",
              "      <th>11329</th>\n",
              "      <td>1534</td>\n",
              "      <td>11</td>\n",
              "      <td>4</td>\n",
              "      <td>13350.015305</td>\n",
              "      <td>76.342174</td>\n",
              "      <td>808.0</td>\n",
              "    </tr>\n",
              "    <tr>\n",
              "      <th>11330</th>\n",
              "      <td>1534</td>\n",
              "      <td>12</td>\n",
              "      <td>1</td>\n",
              "      <td>2371.711192</td>\n",
              "      <td>15.893917</td>\n",
              "      <td>178.0</td>\n",
              "    </tr>\n",
              "  </tbody>\n",
              "</table>\n",
              "<p>11331 rows × 6 columns</p>\n",
              "</div>"
            ],
            "text/plain": [
              "       user_id  month  total_rides  sum_ distance  sum_duration  earning\n",
              "0            1      1            2    7027.511294     41.416640    445.0\n",
              "1            1      4            1     754.159807      6.232113    235.0\n",
              "2            1      8            2    6723.470560     44.776802    469.0\n",
              "3            1     10            2    5809.911100     31.578017    391.0\n",
              "4            1     11            3    7003.499363     53.397424    517.0\n",
              "...        ...    ...          ...            ...           ...      ...\n",
              "11326     1534      6            2    3409.468534     24.812678    300.0\n",
              "11327     1534      8            2    7622.453034     47.205960    476.0\n",
              "11328     1534      9            1    4928.173852     22.560373    234.0\n",
              "11329     1534     11            4   13350.015305     76.342174    808.0\n",
              "11330     1534     12            1    2371.711192     15.893917    178.0\n",
              "\n",
              "[11331 rows x 6 columns]"
            ]
          },
          "metadata": {}
        }
      ],
      "id": "16666136"
    },
    {
      "cell_type": "markdown",
      "source": "#### Шаг 6. Проверка гипотез",
      "metadata": {},
      "id": "41545ac0"
    },
    {
      "cell_type": "markdown",
      "source": "##### Тратят ли пользователи с подпиской больше времени на поездки и выгоднее ли для компании?",
      "metadata": {},
      "id": "bafd9556"
    },
    {
      "cell_type": "markdown",
      "source": "Нулевая гипотеза - среднее время одной поездки пользователей с подпиской и без подписки равны.  \nАльтернативная гипотеза - пользователи с подпиской тратят больше времени на поездки.\n\nЗададим уровень статистической значимости 0,05 и посчитаем p-value. В данном случае, p-value будет для двусторонней гипотезы, а для односторонней нужно взять половину. Если половина от p-value окажется меньше уровня статистической значимости, отвергнем нулевую гипотезу.",
      "metadata": {},
      "id": "ac5f42f0"
    },
    {
      "cell_type": "code",
      "source": "# уровень статистической значимости\nalpha = 0.05\n\nresults = st.ttest_ind(data_ultra['duration'], data_free['duration'])\n\nprint('Половина p-значения:', results.pvalue / 2)\n\nif results.pvalue / 2 < alpha:\n    print('Отвергаем нулевую гипотезу')\nelse:\n    print('Не получилось отвергнуть нулевую гипотезу')",
      "metadata": {},
      "execution_count": 31,
      "outputs": [
        {
          "name": "stdout",
          "output_type": "stream",
          "text": "Половина p-значения: 1.2804098316645618e-34\n\nОтвергаем нулевую гипотезу\n"
        }
      ],
      "id": "3a07fe23"
    },
    {
      "cell_type": "markdown",
      "source": "То есть пользователи с подпиской вероятнее всего в среднем тратят больше времени на поездки, чем пользователи без подписки.",
      "metadata": {},
      "id": "49f9f506"
    },
    {
      "cell_type": "code",
      "source": "# уровень статистической значимости\nalpha = 0.05\n\nresults = st.ttest_ind(data_agrigated[data_agrigated['user_id'].isin(data_ultra['user_id'])]['earning'], \n                       data_agrigated[data_agrigated['user_id'].isin(data_free['user_id'])]['earning'])\n\nprint('Половина p-значения:', results.pvalue / 2)\n\nif results.pvalue / 2 < alpha:\n    print('Отвергаем нулевую гипотезу')\nelse:\n    print('Не получилось отвергнуть нулевую гипотезу')",
      "metadata": {},
      "execution_count": 32,
      "outputs": [
        {
          "name": "stdout",
          "output_type": "stream",
          "text": "Половина p-значения: 2.3546897309064956e-37\n\nОтвергаем нулевую гипотезу\n"
        }
      ],
      "id": "acb87436"
    },
    {
      "cell_type": "markdown",
      "source": "То есть пользователи с подпиской вероятнее всего выгоднее для компании.",
      "metadata": {},
      "id": "66c742c1"
    },
    {
      "cell_type": "markdown",
      "source": "##### Можно ли сказать, что расстояние, которое проезжают пользователи с подпиской за одну поездку, меньше 3130 метров?",
      "metadata": {},
      "id": "9f07c2ee"
    },
    {
      "cell_type": "markdown",
      "source": "Нулевая гипотеза - пользователи с подпиской проезжают за одну поездку 3130 метров.  \nАльтернативная гипотеза - пользователи с подпиской проезжают за одну поездку меньше 3130 метров.",
      "metadata": {},
      "id": "99c0e4e0"
    },
    {
      "cell_type": "code",
      "source": "# расстояние, которое должен проезжать пользователь с подпиской\ninterested_value = 3130\n\n# уровень статистической значимости\nalpha = 0.05\n\nresults = st.ttest_1samp(data_ultra['distance'], interested_value, alternative='less')\n\nprint('p-значение:', results.pvalue)\n\nif (results.pvalue < alpha):\n    print('Отвергаем нулевую гипотезу')\nelse:\n    print('Не отвергаем нулевую гипотезу')",
      "metadata": {},
      "execution_count": 33,
      "outputs": [
        {
          "name": "stdout",
          "output_type": "stream",
          "text": "p-значение: 0.08046311521502146\n\nНе отвергаем нулевую гипотезу\n"
        }
      ],
      "id": "e0cfcf26"
    },
    {
      "cell_type": "markdown",
      "source": "То есть можно сказать, маловероятно, что пользователи с подпиской проезжают за одну поездку меньше 3130 метров.",
      "metadata": {},
      "id": "bfce5c64"
    },
    {
      "cell_type": "markdown",
      "source": "##### Будет ли помесячная выручка от пользователей с подпиской по месяцам выше, чем выручка от пользователей без подписки?",
      "metadata": {},
      "id": "dedb26e0"
    },
    {
      "cell_type": "markdown",
      "source": "Нулевая гипотеза - выручка по месяцам от клиентов с подпиской равна выручке по месяцам от клиентов без подписки.  \nАльтернативная гипотеза - выручка по месяцам от клиентов с подпиской больше выручки по месяцам от клиентов без подписки.",
      "metadata": {},
      "id": "2327cef6"
    },
    {
      "cell_type": "code",
      "source": "# уровень статистической значимости\nalpha = 0.05\n\nresults = st.ttest_ind(data_agrigated[data_agrigated['user_id'].isin(data_ultra['user_id'])].groupby('month')['earning'].sum(), \n                       data_agrigated[data_agrigated['user_id'].isin(data_free['user_id'])].groupby('month')['earning'].sum())\n\nprint('Половина p-значения:', results.pvalue / 2)\n\nif results.pvalue / 2 < alpha:\n    print('Отвергаем нулевую гипотезу')\nelse:\n    print('Не получилось отвергнуть нулевую гипотезу')",
      "metadata": {},
      "execution_count": 34,
      "outputs": [
        {
          "name": "stdout",
          "output_type": "stream",
          "text": "Половина p-значения: 4.241131815828218e-13\n\nОтвергаем нулевую гипотезу\n"
        }
      ],
      "id": "c2dcf982"
    },
    {
      "cell_type": "markdown",
      "source": "То есть с большой вероятностью помесячная выручка от пользователей с подпиской по месяцам выше, чем выручка от пользователей без подписки.",
      "metadata": {},
      "id": "6d8d7aa5"
    },
    {
      "cell_type": "markdown",
      "source": "##### Какой тест понадобился бы для проверки гипотезы?",
      "metadata": {},
      "id": "744f8da7"
    },
    {
      "cell_type": "markdown",
      "source": "**Имеется предположительное задание:**  \nТехническая команда сервиса обновила сервера, с которыми взаимодействует мобильное приложение. Она надеется, что из-за этого количество обращений в техподдержку значимо снизилось. Некоторый файл содержит для каждого пользователя данные о количестве обращений до обновления и после него. \n\n**Вопрос звучит следующим образом:**  \nКакой тест понадобился бы для проверки гипотезы?\n\n**Ответ:**\nТак как в распоряжении были бы датафреймы, которые между собой взаимосвязаны, то для теста необходимо было бы использовать гипотезу о равенстве средних для зависимых (парных) выборок. А метод для сравнения использовался бы scipy.stats.ttest_rel(), с последующим сравнением p-значения с уровнем статической значимости.",
      "metadata": {},
      "id": "3efba76a"
    },
    {
      "cell_type": "markdown",
      "source": "#### Шаг 7. Распределения",
      "metadata": {},
      "id": "61213c5e"
    },
    {
      "cell_type": "markdown",
      "source": "##### Задача от отдела маркетинга. Продление подписки",
      "metadata": {},
      "id": "7c919d02"
    },
    {
      "cell_type": "markdown",
      "source": "Перефразировав, задание можно сформулировать так:\n\nКакое количество нужно разослать промокодов, чтобы при 10% успехе переподписалось как минимум 100 существующих клиентов?\n\nПусть n - количество клиентов (его мы будем искать), которым нужно разослать промокод, а p - вероятность того, что клиент переподпишется, то есть 10%.",
      "metadata": {},
      "id": "7fb0004a"
    },
    {
      "cell_type": "code",
      "source": "n = 1000\np = 0.1\n\ndistr = []\nfor k in range(0, n + 1):\n    choose = factorial(n) / (factorial(k) * factorial(n - k))\n    prob = choose * p**k * (1 - p)**(n - k) \n    distr.append(prob)\n    \nplt.figure(figsize=(10, 10))\nplt.bar(range(0, n + 1), distr)",
      "metadata": {},
      "execution_count": 35,
      "outputs": [
        {
          "execution_count": 35,
          "output_type": "execute_result",
          "data": {
            "text/plain": [
              "<BarContainer object of 1001 artists>"
            ]
          },
          "metadata": {}
        },
        {
          "output_type": "display_data",
          "data": {
            "image/png": "[encoded data removed]",
            "text/plain": [
              "<Figure size 720x720 with 1 Axes>"
            ]
          },
          "metadata": {
            "needs_background": "light"
          }
        }
      ],
      "id": "95cd1d51"
    },
    {
      "cell_type": "markdown",
      "source": "Построен график биномиального распределения всего для 1000 значений, а его уже с трудом можно рассматривать, причем видно, что значений n нужно намного больше, так как вероятность получить значение менее 100 переподписок всего примерно 50%. Благо, график  коррелирует с нормальным распределением, так что для нахождения n будем использовать нормальную аппроксимацию. Значение n будем подбирать.",
      "metadata": {},
      "id": "88d1baaa"
    },
    {
      "cell_type": "code",
      "source": "# задаём параметры биномиального распределения\nn = 1300\np = 0.1\n\n# зададим параметры нормального распределения равными\n# мат.ожиданию и дисперсии биномиального распределения\nmu = n * p\nsigma = sqrt(n * p * (1 - p))\n\n# задаём нормальное распределение\ndistr = st.norm(mu, sigma) \n\n# желаемое значение подисок\nvalue = 100\n\n# считаем вероятность получить значение value или больше\nresult = distr.cdf(value)\nprint('Вероятность получить значение менее 100:', 1-result)",
      "metadata": {},
      "execution_count": 36,
      "outputs": [
        {
          "name": "stdout",
          "output_type": "stream",
          "text": "Вероятность получить значение менее 100: 0.997227166342378\n"
        }
      ],
      "id": "ebbf8d1c"
    },
    {
      "cell_type": "markdown",
      "source": "**Вывод:**\nЕсли разослать промокод 1300 клиентам, то получим 100 переподписавшихся клиентов с вероятностью 99.7%",
      "metadata": {},
      "id": "7b2cf68e"
    },
    {
      "cell_type": "markdown",
      "source": "##### Задача от отдела маркетинга. Push-уведомления",
      "metadata": {},
      "id": "7f4c0c13"
    },
    {
      "cell_type": "markdown",
      "source": "Перефразировав, задание можно сформулировать так:\n\nОценить вероятность, что, если разослать 1 млн уведомлений при вероятности открытия уведомление 40%, пользователи откроют не более 399.5 тыс уведомлений.\n\nС таким большим количеством разосланных уведомлений n даже график биномиального распределения построить проблематично. Благо, мы знаем, что при большом числе событий n биномиальное распределение приближается к нормальному. Поэтому будем использовать нормальную аппроксимацию биномиального распределения. Учитывая, что количество открывших пользователей считается в тысячах, будем считать 1 млн. как 1000 тыс.\n\nПроверим возможность использования нормальной аппроксимации биномиального распределения.",
      "metadata": {},
      "id": "67b5d55c"
    },
    {
      "cell_type": "code",
      "source": "# зададим функцию, которая выдаёт <num> чисел,\n# равномерно распределённых от <start> до <stop>\n# (понадобится для визуализации нормального распределения)\ndef linspace(start, stop, num):\n    step = (stop - start) / (num - 1)\n    result = []\n    for i in range(num):\n        result.append(start + step * i)\n    return result\n \n# задаём параметры биномиального распределения\nn = 100\np = 0.40\n\n# границы промежутка, в котором будем строить аппроксимацию -\n# от n*p минус 4 ст.отклонения бином.распределения\n# до n*p плюс 4 ст.отклонения бином.распределения\n# (там, где вероятности значений почти не равны нулю)\nleft = int(n * p - 4 * sqrt(n * p * (1 - p)))\nright = int(n * p + 4 * sqrt(n * p * (1 - p)))\n \n# зададим набор значений биномиальной величины на выбранном промежутке:\n# все неотрицательные целые числа от left до right\nx = list(range(max(0, left), right))\n# рисуем график биномиального распределения\nplt.figure(figsize=(10, 10))\nax = plt.subplot()\n# используем синие о-образные маркеры и размер маркера 5\nax.plot(x, binom.pmf(x, n, p), 'bo', ms=5,\n       label='вероятности биномиального распределения')\n\n# зададим параметры нормального распределения равными\n# мат.ожиданию и дисперсии биномиального распределения\nmu = n * p\nsigma = sqrt(n * p * (1 - p))\n\n# рисуем график нормального распределения:\n# получим список из 100 чисел от left до right\nx = linspace(left, right, 100)\n# используем красную линию ширины 3 и прозрачности 0.3\nax.plot(x, norm.pdf(x, mu, sigma), 'r-', lw=3, alpha=0.3, label='плотность вероятности нормального распределения')\n \n# зададим подписи по оси x в пределах ± 3 ст.отклонений от мат.ожидания\n# (последний аргумент в методе range - интервал между подписями)\nx_ticks = list(range(int(mu - 3 * sigma), int(mu + 3 * sigma), 1))\nax.set_xticks(x_ticks)\n\n# настраиваем оптимальное расположение легенды и выводим график\nax.legend(loc='best')\nplt.show()\n\n# выводим, выполняется ли наше условие аппроксимации:\n# лежит ли mu ± 3 sigma в промежутке от 0 до n:\nif (mu - (3 * sigma) >= 0) and ((mu + (3 * sigma) <= n)):\n    print('Условие выполняется')\nelse:\n    print('Условие не выполняется')",
      "metadata": {},
      "execution_count": 37,
      "outputs": [
        {
          "output_type": "display_data",
          "data": {
            "image/png": "[encoded data removed]",
            "text/plain": [
              "<Figure size 720x720 with 1 Axes>"
            ]
          },
          "metadata": {
            "needs_background": "light"
          }
        },
        {
          "name": "stdout",
          "output_type": "stream",
          "text": "Условие выполняется\n"
        }
      ],
      "id": "6b889eac"
    },
    {
      "cell_type": "markdown",
      "source": "Видим как распределяются значения вероятности биномиального распределения и плотность вероятности нормального распределения. Возможность применения нормальной аппроксимации на лицо.\n\nРасчитаем вероятность того, что просмотров push-уведомлений будет менее 399.5 тыс.",
      "metadata": {},
      "id": "093a29b0"
    },
    {
      "cell_type": "code",
      "source": "# задаём параметры биномиального распределения\nn = 1000\np = 0.4\n\n# зададим параметры нормального распределения равными\n# мат.ожиданию и дисперсии биномиального распределения\nmu = n * p\nsigma = sqrt(n * p * (1 - p))\n\n# задаём нормальное распределение\ndistr = st.norm(mu, sigma) \n\n# желаемое значение\nvalue = 399.5\n\n# считаем вероятность получить значение value или больше\nresult = distr.cdf(value)\nprint('Вероятность получить значение менее 399.5 тыс.:', (1-result))",
      "metadata": {},
      "execution_count": 38,
      "outputs": [
        {
          "name": "stdout",
          "output_type": "stream",
          "text": "Вероятность получить значение менее 399.5 тыс.: 0.5128735717002281\n"
        }
      ],
      "id": "58d0d767"
    },
    {
      "cell_type": "markdown",
      "source": "То есть количество просмотренных push-уведомлений будет менее 399.5 тыс с вероятностью около 51%.",
      "metadata": {},
      "id": "9dd50469"
    },
    {
      "cell_type": "markdown",
      "source": "**Заключение**\n\nПолучив и предварительно обработав данные можно сказать, что качество данных на хорошем уровне. Нашлось только несколько явных дубликтов.\n\nОсновные выводы:\n- Самое большое количество пользователей в Пятигорске, а самое маленькое - в Москве.\n- Пользователей без подписки больше примерно на 19,5%.\n- Большинство клиентов в возрасте от 22 до 28 лет.\n- В основном пользователи ездат на близкие дистанции в районе около 700 метров и на чуть дальние расстояния от 1.5 до 5.5 км. Исследовав распределение, можно сказать, что большинство поездок на расстояние примерно от 2543 до 3776 метров.\n- В основоном время поездки клиентов составляет от 13 до 22 минут.\n- Пользователи с подпиской вероятнее всего в среднем тратят больше времени на поездки, чем пользователи без подписки, и выгоднее компании, так как в среднем вероятнее всего приносят больше выручки.\n- Пользователи с подпиской проезжают за одну поездку меньше 3130 метров с очень маленькой вероятностью.\n- С большой вероятностью помесячная выручка от пользователей с подпиской по месяцам выше, чем выручка от пользователей без подписки.\n- Если разослать 1300 промокодов, чтобы при 10% успехе переподписалось как минимум 100 существующих клиентов c вероятностью 99.7%.\n- Если разослать 1 млн. push-уведомлений, то с успехом в 40% их просмотрит 399.5 тыс клиентов с вероятностью 51%.",
      "metadata": {},
      "id": "7496b59a"
    }
  ]
}