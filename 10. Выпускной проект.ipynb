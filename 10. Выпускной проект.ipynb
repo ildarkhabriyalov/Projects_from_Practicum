{
  "metadata": {
    "ExecuteTimeLog": [
      {
        "duration": 391,
        "start_time": "2023-08-28T19:44:10.519Z"
      },
      {
        "duration": 93,
        "start_time": "2023-08-28T19:46:04.013Z"
      },
      {
        "duration": 13,
        "start_time": "2023-08-28T20:00:59.573Z"
      },
      {
        "duration": 77,
        "start_time": "2023-08-28T20:05:53.420Z"
      },
      {
        "duration": 10,
        "start_time": "2023-08-28T20:06:06.856Z"
      },
      {
        "duration": 7,
        "start_time": "2023-08-28T20:14:22.294Z"
      },
      {
        "duration": 453,
        "start_time": "2023-08-28T20:14:35.086Z"
      },
      {
        "duration": 116,
        "start_time": "2023-08-28T20:14:35.541Z"
      },
      {
        "duration": 11,
        "start_time": "2023-08-28T20:14:35.659Z"
      },
      {
        "duration": 82,
        "start_time": "2023-08-28T20:14:35.672Z"
      },
      {
        "duration": 79,
        "start_time": "2023-08-28T20:17:47.136Z"
      },
      {
        "duration": 9,
        "start_time": "2023-08-28T20:18:34.670Z"
      },
      {
        "duration": 8,
        "start_time": "2023-08-28T20:18:43.935Z"
      },
      {
        "duration": 97,
        "start_time": "2023-08-28T20:18:55.671Z"
      },
      {
        "duration": 25,
        "start_time": "2023-08-28T20:18:58.907Z"
      },
      {
        "duration": 8,
        "start_time": "2023-08-28T20:19:29.920Z"
      },
      {
        "duration": 18,
        "start_time": "2023-08-28T20:21:52.055Z"
      },
      {
        "duration": 5,
        "start_time": "2023-08-28T20:25:39.870Z"
      },
      {
        "duration": 13,
        "start_time": "2023-08-28T20:26:58.512Z"
      },
      {
        "duration": 25,
        "start_time": "2023-08-28T20:27:08.581Z"
      },
      {
        "duration": 6,
        "start_time": "2023-08-28T20:27:36.934Z"
      },
      {
        "duration": 10,
        "start_time": "2023-08-28T20:27:53.557Z"
      },
      {
        "duration": 4,
        "start_time": "2023-08-28T20:28:03.564Z"
      },
      {
        "duration": 5,
        "start_time": "2023-08-28T20:28:17.828Z"
      },
      {
        "duration": 5,
        "start_time": "2023-08-28T20:28:49.923Z"
      },
      {
        "duration": 20,
        "start_time": "2023-08-28T20:32:50.981Z"
      },
      {
        "duration": 12,
        "start_time": "2023-08-28T20:33:30.632Z"
      },
      {
        "duration": 18,
        "start_time": "2023-08-28T20:33:38.631Z"
      },
      {
        "duration": 6,
        "start_time": "2023-08-28T20:35:14.309Z"
      },
      {
        "duration": 10,
        "start_time": "2023-08-28T20:35:46.573Z"
      },
      {
        "duration": 10,
        "start_time": "2023-08-28T20:43:50.557Z"
      },
      {
        "duration": 11,
        "start_time": "2023-08-28T20:43:57.044Z"
      },
      {
        "duration": 10,
        "start_time": "2023-08-28T20:44:03.332Z"
      },
      {
        "duration": 13,
        "start_time": "2023-08-28T20:44:22.897Z"
      },
      {
        "duration": 6,
        "start_time": "2023-08-28T20:49:11.859Z"
      },
      {
        "duration": 11,
        "start_time": "2023-08-28T20:50:30.780Z"
      },
      {
        "duration": 36,
        "start_time": "2023-08-28T20:51:01.599Z"
      },
      {
        "duration": 42,
        "start_time": "2023-08-28T20:51:52.705Z"
      },
      {
        "duration": 7,
        "start_time": "2023-08-28T20:54:23.695Z"
      },
      {
        "duration": 24,
        "start_time": "2023-08-28T20:54:59.322Z"
      },
      {
        "duration": 34,
        "start_time": "2023-08-28T20:55:06.083Z"
      },
      {
        "duration": 23,
        "start_time": "2023-08-28T20:55:32.324Z"
      },
      {
        "duration": 3,
        "start_time": "2023-08-28T21:01:49.818Z"
      },
      {
        "duration": 81,
        "start_time": "2023-08-28T21:06:13.994Z"
      },
      {
        "duration": 457,
        "start_time": "2023-08-31T22:46:33.382Z"
      },
      {
        "duration": 89,
        "start_time": "2023-08-31T22:46:33.842Z"
      },
      {
        "duration": 13,
        "start_time": "2023-08-31T22:46:33.933Z"
      },
      {
        "duration": 25,
        "start_time": "2023-08-31T22:46:33.948Z"
      },
      {
        "duration": 27,
        "start_time": "2023-08-31T22:46:33.975Z"
      },
      {
        "duration": 17,
        "start_time": "2023-08-31T22:46:34.004Z"
      },
      {
        "duration": 11,
        "start_time": "2023-08-31T22:46:34.023Z"
      },
      {
        "duration": 21,
        "start_time": "2023-08-31T22:46:34.036Z"
      },
      {
        "duration": 6,
        "start_time": "2023-08-31T22:46:34.059Z"
      },
      {
        "duration": 51,
        "start_time": "2023-08-31T22:46:34.067Z"
      },
      {
        "duration": 14,
        "start_time": "2023-08-31T22:46:34.120Z"
      },
      {
        "duration": 13,
        "start_time": "2023-08-31T22:55:55.219Z"
      },
      {
        "duration": 410,
        "start_time": "2023-08-31T23:02:07.866Z"
      },
      {
        "duration": 188,
        "start_time": "2023-08-31T23:09:15.506Z"
      },
      {
        "duration": 177,
        "start_time": "2023-08-31T23:09:25.704Z"
      },
      {
        "duration": 159,
        "start_time": "2023-08-31T23:10:44.865Z"
      },
      {
        "duration": 127,
        "start_time": "2023-08-31T23:10:55.320Z"
      },
      {
        "duration": 186,
        "start_time": "2023-08-31T23:10:58.432Z"
      },
      {
        "duration": 211,
        "start_time": "2023-08-31T23:15:21.463Z"
      },
      {
        "duration": 135,
        "start_time": "2023-08-31T23:15:27.512Z"
      },
      {
        "duration": 135,
        "start_time": "2023-08-31T23:15:37.791Z"
      },
      {
        "duration": 14427,
        "start_time": "2023-08-31T23:16:11.832Z"
      },
      {
        "duration": 117,
        "start_time": "2023-08-31T23:18:32.464Z"
      },
      {
        "duration": 13,
        "start_time": "2023-08-31T23:18:42.072Z"
      },
      {
        "duration": 1300,
        "start_time": "2023-08-31T23:19:49.484Z"
      },
      {
        "duration": 1179,
        "start_time": "2023-08-31T23:20:02.992Z"
      },
      {
        "duration": 112,
        "start_time": "2023-08-31T23:21:46.049Z"
      },
      {
        "duration": 127,
        "start_time": "2023-08-31T23:23:45.336Z"
      },
      {
        "duration": 142,
        "start_time": "2023-08-31T23:24:08.528Z"
      },
      {
        "duration": 169,
        "start_time": "2023-08-31T23:27:04.503Z"
      },
      {
        "duration": 150,
        "start_time": "2023-08-31T23:27:48.401Z"
      },
      {
        "duration": 170,
        "start_time": "2023-08-31T23:28:21.153Z"
      },
      {
        "duration": 147,
        "start_time": "2023-08-31T23:29:15.904Z"
      },
      {
        "duration": 135,
        "start_time": "2023-08-31T23:29:50.759Z"
      },
      {
        "duration": 156,
        "start_time": "2023-08-31T23:31:03.657Z"
      },
      {
        "duration": 135,
        "start_time": "2023-08-31T23:31:35.672Z"
      },
      {
        "duration": 228,
        "start_time": "2023-08-31T23:31:43.103Z"
      },
      {
        "duration": 124,
        "start_time": "2023-08-31T23:45:28.862Z"
      },
      {
        "duration": 13,
        "start_time": "2023-08-31T23:47:02.630Z"
      },
      {
        "duration": 185,
        "start_time": "2023-08-31T23:47:16.804Z"
      },
      {
        "duration": 455,
        "start_time": "2023-08-31T23:49:33.713Z"
      },
      {
        "duration": 450,
        "start_time": "2023-08-31T23:51:24.294Z"
      },
      {
        "duration": 510,
        "start_time": "2023-08-31T23:52:04.975Z"
      },
      {
        "duration": 518,
        "start_time": "2023-08-31T23:52:18.525Z"
      },
      {
        "duration": 418,
        "start_time": "2023-08-31T23:52:25.878Z"
      },
      {
        "duration": 461,
        "start_time": "2023-08-31T23:52:39.485Z"
      },
      {
        "duration": 581,
        "start_time": "2023-08-31T23:54:11.975Z"
      },
      {
        "duration": 57,
        "start_time": "2023-08-31T23:58:43.886Z"
      },
      {
        "duration": 186,
        "start_time": "2023-08-31T23:58:59.870Z"
      },
      {
        "duration": 294,
        "start_time": "2023-08-31T23:59:10.285Z"
      },
      {
        "duration": 383,
        "start_time": "2023-09-01T00:00:36.742Z"
      },
      {
        "duration": 296,
        "start_time": "2023-09-01T00:00:47.422Z"
      },
      {
        "duration": 430,
        "start_time": "2023-09-01T00:02:15.678Z"
      },
      {
        "duration": 415,
        "start_time": "2023-09-01T00:02:19.935Z"
      },
      {
        "duration": 279,
        "start_time": "2023-09-01T00:04:27.214Z"
      },
      {
        "duration": 408,
        "start_time": "2023-09-01T00:04:41.925Z"
      },
      {
        "duration": 281,
        "start_time": "2023-09-01T00:04:57.494Z"
      },
      {
        "duration": 313,
        "start_time": "2023-09-01T00:05:18.590Z"
      },
      {
        "duration": 5,
        "start_time": "2023-09-01T00:19:48.029Z"
      },
      {
        "duration": 325,
        "start_time": "2023-09-01T00:19:54.733Z"
      },
      {
        "duration": 330,
        "start_time": "2023-09-01T00:24:55.636Z"
      },
      {
        "duration": 469,
        "start_time": "2023-09-01T00:27:54.443Z"
      },
      {
        "duration": 376,
        "start_time": "2023-09-01T00:29:28.075Z"
      },
      {
        "duration": 20,
        "start_time": "2023-09-01T00:30:54.652Z"
      },
      {
        "duration": 12,
        "start_time": "2023-09-01T00:31:50.586Z"
      },
      {
        "duration": 2,
        "start_time": "2023-09-01T00:32:09.924Z"
      },
      {
        "duration": 209,
        "start_time": "2023-09-01T00:32:13.618Z"
      },
      {
        "duration": 24,
        "start_time": "2023-09-01T00:36:08.002Z"
      },
      {
        "duration": 200,
        "start_time": "2023-09-01T00:37:07.232Z"
      },
      {
        "duration": 22,
        "start_time": "2023-09-01T00:38:23.629Z"
      },
      {
        "duration": 191,
        "start_time": "2023-09-01T00:38:46.570Z"
      },
      {
        "duration": 230,
        "start_time": "2023-09-01T00:40:22.571Z"
      },
      {
        "duration": 215,
        "start_time": "2023-09-01T00:40:34.714Z"
      },
      {
        "duration": 196,
        "start_time": "2023-09-01T00:40:41.978Z"
      },
      {
        "duration": 193,
        "start_time": "2023-09-01T00:40:51.729Z"
      },
      {
        "duration": 201,
        "start_time": "2023-09-01T00:42:36.449Z"
      },
      {
        "duration": 192,
        "start_time": "2023-09-01T00:42:59.800Z"
      },
      {
        "duration": 333,
        "start_time": "2023-09-01T00:43:32.104Z"
      },
      {
        "duration": 182,
        "start_time": "2023-09-01T00:44:31.768Z"
      },
      {
        "duration": 159,
        "start_time": "2023-09-01T00:44:43.304Z"
      },
      {
        "duration": 159,
        "start_time": "2023-09-01T00:45:08.208Z"
      },
      {
        "duration": 183,
        "start_time": "2023-09-01T00:45:34.167Z"
      },
      {
        "duration": 156,
        "start_time": "2023-09-01T00:45:46.352Z"
      },
      {
        "duration": 405,
        "start_time": "2023-09-01T00:51:18.975Z"
      },
      {
        "duration": 156,
        "start_time": "2023-09-01T00:51:24.823Z"
      },
      {
        "duration": 178,
        "start_time": "2023-09-01T00:53:33.695Z"
      },
      {
        "duration": 206,
        "start_time": "2023-09-01T00:55:03.526Z"
      },
      {
        "duration": 183,
        "start_time": "2023-09-01T00:55:36.349Z"
      },
      {
        "duration": 1435,
        "start_time": "2023-09-01T01:01:43.234Z"
      },
      {
        "duration": 156,
        "start_time": "2023-09-01T01:02:06.519Z"
      },
      {
        "duration": 149,
        "start_time": "2023-09-01T01:02:20.679Z"
      },
      {
        "duration": 218,
        "start_time": "2023-09-01T01:05:54.614Z"
      },
      {
        "duration": 296,
        "start_time": "2023-09-01T01:06:00.479Z"
      },
      {
        "duration": 149,
        "start_time": "2023-09-01T01:08:23.815Z"
      },
      {
        "duration": 168,
        "start_time": "2023-09-01T01:09:11.047Z"
      },
      {
        "duration": 167,
        "start_time": "2023-09-01T01:09:42.072Z"
      },
      {
        "duration": 167,
        "start_time": "2023-09-01T01:10:00.304Z"
      },
      {
        "duration": 431,
        "start_time": "2023-09-01T01:17:16.207Z"
      },
      {
        "duration": 313,
        "start_time": "2023-09-01T01:17:30.519Z"
      },
      {
        "duration": 415,
        "start_time": "2023-09-01T01:18:17.405Z"
      },
      {
        "duration": 326,
        "start_time": "2023-09-01T01:18:54.830Z"
      },
      {
        "duration": 302,
        "start_time": "2023-09-01T01:19:12.733Z"
      },
      {
        "duration": 362,
        "start_time": "2023-09-01T01:19:18.518Z"
      },
      {
        "duration": 330,
        "start_time": "2023-09-01T01:19:22.517Z"
      },
      {
        "duration": 1327,
        "start_time": "2023-09-02T14:15:42.200Z"
      },
      {
        "duration": 76,
        "start_time": "2023-09-02T14:15:43.529Z"
      },
      {
        "duration": 12,
        "start_time": "2023-09-02T14:15:43.607Z"
      },
      {
        "duration": 58,
        "start_time": "2023-09-02T14:15:43.621Z"
      },
      {
        "duration": 38,
        "start_time": "2023-09-02T14:15:43.681Z"
      },
      {
        "duration": 36,
        "start_time": "2023-09-02T14:15:43.721Z"
      },
      {
        "duration": 14,
        "start_time": "2023-09-02T14:15:43.759Z"
      },
      {
        "duration": 21,
        "start_time": "2023-09-02T14:15:43.775Z"
      },
      {
        "duration": 23,
        "start_time": "2023-09-02T14:15:43.798Z"
      },
      {
        "duration": 51,
        "start_time": "2023-09-02T14:15:43.824Z"
      },
      {
        "duration": 13,
        "start_time": "2023-09-02T14:15:43.876Z"
      },
      {
        "duration": 47,
        "start_time": "2023-09-02T14:15:43.891Z"
      },
      {
        "duration": 137,
        "start_time": "2023-09-02T14:15:43.940Z"
      },
      {
        "duration": 404,
        "start_time": "2023-09-02T14:15:44.078Z"
      },
      {
        "duration": 277,
        "start_time": "2023-09-02T14:15:44.483Z"
      },
      {
        "duration": 165,
        "start_time": "2023-09-02T14:15:44.761Z"
      },
      {
        "duration": 173,
        "start_time": "2023-09-02T14:15:44.927Z"
      },
      {
        "duration": 213,
        "start_time": "2023-09-02T14:15:45.102Z"
      },
      {
        "duration": 164,
        "start_time": "2023-09-02T14:15:45.323Z"
      },
      {
        "duration": 285,
        "start_time": "2023-09-02T14:15:45.489Z"
      },
      {
        "duration": 275,
        "start_time": "2023-09-02T14:15:45.776Z"
      },
      {
        "duration": 94,
        "start_time": "2023-09-02T14:23:53.682Z"
      },
      {
        "duration": 10,
        "start_time": "2023-09-02T14:24:30.179Z"
      },
      {
        "duration": 13,
        "start_time": "2023-09-02T16:35:23.842Z"
      },
      {
        "duration": 9,
        "start_time": "2023-09-02T16:35:49.392Z"
      },
      {
        "duration": 10,
        "start_time": "2023-09-02T16:35:58.288Z"
      },
      {
        "duration": 19,
        "start_time": "2023-09-02T16:36:06.237Z"
      },
      {
        "duration": 370,
        "start_time": "2023-09-02T16:36:21.710Z"
      },
      {
        "duration": 17,
        "start_time": "2023-09-02T16:37:03.945Z"
      },
      {
        "duration": 24,
        "start_time": "2023-09-02T16:37:56.823Z"
      },
      {
        "duration": 16,
        "start_time": "2023-09-02T16:38:05.480Z"
      },
      {
        "duration": 15,
        "start_time": "2023-09-02T16:38:55.084Z"
      },
      {
        "duration": 20,
        "start_time": "2023-09-02T16:39:05.937Z"
      },
      {
        "duration": 260,
        "start_time": "2023-09-02T17:09:10.915Z"
      },
      {
        "duration": 13,
        "start_time": "2023-09-02T17:09:57.610Z"
      },
      {
        "duration": 68,
        "start_time": "2023-09-02T17:12:24.885Z"
      },
      {
        "duration": 11,
        "start_time": "2023-09-02T17:12:32.078Z"
      },
      {
        "duration": 14,
        "start_time": "2023-09-02T17:12:50.384Z"
      },
      {
        "duration": 13,
        "start_time": "2023-09-02T17:13:19.796Z"
      },
      {
        "duration": 31,
        "start_time": "2023-09-02T17:13:25.104Z"
      },
      {
        "duration": 22,
        "start_time": "2023-09-02T17:13:41.720Z"
      },
      {
        "duration": 360,
        "start_time": "2023-09-02T17:32:19.485Z"
      },
      {
        "duration": 173,
        "start_time": "2023-09-02T17:32:41.980Z"
      },
      {
        "duration": 4,
        "start_time": "2023-09-02T17:33:27.992Z"
      },
      {
        "duration": 208,
        "start_time": "2023-09-02T17:33:41.713Z"
      },
      {
        "duration": 13,
        "start_time": "2023-09-02T17:34:09.488Z"
      },
      {
        "duration": 12,
        "start_time": "2023-09-02T17:34:25.180Z"
      },
      {
        "duration": 16,
        "start_time": "2023-09-02T17:36:00.823Z"
      },
      {
        "duration": 13,
        "start_time": "2023-09-02T17:36:30.769Z"
      },
      {
        "duration": 173,
        "start_time": "2023-09-02T17:36:57.104Z"
      },
      {
        "duration": 276,
        "start_time": "2023-09-02T17:38:00.266Z"
      },
      {
        "duration": 166,
        "start_time": "2023-09-02T17:38:15.479Z"
      },
      {
        "duration": 188,
        "start_time": "2023-09-02T17:41:31.570Z"
      },
      {
        "duration": 184,
        "start_time": "2023-09-02T17:41:38.494Z"
      },
      {
        "duration": 228,
        "start_time": "2023-09-02T17:43:19.037Z"
      },
      {
        "duration": 245,
        "start_time": "2023-09-02T17:46:16.493Z"
      },
      {
        "duration": 190,
        "start_time": "2023-09-02T17:46:31.613Z"
      },
      {
        "duration": 235,
        "start_time": "2023-09-02T17:50:56.388Z"
      },
      {
        "duration": 233,
        "start_time": "2023-09-02T17:51:03.588Z"
      },
      {
        "duration": 309,
        "start_time": "2023-09-02T17:51:47.972Z"
      },
      {
        "duration": 208,
        "start_time": "2023-09-02T17:58:02.627Z"
      },
      {
        "duration": 4,
        "start_time": "2023-09-02T17:58:42.499Z"
      },
      {
        "duration": 222,
        "start_time": "2023-09-02T17:59:41.459Z"
      },
      {
        "duration": 17,
        "start_time": "2023-09-02T18:03:35.918Z"
      },
      {
        "duration": 361,
        "start_time": "2023-09-02T18:06:51.313Z"
      },
      {
        "duration": 4854,
        "start_time": "2023-09-02T18:09:58.073Z"
      },
      {
        "duration": 5830,
        "start_time": "2023-09-02T18:13:45.248Z"
      },
      {
        "duration": 4588,
        "start_time": "2023-09-02T18:15:11.536Z"
      },
      {
        "duration": 4516,
        "start_time": "2023-09-02T18:15:42.991Z"
      },
      {
        "duration": 4665,
        "start_time": "2023-09-02T18:16:04.759Z"
      },
      {
        "duration": 4579,
        "start_time": "2023-09-02T18:16:27.270Z"
      },
      {
        "duration": 4590,
        "start_time": "2023-09-02T18:16:46.736Z"
      },
      {
        "duration": 4634,
        "start_time": "2023-09-02T18:17:01.119Z"
      },
      {
        "duration": 390,
        "start_time": "2023-09-02T18:17:29.335Z"
      },
      {
        "duration": 360,
        "start_time": "2023-09-02T18:20:11.279Z"
      },
      {
        "duration": 178,
        "start_time": "2023-09-02T18:20:37.790Z"
      },
      {
        "duration": 25258,
        "start_time": "2023-09-02T18:20:49.071Z"
      },
      {
        "duration": 4663,
        "start_time": "2023-09-02T18:21:22.238Z"
      },
      {
        "duration": 2852,
        "start_time": "2023-09-02T18:21:53.950Z"
      },
      {
        "duration": 2750,
        "start_time": "2023-09-02T18:22:11.431Z"
      },
      {
        "duration": 4557,
        "start_time": "2023-09-02T18:25:04.102Z"
      },
      {
        "duration": 4800,
        "start_time": "2023-09-02T18:25:16.973Z"
      },
      {
        "duration": 4753,
        "start_time": "2023-09-02T18:29:59.508Z"
      },
      {
        "duration": 4669,
        "start_time": "2023-09-02T18:30:55.996Z"
      },
      {
        "duration": 4593,
        "start_time": "2023-09-02T18:31:05.931Z"
      },
      {
        "duration": 4764,
        "start_time": "2023-09-02T18:32:25.686Z"
      },
      {
        "duration": 25,
        "start_time": "2023-09-02T18:32:39.076Z"
      },
      {
        "duration": 4656,
        "start_time": "2023-09-02T18:33:00.331Z"
      },
      {
        "duration": 4859,
        "start_time": "2023-09-02T18:34:43.282Z"
      },
      {
        "duration": 73,
        "start_time": "2023-09-02T18:35:17.081Z"
      },
      {
        "duration": 4648,
        "start_time": "2023-09-02T18:35:20.451Z"
      },
      {
        "duration": 4729,
        "start_time": "2023-09-02T18:35:45.545Z"
      },
      {
        "duration": 5031,
        "start_time": "2023-09-02T18:36:04.242Z"
      },
      {
        "duration": 5202,
        "start_time": "2023-09-02T18:36:17.467Z"
      },
      {
        "duration": 4597,
        "start_time": "2023-09-02T18:36:50.289Z"
      },
      {
        "duration": 4858,
        "start_time": "2023-09-02T18:37:04.667Z"
      },
      {
        "duration": 4711,
        "start_time": "2023-09-02T18:37:19.481Z"
      },
      {
        "duration": 627,
        "start_time": "2023-09-02T18:38:28.581Z"
      },
      {
        "duration": 17,
        "start_time": "2023-09-02T18:39:55.501Z"
      },
      {
        "duration": 16,
        "start_time": "2023-09-02T18:40:45.882Z"
      },
      {
        "duration": 4413,
        "start_time": "2023-09-02T18:40:59.750Z"
      },
      {
        "duration": 4683,
        "start_time": "2023-09-02T18:41:56.936Z"
      },
      {
        "duration": 4804,
        "start_time": "2023-09-02T18:42:08.277Z"
      },
      {
        "duration": 4631,
        "start_time": "2023-09-02T18:42:42.481Z"
      },
      {
        "duration": 4840,
        "start_time": "2023-09-02T18:43:07.800Z"
      },
      {
        "duration": 1119,
        "start_time": "2023-09-02T18:44:24.005Z"
      },
      {
        "duration": 93,
        "start_time": "2023-09-02T18:44:25.126Z"
      },
      {
        "duration": 11,
        "start_time": "2023-09-02T18:44:25.221Z"
      },
      {
        "duration": 20,
        "start_time": "2023-09-02T18:44:25.234Z"
      },
      {
        "duration": 5,
        "start_time": "2023-09-02T18:44:25.256Z"
      },
      {
        "duration": 15,
        "start_time": "2023-09-02T18:44:25.263Z"
      },
      {
        "duration": 4,
        "start_time": "2023-09-02T18:44:25.280Z"
      },
      {
        "duration": 39,
        "start_time": "2023-09-02T18:44:25.286Z"
      },
      {
        "duration": 5,
        "start_time": "2023-09-02T18:44:25.327Z"
      },
      {
        "duration": 18,
        "start_time": "2023-09-02T18:44:25.333Z"
      },
      {
        "duration": 3,
        "start_time": "2023-09-02T18:44:25.352Z"
      },
      {
        "duration": 12,
        "start_time": "2023-09-02T18:44:25.357Z"
      },
      {
        "duration": 174,
        "start_time": "2023-09-02T18:44:25.370Z"
      },
      {
        "duration": 481,
        "start_time": "2023-09-02T18:44:25.546Z"
      },
      {
        "duration": 285,
        "start_time": "2023-09-02T18:44:26.029Z"
      },
      {
        "duration": 19,
        "start_time": "2023-09-02T18:44:26.316Z"
      },
      {
        "duration": 166,
        "start_time": "2023-09-02T18:44:26.336Z"
      },
      {
        "duration": 177,
        "start_time": "2023-09-02T18:44:26.504Z"
      },
      {
        "duration": 226,
        "start_time": "2023-09-02T18:44:26.683Z"
      },
      {
        "duration": 167,
        "start_time": "2023-09-02T18:44:26.911Z"
      },
      {
        "duration": 278,
        "start_time": "2023-09-02T18:44:27.080Z"
      },
      {
        "duration": 274,
        "start_time": "2023-09-02T18:44:27.359Z"
      },
      {
        "duration": 15,
        "start_time": "2023-09-02T18:44:27.634Z"
      },
      {
        "duration": 206,
        "start_time": "2023-09-02T18:44:27.651Z"
      },
      {
        "duration": 237,
        "start_time": "2023-09-02T18:44:27.858Z"
      },
      {
        "duration": 14,
        "start_time": "2023-09-02T18:44:28.096Z"
      },
      {
        "duration": 485,
        "start_time": "2023-09-02T18:44:28.111Z"
      },
      {
        "duration": 2580,
        "start_time": "2023-09-02T18:44:28.597Z"
      },
      {
        "duration": 4476,
        "start_time": "2023-09-02T18:44:31.178Z"
      },
      {
        "duration": 4729,
        "start_time": "2023-09-02T18:44:52.503Z"
      },
      {
        "duration": 88,
        "start_time": "2023-09-02T18:47:03.791Z"
      },
      {
        "duration": 4792,
        "start_time": "2023-09-02T18:47:32.432Z"
      },
      {
        "duration": 5968,
        "start_time": "2023-09-02T18:48:36.350Z"
      },
      {
        "duration": 4751,
        "start_time": "2023-09-02T18:49:07.678Z"
      },
      {
        "duration": 4787,
        "start_time": "2023-09-02T18:49:28.718Z"
      },
      {
        "duration": 4814,
        "start_time": "2023-09-02T18:53:01.422Z"
      },
      {
        "duration": 9,
        "start_time": "2023-09-02T18:55:10.237Z"
      },
      {
        "duration": 6,
        "start_time": "2023-09-02T18:55:23.309Z"
      },
      {
        "duration": 6,
        "start_time": "2023-09-02T18:56:00.909Z"
      },
      {
        "duration": 5,
        "start_time": "2023-09-02T18:56:06.701Z"
      },
      {
        "duration": 5,
        "start_time": "2023-09-02T18:56:18.924Z"
      },
      {
        "duration": 5,
        "start_time": "2023-09-02T18:56:35.220Z"
      },
      {
        "duration": 4647,
        "start_time": "2023-09-02T18:56:48.717Z"
      },
      {
        "duration": 4644,
        "start_time": "2023-09-02T18:57:17.159Z"
      },
      {
        "duration": 5,
        "start_time": "2023-09-02T18:57:26.829Z"
      },
      {
        "duration": 4456,
        "start_time": "2023-09-02T18:58:05.868Z"
      },
      {
        "duration": 4582,
        "start_time": "2023-09-02T18:58:17.908Z"
      },
      {
        "duration": 2752,
        "start_time": "2023-09-02T18:58:35.805Z"
      },
      {
        "duration": 4502,
        "start_time": "2023-09-02T18:58:43.292Z"
      },
      {
        "duration": 7,
        "start_time": "2023-09-02T19:00:05.501Z"
      },
      {
        "duration": 6,
        "start_time": "2023-09-02T19:00:33.332Z"
      },
      {
        "duration": 7,
        "start_time": "2023-09-02T19:01:52.787Z"
      },
      {
        "duration": 4612,
        "start_time": "2023-09-02T19:02:02.376Z"
      },
      {
        "duration": 2801,
        "start_time": "2023-09-02T19:02:08.812Z"
      },
      {
        "duration": 252,
        "start_time": "2023-09-02T19:06:13.360Z"
      },
      {
        "duration": 16,
        "start_time": "2023-09-02T19:06:33.088Z"
      },
      {
        "duration": 179,
        "start_time": "2023-09-02T19:10:49.873Z"
      },
      {
        "duration": 334,
        "start_time": "2023-09-02T19:16:59.225Z"
      },
      {
        "duration": 299,
        "start_time": "2023-09-02T19:17:46.896Z"
      },
      {
        "duration": 506,
        "start_time": "2023-09-02T19:17:54.382Z"
      },
      {
        "duration": 317,
        "start_time": "2023-09-02T19:18:00.497Z"
      },
      {
        "duration": 16,
        "start_time": "2023-09-02T19:19:46.229Z"
      },
      {
        "duration": 16,
        "start_time": "2023-09-02T19:20:03.489Z"
      },
      {
        "duration": 20,
        "start_time": "2023-09-02T19:34:17.574Z"
      },
      {
        "duration": 12,
        "start_time": "2023-09-02T19:35:22.429Z"
      },
      {
        "duration": 155,
        "start_time": "2023-09-02T19:36:36.318Z"
      },
      {
        "duration": 147,
        "start_time": "2023-09-02T19:37:08.302Z"
      },
      {
        "duration": 216,
        "start_time": "2023-09-02T19:37:59.965Z"
      },
      {
        "duration": 217,
        "start_time": "2023-09-02T19:38:22.421Z"
      },
      {
        "duration": 203,
        "start_time": "2023-09-02T19:38:35.176Z"
      },
      {
        "duration": 185,
        "start_time": "2023-09-02T19:39:23.325Z"
      },
      {
        "duration": 205,
        "start_time": "2023-09-02T19:40:29.213Z"
      },
      {
        "duration": 328,
        "start_time": "2023-09-02T19:43:19.325Z"
      },
      {
        "duration": 188,
        "start_time": "2023-09-02T19:47:05.948Z"
      },
      {
        "duration": 223,
        "start_time": "2023-09-02T19:47:26.124Z"
      },
      {
        "duration": 183,
        "start_time": "2023-09-02T19:47:31.365Z"
      },
      {
        "duration": 164,
        "start_time": "2023-09-02T19:47:42.588Z"
      },
      {
        "duration": 162,
        "start_time": "2023-09-02T19:48:03.964Z"
      },
      {
        "duration": 160,
        "start_time": "2023-09-02T20:00:26.789Z"
      },
      {
        "duration": 165,
        "start_time": "2023-09-02T20:00:33.890Z"
      },
      {
        "duration": 180,
        "start_time": "2023-09-02T20:01:17.225Z"
      },
      {
        "duration": 182,
        "start_time": "2023-09-02T20:01:51.434Z"
      },
      {
        "duration": 491,
        "start_time": "2023-09-02T20:06:11.963Z"
      },
      {
        "duration": 431,
        "start_time": "2023-09-02T20:06:21.065Z"
      },
      {
        "duration": 381,
        "start_time": "2023-09-02T20:08:41.518Z"
      },
      {
        "duration": 374,
        "start_time": "2023-09-02T20:08:51.606Z"
      },
      {
        "duration": 643,
        "start_time": "2023-09-02T20:09:50.797Z"
      },
      {
        "duration": 568,
        "start_time": "2023-09-02T20:12:30.035Z"
      },
      {
        "duration": 698,
        "start_time": "2023-09-02T20:15:25.456Z"
      },
      {
        "duration": 15,
        "start_time": "2023-09-02T20:19:29.882Z"
      },
      {
        "duration": 2149,
        "start_time": "2023-09-03T14:31:17.429Z"
      },
      {
        "duration": 153,
        "start_time": "2023-09-03T14:31:19.583Z"
      },
      {
        "duration": 10,
        "start_time": "2023-09-03T14:31:19.738Z"
      },
      {
        "duration": 39,
        "start_time": "2023-09-03T14:31:19.750Z"
      },
      {
        "duration": 32,
        "start_time": "2023-09-03T14:31:19.790Z"
      },
      {
        "duration": 19,
        "start_time": "2023-09-03T14:31:19.823Z"
      },
      {
        "duration": 5,
        "start_time": "2023-09-03T14:31:19.844Z"
      },
      {
        "duration": 17,
        "start_time": "2023-09-03T14:31:19.850Z"
      },
      {
        "duration": 14,
        "start_time": "2023-09-03T14:31:19.869Z"
      },
      {
        "duration": 33,
        "start_time": "2023-09-03T14:31:19.886Z"
      },
      {
        "duration": 8,
        "start_time": "2023-09-03T14:31:19.921Z"
      },
      {
        "duration": 39,
        "start_time": "2023-09-03T14:31:19.930Z"
      },
      {
        "duration": 170,
        "start_time": "2023-09-03T14:31:19.972Z"
      },
      {
        "duration": 436,
        "start_time": "2023-09-03T14:31:20.149Z"
      },
      {
        "duration": 278,
        "start_time": "2023-09-03T14:31:20.586Z"
      },
      {
        "duration": 476,
        "start_time": "2023-09-03T14:31:20.865Z"
      },
      {
        "duration": 172,
        "start_time": "2023-09-03T14:31:21.343Z"
      },
      {
        "duration": 183,
        "start_time": "2023-09-03T14:31:21.517Z"
      },
      {
        "duration": 240,
        "start_time": "2023-09-03T14:31:21.701Z"
      },
      {
        "duration": 191,
        "start_time": "2023-09-03T14:31:21.943Z"
      },
      {
        "duration": 266,
        "start_time": "2023-09-03T14:31:22.135Z"
      },
      {
        "duration": 257,
        "start_time": "2023-09-03T14:31:22.404Z"
      },
      {
        "duration": 17,
        "start_time": "2023-09-03T14:31:22.663Z"
      },
      {
        "duration": 210,
        "start_time": "2023-09-03T14:31:22.681Z"
      },
      {
        "duration": 298,
        "start_time": "2023-09-03T14:31:22.893Z"
      },
      {
        "duration": 18,
        "start_time": "2023-09-03T14:31:23.194Z"
      },
      {
        "duration": 490,
        "start_time": "2023-09-03T14:31:23.213Z"
      },
      {
        "duration": 2665,
        "start_time": "2023-09-03T14:31:23.706Z"
      },
      {
        "duration": 4247,
        "start_time": "2023-09-03T14:31:26.373Z"
      },
      {
        "duration": 6,
        "start_time": "2023-09-03T14:31:30.622Z"
      },
      {
        "duration": 54,
        "start_time": "2023-09-03T14:31:30.629Z"
      },
      {
        "duration": 237,
        "start_time": "2023-09-03T14:31:30.685Z"
      },
      {
        "duration": 304,
        "start_time": "2023-09-03T14:31:30.924Z"
      },
      {
        "duration": 21,
        "start_time": "2023-09-03T14:31:31.230Z"
      },
      {
        "duration": 217,
        "start_time": "2023-09-03T14:31:31.252Z"
      },
      {
        "duration": 167,
        "start_time": "2023-09-03T14:31:31.470Z"
      },
      {
        "duration": 159,
        "start_time": "2023-09-03T14:31:31.639Z"
      },
      {
        "duration": 163,
        "start_time": "2023-09-03T14:31:31.800Z"
      },
      {
        "duration": 769,
        "start_time": "2023-09-03T14:31:31.965Z"
      },
      {
        "duration": 492,
        "start_time": "2023-09-03T14:31:32.736Z"
      },
      {
        "duration": 22,
        "start_time": "2023-09-03T14:31:33.230Z"
      },
      {
        "duration": 3,
        "start_time": "2023-09-03T14:38:45.887Z"
      },
      {
        "duration": 8,
        "start_time": "2023-09-03T14:43:06.298Z"
      },
      {
        "duration": 9,
        "start_time": "2023-09-03T14:43:25.471Z"
      },
      {
        "duration": 8,
        "start_time": "2023-09-03T14:48:26.182Z"
      },
      {
        "duration": 11,
        "start_time": "2023-09-03T14:52:39.973Z"
      },
      {
        "duration": 94,
        "start_time": "2023-09-03T16:06:29.468Z"
      },
      {
        "duration": 982,
        "start_time": "2023-09-03T16:06:55.523Z"
      },
      {
        "duration": 9,
        "start_time": "2023-09-03T16:07:17.668Z"
      },
      {
        "duration": 15,
        "start_time": "2023-09-03T16:07:24.163Z"
      },
      {
        "duration": 11,
        "start_time": "2023-09-03T16:08:05.452Z"
      },
      {
        "duration": 33,
        "start_time": "2023-09-03T16:09:39.949Z"
      },
      {
        "duration": 20,
        "start_time": "2023-09-03T16:10:05.356Z"
      },
      {
        "duration": 20,
        "start_time": "2023-09-03T16:12:07.859Z"
      },
      {
        "duration": 15,
        "start_time": "2023-09-03T16:12:58.803Z"
      },
      {
        "duration": 19,
        "start_time": "2023-09-03T16:13:08.715Z"
      },
      {
        "duration": 22,
        "start_time": "2023-09-03T16:14:27.302Z"
      },
      {
        "duration": 44,
        "start_time": "2023-09-03T16:15:13.643Z"
      },
      {
        "duration": 24,
        "start_time": "2023-09-03T16:15:57.211Z"
      },
      {
        "duration": 23,
        "start_time": "2023-09-03T16:18:24.619Z"
      },
      {
        "duration": 141,
        "start_time": "2023-09-03T16:19:52.084Z"
      },
      {
        "duration": 143,
        "start_time": "2023-09-03T17:33:37.269Z"
      },
      {
        "duration": 1377,
        "start_time": "2023-09-05T00:05:28.294Z"
      },
      {
        "duration": 143,
        "start_time": "2023-09-05T00:05:29.673Z"
      },
      {
        "duration": 11,
        "start_time": "2023-09-05T00:05:29.817Z"
      },
      {
        "duration": 24,
        "start_time": "2023-09-05T00:05:29.830Z"
      },
      {
        "duration": 6,
        "start_time": "2023-09-05T00:05:29.856Z"
      },
      {
        "duration": 16,
        "start_time": "2023-09-05T00:05:29.863Z"
      },
      {
        "duration": 5,
        "start_time": "2023-09-05T00:05:29.880Z"
      },
      {
        "duration": 10,
        "start_time": "2023-09-05T00:05:29.887Z"
      },
      {
        "duration": 6,
        "start_time": "2023-09-05T00:05:29.899Z"
      },
      {
        "duration": 53,
        "start_time": "2023-09-05T00:05:29.908Z"
      },
      {
        "duration": 5,
        "start_time": "2023-09-05T00:05:29.963Z"
      },
      {
        "duration": 13,
        "start_time": "2023-09-05T00:05:29.970Z"
      },
      {
        "duration": 185,
        "start_time": "2023-09-05T00:05:29.984Z"
      },
      {
        "duration": 421,
        "start_time": "2023-09-05T00:05:30.171Z"
      },
      {
        "duration": 284,
        "start_time": "2023-09-05T00:05:30.594Z"
      },
      {
        "duration": 14,
        "start_time": "2023-09-05T00:05:30.880Z"
      },
      {
        "duration": 225,
        "start_time": "2023-09-05T00:05:30.895Z"
      },
      {
        "duration": 176,
        "start_time": "2023-09-05T00:05:31.122Z"
      },
      {
        "duration": 231,
        "start_time": "2023-09-05T00:05:31.300Z"
      },
      {
        "duration": 169,
        "start_time": "2023-09-05T00:05:31.532Z"
      },
      {
        "duration": 274,
        "start_time": "2023-09-05T00:05:31.703Z"
      },
      {
        "duration": 275,
        "start_time": "2023-09-05T00:05:31.979Z"
      },
      {
        "duration": 17,
        "start_time": "2023-09-05T00:05:32.256Z"
      },
      {
        "duration": 233,
        "start_time": "2023-09-05T00:05:32.275Z"
      },
      {
        "duration": 250,
        "start_time": "2023-09-05T00:05:32.510Z"
      },
      {
        "duration": 15,
        "start_time": "2023-09-05T00:05:32.762Z"
      },
      {
        "duration": 473,
        "start_time": "2023-09-05T00:05:32.779Z"
      },
      {
        "duration": 2453,
        "start_time": "2023-09-05T00:05:33.256Z"
      },
      {
        "duration": 4427,
        "start_time": "2023-09-05T00:05:35.711Z"
      },
      {
        "duration": 11,
        "start_time": "2023-09-05T00:05:40.140Z"
      },
      {
        "duration": 35,
        "start_time": "2023-09-05T00:05:40.153Z"
      },
      {
        "duration": 211,
        "start_time": "2023-09-05T00:05:40.189Z"
      },
      {
        "duration": 334,
        "start_time": "2023-09-05T00:05:40.402Z"
      },
      {
        "duration": 24,
        "start_time": "2023-09-05T00:05:40.737Z"
      },
      {
        "duration": 169,
        "start_time": "2023-09-05T00:05:40.763Z"
      },
      {
        "duration": 184,
        "start_time": "2023-09-05T00:05:40.934Z"
      },
      {
        "duration": 162,
        "start_time": "2023-09-05T00:05:41.119Z"
      },
      {
        "duration": 171,
        "start_time": "2023-09-05T00:05:41.283Z"
      },
      {
        "duration": 747,
        "start_time": "2023-09-05T00:05:41.456Z"
      },
      {
        "duration": 517,
        "start_time": "2023-09-05T00:05:42.205Z"
      },
      {
        "duration": 16,
        "start_time": "2023-09-05T00:05:42.725Z"
      },
      {
        "duration": 14,
        "start_time": "2023-09-05T00:05:42.749Z"
      },
      {
        "duration": 21,
        "start_time": "2023-09-05T00:05:42.766Z"
      },
      {
        "duration": 164,
        "start_time": "2023-09-05T00:05:42.788Z"
      },
      {
        "duration": 106,
        "start_time": "2023-09-05T00:55:33.468Z"
      },
      {
        "duration": 27,
        "start_time": "2023-09-05T00:55:49.156Z"
      },
      {
        "duration": 26,
        "start_time": "2023-09-05T00:57:06.126Z"
      },
      {
        "duration": 21,
        "start_time": "2023-09-05T00:57:29.805Z"
      },
      {
        "duration": 129,
        "start_time": "2023-09-05T00:58:34.141Z"
      },
      {
        "duration": 165,
        "start_time": "2023-09-05T01:00:11.540Z"
      },
      {
        "duration": 140,
        "start_time": "2023-09-05T01:00:44.293Z"
      },
      {
        "duration": 254,
        "start_time": "2023-09-05T01:02:58.499Z"
      },
      {
        "duration": 147,
        "start_time": "2023-09-05T01:03:09.420Z"
      },
      {
        "duration": 133,
        "start_time": "2023-09-05T01:35:03.219Z"
      },
      {
        "duration": 143,
        "start_time": "2023-09-05T01:40:47.057Z"
      },
      {
        "duration": 145,
        "start_time": "2023-09-05T01:41:48.809Z"
      },
      {
        "duration": 166,
        "start_time": "2023-09-05T01:42:44.529Z"
      },
      {
        "duration": 3965,
        "start_time": "2023-09-05T02:22:17.180Z"
      },
      {
        "duration": 1137,
        "start_time": "2023-09-05T02:22:28.200Z"
      },
      {
        "duration": 146,
        "start_time": "2023-09-05T02:22:29.338Z"
      },
      {
        "duration": 11,
        "start_time": "2023-09-05T02:22:29.486Z"
      },
      {
        "duration": 33,
        "start_time": "2023-09-05T02:22:29.498Z"
      },
      {
        "duration": 7,
        "start_time": "2023-09-05T02:22:29.534Z"
      },
      {
        "duration": 32,
        "start_time": "2023-09-05T02:22:29.542Z"
      },
      {
        "duration": 17,
        "start_time": "2023-09-05T02:22:29.576Z"
      },
      {
        "duration": 26,
        "start_time": "2023-09-05T02:22:29.595Z"
      },
      {
        "duration": 8,
        "start_time": "2023-09-05T02:22:29.622Z"
      },
      {
        "duration": 25,
        "start_time": "2023-09-05T02:22:29.632Z"
      },
      {
        "duration": 6,
        "start_time": "2023-09-05T02:22:29.658Z"
      },
      {
        "duration": 22,
        "start_time": "2023-09-05T02:22:29.666Z"
      },
      {
        "duration": 151,
        "start_time": "2023-09-05T02:22:29.690Z"
      },
      {
        "duration": 392,
        "start_time": "2023-09-05T02:22:29.849Z"
      },
      {
        "duration": 269,
        "start_time": "2023-09-05T02:22:30.242Z"
      },
      {
        "duration": 14,
        "start_time": "2023-09-05T02:22:30.512Z"
      },
      {
        "duration": 181,
        "start_time": "2023-09-05T02:22:30.527Z"
      },
      {
        "duration": 177,
        "start_time": "2023-09-05T02:22:30.709Z"
      },
      {
        "duration": 256,
        "start_time": "2023-09-05T02:22:30.887Z"
      },
      {
        "duration": 192,
        "start_time": "2023-09-05T02:22:31.144Z"
      },
      {
        "duration": 266,
        "start_time": "2023-09-05T02:22:31.338Z"
      },
      {
        "duration": 279,
        "start_time": "2023-09-05T02:22:31.605Z"
      },
      {
        "duration": 15,
        "start_time": "2023-09-05T02:22:31.885Z"
      },
      {
        "duration": 224,
        "start_time": "2023-09-05T02:22:31.901Z"
      },
      {
        "duration": 244,
        "start_time": "2023-09-05T02:22:32.127Z"
      },
      {
        "duration": 16,
        "start_time": "2023-09-05T02:22:32.373Z"
      },
      {
        "duration": 449,
        "start_time": "2023-09-05T02:22:32.391Z"
      },
      {
        "duration": 2385,
        "start_time": "2023-09-05T02:22:32.842Z"
      },
      {
        "duration": 4084,
        "start_time": "2023-09-05T02:22:35.229Z"
      },
      {
        "duration": 6,
        "start_time": "2023-09-05T02:22:39.314Z"
      },
      {
        "duration": 30,
        "start_time": "2023-09-05T02:22:39.322Z"
      },
      {
        "duration": 189,
        "start_time": "2023-09-05T02:22:39.353Z"
      },
      {
        "duration": 291,
        "start_time": "2023-09-05T02:22:39.549Z"
      },
      {
        "duration": 19,
        "start_time": "2023-09-05T02:22:39.841Z"
      },
      {
        "duration": 166,
        "start_time": "2023-09-05T02:22:39.863Z"
      },
      {
        "duration": 182,
        "start_time": "2023-09-05T02:22:40.031Z"
      },
      {
        "duration": 167,
        "start_time": "2023-09-05T02:22:40.215Z"
      },
      {
        "duration": 189,
        "start_time": "2023-09-05T02:22:40.383Z"
      },
      {
        "duration": 753,
        "start_time": "2023-09-05T02:22:40.574Z"
      },
      {
        "duration": 486,
        "start_time": "2023-09-05T02:22:41.329Z"
      },
      {
        "duration": 13,
        "start_time": "2023-09-05T02:22:41.819Z"
      },
      {
        "duration": 19,
        "start_time": "2023-09-05T02:22:41.834Z"
      },
      {
        "duration": 46,
        "start_time": "2023-09-05T02:22:41.855Z"
      },
      {
        "duration": 136,
        "start_time": "2023-09-05T02:22:41.903Z"
      },
      {
        "duration": 176,
        "start_time": "2023-09-05T02:22:42.041Z"
      },
      {
        "duration": 159,
        "start_time": "2023-09-05T02:22:42.219Z"
      },
      {
        "duration": 562,
        "start_time": "2023-09-05T02:30:03.448Z"
      }
    ],
    "toc": {
      "base_numbering": 1,
      "nav_menu": {
        "height": "530px",
        "width": "697px"
      },
      "number_sections": true,
      "sideBar": true,
      "skip_h1_title": true,
      "title_cell": "Table of Contents",
      "title_sidebar": "Contents",
      "toc_cell": false,
      "toc_position": {},
      "toc_section_display": true,
      "toc_window_display": false
    },
    "kernelspec": {
      "name": "python",
      "display_name": "Python (Pyodide)",
      "language": "python"
    },
    "language_info": {
      "codemirror_mode": {
        "name": "ipython",
        "version": 3
      },
      "file_extension": ".py",
      "mimetype": "text/x-python",
      "name": "python",
      "nbconvert_exporter": "python",
      "pygments_lexer": "ipython3",
      "version": "3.9.5"
    }
  },
  "nbformat_minor": 4,
  "nbformat": 4,
  "cells": [
    {
      "cell_type": "markdown",
      "source": "# Выпускной проект",
      "metadata": {}
    },
    {
      "cell_type": "markdown",
      "source": "## Введение\nМенеджеру отдела маркетинга банка необходима информация для маркетинговых кампаний и работы с менеджерами продуктов. Целью работы является максимально точно определить сегмент клиентов, подверженых уходу из банка. Необходимо выделить сегмент отточных клиентов, в котором они будут однородны, с высокой вероятностью оттока и покрывали максимальное количество проблемных зон банка.\n\nДля достижения цели необходимо решить следующие задачи:\n- провести исследовательский анализ;\n- проверить минимум две гипотезы;\n- сделать выводы о влиянии определенных признаков и их значений на отток клиентов;\n- выделить сегменты и приоритизировать их;\n- сделать общий вывод с рекомендациями;\n- подготовить презентацию.\n\nВ качестве исходных данных имеется датасет с данными о клиентах банка \"Метанпром\" в городе Ярославле и областных городах: Ростов Великий и Рыбинск.",
      "metadata": {}
    },
    {
      "cell_type": "markdown",
      "source": "## Декомпозиция проекта\nДля выполнения описанных задач и достижения поставленной цели, опишем основные шаги выполнения проекта:\n1. Загрузка данных и изучение общей информации\n2. Предобработка данных:\n    - Поиск и анализ пропусков\n    - Поиск и анализ дубликатов\n    - Возможное добавление дополнительных полей\n3. Исследование влияния признаков между собой и на показатель оттока (распределения, нормализованные распределения, корреляции, портреты клиентов)\n4. Формулировка и проверка гипотез\n    - Проверка гипотезы различия дохода между теми клиентами, которые ушли, и теми, которые остались\n    - Формулировка и проверка дополнительных гипотезы\n5. Промежуточные итоги\n6. Выделение основных сегментов пользователей, подверженных оттоку\n7. Общий вывод и рекомендации\n8. Презентация со всеми ключевыми моментами, определенными в ходы выполнения описанных выше шагов.\n\nДля начала работы загрузим сразу все необходимые библиотеки и модули.",
      "metadata": {}
    },
    {
      "cell_type": "code",
      "source": "import pandas as pd\nfrom matplotlib import pyplot as plt\nimport seaborn as sns\nimport numpy as np\nfrom scipy import stats as st",
      "metadata": {},
      "execution_count": 1,
      "outputs": []
    },
    {
      "cell_type": "markdown",
      "source": "## Загрузка данных и изучение общей информации\nЗагрузим датасет в переменную data из csv-файла bank_scrooge.csv, находящийся по пути https://code.s3.yandex.net/datasets/, и посмотрим на общую информацию и выведем первые 5 строк.",
      "metadata": {}
    },
    {
      "cell_type": "code",
      "source": "data = pd.read_csv('https://code.s3.yandex.net/datasets/bank_scrooge.csv')\ndata.info()\ndisplay(data.head())",
      "metadata": {},
      "execution_count": 2,
      "outputs": [
        {
          "name": "stdout",
          "output_type": "stream",
          "text": "<class 'pandas.core.frame.DataFrame'>\n\nRangeIndex: 10000 entries, 0 to 9999\n\nData columns (total 12 columns):\n\n #   Column         Non-Null Count  Dtype  \n\n---  ------         --------------  -----  \n\n 0   USERID         10000 non-null  int64  \n\n 1   score          10000 non-null  float64\n\n 2   city           10000 non-null  object \n\n 3   gender         10000 non-null  object \n\n 4   age            9974 non-null   float64\n\n 5   equity         10000 non-null  int64  \n\n 6   balance        7705 non-null   float64\n\n 7   products       10000 non-null  int64  \n\n 8   credit_card    10000 non-null  int64  \n\n 9   last_activity  10000 non-null  int64  \n\n 10  EST_SALARY     10000 non-null  float64\n\n 11  churn          10000 non-null  int64  \n\ndtypes: float64(4), int64(6), object(2)\n\nmemory usage: 937.6+ KB\n"
        },
        {
          "output_type": "display_data",
          "data": {
            "text/html": [
              "<div>\n",
              "<style scoped>\n",
              "    .dataframe tbody tr th:only-of-type {\n",
              "        vertical-align: middle;\n",
              "    }\n",
              "\n",
              "    .dataframe tbody tr th {\n",
              "        vertical-align: top;\n",
              "    }\n",
              "\n",
              "    .dataframe thead th {\n",
              "        text-align: right;\n",
              "    }\n",
              "</style>\n",
              "<table border=\"1\" class=\"dataframe\">\n",
              "  <thead>\n",
              "    <tr style=\"text-align: right;\">\n",
              "      <th></th>\n",
              "      <th>USERID</th>\n",
              "      <th>score</th>\n",
              "      <th>city</th>\n",
              "      <th>gender</th>\n",
              "      <th>age</th>\n",
              "      <th>equity</th>\n",
              "      <th>balance</th>\n",
              "      <th>products</th>\n",
              "      <th>credit_card</th>\n",
              "      <th>last_activity</th>\n",
              "      <th>EST_SALARY</th>\n",
              "      <th>churn</th>\n",
              "    </tr>\n",
              "  </thead>\n",
              "  <tbody>\n",
              "    <tr>\n",
              "      <th>0</th>\n",
              "      <td>183012</td>\n",
              "      <td>850.0</td>\n",
              "      <td>Рыбинск</td>\n",
              "      <td>Ж</td>\n",
              "      <td>25.0</td>\n",
              "      <td>1</td>\n",
              "      <td>59214.82</td>\n",
              "      <td>2</td>\n",
              "      <td>0</td>\n",
              "      <td>1</td>\n",
              "      <td>75719.14</td>\n",
              "      <td>1</td>\n",
              "    </tr>\n",
              "    <tr>\n",
              "      <th>1</th>\n",
              "      <td>146556</td>\n",
              "      <td>861.0</td>\n",
              "      <td>Рыбинск</td>\n",
              "      <td>Ж</td>\n",
              "      <td>37.0</td>\n",
              "      <td>5</td>\n",
              "      <td>850594.33</td>\n",
              "      <td>3</td>\n",
              "      <td>1</td>\n",
              "      <td>0</td>\n",
              "      <td>86621.77</td>\n",
              "      <td>0</td>\n",
              "    </tr>\n",
              "    <tr>\n",
              "      <th>2</th>\n",
              "      <td>120722</td>\n",
              "      <td>892.0</td>\n",
              "      <td>Рыбинск</td>\n",
              "      <td>Ж</td>\n",
              "      <td>30.0</td>\n",
              "      <td>0</td>\n",
              "      <td>NaN</td>\n",
              "      <td>1</td>\n",
              "      <td>1</td>\n",
              "      <td>1</td>\n",
              "      <td>107683.34</td>\n",
              "      <td>0</td>\n",
              "    </tr>\n",
              "    <tr>\n",
              "      <th>3</th>\n",
              "      <td>225363</td>\n",
              "      <td>866.0</td>\n",
              "      <td>Ярославль</td>\n",
              "      <td>Ж</td>\n",
              "      <td>51.0</td>\n",
              "      <td>5</td>\n",
              "      <td>1524746.26</td>\n",
              "      <td>2</td>\n",
              "      <td>0</td>\n",
              "      <td>1</td>\n",
              "      <td>174423.53</td>\n",
              "      <td>1</td>\n",
              "    </tr>\n",
              "    <tr>\n",
              "      <th>4</th>\n",
              "      <td>157978</td>\n",
              "      <td>730.0</td>\n",
              "      <td>Ярославль</td>\n",
              "      <td>М</td>\n",
              "      <td>34.0</td>\n",
              "      <td>5</td>\n",
              "      <td>174.00</td>\n",
              "      <td>1</td>\n",
              "      <td>1</td>\n",
              "      <td>0</td>\n",
              "      <td>67353.16</td>\n",
              "      <td>1</td>\n",
              "    </tr>\n",
              "  </tbody>\n",
              "</table>\n",
              "</div>"
            ],
            "text/plain": [
              "   USERID  score       city gender   age  equity     balance  products  \\\n",
              "0  183012  850.0    Рыбинск      Ж  25.0       1    59214.82         2   \n",
              "1  146556  861.0    Рыбинск      Ж  37.0       5   850594.33         3   \n",
              "2  120722  892.0    Рыбинск      Ж  30.0       0         NaN         1   \n",
              "3  225363  866.0  Ярославль      Ж  51.0       5  1524746.26         2   \n",
              "4  157978  730.0  Ярославль      М  34.0       5      174.00         1   \n",
              "\n",
              "   credit_card  last_activity  EST_SALARY  churn  \n",
              "0            0              1    75719.14      1  \n",
              "1            1              0    86621.77      0  \n",
              "2            1              1   107683.34      0  \n",
              "3            0              1   174423.53      1  \n",
              "4            1              0    67353.16      1  "
            ]
          },
          "metadata": {}
        }
      ]
    },
    {
      "cell_type": "markdown",
      "source": "Имеем 10000 строк и 12 колонок. Имена колонок совпадают с описанием датасета и означают:\n- USERID - идентификатор пользователя,\n- score - баллы кредитного скоринга,\n- city - город,\n- gender - пол,\n- age - возраст,\n- equity - количество баллов собственности,\n- balance - баланс на счёте действующего клиента / баланс во время закрытия счета ушедшего клиента,\n- products - количество продуктов, которыми пользуется клиент,\n- credit_card - есть ли кредитная карта (1 - есть кредитная карта, 0 - нет карты),\n- last_activity - активный клиент (1 - активный, 0 - неактивный),\n- EST_SALARY - заработная плата клиента,\n- churn - ушёл или нет.",
      "metadata": {}
    },
    {
      "cell_type": "markdown",
      "source": "## Предобработка данных\nПриведем названия колонок к нижнему регистру.",
      "metadata": {}
    },
    {
      "cell_type": "code",
      "source": "data.columns = map(str.lower, data.columns)\ndata.info()",
      "metadata": {},
      "execution_count": 3,
      "outputs": [
        {
          "name": "stdout",
          "output_type": "stream",
          "text": "<class 'pandas.core.frame.DataFrame'>\n\nRangeIndex: 10000 entries, 0 to 9999\n\nData columns (total 12 columns):\n\n #   Column         Non-Null Count  Dtype  \n\n---  ------         --------------  -----  \n\n 0   userid         10000 non-null  int64  \n\n 1   score          10000 non-null  float64\n\n 2   city           10000 non-null  object \n\n 3   gender         10000 non-null  object \n\n 4   age            9974 non-null   float64\n\n 5   equity         10000 non-null  int64  \n\n 6   balance        7705 non-null   float64\n\n 7   products       10000 non-null  int64  \n\n 8   credit_card    10000 non-null  int64  \n\n 9   last_activity  10000 non-null  int64  \n\n 10  est_salary     10000 non-null  float64\n\n 11  churn          10000 non-null  int64  \n\ndtypes: float64(4), int64(6), object(2)\n\nmemory usage: 937.6+ KB\n"
        }
      ]
    },
    {
      "cell_type": "markdown",
      "source": "### Поиск и анализ пропусков\nПо общей информации наблюдаем пропуски в колонках с возрастом и балансом на счету. Посмотрим на строки, в которых пропущены данные по возрасту, и количество таких строк.",
      "metadata": {}
    },
    {
      "cell_type": "code",
      "source": "display(data[data['age'].isna()])",
      "metadata": {
        "scrolled": true
      },
      "execution_count": 4,
      "outputs": [
        {
          "output_type": "display_data",
          "data": {
            "text/html": [
              "<div>\n",
              "<style scoped>\n",
              "    .dataframe tbody tr th:only-of-type {\n",
              "        vertical-align: middle;\n",
              "    }\n",
              "\n",
              "    .dataframe tbody tr th {\n",
              "        vertical-align: top;\n",
              "    }\n",
              "\n",
              "    .dataframe thead th {\n",
              "        text-align: right;\n",
              "    }\n",
              "</style>\n",
              "<table border=\"1\" class=\"dataframe\">\n",
              "  <thead>\n",
              "    <tr style=\"text-align: right;\">\n",
              "      <th></th>\n",
              "      <th>userid</th>\n",
              "      <th>score</th>\n",
              "      <th>city</th>\n",
              "      <th>gender</th>\n",
              "      <th>age</th>\n",
              "      <th>equity</th>\n",
              "      <th>balance</th>\n",
              "      <th>products</th>\n",
              "      <th>credit_card</th>\n",
              "      <th>last_activity</th>\n",
              "      <th>est_salary</th>\n",
              "      <th>churn</th>\n",
              "    </tr>\n",
              "  </thead>\n",
              "  <tbody>\n",
              "    <tr>\n",
              "      <th>1247</th>\n",
              "      <td>228075</td>\n",
              "      <td>932.0</td>\n",
              "      <td>Ярославль</td>\n",
              "      <td>М</td>\n",
              "      <td>NaN</td>\n",
              "      <td>5</td>\n",
              "      <td>7601719.20</td>\n",
              "      <td>2</td>\n",
              "      <td>1</td>\n",
              "      <td>1</td>\n",
              "      <td>408121.16</td>\n",
              "      <td>0</td>\n",
              "    </tr>\n",
              "    <tr>\n",
              "      <th>2165</th>\n",
              "      <td>187635</td>\n",
              "      <td>692.0</td>\n",
              "      <td>Рыбинск</td>\n",
              "      <td>Ж</td>\n",
              "      <td>NaN</td>\n",
              "      <td>0</td>\n",
              "      <td>NaN</td>\n",
              "      <td>1</td>\n",
              "      <td>1</td>\n",
              "      <td>1</td>\n",
              "      <td>160368.82</td>\n",
              "      <td>0</td>\n",
              "    </tr>\n",
              "    <tr>\n",
              "      <th>2444</th>\n",
              "      <td>221156</td>\n",
              "      <td>913.0</td>\n",
              "      <td>Ярославль</td>\n",
              "      <td>М</td>\n",
              "      <td>NaN</td>\n",
              "      <td>0</td>\n",
              "      <td>NaN</td>\n",
              "      <td>1</td>\n",
              "      <td>1</td>\n",
              "      <td>1</td>\n",
              "      <td>135693.24</td>\n",
              "      <td>0</td>\n",
              "    </tr>\n",
              "    <tr>\n",
              "      <th>3091</th>\n",
              "      <td>138660</td>\n",
              "      <td>836.0</td>\n",
              "      <td>Ростов</td>\n",
              "      <td>Ж</td>\n",
              "      <td>NaN</td>\n",
              "      <td>5</td>\n",
              "      <td>294315.53</td>\n",
              "      <td>2</td>\n",
              "      <td>0</td>\n",
              "      <td>1</td>\n",
              "      <td>63310.22</td>\n",
              "      <td>1</td>\n",
              "    </tr>\n",
              "    <tr>\n",
              "      <th>4912</th>\n",
              "      <td>210674</td>\n",
              "      <td>834.0</td>\n",
              "      <td>Рыбинск</td>\n",
              "      <td>М</td>\n",
              "      <td>NaN</td>\n",
              "      <td>1</td>\n",
              "      <td>238330.52</td>\n",
              "      <td>2</td>\n",
              "      <td>0</td>\n",
              "      <td>1</td>\n",
              "      <td>93775.06</td>\n",
              "      <td>0</td>\n",
              "    </tr>\n",
              "    <tr>\n",
              "      <th>5470</th>\n",
              "      <td>218868</td>\n",
              "      <td>827.0</td>\n",
              "      <td>Рыбинск</td>\n",
              "      <td>Ж</td>\n",
              "      <td>NaN</td>\n",
              "      <td>4</td>\n",
              "      <td>448959.07</td>\n",
              "      <td>2</td>\n",
              "      <td>1</td>\n",
              "      <td>1</td>\n",
              "      <td>67835.95</td>\n",
              "      <td>0</td>\n",
              "    </tr>\n",
              "    <tr>\n",
              "      <th>5495</th>\n",
              "      <td>151662</td>\n",
              "      <td>884.0</td>\n",
              "      <td>Рыбинск</td>\n",
              "      <td>Ж</td>\n",
              "      <td>NaN</td>\n",
              "      <td>0</td>\n",
              "      <td>NaN</td>\n",
              "      <td>1</td>\n",
              "      <td>1</td>\n",
              "      <td>1</td>\n",
              "      <td>137500.77</td>\n",
              "      <td>0</td>\n",
              "    </tr>\n",
              "    <tr>\n",
              "      <th>7236</th>\n",
              "      <td>210135</td>\n",
              "      <td>908.0</td>\n",
              "      <td>Рыбинск</td>\n",
              "      <td>Ж</td>\n",
              "      <td>NaN</td>\n",
              "      <td>4</td>\n",
              "      <td>1120340.31</td>\n",
              "      <td>3</td>\n",
              "      <td>1</td>\n",
              "      <td>1</td>\n",
              "      <td>85002.15</td>\n",
              "      <td>0</td>\n",
              "    </tr>\n",
              "    <tr>\n",
              "      <th>7248</th>\n",
              "      <td>219343</td>\n",
              "      <td>920.0</td>\n",
              "      <td>Рыбинск</td>\n",
              "      <td>Ж</td>\n",
              "      <td>NaN</td>\n",
              "      <td>0</td>\n",
              "      <td>NaN</td>\n",
              "      <td>1</td>\n",
              "      <td>1</td>\n",
              "      <td>0</td>\n",
              "      <td>159248.67</td>\n",
              "      <td>0</td>\n",
              "    </tr>\n",
              "    <tr>\n",
              "      <th>7345</th>\n",
              "      <td>184913</td>\n",
              "      <td>829.0</td>\n",
              "      <td>Ярославль</td>\n",
              "      <td>Ж</td>\n",
              "      <td>NaN</td>\n",
              "      <td>3</td>\n",
              "      <td>188648.77</td>\n",
              "      <td>2</td>\n",
              "      <td>0</td>\n",
              "      <td>1</td>\n",
              "      <td>75206.90</td>\n",
              "      <td>0</td>\n",
              "    </tr>\n",
              "    <tr>\n",
              "      <th>7409</th>\n",
              "      <td>214031</td>\n",
              "      <td>777.0</td>\n",
              "      <td>Ярославль</td>\n",
              "      <td>М</td>\n",
              "      <td>NaN</td>\n",
              "      <td>2</td>\n",
              "      <td>171510.23</td>\n",
              "      <td>1</td>\n",
              "      <td>1</td>\n",
              "      <td>1</td>\n",
              "      <td>75409.63</td>\n",
              "      <td>0</td>\n",
              "    </tr>\n",
              "    <tr>\n",
              "      <th>8015</th>\n",
              "      <td>198635</td>\n",
              "      <td>670.0</td>\n",
              "      <td>Ярославль</td>\n",
              "      <td>Ж</td>\n",
              "      <td>NaN</td>\n",
              "      <td>0</td>\n",
              "      <td>NaN</td>\n",
              "      <td>1</td>\n",
              "      <td>1</td>\n",
              "      <td>1</td>\n",
              "      <td>168699.33</td>\n",
              "      <td>0</td>\n",
              "    </tr>\n",
              "    <tr>\n",
              "      <th>8070</th>\n",
              "      <td>226550</td>\n",
              "      <td>940.0</td>\n",
              "      <td>Рыбинск</td>\n",
              "      <td>М</td>\n",
              "      <td>NaN</td>\n",
              "      <td>0</td>\n",
              "      <td>NaN</td>\n",
              "      <td>1</td>\n",
              "      <td>0</td>\n",
              "      <td>1</td>\n",
              "      <td>147696.95</td>\n",
              "      <td>0</td>\n",
              "    </tr>\n",
              "    <tr>\n",
              "      <th>8293</th>\n",
              "      <td>216848</td>\n",
              "      <td>930.0</td>\n",
              "      <td>Ярославль</td>\n",
              "      <td>М</td>\n",
              "      <td>NaN</td>\n",
              "      <td>0</td>\n",
              "      <td>NaN</td>\n",
              "      <td>1</td>\n",
              "      <td>1</td>\n",
              "      <td>1</td>\n",
              "      <td>199542.51</td>\n",
              "      <td>0</td>\n",
              "    </tr>\n",
              "    <tr>\n",
              "      <th>8385</th>\n",
              "      <td>206759</td>\n",
              "      <td>915.0</td>\n",
              "      <td>Рыбинск</td>\n",
              "      <td>М</td>\n",
              "      <td>NaN</td>\n",
              "      <td>0</td>\n",
              "      <td>NaN</td>\n",
              "      <td>1</td>\n",
              "      <td>1</td>\n",
              "      <td>0</td>\n",
              "      <td>71179.53</td>\n",
              "      <td>0</td>\n",
              "    </tr>\n",
              "    <tr>\n",
              "      <th>8449</th>\n",
              "      <td>210898</td>\n",
              "      <td>805.0</td>\n",
              "      <td>Ярославль</td>\n",
              "      <td>Ж</td>\n",
              "      <td>NaN</td>\n",
              "      <td>0</td>\n",
              "      <td>NaN</td>\n",
              "      <td>1</td>\n",
              "      <td>0</td>\n",
              "      <td>1</td>\n",
              "      <td>922080.25</td>\n",
              "      <td>0</td>\n",
              "    </tr>\n",
              "    <tr>\n",
              "      <th>8632</th>\n",
              "      <td>221197</td>\n",
              "      <td>893.0</td>\n",
              "      <td>Ярославль</td>\n",
              "      <td>М</td>\n",
              "      <td>NaN</td>\n",
              "      <td>0</td>\n",
              "      <td>NaN</td>\n",
              "      <td>1</td>\n",
              "      <td>1</td>\n",
              "      <td>0</td>\n",
              "      <td>173929.92</td>\n",
              "      <td>0</td>\n",
              "    </tr>\n",
              "    <tr>\n",
              "      <th>8785</th>\n",
              "      <td>127440</td>\n",
              "      <td>663.0</td>\n",
              "      <td>Ярославль</td>\n",
              "      <td>М</td>\n",
              "      <td>NaN</td>\n",
              "      <td>0</td>\n",
              "      <td>NaN</td>\n",
              "      <td>1</td>\n",
              "      <td>1</td>\n",
              "      <td>1</td>\n",
              "      <td>117197.56</td>\n",
              "      <td>0</td>\n",
              "    </tr>\n",
              "    <tr>\n",
              "      <th>9104</th>\n",
              "      <td>222480</td>\n",
              "      <td>776.0</td>\n",
              "      <td>Рыбинск</td>\n",
              "      <td>Ж</td>\n",
              "      <td>NaN</td>\n",
              "      <td>5</td>\n",
              "      <td>796735.09</td>\n",
              "      <td>1</td>\n",
              "      <td>1</td>\n",
              "      <td>1</td>\n",
              "      <td>55073.63</td>\n",
              "      <td>0</td>\n",
              "    </tr>\n",
              "    <tr>\n",
              "      <th>9301</th>\n",
              "      <td>202983</td>\n",
              "      <td>942.0</td>\n",
              "      <td>Рыбинск</td>\n",
              "      <td>Ж</td>\n",
              "      <td>NaN</td>\n",
              "      <td>0</td>\n",
              "      <td>NaN</td>\n",
              "      <td>1</td>\n",
              "      <td>1</td>\n",
              "      <td>1</td>\n",
              "      <td>163804.73</td>\n",
              "      <td>0</td>\n",
              "    </tr>\n",
              "    <tr>\n",
              "      <th>9380</th>\n",
              "      <td>187459</td>\n",
              "      <td>894.0</td>\n",
              "      <td>Рыбинск</td>\n",
              "      <td>М</td>\n",
              "      <td>NaN</td>\n",
              "      <td>0</td>\n",
              "      <td>NaN</td>\n",
              "      <td>1</td>\n",
              "      <td>1</td>\n",
              "      <td>0</td>\n",
              "      <td>178012.28</td>\n",
              "      <td>0</td>\n",
              "    </tr>\n",
              "    <tr>\n",
              "      <th>9457</th>\n",
              "      <td>141945</td>\n",
              "      <td>929.0</td>\n",
              "      <td>Ярославль</td>\n",
              "      <td>М</td>\n",
              "      <td>NaN</td>\n",
              "      <td>0</td>\n",
              "      <td>NaN</td>\n",
              "      <td>1</td>\n",
              "      <td>1</td>\n",
              "      <td>0</td>\n",
              "      <td>381868.89</td>\n",
              "      <td>0</td>\n",
              "    </tr>\n",
              "    <tr>\n",
              "      <th>9632</th>\n",
              "      <td>185829</td>\n",
              "      <td>927.0</td>\n",
              "      <td>Ярославль</td>\n",
              "      <td>М</td>\n",
              "      <td>NaN</td>\n",
              "      <td>0</td>\n",
              "      <td>NaN</td>\n",
              "      <td>1</td>\n",
              "      <td>1</td>\n",
              "      <td>0</td>\n",
              "      <td>231254.86</td>\n",
              "      <td>0</td>\n",
              "    </tr>\n",
              "    <tr>\n",
              "      <th>9634</th>\n",
              "      <td>221809</td>\n",
              "      <td>917.0</td>\n",
              "      <td>Ярославль</td>\n",
              "      <td>М</td>\n",
              "      <td>NaN</td>\n",
              "      <td>0</td>\n",
              "      <td>NaN</td>\n",
              "      <td>1</td>\n",
              "      <td>1</td>\n",
              "      <td>1</td>\n",
              "      <td>192644.15</td>\n",
              "      <td>0</td>\n",
              "    </tr>\n",
              "    <tr>\n",
              "      <th>9667</th>\n",
              "      <td>163657</td>\n",
              "      <td>849.0</td>\n",
              "      <td>Ярославль</td>\n",
              "      <td>М</td>\n",
              "      <td>NaN</td>\n",
              "      <td>4</td>\n",
              "      <td>1254013.85</td>\n",
              "      <td>2</td>\n",
              "      <td>1</td>\n",
              "      <td>1</td>\n",
              "      <td>119106.67</td>\n",
              "      <td>0</td>\n",
              "    </tr>\n",
              "    <tr>\n",
              "      <th>9819</th>\n",
              "      <td>140934</td>\n",
              "      <td>832.0</td>\n",
              "      <td>Рыбинск</td>\n",
              "      <td>Ж</td>\n",
              "      <td>NaN</td>\n",
              "      <td>3</td>\n",
              "      <td>385763.16</td>\n",
              "      <td>2</td>\n",
              "      <td>0</td>\n",
              "      <td>1</td>\n",
              "      <td>59651.35</td>\n",
              "      <td>0</td>\n",
              "    </tr>\n",
              "  </tbody>\n",
              "</table>\n",
              "</div>"
            ],
            "text/plain": [
              "      userid  score       city gender  age  equity     balance  products  \\\n",
              "1247  228075  932.0  Ярославль      М  NaN       5  7601719.20         2   \n",
              "2165  187635  692.0    Рыбинск      Ж  NaN       0         NaN         1   \n",
              "2444  221156  913.0  Ярославль      М  NaN       0         NaN         1   \n",
              "3091  138660  836.0     Ростов      Ж  NaN       5   294315.53         2   \n",
              "4912  210674  834.0    Рыбинск      М  NaN       1   238330.52         2   \n",
              "5470  218868  827.0    Рыбинск      Ж  NaN       4   448959.07         2   \n",
              "5495  151662  884.0    Рыбинск      Ж  NaN       0         NaN         1   \n",
              "7236  210135  908.0    Рыбинск      Ж  NaN       4  1120340.31         3   \n",
              "7248  219343  920.0    Рыбинск      Ж  NaN       0         NaN         1   \n",
              "7345  184913  829.0  Ярославль      Ж  NaN       3   188648.77         2   \n",
              "7409  214031  777.0  Ярославль      М  NaN       2   171510.23         1   \n",
              "8015  198635  670.0  Ярославль      Ж  NaN       0         NaN         1   \n",
              "8070  226550  940.0    Рыбинск      М  NaN       0         NaN         1   \n",
              "8293  216848  930.0  Ярославль      М  NaN       0         NaN         1   \n",
              "8385  206759  915.0    Рыбинск      М  NaN       0         NaN         1   \n",
              "8449  210898  805.0  Ярославль      Ж  NaN       0         NaN         1   \n",
              "8632  221197  893.0  Ярославль      М  NaN       0         NaN         1   \n",
              "8785  127440  663.0  Ярославль      М  NaN       0         NaN         1   \n",
              "9104  222480  776.0    Рыбинск      Ж  NaN       5   796735.09         1   \n",
              "9301  202983  942.0    Рыбинск      Ж  NaN       0         NaN         1   \n",
              "9380  187459  894.0    Рыбинск      М  NaN       0         NaN         1   \n",
              "9457  141945  929.0  Ярославль      М  NaN       0         NaN         1   \n",
              "9632  185829  927.0  Ярославль      М  NaN       0         NaN         1   \n",
              "9634  221809  917.0  Ярославль      М  NaN       0         NaN         1   \n",
              "9667  163657  849.0  Ярославль      М  NaN       4  1254013.85         2   \n",
              "9819  140934  832.0    Рыбинск      Ж  NaN       3   385763.16         2   \n",
              "\n",
              "      credit_card  last_activity  est_salary  churn  \n",
              "1247            1              1   408121.16      0  \n",
              "2165            1              1   160368.82      0  \n",
              "2444            1              1   135693.24      0  \n",
              "3091            0              1    63310.22      1  \n",
              "4912            0              1    93775.06      0  \n",
              "5470            1              1    67835.95      0  \n",
              "5495            1              1   137500.77      0  \n",
              "7236            1              1    85002.15      0  \n",
              "7248            1              0   159248.67      0  \n",
              "7345            0              1    75206.90      0  \n",
              "7409            1              1    75409.63      0  \n",
              "8015            1              1   168699.33      0  \n",
              "8070            0              1   147696.95      0  \n",
              "8293            1              1   199542.51      0  \n",
              "8385            1              0    71179.53      0  \n",
              "8449            0              1   922080.25      0  \n",
              "8632            1              0   173929.92      0  \n",
              "8785            1              1   117197.56      0  \n",
              "9104            1              1    55073.63      0  \n",
              "9301            1              1   163804.73      0  \n",
              "9380            1              0   178012.28      0  \n",
              "9457            1              0   381868.89      0  \n",
              "9632            1              0   231254.86      0  \n",
              "9634            1              1   192644.15      0  \n",
              "9667            1              1   119106.67      0  \n",
              "9819            0              1    59651.35      0  "
            ]
          },
          "metadata": {}
        }
      ]
    },
    {
      "cell_type": "code",
      "source": "print('Количество строк с пропущенным возрастом:', data['age'].isna().sum())\nprint('Количество строк с пропущенным возрастом в процентах от общего числа строк:',\n      data['age'].isna().sum() / data.shape[0] * 100, '%')",
      "metadata": {},
      "execution_count": 5,
      "outputs": [
        {
          "name": "stdout",
          "output_type": "stream",
          "text": "Количество строк с пропущенным возрастом: 26\n\nКоличество строк с пропущенным возрастом в процентах от общего числа строк: 0.26 %\n"
        }
      ]
    },
    {
      "cell_type": "markdown",
      "source": "Данные по возрасту достоверно заполнить не можем. Среди выведенных строк только одна принадлежит клиенту, который ушел. Вдобавок, данные строки составляют всего 0.26% от общих данных, что позволяет исключить их, незначительно теряя в количестве данных.",
      "metadata": {}
    },
    {
      "cell_type": "code",
      "source": "data = data.dropna(subset=['age'])\ndata.info()",
      "metadata": {},
      "execution_count": 6,
      "outputs": [
        {
          "name": "stdout",
          "output_type": "stream",
          "text": "<class 'pandas.core.frame.DataFrame'>\n\nInt64Index: 9974 entries, 0 to 9999\n\nData columns (total 12 columns):\n\n #   Column         Non-Null Count  Dtype  \n\n---  ------         --------------  -----  \n\n 0   userid         9974 non-null   int64  \n\n 1   score          9974 non-null   float64\n\n 2   city           9974 non-null   object \n\n 3   gender         9974 non-null   object \n\n 4   age            9974 non-null   float64\n\n 5   equity         9974 non-null   int64  \n\n 6   balance        7695 non-null   float64\n\n 7   products       9974 non-null   int64  \n\n 8   credit_card    9974 non-null   int64  \n\n 9   last_activity  9974 non-null   int64  \n\n 10  est_salary     9974 non-null   float64\n\n 11  churn          9974 non-null   int64  \n\ndtypes: float64(4), int64(6), object(2)\n\nmemory usage: 1013.0+ KB\n"
        }
      ]
    },
    {
      "cell_type": "markdown",
      "source": "Посчитаем количество строк с пропущенными балансами.",
      "metadata": {}
    },
    {
      "cell_type": "code",
      "source": "print('Количество строк с пропущенным балансом:', data['balance'].isna().sum())\nprint('Количество строк с пропущенным балансом в процентах от общего числа строк:',\n      round(data['balance'].isna().sum() / data.shape[0] * 100, 2), '%')",
      "metadata": {},
      "execution_count": 7,
      "outputs": [
        {
          "name": "stdout",
          "output_type": "stream",
          "text": "Количество строк с пропущенным балансом: 2279\n\nКоличество строк с пропущенным балансом в процентах от общего числа строк: 22.85 %\n"
        }
      ]
    },
    {
      "cell_type": "markdown",
      "source": "Достоверно заполнить пропуски не можем, а исключить нельзя, так как количество пропущенных строк составляет 22.85% от общего числа строк, что является существенной долей. Оставляем данные пропуски как есть.\n\nНа этом поиск и анализ пропусков завершен.",
      "metadata": {}
    },
    {
      "cell_type": "markdown",
      "source": "### Поиск и анализ дубликатов\nПосчитаем явные дубликаты по всем столбцам",
      "metadata": {}
    },
    {
      "cell_type": "code",
      "source": "print('Количество явных дубликатов:', data.duplicated().sum())",
      "metadata": {},
      "execution_count": 8,
      "outputs": [
        {
          "name": "stdout",
          "output_type": "stream",
          "text": "Количество явных дубликатов: 0\n"
        }
      ]
    },
    {
      "cell_type": "markdown",
      "source": "Проверим столбец userid. По логике, идентификаторы должны быть индивидуальными и не должны совпадать.",
      "metadata": {}
    },
    {
      "cell_type": "code",
      "source": "print('Количество дубликатов в столбце userid:', data.duplicated(subset=['userid']).sum())",
      "metadata": {},
      "execution_count": 9,
      "outputs": [
        {
          "name": "stdout",
          "output_type": "stream",
          "text": "Количество дубликатов в столбце userid: 50\n"
        }
      ]
    },
    {
      "cell_type": "markdown",
      "source": "Посомотрим на данные строки:",
      "metadata": {}
    },
    {
      "cell_type": "code",
      "source": "duplicated_userid = data[data.duplicated(subset=['userid'])]['userid']\ndisplay(data[data['userid'].isin(duplicated_userid)].sort_values(by='userid').head(15))\n\n#display(data[data.duplicated(subset=['userid'])].sort_values(by='userid'))",
      "metadata": {
        "scrolled": true
      },
      "execution_count": 10,
      "outputs": [
        {
          "output_type": "display_data",
          "data": {
            "text/html": [
              "<div>\n",
              "<style scoped>\n",
              "    .dataframe tbody tr th:only-of-type {\n",
              "        vertical-align: middle;\n",
              "    }\n",
              "\n",
              "    .dataframe tbody tr th {\n",
              "        vertical-align: top;\n",
              "    }\n",
              "\n",
              "    .dataframe thead th {\n",
              "        text-align: right;\n",
              "    }\n",
              "</style>\n",
              "<table border=\"1\" class=\"dataframe\">\n",
              "  <thead>\n",
              "    <tr style=\"text-align: right;\">\n",
              "      <th></th>\n",
              "      <th>userid</th>\n",
              "      <th>score</th>\n",
              "      <th>city</th>\n",
              "      <th>gender</th>\n",
              "      <th>age</th>\n",
              "      <th>equity</th>\n",
              "      <th>balance</th>\n",
              "      <th>products</th>\n",
              "      <th>credit_card</th>\n",
              "      <th>last_activity</th>\n",
              "      <th>est_salary</th>\n",
              "      <th>churn</th>\n",
              "    </tr>\n",
              "  </thead>\n",
              "  <tbody>\n",
              "    <tr>\n",
              "      <th>1893</th>\n",
              "      <td>116540</td>\n",
              "      <td>883.0</td>\n",
              "      <td>Рыбинск</td>\n",
              "      <td>Ж</td>\n",
              "      <td>55.0</td>\n",
              "      <td>1</td>\n",
              "      <td>362756.49</td>\n",
              "      <td>3</td>\n",
              "      <td>0</td>\n",
              "      <td>1</td>\n",
              "      <td>175920.48</td>\n",
              "      <td>1</td>\n",
              "    </tr>\n",
              "    <tr>\n",
              "      <th>7694</th>\n",
              "      <td>116540</td>\n",
              "      <td>887.0</td>\n",
              "      <td>Ярославль</td>\n",
              "      <td>Ж</td>\n",
              "      <td>38.0</td>\n",
              "      <td>0</td>\n",
              "      <td>NaN</td>\n",
              "      <td>1</td>\n",
              "      <td>0</td>\n",
              "      <td>1</td>\n",
              "      <td>119247.61</td>\n",
              "      <td>0</td>\n",
              "    </tr>\n",
              "    <tr>\n",
              "      <th>4866</th>\n",
              "      <td>117943</td>\n",
              "      <td>855.0</td>\n",
              "      <td>Рыбинск</td>\n",
              "      <td>Ж</td>\n",
              "      <td>32.0</td>\n",
              "      <td>6</td>\n",
              "      <td>1036832.93</td>\n",
              "      <td>4</td>\n",
              "      <td>1</td>\n",
              "      <td>1</td>\n",
              "      <td>107792.71</td>\n",
              "      <td>1</td>\n",
              "    </tr>\n",
              "    <tr>\n",
              "      <th>7542</th>\n",
              "      <td>117943</td>\n",
              "      <td>880.0</td>\n",
              "      <td>Ярославль</td>\n",
              "      <td>Ж</td>\n",
              "      <td>40.0</td>\n",
              "      <td>0</td>\n",
              "      <td>NaN</td>\n",
              "      <td>1</td>\n",
              "      <td>1</td>\n",
              "      <td>0</td>\n",
              "      <td>137718.93</td>\n",
              "      <td>0</td>\n",
              "    </tr>\n",
              "    <tr>\n",
              "      <th>5863</th>\n",
              "      <td>120258</td>\n",
              "      <td>908.0</td>\n",
              "      <td>Рыбинск</td>\n",
              "      <td>Ж</td>\n",
              "      <td>38.0</td>\n",
              "      <td>4</td>\n",
              "      <td>2213581.63</td>\n",
              "      <td>2</td>\n",
              "      <td>0</td>\n",
              "      <td>1</td>\n",
              "      <td>160327.77</td>\n",
              "      <td>1</td>\n",
              "    </tr>\n",
              "    <tr>\n",
              "      <th>5896</th>\n",
              "      <td>120258</td>\n",
              "      <td>905.0</td>\n",
              "      <td>Ярославль</td>\n",
              "      <td>М</td>\n",
              "      <td>30.0</td>\n",
              "      <td>0</td>\n",
              "      <td>NaN</td>\n",
              "      <td>1</td>\n",
              "      <td>1</td>\n",
              "      <td>1</td>\n",
              "      <td>146427.96</td>\n",
              "      <td>0</td>\n",
              "    </tr>\n",
              "    <tr>\n",
              "      <th>1411</th>\n",
              "      <td>123461</td>\n",
              "      <td>829.0</td>\n",
              "      <td>Ярославль</td>\n",
              "      <td>Ж</td>\n",
              "      <td>59.0</td>\n",
              "      <td>0</td>\n",
              "      <td>96222.44</td>\n",
              "      <td>2</td>\n",
              "      <td>0</td>\n",
              "      <td>1</td>\n",
              "      <td>102771.55</td>\n",
              "      <td>1</td>\n",
              "    </tr>\n",
              "    <tr>\n",
              "      <th>8638</th>\n",
              "      <td>123461</td>\n",
              "      <td>934.0</td>\n",
              "      <td>Рыбинск</td>\n",
              "      <td>М</td>\n",
              "      <td>34.0</td>\n",
              "      <td>0</td>\n",
              "      <td>NaN</td>\n",
              "      <td>2</td>\n",
              "      <td>1</td>\n",
              "      <td>0</td>\n",
              "      <td>291619.27</td>\n",
              "      <td>0</td>\n",
              "    </tr>\n",
              "    <tr>\n",
              "      <th>9775</th>\n",
              "      <td>124450</td>\n",
              "      <td>758.0</td>\n",
              "      <td>Рыбинск</td>\n",
              "      <td>Ж</td>\n",
              "      <td>36.0</td>\n",
              "      <td>0</td>\n",
              "      <td>73574.07</td>\n",
              "      <td>2</td>\n",
              "      <td>0</td>\n",
              "      <td>1</td>\n",
              "      <td>79963.59</td>\n",
              "      <td>0</td>\n",
              "    </tr>\n",
              "    <tr>\n",
              "      <th>8164</th>\n",
              "      <td>124450</td>\n",
              "      <td>859.0</td>\n",
              "      <td>Ярославль</td>\n",
              "      <td>Ж</td>\n",
              "      <td>38.0</td>\n",
              "      <td>6</td>\n",
              "      <td>516811.20</td>\n",
              "      <td>1</td>\n",
              "      <td>1</td>\n",
              "      <td>1</td>\n",
              "      <td>95144.63</td>\n",
              "      <td>1</td>\n",
              "    </tr>\n",
              "    <tr>\n",
              "      <th>4850</th>\n",
              "      <td>126368</td>\n",
              "      <td>909.0</td>\n",
              "      <td>Ярославль</td>\n",
              "      <td>Ж</td>\n",
              "      <td>30.0</td>\n",
              "      <td>4</td>\n",
              "      <td>1322623.29</td>\n",
              "      <td>2</td>\n",
              "      <td>0</td>\n",
              "      <td>1</td>\n",
              "      <td>140675.66</td>\n",
              "      <td>1</td>\n",
              "    </tr>\n",
              "    <tr>\n",
              "      <th>5420</th>\n",
              "      <td>126368</td>\n",
              "      <td>832.0</td>\n",
              "      <td>Рыбинск</td>\n",
              "      <td>Ж</td>\n",
              "      <td>33.0</td>\n",
              "      <td>0</td>\n",
              "      <td>NaN</td>\n",
              "      <td>1</td>\n",
              "      <td>0</td>\n",
              "      <td>0</td>\n",
              "      <td>118465.34</td>\n",
              "      <td>0</td>\n",
              "    </tr>\n",
              "    <tr>\n",
              "      <th>3988</th>\n",
              "      <td>129785</td>\n",
              "      <td>904.0</td>\n",
              "      <td>Рыбинск</td>\n",
              "      <td>М</td>\n",
              "      <td>33.0</td>\n",
              "      <td>5</td>\n",
              "      <td>2427737.60</td>\n",
              "      <td>3</td>\n",
              "      <td>0</td>\n",
              "      <td>1</td>\n",
              "      <td>188856.75</td>\n",
              "      <td>1</td>\n",
              "    </tr>\n",
              "    <tr>\n",
              "      <th>9504</th>\n",
              "      <td>129785</td>\n",
              "      <td>949.0</td>\n",
              "      <td>Ярославль</td>\n",
              "      <td>М</td>\n",
              "      <td>43.0</td>\n",
              "      <td>0</td>\n",
              "      <td>NaN</td>\n",
              "      <td>1</td>\n",
              "      <td>1</td>\n",
              "      <td>1</td>\n",
              "      <td>166845.37</td>\n",
              "      <td>0</td>\n",
              "    </tr>\n",
              "    <tr>\n",
              "      <th>2138</th>\n",
              "      <td>131419</td>\n",
              "      <td>739.0</td>\n",
              "      <td>Рыбинск</td>\n",
              "      <td>Ж</td>\n",
              "      <td>37.0</td>\n",
              "      <td>3</td>\n",
              "      <td>1307941.65</td>\n",
              "      <td>3</td>\n",
              "      <td>0</td>\n",
              "      <td>0</td>\n",
              "      <td>103867.47</td>\n",
              "      <td>0</td>\n",
              "    </tr>\n",
              "  </tbody>\n",
              "</table>\n",
              "</div>"
            ],
            "text/plain": [
              "      userid  score       city gender   age  equity     balance  products  \\\n",
              "1893  116540  883.0    Рыбинск      Ж  55.0       1   362756.49         3   \n",
              "7694  116540  887.0  Ярославль      Ж  38.0       0         NaN         1   \n",
              "4866  117943  855.0    Рыбинск      Ж  32.0       6  1036832.93         4   \n",
              "7542  117943  880.0  Ярославль      Ж  40.0       0         NaN         1   \n",
              "5863  120258  908.0    Рыбинск      Ж  38.0       4  2213581.63         2   \n",
              "5896  120258  905.0  Ярославль      М  30.0       0         NaN         1   \n",
              "1411  123461  829.0  Ярославль      Ж  59.0       0    96222.44         2   \n",
              "8638  123461  934.0    Рыбинск      М  34.0       0         NaN         2   \n",
              "9775  124450  758.0    Рыбинск      Ж  36.0       0    73574.07         2   \n",
              "8164  124450  859.0  Ярославль      Ж  38.0       6   516811.20         1   \n",
              "4850  126368  909.0  Ярославль      Ж  30.0       4  1322623.29         2   \n",
              "5420  126368  832.0    Рыбинск      Ж  33.0       0         NaN         1   \n",
              "3988  129785  904.0    Рыбинск      М  33.0       5  2427737.60         3   \n",
              "9504  129785  949.0  Ярославль      М  43.0       0         NaN         1   \n",
              "2138  131419  739.0    Рыбинск      Ж  37.0       3  1307941.65         3   \n",
              "\n",
              "      credit_card  last_activity  est_salary  churn  \n",
              "1893            0              1   175920.48      1  \n",
              "7694            0              1   119247.61      0  \n",
              "4866            1              1   107792.71      1  \n",
              "7542            1              0   137718.93      0  \n",
              "5863            0              1   160327.77      1  \n",
              "5896            1              1   146427.96      0  \n",
              "1411            0              1   102771.55      1  \n",
              "8638            1              0   291619.27      0  \n",
              "9775            0              1    79963.59      0  \n",
              "8164            1              1    95144.63      1  \n",
              "4850            0              1   140675.66      1  \n",
              "5420            0              0   118465.34      0  \n",
              "3988            0              1   188856.75      1  \n",
              "9504            1              1   166845.37      0  \n",
              "2138            0              0   103867.47      0  "
            ]
          },
          "metadata": {}
        }
      ]
    },
    {
      "cell_type": "markdown",
      "source": "Видим, что строки с дублированными userid принадлежат разным клиентам. Как видно из первых строк, это произошло из-за того, что userid присваивался клиетам, не учитывая уже присвоенные идентификаторы в других городах. Оставляем данные дубликаты как есть.\n\nПроверим неявные дубликаты в единственнмо столбце, где они могли остаться - в столбце с городами. Посмотрим уникальные значения этого столбца.",
      "metadata": {}
    },
    {
      "cell_type": "code",
      "source": "print(data['city'].unique())",
      "metadata": {},
      "execution_count": 11,
      "outputs": [
        {
          "name": "stdout",
          "output_type": "stream",
          "text": "['Рыбинск' 'Ярославль' 'Ростов']\n"
        }
      ]
    },
    {
      "cell_type": "markdown",
      "source": "Явных и неявных дубликатов не обнаружено. На этом поиск и анализ дубликатов завершен.",
      "metadata": {}
    },
    {
      "cell_type": "markdown",
      "source": "### Приведение столбцов к нужным типам данных\nСреди имеющихся столбцов почти везде тип данных подходит для исследования. В столбце со скорингом в выборке наблюдаются целые числа, но это не означает, что среди них нет вещественных. А вот в столбце с возрастом по идее должны быть целые (даже натуральные) числа, поэтому для оптимизации использования памяти приведем его к типу данных int, хоть датасет в принципе не занимает особо много места.",
      "metadata": {}
    },
    {
      "cell_type": "code",
      "source": "data['age'] = data['age'].astype('int')\ndata.info()",
      "metadata": {},
      "execution_count": 12,
      "outputs": [
        {
          "name": "stdout",
          "output_type": "stream",
          "text": "<class 'pandas.core.frame.DataFrame'>\n\nInt64Index: 9974 entries, 0 to 9999\n\nData columns (total 12 columns):\n\n #   Column         Non-Null Count  Dtype  \n\n---  ------         --------------  -----  \n\n 0   userid         9974 non-null   int64  \n\n 1   score          9974 non-null   float64\n\n 2   city           9974 non-null   object \n\n 3   gender         9974 non-null   object \n\n 4   age            9974 non-null   int64  \n\n 5   equity         9974 non-null   int64  \n\n 6   balance        7695 non-null   float64\n\n 7   products       9974 non-null   int64  \n\n 8   credit_card    9974 non-null   int64  \n\n 9   last_activity  9974 non-null   int64  \n\n 10  est_salary     9974 non-null   float64\n\n 11  churn          9974 non-null   int64  \n\ndtypes: float64(3), int64(7), object(2)\n\nmemory usage: 1013.0+ KB\n"
        }
      ]
    },
    {
      "cell_type": "markdown",
      "source": "**Промежуточый вывод**\n\nПроизведен поиск и анализ пропусков, явных и неявных дубликатов, исключено 26 строк из 10000, столбцы приведены к нужному типу данных. Предобработка данных завершена.",
      "metadata": {}
    },
    {
      "cell_type": "markdown",
      "source": "## Исследовательский анализ\nДля начала посмотрим на соотношение действующих и ушедших клиентов, затем по порядку и посмотрим взаимосвязь между столбцами и показателем ухода. Так как показатель ухода клиента - это качественный показатель, будем сначала смотреть на распределения и нормализованные распределения.\n",
      "metadata": {}
    },
    {
      "cell_type": "code",
      "source": "# Строим сводную таблицу\nchurn_rate = data.pivot_table(\n    index='churn', values='userid', aggfunc='count').sort_values(by='churn', ascending=True).reset_index()\nchurn_rate.columns = ['churn', 'count']\ndisplay(churn_rate)\n\nprint('Процент ушедших от общего числа клиентов:',\n     round(churn_rate.loc[1, 'count'] / churn_rate['count'].sum() * 100, 2), '%')\n\n# Строим график\nplt.figure(figsize=(7, 7))\nplt.bar(churn_rate['churn'], churn_rate['count'])\nplt.title('Распределение действующих и ушедших клиентов', size=12)\nplt.xlabel('Показатель ухода', size=12)\nplt.ylabel('Количество клиентов', size=12)\nplt.xticks(churn_rate['churn'])\nplt.show()",
      "metadata": {},
      "execution_count": 13,
      "outputs": [
        {
          "output_type": "display_data",
          "data": {
            "text/html": [
              "<div>\n",
              "<style scoped>\n",
              "    .dataframe tbody tr th:only-of-type {\n",
              "        vertical-align: middle;\n",
              "    }\n",
              "\n",
              "    .dataframe tbody tr th {\n",
              "        vertical-align: top;\n",
              "    }\n",
              "\n",
              "    .dataframe thead th {\n",
              "        text-align: right;\n",
              "    }\n",
              "</style>\n",
              "<table border=\"1\" class=\"dataframe\">\n",
              "  <thead>\n",
              "    <tr style=\"text-align: right;\">\n",
              "      <th></th>\n",
              "      <th>churn</th>\n",
              "      <th>count</th>\n",
              "    </tr>\n",
              "  </thead>\n",
              "  <tbody>\n",
              "    <tr>\n",
              "      <th>0</th>\n",
              "      <td>0</td>\n",
              "      <td>8155</td>\n",
              "    </tr>\n",
              "    <tr>\n",
              "      <th>1</th>\n",
              "      <td>1</td>\n",
              "      <td>1819</td>\n",
              "    </tr>\n",
              "  </tbody>\n",
              "</table>\n",
              "</div>"
            ],
            "text/plain": [
              "   churn  count\n",
              "0      0   8155\n",
              "1      1   1819"
            ]
          },
          "metadata": {}
        },
        {
          "name": "stdout",
          "output_type": "stream",
          "text": "Процент ушедших от общего числа клиентов: 18.24 %\n"
        },
        {
          "output_type": "display_data",
          "data": {
            "image/png": "[encoded data removed]",
            "text/plain": [
              "<Figure size 504x504 with 1 Axes>"
            ]
          },
          "metadata": {
            "needs_background": "light"
          }
        }
      ]
    },
    {
      "cell_type": "markdown",
      "source": "18.24 % - довольно существенная часть клиентов. При выделении сегментов, данное число будет ориентиром.",
      "metadata": {}
    },
    {
      "cell_type": "markdown",
      "source": "### Показатель скоринга\nПостроим распределение и нормализованные распределение по баллам скоринга.",
      "metadata": {}
    },
    {
      "cell_type": "code",
      "source": "plt.figure(figsize=(10, 7))\nplt.hist(data[data['churn']==0]['score'], bins=100, alpha=0.5, label='Действующие клиенты')\nplt.hist(data[data['churn']==1]['score'], bins=100, alpha=0.5, label='Ушедшие клиенты')\nplt.title('Распределение клиентов по баллам скоринга', size=12)\nplt.xlabel('Баллы скоринга', size=12)\nplt.ylabel('Количество клиентов', size=12)\nplt.legend(loc='upper left')\nplt.show()",
      "metadata": {},
      "execution_count": 14,
      "outputs": [
        {
          "output_type": "display_data",
          "data": {
            "image/png": "[encoded data removed]",
            "text/plain": [
              "<Figure size 720x504 with 1 Axes>"
            ]
          },
          "metadata": {
            "needs_background": "light"
          }
        }
      ]
    },
    {
      "cell_type": "code",
      "source": "plt.figure(figsize=(10, 7))\nsns.histplot(data=data, hue='churn', x='score', stat='density', common_norm=False, palette='flag')\nplt.title('Нормализованное распределение клиентов по баллам скоринга', size=12)\nplt.xlabel('Баллы скоринга', size=12)\nplt.ylabel('Плотность вероятности', size=12)\nplt.legend(loc='upper left', labels=['Ушедшие клиенты', 'Действующие клиенты'])\nplt.show()",
      "metadata": {},
      "execution_count": 15,
      "outputs": [
        {
          "output_type": "display_data",
          "data": {
            "image/png": "[encoded data removed]",
            "text/plain": [
              "<Figure size 720x504 with 1 Axes>"
            ]
          },
          "metadata": {
            "needs_background": "light"
          }
        }
      ]
    },
    {
      "cell_type": "markdown",
      "source": "Наблюдаем, что по баллам скоринга имеется диапазон примерно от 820 до 900 баллов, где плотность вероятности оттока клиентов больше, чем у действующих. Выделим этих клиентов и посмотрим отток в процентах.",
      "metadata": {}
    },
    {
      "cell_type": "code",
      "source": "# Строим сводную таблицу\nsegment_churn_rate = data[(data['score']>=820) & (data['score']<=900)].pivot_table(\n    index='churn', values='userid', aggfunc='count').sort_values(by='churn', ascending=True).reset_index()\nsegment_churn_rate.columns = ['churn', 'count']\ndisplay(segment_churn_rate)\n\nprint('Процент ушедших от общего числа клиентов в сегменте:',\n     round(segment_churn_rate.loc[1, 'count'] / segment_churn_rate['count'].sum() * 100, 2), '%')",
      "metadata": {},
      "execution_count": 16,
      "outputs": [
        {
          "output_type": "display_data",
          "data": {
            "text/html": [
              "<div>\n",
              "<style scoped>\n",
              "    .dataframe tbody tr th:only-of-type {\n",
              "        vertical-align: middle;\n",
              "    }\n",
              "\n",
              "    .dataframe tbody tr th {\n",
              "        vertical-align: top;\n",
              "    }\n",
              "\n",
              "    .dataframe thead th {\n",
              "        text-align: right;\n",
              "    }\n",
              "</style>\n",
              "<table border=\"1\" class=\"dataframe\">\n",
              "  <thead>\n",
              "    <tr style=\"text-align: right;\">\n",
              "      <th></th>\n",
              "      <th>churn</th>\n",
              "      <th>count</th>\n",
              "    </tr>\n",
              "  </thead>\n",
              "  <tbody>\n",
              "    <tr>\n",
              "      <th>0</th>\n",
              "      <td>0</td>\n",
              "      <td>3168</td>\n",
              "    </tr>\n",
              "    <tr>\n",
              "      <th>1</th>\n",
              "      <td>1</td>\n",
              "      <td>1035</td>\n",
              "    </tr>\n",
              "  </tbody>\n",
              "</table>\n",
              "</div>"
            ],
            "text/plain": [
              "   churn  count\n",
              "0      0   3168\n",
              "1      1   1035"
            ]
          },
          "metadata": {}
        },
        {
          "name": "stdout",
          "output_type": "stream",
          "text": "Процент ушедших от общего числа клиентов в сегменте: 24.63 %\n"
        }
      ]
    },
    {
      "cell_type": "markdown",
      "source": "В выделенном сегменте почти четверть клиентов ушла, а среди оставшихся - чуть более 3000 человек.",
      "metadata": {}
    },
    {
      "cell_type": "markdown",
      "source": "### Города\nПостроим распределение и нормализованные распределение по городам.",
      "metadata": {}
    },
    {
      "cell_type": "code",
      "source": "# Строим сводную таблицу\nchurn_cities = data.pivot_table(\n    index='city', columns='churn', values='userid', aggfunc='count').reset_index()\nchurn_cities.columns = ['city', 'stay', 'churn']\nchurn_cities['all'] = churn_cities['stay'] + churn_cities['churn']\nchurn_cities = churn_cities.sort_values(by='all', ascending=True)\nchurn_cities['%_churns_to_all'] = round(churn_cities['churn'] / churn_cities['all'] * 100, 2)\ndisplay(churn_cities)\n\nx_axis = np.arange(len(churn_cities['city']))\nplt.figure(figsize=(10, 7))\nplt.bar(x_axis-0.2, churn_cities['stay'], width=0.4, label = 'Действующие клиенты')\nplt.bar(x_axis+0.2, churn_cities['churn'], width=0.4, label = 'Ушедшие клиенты')\nplt.xticks(x_axis, churn_cities['city'])\nplt.title('Распределение клиентов по городам', size=12)\nplt.xlabel('Город', size=12)\nplt.ylabel('Количество клиентов', size=12)\nplt.legend(loc='upper left')\nplt.show()",
      "metadata": {},
      "execution_count": 17,
      "outputs": [
        {
          "output_type": "display_data",
          "data": {
            "text/html": [
              "<div>\n",
              "<style scoped>\n",
              "    .dataframe tbody tr th:only-of-type {\n",
              "        vertical-align: middle;\n",
              "    }\n",
              "\n",
              "    .dataframe tbody tr th {\n",
              "        vertical-align: top;\n",
              "    }\n",
              "\n",
              "    .dataframe thead th {\n",
              "        text-align: right;\n",
              "    }\n",
              "</style>\n",
              "<table border=\"1\" class=\"dataframe\">\n",
              "  <thead>\n",
              "    <tr style=\"text-align: right;\">\n",
              "      <th></th>\n",
              "      <th>city</th>\n",
              "      <th>stay</th>\n",
              "      <th>churn</th>\n",
              "      <th>all</th>\n",
              "      <th>%_churns_to_all</th>\n",
              "    </tr>\n",
              "  </thead>\n",
              "  <tbody>\n",
              "    <tr>\n",
              "      <th>0</th>\n",
              "      <td>Ростов</td>\n",
              "      <td>1151</td>\n",
              "      <td>265</td>\n",
              "      <td>1416</td>\n",
              "      <td>18.71</td>\n",
              "    </tr>\n",
              "    <tr>\n",
              "      <th>1</th>\n",
              "      <td>Рыбинск</td>\n",
              "      <td>2246</td>\n",
              "      <td>437</td>\n",
              "      <td>2683</td>\n",
              "      <td>16.29</td>\n",
              "    </tr>\n",
              "    <tr>\n",
              "      <th>2</th>\n",
              "      <td>Ярославль</td>\n",
              "      <td>4758</td>\n",
              "      <td>1117</td>\n",
              "      <td>5875</td>\n",
              "      <td>19.01</td>\n",
              "    </tr>\n",
              "  </tbody>\n",
              "</table>\n",
              "</div>"
            ],
            "text/plain": [
              "        city  stay  churn   all  %_churns_to_all\n",
              "0     Ростов  1151    265  1416            18.71\n",
              "1    Рыбинск  2246    437  2683            16.29\n",
              "2  Ярославль  4758   1117  5875            19.01"
            ]
          },
          "metadata": {}
        },
        {
          "output_type": "display_data",
          "data": {
            "image/png": "[encoded data removed]",
            "text/plain": [
              "<Figure size 720x504 with 1 Axes>"
            ]
          },
          "metadata": {
            "needs_background": "light"
          }
        }
      ]
    },
    {
      "cell_type": "code",
      "source": "plt.figure(figsize=(10, 7))\nsns.histplot(data=data, hue='churn', x='city', stat='density', common_norm=False, palette='flag')\nplt.title('Нормализованное распределение клиентов по городам', size=12)\nplt.xlabel('Город', size=12)\nplt.ylabel('Плотность вероятности', size=12)\nplt.legend(loc='upper left', labels=['Ушедшие клиенты', 'Действующие клиенты'])\nplt.show()",
      "metadata": {},
      "execution_count": 18,
      "outputs": [
        {
          "output_type": "display_data",
          "data": {
            "image/png": "[encoded data removed]",
            "text/plain": [
              "<Figure size 720x504 with 1 Axes>"
            ]
          },
          "metadata": {
            "needs_background": "light"
          }
        }
      ]
    },
    {
      "cell_type": "markdown",
      "source": "Процент оттока в Ярославле и Ростове немного больше, чем ориентир в 18.24%. Запомним это и используем при исследовании пересечений сегментов.",
      "metadata": {}
    },
    {
      "cell_type": "markdown",
      "source": "### Пол клиента\nПостроим распределение и нормализованные распределение по полу клиентов.",
      "metadata": {}
    },
    {
      "cell_type": "code",
      "source": "# Строим сводную таблицу\nchurn_gender = data.pivot_table(\n    index='gender', columns='churn', values='userid', aggfunc='count').reset_index()\nchurn_gender.columns = ['gender', 'stay', 'churn']\nchurn_gender['all'] = churn_gender['stay'] + churn_gender['churn']\nchurn_gender = churn_gender.sort_values(by='all', ascending=True)\nchurn_gender['%_churns_to_all'] = round(churn_gender['churn'] / churn_gender['all'] * 100, 2)\ndisplay(churn_gender)\n\nx_axis = np.arange(len(churn_gender['gender']))\nplt.figure(figsize=(10, 7))\nplt.bar(x_axis-0.2, churn_gender['stay'], width=0.4, label = 'Действующие клиенты')\nplt.bar(x_axis+0.2, churn_gender['churn'], width=0.4, label = 'Ушедшие клиенты')\nplt.xticks(x_axis, churn_gender['gender'])\nplt.title('Распределение клиентов по полу', size=12)\nplt.xlabel('Пол клиента', size=12)\nplt.ylabel('Количество клиентов', size=12)\nplt.legend(loc='upper right')\nplt.show()",
      "metadata": {},
      "execution_count": 19,
      "outputs": [
        {
          "output_type": "display_data",
          "data": {
            "text/html": [
              "<div>\n",
              "<style scoped>\n",
              "    .dataframe tbody tr th:only-of-type {\n",
              "        vertical-align: middle;\n",
              "    }\n",
              "\n",
              "    .dataframe tbody tr th {\n",
              "        vertical-align: top;\n",
              "    }\n",
              "\n",
              "    .dataframe thead th {\n",
              "        text-align: right;\n",
              "    }\n",
              "</style>\n",
              "<table border=\"1\" class=\"dataframe\">\n",
              "  <thead>\n",
              "    <tr style=\"text-align: right;\">\n",
              "      <th></th>\n",
              "      <th>gender</th>\n",
              "      <th>stay</th>\n",
              "      <th>churn</th>\n",
              "      <th>all</th>\n",
              "      <th>%_churns_to_all</th>\n",
              "    </tr>\n",
              "  </thead>\n",
              "  <tbody>\n",
              "    <tr>\n",
              "      <th>0</th>\n",
              "      <td>Ж</td>\n",
              "      <td>4347</td>\n",
              "      <td>636</td>\n",
              "      <td>4983</td>\n",
              "      <td>12.76</td>\n",
              "    </tr>\n",
              "    <tr>\n",
              "      <th>1</th>\n",
              "      <td>М</td>\n",
              "      <td>3808</td>\n",
              "      <td>1183</td>\n",
              "      <td>4991</td>\n",
              "      <td>23.70</td>\n",
              "    </tr>\n",
              "  </tbody>\n",
              "</table>\n",
              "</div>"
            ],
            "text/plain": [
              "  gender  stay  churn   all  %_churns_to_all\n",
              "0      Ж  4347    636  4983            12.76\n",
              "1      М  3808   1183  4991            23.70"
            ]
          },
          "metadata": {}
        },
        {
          "output_type": "display_data",
          "data": {
            "image/png": "[encoded data removed]",
            "text/plain": [
              "<Figure size 720x504 with 1 Axes>"
            ]
          },
          "metadata": {
            "needs_background": "light"
          }
        }
      ]
    },
    {
      "cell_type": "code",
      "source": "plt.figure(figsize=(10, 7))\nsns.histplot(data=data, hue='churn', x='gender', stat='density', common_norm=False, palette='flag')\nplt.title('Нормализованное распределение клиентов по полу', size=12)\nplt.xlabel('Пол клиента', size=12)\nplt.ylabel('Плотность вероятности', size=12)\nplt.legend(loc='upper left', labels=['Ушедшие клиенты', 'Действующие клиенты'])\nplt.show()",
      "metadata": {},
      "execution_count": 20,
      "outputs": [
        {
          "output_type": "display_data",
          "data": {
            "image/png": "[encoded data removed]",
            "text/plain": [
              "<Figure size 720x504 with 1 Axes>"
            ]
          },
          "metadata": {
            "needs_background": "light"
          }
        }
      ]
    },
    {
      "cell_type": "markdown",
      "source": "Количество мужчин и женщин среди клиентов примерно одинаковое, а плотность верояности ухода у мужчин значительно выше. В процентном соотношении ушедших пользователей к общему числу клиентов, процент ухода мужчин выше ориентира в 18.24 %.",
      "metadata": {}
    },
    {
      "cell_type": "markdown",
      "source": "### Возраст клиента\nПостроим распределение и нормализованные распределение по возрасту.",
      "metadata": {}
    },
    {
      "cell_type": "code",
      "source": "plt.figure(figsize=(10, 7))\nplt.hist(data[data['churn']==0]['age'], bins=50, alpha=0.5, label='Действующие клиенты')\nplt.hist(data[data['churn']==1]['age'], bins=50, alpha=0.5, label='Ушедшие клиенты')\nplt.title('Распределение клиентов по возрасту', size=12)\nplt.xlabel('Возраст клиента', size=12)\nplt.ylabel('Количество клиентов', size=12)\nplt.legend(loc='upper right')\nplt.show()",
      "metadata": {},
      "execution_count": 21,
      "outputs": [
        {
          "output_type": "display_data",
          "data": {
            "image/png": "[encoded data removed]",
            "text/plain": [
              "<Figure size 720x504 with 1 Axes>"
            ]
          },
          "metadata": {
            "needs_background": "light"
          }
        }
      ]
    },
    {
      "cell_type": "code",
      "source": "plt.figure(figsize=(10, 7))\nsns.histplot(data=data, hue='churn', x='age', stat='density', common_norm=False, palette='flag')\nplt.title('Нормализованное распределение клиентов по возрасту', size=12)\nplt.xlabel('Возраст клиента', size=12)\nplt.ylabel('Плотность вероятности', size=12)\nplt.legend(loc='upper right', labels=['Ушедшие клиенты', 'Действующие клиенты'])\nplt.show()",
      "metadata": {},
      "execution_count": 22,
      "outputs": [
        {
          "output_type": "display_data",
          "data": {
            "image/png": "[encoded data removed]",
            "text/plain": [
              "<Figure size 720x504 with 1 Axes>"
            ]
          },
          "metadata": {
            "needs_background": "light"
          }
        }
      ]
    },
    {
      "cell_type": "markdown",
      "source": "По возрасту клиентов можно выделить группы, где плотность вероятности оттока выше - это примерно с 25 до 35, и с 50 до 60 лет. Выделим этих клиентов и посмотрим отток в процентах.",
      "metadata": {}
    },
    {
      "cell_type": "code",
      "source": "# Строим сводную таблицу\nsegment_churn_age = data[((data['age']>=25) & (data['age']<=35)) | ((data['age']>=50) & (data['age']<=60))].pivot_table(\n    index='churn', values='userid', aggfunc='count').sort_values(by='churn', ascending=True).reset_index()\nsegment_churn_age.columns = ['churn', 'count']\ndisplay(segment_churn_age)\n\nprint('Процент ушедших от общего числа клиентов в сегменте:',\n     round(segment_churn_age.loc[1, 'count'] / segment_churn_age['count'].sum() * 100, 2), '%')",
      "metadata": {},
      "execution_count": 23,
      "outputs": [
        {
          "output_type": "display_data",
          "data": {
            "text/html": [
              "<div>\n",
              "<style scoped>\n",
              "    .dataframe tbody tr th:only-of-type {\n",
              "        vertical-align: middle;\n",
              "    }\n",
              "\n",
              "    .dataframe tbody tr th {\n",
              "        vertical-align: top;\n",
              "    }\n",
              "\n",
              "    .dataframe thead th {\n",
              "        text-align: right;\n",
              "    }\n",
              "</style>\n",
              "<table border=\"1\" class=\"dataframe\">\n",
              "  <thead>\n",
              "    <tr style=\"text-align: right;\">\n",
              "      <th></th>\n",
              "      <th>churn</th>\n",
              "      <th>count</th>\n",
              "    </tr>\n",
              "  </thead>\n",
              "  <tbody>\n",
              "    <tr>\n",
              "      <th>0</th>\n",
              "      <td>0</td>\n",
              "      <td>3690</td>\n",
              "    </tr>\n",
              "    <tr>\n",
              "      <th>1</th>\n",
              "      <td>1</td>\n",
              "      <td>1133</td>\n",
              "    </tr>\n",
              "  </tbody>\n",
              "</table>\n",
              "</div>"
            ],
            "text/plain": [
              "   churn  count\n",
              "0      0   3690\n",
              "1      1   1133"
            ]
          },
          "metadata": {}
        },
        {
          "name": "stdout",
          "output_type": "stream",
          "text": "Процент ушедших от общего числа клиентов в сегменте: 23.49 %\n"
        }
      ]
    },
    {
      "cell_type": "markdown",
      "source": "### Баллы собственности клиента\nПостроим распределение и нормализованные распределение по баллам собственности.",
      "metadata": {}
    },
    {
      "cell_type": "code",
      "source": "# Строим сводную таблицу\nchurn_equity = data.pivot_table(\n    index='equity', columns='churn', values='userid', aggfunc='count').sort_values(by='equity', ascending=True).reset_index()\nchurn_equity.columns = ['equity', 'stay', 'churn']\nchurn_equity['all'] = churn_equity['stay'] + churn_equity['churn']\n#churn_equity = churn_equity.sort_values(by='all', ascending=True)\nchurn_equity['%_churns_to_all'] = round(churn_equity['churn'] / churn_equity['all'] * 100, 2)\ndisplay(churn_equity)\n\nx_axis = np.arange(len(churn_equity['equity']))\nplt.figure(figsize=(10, 7))\nplt.bar(x_axis-0.2, churn_equity['stay'], width=0.4, label = 'Действующие клиенты')\nplt.bar(x_axis+0.2, churn_equity['churn'], width=0.4, label = 'Ушедшие клиенты')\nplt.xticks(x_axis, churn_equity['equity'])\nplt.title('Распределение клиентов по баллам собственности', size=12)\nplt.xlabel('Баллы собственности', size=12)\nplt.ylabel('Количество клиентов', size=12)\nplt.legend(loc='upper right')\nplt.show()",
      "metadata": {},
      "execution_count": 24,
      "outputs": [
        {
          "output_type": "display_data",
          "data": {
            "text/html": [
              "<div>\n",
              "<style scoped>\n",
              "    .dataframe tbody tr th:only-of-type {\n",
              "        vertical-align: middle;\n",
              "    }\n",
              "\n",
              "    .dataframe tbody tr th {\n",
              "        vertical-align: top;\n",
              "    }\n",
              "\n",
              "    .dataframe thead th {\n",
              "        text-align: right;\n",
              "    }\n",
              "</style>\n",
              "<table border=\"1\" class=\"dataframe\">\n",
              "  <thead>\n",
              "    <tr style=\"text-align: right;\">\n",
              "      <th></th>\n",
              "      <th>equity</th>\n",
              "      <th>stay</th>\n",
              "      <th>churn</th>\n",
              "      <th>all</th>\n",
              "      <th>%_churns_to_all</th>\n",
              "    </tr>\n",
              "  </thead>\n",
              "  <tbody>\n",
              "    <tr>\n",
              "      <th>0</th>\n",
              "      <td>0</td>\n",
              "      <td>2486</td>\n",
              "      <td>90</td>\n",
              "      <td>2576</td>\n",
              "      <td>3.49</td>\n",
              "    </tr>\n",
              "    <tr>\n",
              "      <th>1</th>\n",
              "      <td>1</td>\n",
              "      <td>680</td>\n",
              "      <td>93</td>\n",
              "      <td>773</td>\n",
              "      <td>12.03</td>\n",
              "    </tr>\n",
              "    <tr>\n",
              "      <th>2</th>\n",
              "      <td>2</td>\n",
              "      <td>885</td>\n",
              "      <td>166</td>\n",
              "      <td>1051</td>\n",
              "      <td>15.79</td>\n",
              "    </tr>\n",
              "    <tr>\n",
              "      <th>3</th>\n",
              "      <td>3</td>\n",
              "      <td>1219</td>\n",
              "      <td>322</td>\n",
              "      <td>1541</td>\n",
              "      <td>20.90</td>\n",
              "    </tr>\n",
              "    <tr>\n",
              "      <th>4</th>\n",
              "      <td>4</td>\n",
              "      <td>1383</td>\n",
              "      <td>464</td>\n",
              "      <td>1847</td>\n",
              "      <td>25.12</td>\n",
              "    </tr>\n",
              "    <tr>\n",
              "      <th>5</th>\n",
              "      <td>5</td>\n",
              "      <td>1339</td>\n",
              "      <td>576</td>\n",
              "      <td>1915</td>\n",
              "      <td>30.08</td>\n",
              "    </tr>\n",
              "    <tr>\n",
              "      <th>6</th>\n",
              "      <td>6</td>\n",
              "      <td>103</td>\n",
              "      <td>58</td>\n",
              "      <td>161</td>\n",
              "      <td>36.02</td>\n",
              "    </tr>\n",
              "    <tr>\n",
              "      <th>7</th>\n",
              "      <td>7</td>\n",
              "      <td>43</td>\n",
              "      <td>37</td>\n",
              "      <td>80</td>\n",
              "      <td>46.25</td>\n",
              "    </tr>\n",
              "    <tr>\n",
              "      <th>8</th>\n",
              "      <td>8</td>\n",
              "      <td>11</td>\n",
              "      <td>6</td>\n",
              "      <td>17</td>\n",
              "      <td>35.29</td>\n",
              "    </tr>\n",
              "    <tr>\n",
              "      <th>9</th>\n",
              "      <td>9</td>\n",
              "      <td>6</td>\n",
              "      <td>7</td>\n",
              "      <td>13</td>\n",
              "      <td>53.85</td>\n",
              "    </tr>\n",
              "  </tbody>\n",
              "</table>\n",
              "</div>"
            ],
            "text/plain": [
              "   equity  stay  churn   all  %_churns_to_all\n",
              "0       0  2486     90  2576             3.49\n",
              "1       1   680     93   773            12.03\n",
              "2       2   885    166  1051            15.79\n",
              "3       3  1219    322  1541            20.90\n",
              "4       4  1383    464  1847            25.12\n",
              "5       5  1339    576  1915            30.08\n",
              "6       6   103     58   161            36.02\n",
              "7       7    43     37    80            46.25\n",
              "8       8    11      6    17            35.29\n",
              "9       9     6      7    13            53.85"
            ]
          },
          "metadata": {}
        },
        {
          "output_type": "display_data",
          "data": {
            "image/png": "[encoded data removed]",
            "text/plain": [
              "<Figure size 720x504 with 1 Axes>"
            ]
          },
          "metadata": {
            "needs_background": "light"
          }
        }
      ]
    },
    {
      "cell_type": "code",
      "source": "plt.figure(figsize=(10, 7))\nsns.histplot(data=data, hue='churn', x='equity', stat='density', common_norm=False, palette='flag')\nplt.title('Нормализованное распределение клиентов по баллам собственности', size=12)\nplt.xticks(x_axis, churn_equity['equity'])\nplt.xlabel('Баллы собственности', size=12)\nplt.ylabel('Плотность вероятности', size=12)\nplt.legend(loc='upper right', labels=['Ушедшие клиенты', 'Действующие клиенты'])\nplt.show()",
      "metadata": {},
      "execution_count": 25,
      "outputs": [
        {
          "output_type": "display_data",
          "data": {
            "image/png": "[encoded data removed]",
            "text/plain": [
              "<Figure size 720x504 with 1 Axes>"
            ]
          },
          "metadata": {
            "needs_background": "light"
          }
        }
      ]
    },
    {
      "cell_type": "markdown",
      "source": "Начиная с 3 баллов и до 9 видно, плотность вероятности оттока преобладает. Выделим этих клиентов и посмотрим отток в процентах.",
      "metadata": {}
    },
    {
      "cell_type": "code",
      "source": "# Строим сводную таблицу\nsegment_churn_equity = data[data['equity']>=3].pivot_table(\n    index='churn', values='userid', aggfunc='count').sort_values(by='churn', ascending=True).reset_index()\nsegment_churn_equity.columns = ['churn', 'count']\ndisplay(segment_churn_equity)\n\nprint('Процент ушедших от общего числа клиентов в сегменте:',\n     round(segment_churn_equity.loc[1, 'count'] / segment_churn_equity['count'].sum() * 100, 2), '%')",
      "metadata": {},
      "execution_count": 26,
      "outputs": [
        {
          "output_type": "display_data",
          "data": {
            "text/html": [
              "<div>\n",
              "<style scoped>\n",
              "    .dataframe tbody tr th:only-of-type {\n",
              "        vertical-align: middle;\n",
              "    }\n",
              "\n",
              "    .dataframe tbody tr th {\n",
              "        vertical-align: top;\n",
              "    }\n",
              "\n",
              "    .dataframe thead th {\n",
              "        text-align: right;\n",
              "    }\n",
              "</style>\n",
              "<table border=\"1\" class=\"dataframe\">\n",
              "  <thead>\n",
              "    <tr style=\"text-align: right;\">\n",
              "      <th></th>\n",
              "      <th>churn</th>\n",
              "      <th>count</th>\n",
              "    </tr>\n",
              "  </thead>\n",
              "  <tbody>\n",
              "    <tr>\n",
              "      <th>0</th>\n",
              "      <td>0</td>\n",
              "      <td>4104</td>\n",
              "    </tr>\n",
              "    <tr>\n",
              "      <th>1</th>\n",
              "      <td>1</td>\n",
              "      <td>1470</td>\n",
              "    </tr>\n",
              "  </tbody>\n",
              "</table>\n",
              "</div>"
            ],
            "text/plain": [
              "   churn  count\n",
              "0      0   4104\n",
              "1      1   1470"
            ]
          },
          "metadata": {}
        },
        {
          "name": "stdout",
          "output_type": "stream",
          "text": "Процент ушедших от общего числа клиентов в сегменте: 26.37 %\n"
        }
      ]
    },
    {
      "cell_type": "markdown",
      "source": "В выделенном сегменте более четверти клиентов ушли.",
      "metadata": {}
    },
    {
      "cell_type": "markdown",
      "source": "### Баланс на счете\nПостроим распределение и нормализованные распределение по балансу на счете.",
      "metadata": {}
    },
    {
      "cell_type": "code",
      "source": "plt.figure(figsize=(10, 7))\nplt.hist(data[data['churn']==0]['balance'], bins=100, alpha=0.5, label='Действующие клиенты')\nplt.hist(data[data['churn']==1]['balance'], bins=100, alpha=0.5, label='Ушедшие клиенты')\nplt.title('Распределение клиентов по балансу на счете', size=12)\nplt.xlabel('Баланс на счете', size=12)\nplt.ylabel('Количество клиентов', size=12)\nplt.legend(loc='upper left')\nplt.show()",
      "metadata": {},
      "execution_count": 27,
      "outputs": [
        {
          "output_type": "display_data",
          "data": {
            "image/png": "[encoded data removed]",
            "text/plain": [
              "<Figure size 720x504 with 1 Axes>"
            ]
          },
          "metadata": {
            "needs_background": "light"
          }
        }
      ]
    },
    {
      "cell_type": "markdown",
      "source": "Имеются счета, на которых есть, или были очень большие суммы. Посмотрим на график ближе, от 0 до 6 млн.",
      "metadata": {}
    },
    {
      "cell_type": "code",
      "source": "plt.figure(figsize=(10, 7))\nplt.hist(data[data['churn']==0]['balance'], bins=1000, alpha=0.5, label='Действующие клиенты')\nplt.hist(data[data['churn']==1]['balance'], bins=1000, alpha=0.5, label='Ушедшие клиенты')\nplt.title('Распределение клиентов по балансу на счете до 5 млн.', size=12)\nplt.xlim([0, 6000000])\nplt.xlabel('Баланс на счете', size=12)\nplt.ylabel('Количество клиентов', size=12)\nplt.legend(loc='upper right')\nplt.show()",
      "metadata": {},
      "execution_count": 28,
      "outputs": [
        {
          "output_type": "display_data",
          "data": {
            "image/png": "[encoded data removed]",
            "text/plain": [
              "<Figure size 720x504 with 1 Axes>"
            ]
          },
          "metadata": {
            "needs_background": "light"
          }
        }
      ]
    },
    {
      "cell_type": "code",
      "source": "plt.figure(figsize=(10, 7))\n\nsns.histplot(data=data, hue='churn', x='balance', stat='density', common_norm=False, palette='flag',)\nplt.title('Нормализованное распределение клиентов по балансу на счете до 5 млн.', size=12)\nplt.xlim([0, 6*10**6])\nplt.xlabel('Баланс на счете', size=12)\nplt.ylabel('Плотность вероятности', size=12)\nplt.legend(loc='upper right', labels=['Ушедшие клиенты', 'Действующие клиенты'])\n#ax = plt.axes()\n#ax.set_facecolor((0.5, 0.5, 0.5))\nplt.show()",
      "metadata": {},
      "execution_count": 29,
      "outputs": [
        {
          "output_type": "display_data",
          "data": {
            "image/png": "[encoded data removed]",
            "text/plain": [
              "<Figure size 720x504 with 1 Axes>"
            ]
          },
          "metadata": {
            "needs_background": "light"
          }
        }
      ]
    },
    {
      "cell_type": "markdown",
      "source": "Где-то начиная с 700 тыс. наблюдается преобладание плотности вероятности оттока. Посчитаем, сколько клиентов с балансом на счете более 6 млн.",
      "metadata": {}
    },
    {
      "cell_type": "code",
      "source": "print('Количество клиентов с балансом на счете более 6 млн.:',\n      data[data['balance']>6*10**6]['balance'].count())\n\nprint('Процент клиентов с балансом на счете более 6 млн.:',\n      round(data[data['balance']>6*10**6]['balance'].count() / data.shape[0] * 100, 2), '%')",
      "metadata": {},
      "execution_count": 30,
      "outputs": [
        {
          "name": "stdout",
          "output_type": "stream",
          "text": "Количество клиентов с балансом на счете более 6 млн.: 49\n\nПроцент клиентов с балансом на счете более 6 млн.: 0.49 %\n"
        }
      ]
    },
    {
      "cell_type": "markdown",
      "source": "Если примем границы от 700 тыс до 6 млн., то пожертвуем 0.49 % данных. Выделим этих клиентов и посмотрим отток в процентах.",
      "metadata": {}
    },
    {
      "cell_type": "code",
      "source": "# Строим сводную таблицу\nsegment_churn_equity = data[(data['balance']>=0.7*10**6) & (data['balance']<=6*10**6)].pivot_table(\n    index='churn', values='userid', aggfunc='count').sort_values(by='churn', ascending=True).reset_index()\nsegment_churn_equity.columns = ['churn', 'count']\ndisplay(segment_churn_equity)\n\nprint('Процент ушедших от общего числа клиентов в сегменте:',\n     round(segment_churn_equity.loc[1, 'count'] / segment_churn_equity['count'].sum() * 100, 2), '%')",
      "metadata": {},
      "execution_count": 31,
      "outputs": [
        {
          "output_type": "display_data",
          "data": {
            "text/html": [
              "<div>\n",
              "<style scoped>\n",
              "    .dataframe tbody tr th:only-of-type {\n",
              "        vertical-align: middle;\n",
              "    }\n",
              "\n",
              "    .dataframe tbody tr th {\n",
              "        vertical-align: top;\n",
              "    }\n",
              "\n",
              "    .dataframe thead th {\n",
              "        text-align: right;\n",
              "    }\n",
              "</style>\n",
              "<table border=\"1\" class=\"dataframe\">\n",
              "  <thead>\n",
              "    <tr style=\"text-align: right;\">\n",
              "      <th></th>\n",
              "      <th>churn</th>\n",
              "      <th>count</th>\n",
              "    </tr>\n",
              "  </thead>\n",
              "  <tbody>\n",
              "    <tr>\n",
              "      <th>0</th>\n",
              "      <td>0</td>\n",
              "      <td>1882</td>\n",
              "    </tr>\n",
              "    <tr>\n",
              "      <th>1</th>\n",
              "      <td>1</td>\n",
              "      <td>966</td>\n",
              "    </tr>\n",
              "  </tbody>\n",
              "</table>\n",
              "</div>"
            ],
            "text/plain": [
              "   churn  count\n",
              "0      0   1882\n",
              "1      1    966"
            ]
          },
          "metadata": {}
        },
        {
          "name": "stdout",
          "output_type": "stream",
          "text": "Процент ушедших от общего числа клиентов в сегменте: 33.92 %\n"
        }
      ]
    },
    {
      "cell_type": "markdown",
      "source": "В выделеном сегменте почти треть ушла.",
      "metadata": {}
    },
    {
      "cell_type": "markdown",
      "source": "### Количество продуктов\nПостроим распределение и нормализованные распределение по количеству продуктов, которым пользуется клиент.",
      "metadata": {}
    },
    {
      "cell_type": "code",
      "source": "# Строим сводную таблицу\nchurn_products = (\n    data.pivot_table(index='products', columns='churn', values='userid', aggfunc='count')\n    .sort_values(by='products', ascending=True)\n    .reset_index()\n)\n\nchurn_products.columns = ['products', 'stay', 'churn']\nchurn_products['all'] = churn_products['stay'] + churn_products['churn']\nchurn_products['%_churns_to_all'] = round(churn_products['churn'] / churn_products['all'] * 100, 2)\ndisplay(churn_products)\n\nx_axis = np.arange(len(churn_products['products']))\nplt.figure(figsize=(10, 7))\nplt.bar(x_axis-0.2, churn_products['stay'], width=0.4, label = 'Действующие клиенты')\nplt.bar(x_axis+0.2, churn_products['churn'], width=0.4, label = 'Ушедшие клиенты')\nplt.xticks(x_axis, churn_products['products'])\nplt.title('Распределение клиентов по количеству продуктов', size=12)\nplt.xlabel('Количество продуктов', size=12)\nplt.ylabel('Количество клиентов', size=12)\nplt.legend(loc='upper right')\nplt.show()",
      "metadata": {},
      "execution_count": 32,
      "outputs": [
        {
          "output_type": "display_data",
          "data": {
            "text/html": [
              "<div>\n",
              "<style scoped>\n",
              "    .dataframe tbody tr th:only-of-type {\n",
              "        vertical-align: middle;\n",
              "    }\n",
              "\n",
              "    .dataframe tbody tr th {\n",
              "        vertical-align: top;\n",
              "    }\n",
              "\n",
              "    .dataframe thead th {\n",
              "        text-align: right;\n",
              "    }\n",
              "</style>\n",
              "<table border=\"1\" class=\"dataframe\">\n",
              "  <thead>\n",
              "    <tr style=\"text-align: right;\">\n",
              "      <th></th>\n",
              "      <th>products</th>\n",
              "      <th>stay</th>\n",
              "      <th>churn</th>\n",
              "      <th>all</th>\n",
              "      <th>%_churns_to_all</th>\n",
              "    </tr>\n",
              "  </thead>\n",
              "  <tbody>\n",
              "    <tr>\n",
              "      <th>0</th>\n",
              "      <td>0</td>\n",
              "      <td>NaN</td>\n",
              "      <td>1.0</td>\n",
              "      <td>NaN</td>\n",
              "      <td>NaN</td>\n",
              "    </tr>\n",
              "    <tr>\n",
              "      <th>1</th>\n",
              "      <td>1</td>\n",
              "      <td>3088.0</td>\n",
              "      <td>235.0</td>\n",
              "      <td>3323.0</td>\n",
              "      <td>7.07</td>\n",
              "    </tr>\n",
              "    <tr>\n",
              "      <th>2</th>\n",
              "      <td>2</td>\n",
              "      <td>4141.0</td>\n",
              "      <td>978.0</td>\n",
              "      <td>5119.0</td>\n",
              "      <td>19.11</td>\n",
              "    </tr>\n",
              "    <tr>\n",
              "      <th>3</th>\n",
              "      <td>3</td>\n",
              "      <td>741.0</td>\n",
              "      <td>297.0</td>\n",
              "      <td>1038.0</td>\n",
              "      <td>28.61</td>\n",
              "    </tr>\n",
              "    <tr>\n",
              "      <th>4</th>\n",
              "      <td>4</td>\n",
              "      <td>174.0</td>\n",
              "      <td>300.0</td>\n",
              "      <td>474.0</td>\n",
              "      <td>63.29</td>\n",
              "    </tr>\n",
              "    <tr>\n",
              "      <th>5</th>\n",
              "      <td>5</td>\n",
              "      <td>11.0</td>\n",
              "      <td>8.0</td>\n",
              "      <td>19.0</td>\n",
              "      <td>42.11</td>\n",
              "    </tr>\n",
              "  </tbody>\n",
              "</table>\n",
              "</div>"
            ],
            "text/plain": [
              "   products    stay  churn     all  %_churns_to_all\n",
              "0         0     NaN    1.0     NaN              NaN\n",
              "1         1  3088.0  235.0  3323.0             7.07\n",
              "2         2  4141.0  978.0  5119.0            19.11\n",
              "3         3   741.0  297.0  1038.0            28.61\n",
              "4         4   174.0  300.0   474.0            63.29\n",
              "5         5    11.0    8.0    19.0            42.11"
            ]
          },
          "metadata": {}
        },
        {
          "output_type": "display_data",
          "data": {
            "image/png": "[encoded data removed]",
            "text/plain": [
              "<Figure size 720x504 with 1 Axes>"
            ]
          },
          "metadata": {
            "needs_background": "light"
          }
        }
      ]
    },
    {
      "cell_type": "code",
      "source": "plt.figure(figsize=(10, 7))\nsns.histplot(data=data, hue='churn', x='products', stat='density', common_norm=False, palette='flag')\nplt.title('Нормализованное распределение клиентов по количеству продуктов', size=12)\nplt.xlabel('Количество продуктов', size=12)\nplt.ylabel('Плотность вероятности', size=12)\nplt.legend(loc='upper right', labels=['Ушедшие клиенты', 'Действующие клиенты'])\nplt.show()",
      "metadata": {},
      "execution_count": 33,
      "outputs": [
        {
          "output_type": "display_data",
          "data": {
            "image/png": "[encoded data removed]",
            "text/plain": [
              "<Figure size 720x504 with 1 Axes>"
            ]
          },
          "metadata": {
            "needs_background": "light"
          }
        }
      ]
    },
    {
      "cell_type": "markdown",
      "source": "Начиная с 2 продуктов до 5 плотность вероятности оттока преобладает. Выделим этих клиентов и посмотрим отток в процентах.",
      "metadata": {}
    },
    {
      "cell_type": "code",
      "source": "# Строим сводную таблицу\nsegment_churn_products = data[data['products']>=2].pivot_table(\n    index='churn', values='userid', aggfunc='count').sort_values(by='churn', ascending=True).reset_index()\nsegment_churn_products.columns = ['churn', 'count']\ndisplay(segment_churn_products)\n\nprint('Процент ушедших от общего числа клиентов в сегменте:',\n     round(segment_churn_products.loc[1, 'count'] / segment_churn_products['count'].sum() * 100, 2), '%')",
      "metadata": {},
      "execution_count": 34,
      "outputs": [
        {
          "output_type": "display_data",
          "data": {
            "text/html": [
              "<div>\n",
              "<style scoped>\n",
              "    .dataframe tbody tr th:only-of-type {\n",
              "        vertical-align: middle;\n",
              "    }\n",
              "\n",
              "    .dataframe tbody tr th {\n",
              "        vertical-align: top;\n",
              "    }\n",
              "\n",
              "    .dataframe thead th {\n",
              "        text-align: right;\n",
              "    }\n",
              "</style>\n",
              "<table border=\"1\" class=\"dataframe\">\n",
              "  <thead>\n",
              "    <tr style=\"text-align: right;\">\n",
              "      <th></th>\n",
              "      <th>churn</th>\n",
              "      <th>count</th>\n",
              "    </tr>\n",
              "  </thead>\n",
              "  <tbody>\n",
              "    <tr>\n",
              "      <th>0</th>\n",
              "      <td>0</td>\n",
              "      <td>5067</td>\n",
              "    </tr>\n",
              "    <tr>\n",
              "      <th>1</th>\n",
              "      <td>1</td>\n",
              "      <td>1583</td>\n",
              "    </tr>\n",
              "  </tbody>\n",
              "</table>\n",
              "</div>"
            ],
            "text/plain": [
              "   churn  count\n",
              "0      0   5067\n",
              "1      1   1583"
            ]
          },
          "metadata": {}
        },
        {
          "name": "stdout",
          "output_type": "stream",
          "text": "Процент ушедших от общего числа клиентов в сегменте: 23.8 %\n"
        }
      ]
    },
    {
      "cell_type": "markdown",
      "source": "В выделенном сегменте более четверти клиентов ушли.",
      "metadata": {}
    },
    {
      "cell_type": "markdown",
      "source": "### Наличие кредитной карты\nПостроим распределение и нормализованные распределение по наличию кредитной карты.",
      "metadata": {}
    },
    {
      "cell_type": "code",
      "source": "# Строим сводную таблицу\nchurn_credit_card = data.pivot_table(\n    index='credit_card', columns='churn', values='userid', aggfunc='count').reset_index()\nchurn_credit_card.columns = ['credit_card', 'stay', 'churn']\nchurn_credit_card['all'] = churn_credit_card['stay'] + churn_credit_card['churn']\nchurn_credit_card = churn_credit_card.sort_values(by='all', ascending=True)\nchurn_credit_card['%_churns_to_all'] = round(churn_credit_card['churn'] / churn_credit_card['all'] * 100, 2)\ndisplay(churn_credit_card)\n\nx_axis = np.arange(len(churn_credit_card['credit_card']))\nplt.figure(figsize=(10, 7))\nplt.bar(x_axis-0.2, churn_credit_card['stay'], width=0.4, label = 'Действующие клиенты')\nplt.bar(x_axis+0.2, churn_credit_card['churn'], width=0.4, label = 'Ушедшие клиенты')\nplt.xticks(x_axis, churn_credit_card['credit_card'])\nplt.title('Распределение клиентов по наличию кредитной карты', size=12)\nplt.xlabel('Наличие кредитной карты', size=12)\nplt.ylabel('Количество клиентов', size=12)\nplt.legend(loc='upper left')\nplt.show()",
      "metadata": {},
      "execution_count": 35,
      "outputs": [
        {
          "output_type": "display_data",
          "data": {
            "text/html": [
              "<div>\n",
              "<style scoped>\n",
              "    .dataframe tbody tr th:only-of-type {\n",
              "        vertical-align: middle;\n",
              "    }\n",
              "\n",
              "    .dataframe tbody tr th {\n",
              "        vertical-align: top;\n",
              "    }\n",
              "\n",
              "    .dataframe thead th {\n",
              "        text-align: right;\n",
              "    }\n",
              "</style>\n",
              "<table border=\"1\" class=\"dataframe\">\n",
              "  <thead>\n",
              "    <tr style=\"text-align: right;\">\n",
              "      <th></th>\n",
              "      <th>credit_card</th>\n",
              "      <th>stay</th>\n",
              "      <th>churn</th>\n",
              "      <th>all</th>\n",
              "      <th>%_churns_to_all</th>\n",
              "    </tr>\n",
              "  </thead>\n",
              "  <tbody>\n",
              "    <tr>\n",
              "      <th>0</th>\n",
              "      <td>0</td>\n",
              "      <td>2374</td>\n",
              "      <td>816</td>\n",
              "      <td>3190</td>\n",
              "      <td>25.58</td>\n",
              "    </tr>\n",
              "    <tr>\n",
              "      <th>1</th>\n",
              "      <td>1</td>\n",
              "      <td>5781</td>\n",
              "      <td>1003</td>\n",
              "      <td>6784</td>\n",
              "      <td>14.78</td>\n",
              "    </tr>\n",
              "  </tbody>\n",
              "</table>\n",
              "</div>"
            ],
            "text/plain": [
              "   credit_card  stay  churn   all  %_churns_to_all\n",
              "0            0  2374    816  3190            25.58\n",
              "1            1  5781   1003  6784            14.78"
            ]
          },
          "metadata": {}
        },
        {
          "output_type": "display_data",
          "data": {
            "image/png": "[encoded data removed]",
            "text/plain": [
              "<Figure size 720x504 with 1 Axes>"
            ]
          },
          "metadata": {
            "needs_background": "light"
          }
        }
      ]
    },
    {
      "cell_type": "code",
      "source": "plt.figure(figsize=(7, 7))\nsns.histplot(data=data, hue='churn', x='credit_card', stat='density', common_norm=False, palette='flag', bins=3)\nplt.title('Нормализованное распределение клиентов по наличию кредитной карты', size=12)\nplt.xlabel('Наличие кредитной карты', size=12)\nplt.ylabel('Плотность вероятности', size=12)\nplt.legend(loc='upper left', labels=['Ушедшие клиенты', 'Действующие клиенты'])\nplt.xticks(x_axis, churn_credit_card['credit_card'])\nplt.show()",
      "metadata": {},
      "execution_count": 36,
      "outputs": [
        {
          "output_type": "display_data",
          "data": {
            "image/png": "[encoded data removed]",
            "text/plain": [
              "<Figure size 504x504 with 1 Axes>"
            ]
          },
          "metadata": {
            "needs_background": "light"
          }
        }
      ]
    },
    {
      "cell_type": "markdown",
      "source": "У клиентов без кредитной карты больше плотность вероятности уйти. По имеющимся данным, из них ушла четверть.",
      "metadata": {}
    },
    {
      "cell_type": "markdown",
      "source": "### Активность\nПостроим распределение и нормализованные распределение по активности клиента.",
      "metadata": {}
    },
    {
      "cell_type": "code",
      "source": "# Строим сводную таблицу\nchurn_last_activity = data.pivot_table(\n    index='last_activity', columns='churn', values='userid', aggfunc='count').reset_index()\nchurn_last_activity.columns = ['last_activity', 'stay', 'churn']\nchurn_last_activity['all'] = churn_last_activity['stay'] + churn_last_activity['churn']\nchurn_last_activity = churn_last_activity.sort_values(by='all', ascending=True)\nchurn_last_activity['%_churns_to_all'] = round(churn_last_activity['churn'] / churn_last_activity['all'] * 100, 2)\ndisplay(churn_last_activity)\n\nx_axis = np.arange(len(churn_last_activity['last_activity']))\nplt.figure(figsize=(10, 7))\nplt.bar(x_axis-0.2, churn_last_activity['stay'], width=0.4, label = 'Действующие клиенты')\nplt.bar(x_axis+0.2, churn_last_activity['churn'], width=0.4, label = 'Ушедшие клиенты')\nplt.xticks(x_axis, churn_last_activity['last_activity'])\nplt.title('Распределение клиентов по активности', size=12)\nplt.xlabel('Активность', size=12)\nplt.ylabel('Количество клиентов', size=12)\nplt.legend(loc='upper right')\nplt.show()",
      "metadata": {},
      "execution_count": 37,
      "outputs": [
        {
          "output_type": "display_data",
          "data": {
            "text/html": [
              "<div>\n",
              "<style scoped>\n",
              "    .dataframe tbody tr th:only-of-type {\n",
              "        vertical-align: middle;\n",
              "    }\n",
              "\n",
              "    .dataframe tbody tr th {\n",
              "        vertical-align: top;\n",
              "    }\n",
              "\n",
              "    .dataframe thead th {\n",
              "        text-align: right;\n",
              "    }\n",
              "</style>\n",
              "<table border=\"1\" class=\"dataframe\">\n",
              "  <thead>\n",
              "    <tr style=\"text-align: right;\">\n",
              "      <th></th>\n",
              "      <th>last_activity</th>\n",
              "      <th>stay</th>\n",
              "      <th>churn</th>\n",
              "      <th>all</th>\n",
              "      <th>%_churns_to_all</th>\n",
              "    </tr>\n",
              "  </thead>\n",
              "  <tbody>\n",
              "    <tr>\n",
              "      <th>0</th>\n",
              "      <td>0</td>\n",
              "      <td>4217</td>\n",
              "      <td>542</td>\n",
              "      <td>4759</td>\n",
              "      <td>11.39</td>\n",
              "    </tr>\n",
              "    <tr>\n",
              "      <th>1</th>\n",
              "      <td>1</td>\n",
              "      <td>3938</td>\n",
              "      <td>1277</td>\n",
              "      <td>5215</td>\n",
              "      <td>24.49</td>\n",
              "    </tr>\n",
              "  </tbody>\n",
              "</table>\n",
              "</div>"
            ],
            "text/plain": [
              "   last_activity  stay  churn   all  %_churns_to_all\n",
              "0              0  4217    542  4759            11.39\n",
              "1              1  3938   1277  5215            24.49"
            ]
          },
          "metadata": {}
        },
        {
          "output_type": "display_data",
          "data": {
            "image/png": "[encoded data removed]",
            "text/plain": [
              "<Figure size 720x504 with 1 Axes>"
            ]
          },
          "metadata": {
            "needs_background": "light"
          }
        }
      ]
    },
    {
      "cell_type": "code",
      "source": "plt.figure(figsize=(7, 7))\nsns.histplot(data=data, hue='churn', x='last_activity', stat='density', common_norm=False, palette='flag', bins=3)\nplt.title('Нормализованное распределение клиентов по активности', size=12)\nplt.xlabel('Активность', size=12)\nplt.ylabel('Плотность вероятности', size=12)\nplt.legend(loc='upper left', labels=['Ушедшие клиенты', 'Действующие клиенты'])\nplt.xticks(x_axis, churn_last_activity['last_activity'])\nplt.show()",
      "metadata": {},
      "execution_count": 38,
      "outputs": [
        {
          "output_type": "display_data",
          "data": {
            "image/png": "[encoded data removed]",
            "text/plain": [
              "<Figure size 504x504 with 1 Axes>"
            ]
          },
          "metadata": {
            "needs_background": "light"
          }
        }
      ]
    },
    {
      "cell_type": "markdown",
      "source": "У активных клиентов больше плотность вероятности уйти. По имеющимся данным, из них ушла почти четверть.",
      "metadata": {}
    },
    {
      "cell_type": "markdown",
      "source": "### Заработная плата\nПостроим распределение и нормализованные распределение по заработной плате клиента.",
      "metadata": {}
    },
    {
      "cell_type": "code",
      "source": "plt.figure(figsize=(10, 7))\nplt.hist(data[data['churn']==0]['est_salary'], bins=100, alpha=0.5, label='Действующие клиенты')\nplt.hist(data[data['churn']==1]['est_salary'], bins=100, alpha=0.5, label='Ушедшие клиенты')\nplt.title('Распределение клиентов по заработной плате', size=12)\nplt.xlabel('Заработная плата', size=12)\nplt.ylabel('Количество клиентов', size=12)\nplt.legend(loc='upper right')\nplt.show()",
      "metadata": {},
      "execution_count": 39,
      "outputs": [
        {
          "output_type": "display_data",
          "data": {
            "image/png": "[encoded data removed]",
            "text/plain": [
              "<Figure size 720x504 with 1 Axes>"
            ]
          },
          "metadata": {
            "needs_background": "light"
          }
        }
      ]
    },
    {
      "cell_type": "markdown",
      "source": "Аналогично, как и при исследовании баланса на счету, имеется небольшое количество клиентов с высокими доходами. Рассмотрим диапазон до 600 тыс.",
      "metadata": {}
    },
    {
      "cell_type": "code",
      "source": "plt.figure(figsize=(10, 7))\n\nsns.histplot(data=data, hue='churn', x='est_salary', stat='density', common_norm=False, palette='flag',)\nplt.title('Нормализованное распределение клиентов по заработной плате до 600 тыс.', size=12)\nplt.xlim([0, 0.6*10**6])\nplt.xlabel('Заработная плата', size=12)\nplt.ylabel('Плотность вероятности', size=12)\nplt.legend(loc='upper right', labels=['Ушедшие клиенты', 'Действующие клиенты'])\nplt.show()",
      "metadata": {},
      "execution_count": 47,
      "outputs": [
        {
          "output_type": "display_data",
          "data": {
            "image/png": "[encoded data removed]",
            "text/plain": [
              "<Figure size 720x504 with 1 Axes>"
            ]
          },
          "metadata": {
            "needs_background": "light"
          }
        }
      ]
    },
    {
      "cell_type": "markdown",
      "source": "Можно выделить примерный диапазон от 100 тыс. до 210 тыс. где преобладает плотность вероятности оттока. Выделим этих клиентов и посмотрим отток в процентах.",
      "metadata": {}
    },
    {
      "cell_type": "code",
      "source": "# Строим сводную таблицу\nsegment_churn_est_salary = data[(data['est_salary']>=0.1*10**6) & (data['est_salary']<=0.21*10**6)].pivot_table(\n    index='churn', values='userid', aggfunc='count').sort_values(by='churn', ascending=True).reset_index()\nsegment_churn_est_salary.columns = ['churn', 'count']\ndisplay(segment_churn_est_salary)\n\nprint('Процент ушедших от общего числа клиентов в сегменте:',\n     round(segment_churn_est_salary.loc[1, 'count'] / segment_churn_est_salary['count'].sum() * 100, 2), '%')",
      "metadata": {},
      "execution_count": 41,
      "outputs": [
        {
          "output_type": "display_data",
          "data": {
            "text/html": [
              "<div>\n",
              "<style scoped>\n",
              "    .dataframe tbody tr th:only-of-type {\n",
              "        vertical-align: middle;\n",
              "    }\n",
              "\n",
              "    .dataframe tbody tr th {\n",
              "        vertical-align: top;\n",
              "    }\n",
              "\n",
              "    .dataframe thead th {\n",
              "        text-align: right;\n",
              "    }\n",
              "</style>\n",
              "<table border=\"1\" class=\"dataframe\">\n",
              "  <thead>\n",
              "    <tr style=\"text-align: right;\">\n",
              "      <th></th>\n",
              "      <th>churn</th>\n",
              "      <th>count</th>\n",
              "    </tr>\n",
              "  </thead>\n",
              "  <tbody>\n",
              "    <tr>\n",
              "      <th>0</th>\n",
              "      <td>0</td>\n",
              "      <td>3592</td>\n",
              "    </tr>\n",
              "    <tr>\n",
              "      <th>1</th>\n",
              "      <td>1</td>\n",
              "      <td>925</td>\n",
              "    </tr>\n",
              "  </tbody>\n",
              "</table>\n",
              "</div>"
            ],
            "text/plain": [
              "   churn  count\n",
              "0      0   3592\n",
              "1      1    925"
            ]
          },
          "metadata": {}
        },
        {
          "name": "stdout",
          "output_type": "stream",
          "text": "Процент ушедших от общего числа клиентов в сегменте: 20.48 %\n"
        }
      ]
    },
    {
      "cell_type": "markdown",
      "source": "Процент оттока в выделенном сегменте выше, чем ориентир в 18.24%.",
      "metadata": {}
    },
    {
      "cell_type": "markdown",
      "source": "##  Формулировка и проверка гипотез\n### Различие доходов\nПроверим гипотезу различия дохода между теми клиентами, которые ушли, и теми, которые остались. Для проверки гипотезы предлагается использовать t-тест проверки равенства средних двух независимых выборок, для которого необходимо учесть несколько требований:\n- генеральные совокупности не зависят друг от друга,\n- выборочные средние нормально распределены,\n- дисперсии рассматриваемых генеральных совокупностей равны.\n\nПредполагая, что каждая строка датасета принадлежит отдельному клиенту, и клиенты не взаимодействуют друг с другом, можно считать, что генеральные совокупности не зависят друг от друга. \n\nПри исследовании взаимосвязи между зарплатой и показателем оттока была построена гистограмма распределения ушедших и оставшихся клиентов, на которой видно, что распределние похоже на нормальное, сдвинутое влево, что явлется хорошим (но необязательным) поводом применить t-тест. Так как количество данных в ушедшим и оставшимся клиентам исчисляютя тысячами строк, этого достаточно, чтобы по центральной предельной теореме заключить, что выборочные средние распределены нормально.\n\nС одной стороны, мы не можем сказать, дисперсии генеральных совокупностей равны или нет, но при проведении t-теста есть параметр equal_var, который по умолчанию принимает значение True, что позволяет нивелировать различные дисперсии.\n\nТо есть можно сказать, что условия для проведения t-теста соблюдены.\n\nЗа нулевую гипотезу примем - различий нет, за альтернтаивную - различия есть. Уровень статистической значимости примем 0.05.",
      "metadata": {}
    },
    {
      "cell_type": "code",
      "source": "# уровень статистической значимости\nalpha = 0.05\n\nresults = st.ttest_ind(data[data['churn']==1]['est_salary'], data[data['churn']==0]['est_salary'])\n\nprint('p-значение:', results.pvalue)\n\nif results.pvalue < alpha:\n    print('Отвергаем нулевую гипотезу')\nelse:\n    print('Не получилось отвергнуть нулевую гипотезу')",
      "metadata": {},
      "execution_count": 42,
      "outputs": [
        {
          "name": "stdout",
          "output_type": "stream",
          "text": "p-значение: 0.8647861589211189\n\nНе получилось отвергнуть нулевую гипотезу\n"
        }
      ]
    },
    {
      "cell_type": "markdown",
      "source": "То есть доходы ушедших клиентов от доходов оставшихся статистически с большой вероятностью не отличаются.",
      "metadata": {}
    },
    {
      "cell_type": "markdown",
      "source": "### Различие балансов на счетах\nПроверим гипотезу различия балансов на счетах между теми клиентами, которые ушли, и теми, которые остались.\n\nАналогично предыдущему пункту, предлагается использовать t-тест. Так как используется тот же датасет, можем считать, что генеральные совокупности не влияют друг на друга, а количество клиентов также исчисляется тысячами (хоть и поменьше) и, как следствие, выборочные средние распределены нормально. Распределение самих значений самих выборок видно при исследовании взаимосвязи между балансом на счете и показателем оттока, где была построена гистограмма распределения ушедших и оставшихся клиентов. По гистограмме можно увидеть похожее на нормальное распределение, сильно съехавшее влево.\n\nЗа нулевую гипотезу примем - различий нет, за альтернтаивную - различия есть. Уровень статистической значимости также примем 0.05.",
      "metadata": {}
    },
    {
      "cell_type": "code",
      "source": "# уровень статистической значимости\nalpha = 0.05\n\nresults = st.ttest_ind(data[(data['churn']==1) & ~(data['balance'].isna())]['balance'], \n                       data[(data['churn']==0) & ~(data['balance'].isna())]['balance'])\n\nprint('p-значение:', results.pvalue)\n\nif results.pvalue < alpha:\n    print('Отвергаем нулевую гипотезу')\nelse:\n    print('Не получилось отвергнуть нулевую гипотезу')",
      "metadata": {},
      "execution_count": 43,
      "outputs": [
        {
          "name": "stdout",
          "output_type": "stream",
          "text": "p-значение: 4.3764190272075795e-14\n\nОтвергаем нулевую гипотезу\n"
        }
      ]
    },
    {
      "cell_type": "markdown",
      "source": "Не учитывая пустые балансы, доходы ушедших клиентов от доходов оставшихся статистически с большой вероятностью отличаются.",
      "metadata": {}
    },
    {
      "cell_type": "markdown",
      "source": "## Выделение сегментов и приоритизация.\nПосмотрев взаимосвязь между параметрами и показателем оттока, имеем следующую картину:\n- по имеющимся данным всего ушло 1819 клиентов, что составляет 18.24 % всех рассматриваемых клиентов. Это число будем считать ориентиром;\n- по показателю скоринга удалось выделить сегмент от 820 до 900 баллов, где процент ушедших клиентов составил 24.63 %;\n- по городам наибольший отток наблюдается в Ярославле и Ростове - 19.01 % и 18.71 % соответственно:\n- процент оттока у мужчин почти вдвое выше, чем у женщин и составляет 23.70 %\n- по возрасту удалось выделить сегмент от 25 до 35 и от 50 до 60 лет, где процент ушедших клиентов составил 23.49 %;\n- по баллам собственности клиенты, у которых от 3 баллов и больше, ушли в 26.37 % случаев;\n- по балансу на счете удалось выделить сегмент от 700 тыс. до 6 млн., где ушло 33.92 % клиентов. Гипотеза о различии по балансу между ушедшими и оставшимися клиентами проверена, статистически вероятность различия высока. Однако, стоит отметить, что в данном столбце отсутствуют значения для 22.85 % строк, что делает данный сегмент не совсем корректным для применения;\n- клиенты, пользующиеся хотя бы 2 продуктами, уходили в 23.80 % случаев;\n- клиенты без кредитной карты уходили в 25.58 % случаев;\n- активные клиенты уходили в 24.49 % случаев;\n- по заработной плате удалось выделить сегмент от 100 до 210 тыс., где ушло 20.48 % клиентов. Гипотеза о различии доходов между ушедшими и оставшимися клиентами проверена, статистически вероятность различия низкая.\n\nСовершение активных действий и отсутствие кредитной карты (это для ориентира. Удерживать клиента, препятствуя его активности или пытаясь оформить для него кредитную карту, выглядит решением не из лучших).",
      "metadata": {}
    },
    {
      "cell_type": "markdown",
      "source": "### Сегмент 1\nИз перечисленных сегментов можно оставить те, где процент оттока наиболее большой, а именно: по баллам скоринга от 820 до 900 баллов, по возрасту от 25 до 35 лет и от 50 до 60 лет, по баллам собственности от 3 баллов и больше.\n\nПопробуем выделить клиентов, которые одновременно входили бы в перечисленные сегменты.",
      "metadata": {}
    },
    {
      "cell_type": "code",
      "source": "final_segment_data = data.query('820 <= score <= 900')\nfinal_segment_data = final_segment_data.query('25 <= age <= 35 or 50 <= age <= 60')\nfinal_segment_data = final_segment_data.query('equity >= 3')\n\ndisplay(final_segment_data)\n\n# Строим сводную таблицу\nfinal_churn_rate = final_segment_data.pivot_table(\n    index='churn', values='userid', aggfunc='count').sort_values(by='churn', ascending=True).reset_index()\nfinal_churn_rate.columns = ['churn', 'count']\ndisplay(final_churn_rate)\n\nprint('Процент ушедших от общего числа клиентов:',\n     round(final_churn_rate.loc[1, 'count'] / final_churn_rate['count'].sum() * 100, 2), '%')\n\n# Строим график\nplt.figure(figsize=(7, 7))\nplt.bar(final_churn_rate['churn'], final_churn_rate['count'])\nplt.title('Распределение действующих и ушедших клиентов в выделенном сегменте 1', size=12)\nplt.xlabel('Показатель ухода', size=12)\nplt.ylabel('Количество клиентов', size=12)\nplt.xticks(final_churn_rate['churn'])\nplt.show()",
      "metadata": {},
      "execution_count": 44,
      "outputs": [
        {
          "output_type": "display_data",
          "data": {
            "text/html": [
              "<div>\n",
              "<style scoped>\n",
              "    .dataframe tbody tr th:only-of-type {\n",
              "        vertical-align: middle;\n",
              "    }\n",
              "\n",
              "    .dataframe tbody tr th {\n",
              "        vertical-align: top;\n",
              "    }\n",
              "\n",
              "    .dataframe thead th {\n",
              "        text-align: right;\n",
              "    }\n",
              "</style>\n",
              "<table border=\"1\" class=\"dataframe\">\n",
              "  <thead>\n",
              "    <tr style=\"text-align: right;\">\n",
              "      <th></th>\n",
              "      <th>userid</th>\n",
              "      <th>score</th>\n",
              "      <th>city</th>\n",
              "      <th>gender</th>\n",
              "      <th>age</th>\n",
              "      <th>equity</th>\n",
              "      <th>balance</th>\n",
              "      <th>products</th>\n",
              "      <th>credit_card</th>\n",
              "      <th>last_activity</th>\n",
              "      <th>est_salary</th>\n",
              "      <th>churn</th>\n",
              "    </tr>\n",
              "  </thead>\n",
              "  <tbody>\n",
              "    <tr>\n",
              "      <th>3</th>\n",
              "      <td>225363</td>\n",
              "      <td>866.0</td>\n",
              "      <td>Ярославль</td>\n",
              "      <td>Ж</td>\n",
              "      <td>51</td>\n",
              "      <td>5</td>\n",
              "      <td>1524746.26</td>\n",
              "      <td>2</td>\n",
              "      <td>0</td>\n",
              "      <td>1</td>\n",
              "      <td>174423.53</td>\n",
              "      <td>1</td>\n",
              "    </tr>\n",
              "    <tr>\n",
              "      <th>5</th>\n",
              "      <td>202305</td>\n",
              "      <td>856.0</td>\n",
              "      <td>Рыбинск</td>\n",
              "      <td>М</td>\n",
              "      <td>56</td>\n",
              "      <td>4</td>\n",
              "      <td>863687.24</td>\n",
              "      <td>3</td>\n",
              "      <td>1</td>\n",
              "      <td>0</td>\n",
              "      <td>156619.80</td>\n",
              "      <td>0</td>\n",
              "    </tr>\n",
              "    <tr>\n",
              "      <th>12</th>\n",
              "      <td>132970</td>\n",
              "      <td>845.0</td>\n",
              "      <td>Ярославль</td>\n",
              "      <td>Ж</td>\n",
              "      <td>31</td>\n",
              "      <td>3</td>\n",
              "      <td>591928.52</td>\n",
              "      <td>2</td>\n",
              "      <td>1</td>\n",
              "      <td>1</td>\n",
              "      <td>112697.16</td>\n",
              "      <td>1</td>\n",
              "    </tr>\n",
              "    <tr>\n",
              "      <th>13</th>\n",
              "      <td>166357</td>\n",
              "      <td>837.0</td>\n",
              "      <td>Рыбинск</td>\n",
              "      <td>Ж</td>\n",
              "      <td>28</td>\n",
              "      <td>4</td>\n",
              "      <td>302249.22</td>\n",
              "      <td>2</td>\n",
              "      <td>0</td>\n",
              "      <td>1</td>\n",
              "      <td>30950.94</td>\n",
              "      <td>0</td>\n",
              "    </tr>\n",
              "    <tr>\n",
              "      <th>22</th>\n",
              "      <td>161656</td>\n",
              "      <td>871.0</td>\n",
              "      <td>Ярославль</td>\n",
              "      <td>М</td>\n",
              "      <td>51</td>\n",
              "      <td>4</td>\n",
              "      <td>708866.92</td>\n",
              "      <td>1</td>\n",
              "      <td>1</td>\n",
              "      <td>0</td>\n",
              "      <td>106407.26</td>\n",
              "      <td>0</td>\n",
              "    </tr>\n",
              "    <tr>\n",
              "      <th>...</th>\n",
              "      <td>...</td>\n",
              "      <td>...</td>\n",
              "      <td>...</td>\n",
              "      <td>...</td>\n",
              "      <td>...</td>\n",
              "      <td>...</td>\n",
              "      <td>...</td>\n",
              "      <td>...</td>\n",
              "      <td>...</td>\n",
              "      <td>...</td>\n",
              "      <td>...</td>\n",
              "      <td>...</td>\n",
              "    </tr>\n",
              "    <tr>\n",
              "      <th>9972</th>\n",
              "      <td>150126</td>\n",
              "      <td>834.0</td>\n",
              "      <td>Ростов</td>\n",
              "      <td>М</td>\n",
              "      <td>27</td>\n",
              "      <td>4</td>\n",
              "      <td>192776.27</td>\n",
              "      <td>2</td>\n",
              "      <td>0</td>\n",
              "      <td>1</td>\n",
              "      <td>26570.39</td>\n",
              "      <td>0</td>\n",
              "    </tr>\n",
              "    <tr>\n",
              "      <th>9986</th>\n",
              "      <td>152986</td>\n",
              "      <td>822.0</td>\n",
              "      <td>Ярославль</td>\n",
              "      <td>М</td>\n",
              "      <td>58</td>\n",
              "      <td>5</td>\n",
              "      <td>1434857.91</td>\n",
              "      <td>2</td>\n",
              "      <td>0</td>\n",
              "      <td>1</td>\n",
              "      <td>83442.41</td>\n",
              "      <td>1</td>\n",
              "    </tr>\n",
              "    <tr>\n",
              "      <th>9988</th>\n",
              "      <td>158678</td>\n",
              "      <td>889.0</td>\n",
              "      <td>Ярославль</td>\n",
              "      <td>М</td>\n",
              "      <td>35</td>\n",
              "      <td>4</td>\n",
              "      <td>880534.89</td>\n",
              "      <td>4</td>\n",
              "      <td>1</td>\n",
              "      <td>1</td>\n",
              "      <td>126564.61</td>\n",
              "      <td>0</td>\n",
              "    </tr>\n",
              "    <tr>\n",
              "      <th>9990</th>\n",
              "      <td>162357</td>\n",
              "      <td>822.0</td>\n",
              "      <td>Ярославль</td>\n",
              "      <td>М</td>\n",
              "      <td>31</td>\n",
              "      <td>3</td>\n",
              "      <td>646575.17</td>\n",
              "      <td>1</td>\n",
              "      <td>1</td>\n",
              "      <td>1</td>\n",
              "      <td>88297.63</td>\n",
              "      <td>0</td>\n",
              "    </tr>\n",
              "    <tr>\n",
              "      <th>9999</th>\n",
              "      <td>96267</td>\n",
              "      <td>828.0</td>\n",
              "      <td>Рыбинск</td>\n",
              "      <td>Ж</td>\n",
              "      <td>58</td>\n",
              "      <td>3</td>\n",
              "      <td>1180886.70</td>\n",
              "      <td>4</td>\n",
              "      <td>0</td>\n",
              "      <td>1</td>\n",
              "      <td>21422.37</td>\n",
              "      <td>0</td>\n",
              "    </tr>\n",
              "  </tbody>\n",
              "</table>\n",
              "<p>1434 rows × 12 columns</p>\n",
              "</div>"
            ],
            "text/plain": [
              "      userid  score       city gender  age  equity     balance  products  \\\n",
              "3     225363  866.0  Ярославль      Ж   51       5  1524746.26         2   \n",
              "5     202305  856.0    Рыбинск      М   56       4   863687.24         3   \n",
              "12    132970  845.0  Ярославль      Ж   31       3   591928.52         2   \n",
              "13    166357  837.0    Рыбинск      Ж   28       4   302249.22         2   \n",
              "22    161656  871.0  Ярославль      М   51       4   708866.92         1   \n",
              "...      ...    ...        ...    ...  ...     ...         ...       ...   \n",
              "9972  150126  834.0     Ростов      М   27       4   192776.27         2   \n",
              "9986  152986  822.0  Ярославль      М   58       5  1434857.91         2   \n",
              "9988  158678  889.0  Ярославль      М   35       4   880534.89         4   \n",
              "9990  162357  822.0  Ярославль      М   31       3   646575.17         1   \n",
              "9999   96267  828.0    Рыбинск      Ж   58       3  1180886.70         4   \n",
              "\n",
              "      credit_card  last_activity  est_salary  churn  \n",
              "3               0              1   174423.53      1  \n",
              "5               1              0   156619.80      0  \n",
              "12              1              1   112697.16      1  \n",
              "13              0              1    30950.94      0  \n",
              "22              1              0   106407.26      0  \n",
              "...           ...            ...         ...    ...  \n",
              "9972            0              1    26570.39      0  \n",
              "9986            0              1    83442.41      1  \n",
              "9988            1              1   126564.61      0  \n",
              "9990            1              1    88297.63      0  \n",
              "9999            0              1    21422.37      0  \n",
              "\n",
              "[1434 rows x 12 columns]"
            ]
          },
          "metadata": {}
        },
        {
          "output_type": "display_data",
          "data": {
            "text/html": [
              "<div>\n",
              "<style scoped>\n",
              "    .dataframe tbody tr th:only-of-type {\n",
              "        vertical-align: middle;\n",
              "    }\n",
              "\n",
              "    .dataframe tbody tr th {\n",
              "        vertical-align: top;\n",
              "    }\n",
              "\n",
              "    .dataframe thead th {\n",
              "        text-align: right;\n",
              "    }\n",
              "</style>\n",
              "<table border=\"1\" class=\"dataframe\">\n",
              "  <thead>\n",
              "    <tr style=\"text-align: right;\">\n",
              "      <th></th>\n",
              "      <th>churn</th>\n",
              "      <th>count</th>\n",
              "    </tr>\n",
              "  </thead>\n",
              "  <tbody>\n",
              "    <tr>\n",
              "      <th>0</th>\n",
              "      <td>0</td>\n",
              "      <td>895</td>\n",
              "    </tr>\n",
              "    <tr>\n",
              "      <th>1</th>\n",
              "      <td>1</td>\n",
              "      <td>539</td>\n",
              "    </tr>\n",
              "  </tbody>\n",
              "</table>\n",
              "</div>"
            ],
            "text/plain": [
              "   churn  count\n",
              "0      0    895\n",
              "1      1    539"
            ]
          },
          "metadata": {}
        },
        {
          "name": "stdout",
          "output_type": "stream",
          "text": "Процент ушедших от общего числа клиентов: 37.59 %\n"
        },
        {
          "output_type": "display_data",
          "data": {
            "image/png": "[encoded data removed]",
            "text/plain": [
              "<Figure size 504x504 with 1 Axes>"
            ]
          },
          "metadata": {
            "needs_background": "light"
          }
        }
      ]
    },
    {
      "cell_type": "markdown",
      "source": "Получился сегмент, где показатель оттока составляет 37.59 %, 539 ушедших и 895 оставшихся клиентов.",
      "metadata": {}
    },
    {
      "cell_type": "markdown",
      "source": "### Сегмент 2\nПопробуем выделить еще один сегмент, в котором будут мужчины из Ярославля с баллами собственности от 3 и выше.",
      "metadata": {}
    },
    {
      "cell_type": "code",
      "source": "final_segment_data2 = data.query('gender == \"М\" ')\nfinal_segment_data2 = final_segment_data2.query('city == \"Ярославль\" or city == \"Ростов\" ')\nfinal_segment_data2 = final_segment_data2.query('equity >= 3')\ndisplay(final_segment_data2)\n\n# Строим сводную таблицу\nfinal_churn_rate2 = final_segment_data2.pivot_table(\n    index='churn', values='userid', aggfunc='count').sort_values(by='churn', ascending=True).reset_index()\nfinal_churn_rate2.columns = ['churn', 'count']\ndisplay(final_churn_rate2)\n\nprint('Процент ушедших от общего числа клиентов:',\n     round(final_churn_rate2.loc[1, 'count'] / final_churn_rate2['count'].sum() * 100, 2), '%')\n\n# Строим график\nplt.figure(figsize=(7, 7))\nplt.bar(final_churn_rate2['churn'], final_churn_rate2['count'])\nplt.title('Распределение действующих и ушедших клиентов в выделенном сегменте 2', size=12)\nplt.xlabel('Показатель ухода', size=12)\nplt.ylabel('Количество клиентов', size=12)\nplt.xticks(final_churn_rate2['churn'])\nplt.show()",
      "metadata": {},
      "execution_count": 45,
      "outputs": [
        {
          "output_type": "display_data",
          "data": {
            "text/html": [
              "<div>\n",
              "<style scoped>\n",
              "    .dataframe tbody tr th:only-of-type {\n",
              "        vertical-align: middle;\n",
              "    }\n",
              "\n",
              "    .dataframe tbody tr th {\n",
              "        vertical-align: top;\n",
              "    }\n",
              "\n",
              "    .dataframe thead th {\n",
              "        text-align: right;\n",
              "    }\n",
              "</style>\n",
              "<table border=\"1\" class=\"dataframe\">\n",
              "  <thead>\n",
              "    <tr style=\"text-align: right;\">\n",
              "      <th></th>\n",
              "      <th>userid</th>\n",
              "      <th>score</th>\n",
              "      <th>city</th>\n",
              "      <th>gender</th>\n",
              "      <th>age</th>\n",
              "      <th>equity</th>\n",
              "      <th>balance</th>\n",
              "      <th>products</th>\n",
              "      <th>credit_card</th>\n",
              "      <th>last_activity</th>\n",
              "      <th>est_salary</th>\n",
              "      <th>churn</th>\n",
              "    </tr>\n",
              "  </thead>\n",
              "  <tbody>\n",
              "    <tr>\n",
              "      <th>4</th>\n",
              "      <td>157978</td>\n",
              "      <td>730.0</td>\n",
              "      <td>Ярославль</td>\n",
              "      <td>М</td>\n",
              "      <td>34</td>\n",
              "      <td>5</td>\n",
              "      <td>174.00</td>\n",
              "      <td>1</td>\n",
              "      <td>1</td>\n",
              "      <td>0</td>\n",
              "      <td>67353.16</td>\n",
              "      <td>1</td>\n",
              "    </tr>\n",
              "    <tr>\n",
              "      <th>8</th>\n",
              "      <td>211686</td>\n",
              "      <td>923.0</td>\n",
              "      <td>Ярославль</td>\n",
              "      <td>М</td>\n",
              "      <td>54</td>\n",
              "      <td>5</td>\n",
              "      <td>1206337.87</td>\n",
              "      <td>2</td>\n",
              "      <td>1</td>\n",
              "      <td>0</td>\n",
              "      <td>155371.79</td>\n",
              "      <td>0</td>\n",
              "    </tr>\n",
              "    <tr>\n",
              "      <th>14</th>\n",
              "      <td>172138</td>\n",
              "      <td>815.0</td>\n",
              "      <td>Ярославль</td>\n",
              "      <td>М</td>\n",
              "      <td>35</td>\n",
              "      <td>5</td>\n",
              "      <td>547499.87</td>\n",
              "      <td>2</td>\n",
              "      <td>1</td>\n",
              "      <td>1</td>\n",
              "      <td>105883.26</td>\n",
              "      <td>0</td>\n",
              "    </tr>\n",
              "    <tr>\n",
              "      <th>16</th>\n",
              "      <td>123335</td>\n",
              "      <td>829.0</td>\n",
              "      <td>Ярославль</td>\n",
              "      <td>М</td>\n",
              "      <td>45</td>\n",
              "      <td>5</td>\n",
              "      <td>507842.84</td>\n",
              "      <td>1</td>\n",
              "      <td>1</td>\n",
              "      <td>1</td>\n",
              "      <td>169330.64</td>\n",
              "      <td>0</td>\n",
              "    </tr>\n",
              "    <tr>\n",
              "      <th>17</th>\n",
              "      <td>214277</td>\n",
              "      <td>793.0</td>\n",
              "      <td>Ярославль</td>\n",
              "      <td>М</td>\n",
              "      <td>53</td>\n",
              "      <td>3</td>\n",
              "      <td>627034.50</td>\n",
              "      <td>2</td>\n",
              "      <td>1</td>\n",
              "      <td>0</td>\n",
              "      <td>183430.19</td>\n",
              "      <td>0</td>\n",
              "    </tr>\n",
              "    <tr>\n",
              "      <th>...</th>\n",
              "      <td>...</td>\n",
              "      <td>...</td>\n",
              "      <td>...</td>\n",
              "      <td>...</td>\n",
              "      <td>...</td>\n",
              "      <td>...</td>\n",
              "      <td>...</td>\n",
              "      <td>...</td>\n",
              "      <td>...</td>\n",
              "      <td>...</td>\n",
              "      <td>...</td>\n",
              "      <td>...</td>\n",
              "    </tr>\n",
              "    <tr>\n",
              "      <th>9983</th>\n",
              "      <td>179959</td>\n",
              "      <td>762.0</td>\n",
              "      <td>Ярославль</td>\n",
              "      <td>М</td>\n",
              "      <td>46</td>\n",
              "      <td>3</td>\n",
              "      <td>286775.87</td>\n",
              "      <td>2</td>\n",
              "      <td>1</td>\n",
              "      <td>1</td>\n",
              "      <td>124931.69</td>\n",
              "      <td>0</td>\n",
              "    </tr>\n",
              "    <tr>\n",
              "      <th>9986</th>\n",
              "      <td>152986</td>\n",
              "      <td>822.0</td>\n",
              "      <td>Ярославль</td>\n",
              "      <td>М</td>\n",
              "      <td>58</td>\n",
              "      <td>5</td>\n",
              "      <td>1434857.91</td>\n",
              "      <td>2</td>\n",
              "      <td>0</td>\n",
              "      <td>1</td>\n",
              "      <td>83442.41</td>\n",
              "      <td>1</td>\n",
              "    </tr>\n",
              "    <tr>\n",
              "      <th>9988</th>\n",
              "      <td>158678</td>\n",
              "      <td>889.0</td>\n",
              "      <td>Ярославль</td>\n",
              "      <td>М</td>\n",
              "      <td>35</td>\n",
              "      <td>4</td>\n",
              "      <td>880534.89</td>\n",
              "      <td>4</td>\n",
              "      <td>1</td>\n",
              "      <td>1</td>\n",
              "      <td>126564.61</td>\n",
              "      <td>0</td>\n",
              "    </tr>\n",
              "    <tr>\n",
              "      <th>9990</th>\n",
              "      <td>162357</td>\n",
              "      <td>822.0</td>\n",
              "      <td>Ярославль</td>\n",
              "      <td>М</td>\n",
              "      <td>31</td>\n",
              "      <td>3</td>\n",
              "      <td>646575.17</td>\n",
              "      <td>1</td>\n",
              "      <td>1</td>\n",
              "      <td>1</td>\n",
              "      <td>88297.63</td>\n",
              "      <td>0</td>\n",
              "    </tr>\n",
              "    <tr>\n",
              "      <th>9994</th>\n",
              "      <td>114186</td>\n",
              "      <td>851.0</td>\n",
              "      <td>Ростов</td>\n",
              "      <td>М</td>\n",
              "      <td>42</td>\n",
              "      <td>3</td>\n",
              "      <td>370912.79</td>\n",
              "      <td>2</td>\n",
              "      <td>1</td>\n",
              "      <td>0</td>\n",
              "      <td>102123.93</td>\n",
              "      <td>1</td>\n",
              "    </tr>\n",
              "  </tbody>\n",
              "</table>\n",
              "<p>2012 rows × 12 columns</p>\n",
              "</div>"
            ],
            "text/plain": [
              "      userid  score       city gender  age  equity     balance  products  \\\n",
              "4     157978  730.0  Ярославль      М   34       5      174.00         1   \n",
              "8     211686  923.0  Ярославль      М   54       5  1206337.87         2   \n",
              "14    172138  815.0  Ярославль      М   35       5   547499.87         2   \n",
              "16    123335  829.0  Ярославль      М   45       5   507842.84         1   \n",
              "17    214277  793.0  Ярославль      М   53       3   627034.50         2   \n",
              "...      ...    ...        ...    ...  ...     ...         ...       ...   \n",
              "9983  179959  762.0  Ярославль      М   46       3   286775.87         2   \n",
              "9986  152986  822.0  Ярославль      М   58       5  1434857.91         2   \n",
              "9988  158678  889.0  Ярославль      М   35       4   880534.89         4   \n",
              "9990  162357  822.0  Ярославль      М   31       3   646575.17         1   \n",
              "9994  114186  851.0     Ростов      М   42       3   370912.79         2   \n",
              "\n",
              "      credit_card  last_activity  est_salary  churn  \n",
              "4               1              0    67353.16      1  \n",
              "8               1              0   155371.79      0  \n",
              "14              1              1   105883.26      0  \n",
              "16              1              1   169330.64      0  \n",
              "17              1              0   183430.19      0  \n",
              "...           ...            ...         ...    ...  \n",
              "9983            1              1   124931.69      0  \n",
              "9986            0              1    83442.41      1  \n",
              "9988            1              1   126564.61      0  \n",
              "9990            1              1    88297.63      0  \n",
              "9994            1              0   102123.93      1  \n",
              "\n",
              "[2012 rows x 12 columns]"
            ]
          },
          "metadata": {}
        },
        {
          "output_type": "display_data",
          "data": {
            "text/html": [
              "<div>\n",
              "<style scoped>\n",
              "    .dataframe tbody tr th:only-of-type {\n",
              "        vertical-align: middle;\n",
              "    }\n",
              "\n",
              "    .dataframe tbody tr th {\n",
              "        vertical-align: top;\n",
              "    }\n",
              "\n",
              "    .dataframe thead th {\n",
              "        text-align: right;\n",
              "    }\n",
              "</style>\n",
              "<table border=\"1\" class=\"dataframe\">\n",
              "  <thead>\n",
              "    <tr style=\"text-align: right;\">\n",
              "      <th></th>\n",
              "      <th>churn</th>\n",
              "      <th>count</th>\n",
              "    </tr>\n",
              "  </thead>\n",
              "  <tbody>\n",
              "    <tr>\n",
              "      <th>0</th>\n",
              "      <td>0</td>\n",
              "      <td>1283</td>\n",
              "    </tr>\n",
              "    <tr>\n",
              "      <th>1</th>\n",
              "      <td>1</td>\n",
              "      <td>729</td>\n",
              "    </tr>\n",
              "  </tbody>\n",
              "</table>\n",
              "</div>"
            ],
            "text/plain": [
              "   churn  count\n",
              "0      0   1283\n",
              "1      1    729"
            ]
          },
          "metadata": {}
        },
        {
          "name": "stdout",
          "output_type": "stream",
          "text": "Процент ушедших от общего числа клиентов: 36.23 %\n"
        },
        {
          "output_type": "display_data",
          "data": {
            "image/png": "[encoded data removed]",
            "text/plain": [
              "<Figure size 504x504 with 1 Axes>"
            ]
          },
          "metadata": {
            "needs_background": "light"
          }
        }
      ]
    },
    {
      "cell_type": "markdown",
      "source": "Получился сегмент, где показатель оттока составляет 36.23 %, 729 ушедших и 1283 оставшихся клиентов.",
      "metadata": {}
    },
    {
      "cell_type": "markdown",
      "source": "### Сегмент 3\nПопробуем выделить еще сегмент, ориентируясь только на качество клиента, взяв в расчет на этот раз активность.\nВ выборку должны попасть активные клиенты по баллам скоринга от 820 до 900 баллов, по баллам собственности от 3 баллов и более, по количеству используемых продуктов от 2 и более.",
      "metadata": {}
    },
    {
      "cell_type": "code",
      "source": "final_segment_data3 = data.query('820 <= score <= 900')\nfinal_segment_data3 = final_segment_data3.query('equity >= 3')\nfinal_segment_data3 = final_segment_data3.query('products >= 2')\nfinal_segment_data3 = final_segment_data3.query('last_activity == 1')\n\ndisplay(final_segment_data3)\n\n# Строим сводную таблицу\nfinal_churn_rate3 = final_segment_data3.pivot_table(\n    index='churn', values='userid', aggfunc='count').sort_values(by='churn', ascending=True).reset_index()\nfinal_churn_rate3.columns = ['churn', 'count']\ndisplay(final_churn_rate3)\n\nprint('Процент ушедших от общего числа клиентов:',\n     round(final_churn_rate3.loc[1, 'count'] / final_churn_rate3['count'].sum() * 100, 2), '%')\n\n# Строим график\nplt.figure(figsize=(7, 7))\nplt.bar(final_churn_rate3['churn'], final_churn_rate3['count'])\nplt.title('Распределение действующих и ушедших клиентов в выделенном сегменте 3', size=12)\nplt.xlabel('Показатель ухода', size=12)\nplt.ylabel('Количество клиентов', size=12)\nplt.xticks(final_churn_rate2['churn'])\nplt.show()",
      "metadata": {},
      "execution_count": 46,
      "outputs": [
        {
          "output_type": "display_data",
          "data": {
            "text/html": [
              "<div>\n",
              "<style scoped>\n",
              "    .dataframe tbody tr th:only-of-type {\n",
              "        vertical-align: middle;\n",
              "    }\n",
              "\n",
              "    .dataframe tbody tr th {\n",
              "        vertical-align: top;\n",
              "    }\n",
              "\n",
              "    .dataframe thead th {\n",
              "        text-align: right;\n",
              "    }\n",
              "</style>\n",
              "<table border=\"1\" class=\"dataframe\">\n",
              "  <thead>\n",
              "    <tr style=\"text-align: right;\">\n",
              "      <th></th>\n",
              "      <th>userid</th>\n",
              "      <th>score</th>\n",
              "      <th>city</th>\n",
              "      <th>gender</th>\n",
              "      <th>age</th>\n",
              "      <th>equity</th>\n",
              "      <th>balance</th>\n",
              "      <th>products</th>\n",
              "      <th>credit_card</th>\n",
              "      <th>last_activity</th>\n",
              "      <th>est_salary</th>\n",
              "      <th>churn</th>\n",
              "    </tr>\n",
              "  </thead>\n",
              "  <tbody>\n",
              "    <tr>\n",
              "      <th>4</th>\n",
              "      <td>157978</td>\n",
              "      <td>730.0</td>\n",
              "      <td>Ярославль</td>\n",
              "      <td>М</td>\n",
              "      <td>34</td>\n",
              "      <td>5</td>\n",
              "      <td>174.00</td>\n",
              "      <td>1</td>\n",
              "      <td>1</td>\n",
              "      <td>0</td>\n",
              "      <td>67353.16</td>\n",
              "      <td>1</td>\n",
              "    </tr>\n",
              "    <tr>\n",
              "      <th>8</th>\n",
              "      <td>211686</td>\n",
              "      <td>923.0</td>\n",
              "      <td>Ярославль</td>\n",
              "      <td>М</td>\n",
              "      <td>54</td>\n",
              "      <td>5</td>\n",
              "      <td>1206337.87</td>\n",
              "      <td>2</td>\n",
              "      <td>1</td>\n",
              "      <td>0</td>\n",
              "      <td>155371.79</td>\n",
              "      <td>0</td>\n",
              "    </tr>\n",
              "    <tr>\n",
              "      <th>14</th>\n",
              "      <td>172138</td>\n",
              "      <td>815.0</td>\n",
              "      <td>Ярославль</td>\n",
              "      <td>М</td>\n",
              "      <td>35</td>\n",
              "      <td>5</td>\n",
              "      <td>547499.87</td>\n",
              "      <td>2</td>\n",
              "      <td>1</td>\n",
              "      <td>1</td>\n",
              "      <td>105883.26</td>\n",
              "      <td>0</td>\n",
              "    </tr>\n",
              "    <tr>\n",
              "      <th>16</th>\n",
              "      <td>123335</td>\n",
              "      <td>829.0</td>\n",
              "      <td>Ярославль</td>\n",
              "      <td>М</td>\n",
              "      <td>45</td>\n",
              "      <td>5</td>\n",
              "      <td>507842.84</td>\n",
              "      <td>1</td>\n",
              "      <td>1</td>\n",
              "      <td>1</td>\n",
              "      <td>169330.64</td>\n",
              "      <td>0</td>\n",
              "    </tr>\n",
              "    <tr>\n",
              "      <th>17</th>\n",
              "      <td>214277</td>\n",
              "      <td>793.0</td>\n",
              "      <td>Ярославль</td>\n",
              "      <td>М</td>\n",
              "      <td>53</td>\n",
              "      <td>3</td>\n",
              "      <td>627034.50</td>\n",
              "      <td>2</td>\n",
              "      <td>1</td>\n",
              "      <td>0</td>\n",
              "      <td>183430.19</td>\n",
              "      <td>0</td>\n",
              "    </tr>\n",
              "    <tr>\n",
              "      <th>...</th>\n",
              "      <td>...</td>\n",
              "      <td>...</td>\n",
              "      <td>...</td>\n",
              "      <td>...</td>\n",
              "      <td>...</td>\n",
              "      <td>...</td>\n",
              "      <td>...</td>\n",
              "      <td>...</td>\n",
              "      <td>...</td>\n",
              "      <td>...</td>\n",
              "      <td>...</td>\n",
              "      <td>...</td>\n",
              "    </tr>\n",
              "    <tr>\n",
              "      <th>9983</th>\n",
              "      <td>179959</td>\n",
              "      <td>762.0</td>\n",
              "      <td>Ярославль</td>\n",
              "      <td>М</td>\n",
              "      <td>46</td>\n",
              "      <td>3</td>\n",
              "      <td>286775.87</td>\n",
              "      <td>2</td>\n",
              "      <td>1</td>\n",
              "      <td>1</td>\n",
              "      <td>124931.69</td>\n",
              "      <td>0</td>\n",
              "    </tr>\n",
              "    <tr>\n",
              "      <th>9986</th>\n",
              "      <td>152986</td>\n",
              "      <td>822.0</td>\n",
              "      <td>Ярославль</td>\n",
              "      <td>М</td>\n",
              "      <td>58</td>\n",
              "      <td>5</td>\n",
              "      <td>1434857.91</td>\n",
              "      <td>2</td>\n",
              "      <td>0</td>\n",
              "      <td>1</td>\n",
              "      <td>83442.41</td>\n",
              "      <td>1</td>\n",
              "    </tr>\n",
              "    <tr>\n",
              "      <th>9988</th>\n",
              "      <td>158678</td>\n",
              "      <td>889.0</td>\n",
              "      <td>Ярославль</td>\n",
              "      <td>М</td>\n",
              "      <td>35</td>\n",
              "      <td>4</td>\n",
              "      <td>880534.89</td>\n",
              "      <td>4</td>\n",
              "      <td>1</td>\n",
              "      <td>1</td>\n",
              "      <td>126564.61</td>\n",
              "      <td>0</td>\n",
              "    </tr>\n",
              "    <tr>\n",
              "      <th>9990</th>\n",
              "      <td>162357</td>\n",
              "      <td>822.0</td>\n",
              "      <td>Ярославль</td>\n",
              "      <td>М</td>\n",
              "      <td>31</td>\n",
              "      <td>3</td>\n",
              "      <td>646575.17</td>\n",
              "      <td>1</td>\n",
              "      <td>1</td>\n",
              "      <td>1</td>\n",
              "      <td>88297.63</td>\n",
              "      <td>0</td>\n",
              "    </tr>\n",
              "    <tr>\n",
              "      <th>9994</th>\n",
              "      <td>114186</td>\n",
              "      <td>851.0</td>\n",
              "      <td>Ростов</td>\n",
              "      <td>М</td>\n",
              "      <td>42</td>\n",
              "      <td>3</td>\n",
              "      <td>370912.79</td>\n",
              "      <td>2</td>\n",
              "      <td>1</td>\n",
              "      <td>0</td>\n",
              "      <td>102123.93</td>\n",
              "      <td>1</td>\n",
              "    </tr>\n",
              "  </tbody>\n",
              "</table>\n",
              "<p>2012 rows × 12 columns</p>\n",
              "</div>"
            ],
            "text/plain": [
              "      userid  score       city gender  age  equity     balance  products  \\\n",
              "4     157978  730.0  Ярославль      М   34       5      174.00         1   \n",
              "8     211686  923.0  Ярославль      М   54       5  1206337.87         2   \n",
              "14    172138  815.0  Ярославль      М   35       5   547499.87         2   \n",
              "16    123335  829.0  Ярославль      М   45       5   507842.84         1   \n",
              "17    214277  793.0  Ярославль      М   53       3   627034.50         2   \n",
              "...      ...    ...        ...    ...  ...     ...         ...       ...   \n",
              "9983  179959  762.0  Ярославль      М   46       3   286775.87         2   \n",
              "9986  152986  822.0  Ярославль      М   58       5  1434857.91         2   \n",
              "9988  158678  889.0  Ярославль      М   35       4   880534.89         4   \n",
              "9990  162357  822.0  Ярославль      М   31       3   646575.17         1   \n",
              "9994  114186  851.0     Ростов      М   42       3   370912.79         2   \n",
              "\n",
              "      credit_card  last_activity  est_salary  churn  \n",
              "4               1              0    67353.16      1  \n",
              "8               1              0   155371.79      0  \n",
              "14              1              1   105883.26      0  \n",
              "16              1              1   169330.64      0  \n",
              "17              1              0   183430.19      0  \n",
              "...           ...            ...         ...    ...  \n",
              "9983            1              1   124931.69      0  \n",
              "9986            0              1    83442.41      1  \n",
              "9988            1              1   126564.61      0  \n",
              "9990            1              1    88297.63      0  \n",
              "9994            1              0   102123.93      1  \n",
              "\n",
              "[2012 rows x 12 columns]"
            ]
          },
          "metadata": {}
        },
        {
          "output_type": "display_data",
          "data": {
            "text/html": [
              "<div>\n",
              "<style scoped>\n",
              "    .dataframe tbody tr th:only-of-type {\n",
              "        vertical-align: middle;\n",
              "    }\n",
              "\n",
              "    .dataframe tbody tr th {\n",
              "        vertical-align: top;\n",
              "    }\n",
              "\n",
              "    .dataframe thead th {\n",
              "        text-align: right;\n",
              "    }\n",
              "</style>\n",
              "<table border=\"1\" class=\"dataframe\">\n",
              "  <thead>\n",
              "    <tr style=\"text-align: right;\">\n",
              "      <th></th>\n",
              "      <th>churn</th>\n",
              "      <th>count</th>\n",
              "    </tr>\n",
              "  </thead>\n",
              "  <tbody>\n",
              "    <tr>\n",
              "      <th>0</th>\n",
              "      <td>0</td>\n",
              "      <td>685</td>\n",
              "    </tr>\n",
              "    <tr>\n",
              "      <th>1</th>\n",
              "      <td>1</td>\n",
              "      <td>590</td>\n",
              "    </tr>\n",
              "  </tbody>\n",
              "</table>\n",
              "</div>"
            ],
            "text/plain": [
              "   churn  count\n",
              "0      0    685\n",
              "1      1    590"
            ]
          },
          "metadata": {}
        },
        {
          "name": "stdout",
          "output_type": "stream",
          "text": "Процент ушедших от общего числа клиентов: 46.27 %\n"
        },
        {
          "output_type": "display_data",
          "data": {
            "image/png": "[encoded data removed]",
            "text/plain": [
              "<Figure size 504x504 with 1 Axes>"
            ]
          },
          "metadata": {
            "needs_background": "light"
          }
        }
      ]
    },
    {
      "cell_type": "markdown",
      "source": "Получился сегмент, где показатель оттока составляет 46.27 %, 590 ушедших и 685 оставшихся клиентов.",
      "metadata": {}
    },
    {
      "cell_type": "markdown",
      "source": "## Общий вывод и рекомендации\nВ ходе выполнения работы были:\n- получены и изучены данные о 10000 клиентов, \n- проведена предобработка данных, в ходе которых остались данные о 9974 клиентов, \n- проведено исследование влияния параметров клиентов на показатель оттока,\n- проверены гипотезы,\n- сформулированы критерии, по которым можно определять сегменты, подверженные оттоку,\n- выделены сегменты, объединяющие в себе несколько критериев.\n\nВ результате получены три сегмента:\n- сегмент 1, где по баллам скоринга от 820 до 900 баллов, по возрасту от 25 до 35 лет и от 50 до 60 лет, по баллам собственности от 3 баллов и больше. В данном сегменте процент оттока составляет 37.59 %, 539 ушедших и 895 оставшихся клиентов;\n- сегмент 2, куда выбраны мужчины из Ярославля с баллами собственности от 3 и выше. В данном сегменте составляет 36.23 %, 729 ушедших и 1283 оставшихся клиентов;\n- сегмент 3, выбраны активные клиенты по баллам скоринга от 820 до 900 баллов, по баллам собственности от 3 баллов и более, по количеству используемых продуктов от 2 и более. В данном сегменте составляет 46.27 %, 590 ушедших и 685 оставшихся клиентов.\n\nТакже большой процент оттока у клиентов, у которых отсутствует кредитная карта (25.58 %). Кроме этого, был выделен сегмент по балансу на счете (33.92 % оттока), но так как данные по балансу на счете неполные (отсутствует 22.85 % значений), то данный сегмент не является корректным для использования.\n\nРекомендуется обратить внимание на оставшихся в получившемся сегменте клиентов. Кроме того, при сборе данных рекомендуется минимизировать пропуски в данных для более корректного и полного анализа.",
      "metadata": {}
    },
    {
      "cell_type": "markdown",
      "source": "## Презентация\n\nСсылка на презентацию:\nhttps://disk.yandex.ru/i/813Hzp8F_4xO9g",
      "metadata": {}
    }
  ]
}